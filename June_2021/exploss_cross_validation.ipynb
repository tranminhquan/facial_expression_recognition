{
 "cells": [
  {
   "cell_type": "code",
   "execution_count": 1,
   "metadata": {},
   "outputs": [],
   "source": [
    "import random\n",
    "random.seed(12)\n",
    "\n",
    "import pandas as pd\n",
    "import numpy as np\n",
    "import matplotlib.pyplot as plt\n",
    "import copy\n",
    "\n",
    "from tqdm import tqdm\n",
    "\n",
    "import albumentations as A\n",
    "from albumentations.pytorch import ToTensorV2\n",
    "\n",
    "import torch\n",
    "from torch.utils.data import Dataset, ConcatDataset, SubsetRandomSampler, DataLoader\n",
    "from torchvision import transforms\n",
    "import torch.nn as nn\n",
    "import torchvision.models as models\n",
    "import torch.optim as optim\n",
    "from torch.optim import lr_scheduler\n",
    "import torch.nn.functional as F\n",
    "from torch.nn.parameter import Parameter\n",
    "import cv2\n",
    "\n",
    "import math\n",
    "import pickle\n",
    "\n",
    "from pytorch_metric_learning import losses, miners, distances, reducers, testers\n",
    "from pytorch_metric_learning.utils.accuracy_calculator import AccuracyCalculator"
   ]
  },
  {
   "cell_type": "markdown",
   "metadata": {},
   "source": [
    "## Data set"
   ]
  },
  {
   "cell_type": "code",
   "execution_count": 2,
   "metadata": {},
   "outputs": [],
   "source": [
    "class FERDataset(Dataset):\n",
    "    'Characterizes a dataset for PyTorch'\n",
    "    def __init__(self, dff, transforms):\n",
    "        'Initialization'\n",
    "        self.transforms = transforms\n",
    "        self.dff= pd.read_csv(dff) if type(dff) is str else dff\n",
    "        \n",
    "        self.dff['pixels'] = [[int(y) for y in x.split()] for x in self.dff['pixels']]\n",
    "\n",
    "    def __len__(self):\n",
    "        'Denotes the total number of samples'\n",
    "        return len(self.dff)\n",
    "\n",
    "    def __getitem__(self, index):\n",
    "        'Generates one sample of data'\n",
    "        # Select sample\n",
    "        #ID = self.list_IDs[index]\n",
    "\n",
    "        # Load data and get label\n",
    "        X = self.dff.iloc[index]['pixels']\n",
    "#         X = X.split()\n",
    "        X = np.array(X, dtype=np.uint8)\n",
    "        X = X.reshape(48,48)\n",
    "        \n",
    "        y = int(self.dff.iloc[index]['emotion'])\n",
    "\n",
    "        if self.transforms:\n",
    "            X = self.transforms(image=X)['image']\n",
    "\n",
    "#             X = torch.cat((X,X,X),0)\n",
    "\n",
    "        return X, y"
   ]
  },
  {
   "cell_type": "code",
   "execution_count": 3,
   "metadata": {},
   "outputs": [
    {
     "name": "stderr",
     "output_type": "stream",
     "text": [
      "/usr/local/lib/python3.6/dist-packages/ipykernel_launcher.py:8: SettingWithCopyWarning: \n",
      "A value is trying to be set on a copy of a slice from a DataFrame.\n",
      "Try using .loc[row_indexer,col_indexer] = value instead\n",
      "\n",
      "See the caveats in the documentation: http://pandas.pydata.org/pandas-docs/stable/indexing.html#indexing-view-versus-copy\n",
      "  \n"
     ]
    }
   ],
   "source": [
    "batch_size= 64\n",
    "\n",
    "df = pd.read_csv('/tf/data/Quan/fer2013/data/csv_file/fer2013.csv')\n",
    "\n",
    "df_train = df[df['Usage'] == 'Training']\n",
    "df_val = df[df['Usage'] == 'PublicTest']\n",
    "df_test = df[df['Usage'] == 'PrivateTest']\n",
    "\n",
    "\n",
    "train_transforms = A.Compose([\n",
    "#     A.CLAHE(),\n",
    "    A.Resize(48,48),\n",
    "    A.ShiftScaleRotate(shift_limit=0.2, scale_limit=0.2, rotate_limit=10, p=0.5, border_mode=0, value=0),\n",
    "#     A.RandomCrop(height=40, width=40),\n",
    "    A.Normalize(mean=(0.485,), std=(0.229,)),\n",
    "    ToTensorV2()\n",
    "])\n",
    "\n",
    "\n",
    "test_transforms = A.Compose([\n",
    "#     A.CLAHE(),\n",
    "    A.Resize(48,48),\n",
    "    A.Normalize(mean=(0.485,), std=(0.229,)),\n",
    "    ToTensorV2()\n",
    "])\n",
    "\n",
    "# train_set = FERDataset(df_train, train_transforms)\n",
    "train_set = FERDataset(df_train, test_transforms) # no augmentation!\n",
    "val_set = FERDataset(df_val, test_transforms)\n",
    "test_set = FERDataset(df_test, test_transforms)\n",
    "\n",
    "dataset = ConcatDataset([train_set, val_set, test_set])\n",
    "\n",
    "# train_loader = torch.utils.data.DataLoader(train_set,\n",
    "#                                              batch_size=batch_size, shuffle=True,\n",
    "#                                              num_workers=8)\n",
    "# val_loader = torch.utils.data.DataLoader(val_set,\n",
    "#                                              batch_size=batch_size, shuffle=False,\n",
    "#                                              num_workers=8)\n",
    "# test_loader = torch.utils.data.DataLoader(test_set,\n",
    "#                                              batch_size=batch_size, shuffle=False,\n",
    "#                                              num_workers=8)\n",
    "\n"
   ]
  },
  {
   "cell_type": "markdown",
   "metadata": {},
   "source": [
    "## Exploss residual"
   ]
  },
  {
   "cell_type": "code",
   "execution_count": 4,
   "metadata": {},
   "outputs": [],
   "source": [
    "class ExpLoss(nn.Module):\n",
    "    def __init__(self, depth, residual=True):\n",
    "        super(ExpLoss, self).__init__()\n",
    "        \n",
    "        self.depth = depth\n",
    "        self.residual = residual\n",
    "        \n",
    "        self.avgpool = nn.AdaptiveAvgPool2d(output_size=(1,1))\n",
    "        self.flatten = nn.Flatten()\n",
    "        self.relu = nn.ReLU()\n",
    "        \n",
    "        self.fc1 = nn.Linear(depth, depth)\n",
    "        self.fc2 = nn.Linear(depth, depth)\n",
    "        \n",
    "#         self.main_fc = nn.Linear(depth, depth)\n",
    "        \n",
    "        self.sim_act = nn.Sigmoid()\n",
    "        self.att_act = nn.Sigmoid()\n",
    "        \n",
    "        self.out_fc = nn.Sequential(nn.Linear(depth, depth),\n",
    "                                    nn.BatchNorm1d(depth),\n",
    "                                    nn.ReLU())\n",
    "        \n",
    "    def forward(self, x, labels):\n",
    "        batch_size = x.size(0)\n",
    "        \n",
    "        x = self.avgpool(x)\n",
    "        x = self.flatten(x)\n",
    "        \n",
    "        if self.residual:\n",
    "            x_res = x\n",
    "        \n",
    "        x1 = self.fc1(x)\n",
    "        x2 = self.fc2(x)\n",
    "        \n",
    "        # cal sims (batchsize, depth)\n",
    "        sims = torch.mm(x1, x2.permute(1,0))\n",
    "        sims = sims / batch_size\n",
    "        mask = self.filter_mask(labels)\n",
    "        att = sims * (1 - mask.to(sims.device)) # only consider sample of same labels\n",
    "#         att = self.att_act(sims)\n",
    "#         print('att after sigmoid: ', att.min(), att.max(), att.mean(), att.var())\n",
    "        \n",
    "#         print('att pure: ', sims.min(), sims.max(), sims.mean(), sims.var())\n",
    "#         att = torch.tanh(sims)\n",
    "#         print('att after tanh: ', att.min(), att.max(), att.mean(), att.var())\n",
    "#         att = self.relu(att)\n",
    "#         print('att after relu: ', att.min(), att.max(), att.mean(), att.var())\n",
    "# #         print('min: %.4f, max: %.4f, var: %.4f' % (att.min(), att.max(), att.std()))\n",
    "        \n",
    "#         x = self.main_fc(x)\n",
    "        x = torch.mm(att, x)\n",
    "#         print('x before out_fc: ', x.min(), x.max(), x.mean(), x.var())\n",
    "        x = self.out_fc(x)\n",
    "    \n",
    "        if self.residual:\n",
    "            x = x + x_res\n",
    "    \n",
    "#         print('x after out_fc: ', x.min(), x.max(), x.mean(), x.var())\n",
    "        \n",
    "#         print('att: ', att.min(), att.max(), att.mean(), att.var())\n",
    "        \n",
    "        \n",
    "#         # cal sims loss\n",
    "#         mask = self.filter_mask(labels)\n",
    "#         sims = sims * mask.to(sims.device)\n",
    "\n",
    "\n",
    "#         # prevent negative value\n",
    "#         sims = self.sim_act(sims)\n",
    "        \n",
    "#         sims = sims.sum()\n",
    "#         sims = sims / self.depth\n",
    "        \n",
    "        return x, 0\n",
    "\n",
    "    def filter_mask(self, labels):\n",
    "        \"\"\"\n",
    "        zero\n",
    "        \"\"\"\n",
    "        classes = torch.unique(labels)\n",
    "        mask = torch.ones((len(labels), len(labels)))\n",
    "        \n",
    "        indices = [(labels == k).nonzero().flatten() for k in classes]\n",
    "        lindices = [torch.combinations(k, r=2, with_replacement=True) for k in indices]\n",
    "        rindices = [torch.combinations(k.flip(0), r=2, with_replacement=True) for k in indices]\n",
    "        indices = [torch.cat([lindices[i], rindices[i]]) for i in range(len(lindices))]\n",
    "\n",
    "        for k in indices:\n",
    "            mask[k[:,0], k[:,1]] = 0.\n",
    "            \n",
    "        return mask"
   ]
  },
  {
   "cell_type": "code",
   "execution_count": 5,
   "metadata": {},
   "outputs": [],
   "source": [
    "class sVGG_exp(nn.Module):\n",
    "    def __init__(self, features, in_features_classifier, n_classes):\n",
    "        super(sVGG_exp, self).__init__()\n",
    "        self.features = features\n",
    "        self.features[0] = nn.Conv2d(1, 64, kernel_size=(3, 3), stride=(1, 1), padding=(1, 1))\n",
    "        self.exploss = ExpLoss(512)\n",
    "#         self.avgpool = nn.AdaptiveAvgPool2d(output_size=(1, 1))\n",
    "        self.classifier = nn.Sequential(nn.Flatten(),\n",
    "                                        nn.Linear(in_features_classifier, in_features_classifier),\n",
    "                                        nn.ReLU(inplace=True),\n",
    "                                        nn.Dropout(0.5, inplace=False),\n",
    "                                        nn.Linear(in_features_classifier, in_features_classifier // 2),\n",
    "                                        nn.ReLU(inplace=True),\n",
    "                                        nn.Dropout(0.5, inplace=False),\n",
    "                                        nn.Linear(in_features_classifier // 2, n_classes))\n",
    "        \n",
    "    def forward(self, x, labels, return_att=True):\n",
    "        x = self.features(x)\n",
    "        att, sim_loss = self.exploss(x, labels)\n",
    "\n",
    "#         att = self.avgpool(x)\n",
    "        x = self.classifier(att)\n",
    "        \n",
    "        if return_att:\n",
    "            return x, sim_loss, att\n",
    "        return x, sim_loss\n",
    "        "
   ]
  },
  {
   "cell_type": "markdown",
   "metadata": {},
   "source": [
    "## KFold"
   ]
  },
  {
   "cell_type": "code",
   "execution_count": 15,
   "metadata": {},
   "outputs": [],
   "source": [
    "from sklearn.model_selection import KFold\n",
    "from torchvision.models import vgg16_bn\n",
    "\n",
    "n_folds = 5\n",
    "kfold = KFold(n_splits=n_folds, shuffle=True)"
   ]
  },
  {
   "cell_type": "code",
   "execution_count": null,
   "metadata": {
    "scrolled": true
   },
   "outputs": [
    {
     "name": "stdout",
     "output_type": "stream",
     "text": [
      "Fold  1  /  5  ********************* \n"
     ]
    },
    {
     "name": "stderr",
     "output_type": "stream",
     "text": [
      "\r",
      "  0%|          | 0/449 [00:00<?, ?it/s]"
     ]
    },
    {
     "name": "stdout",
     "output_type": "stream",
     "text": [
      "Epoch:  1\n"
     ]
    },
    {
     "name": "stderr",
     "output_type": "stream",
     "text": [
      "Loss=0.8564144372940063 Batch_id=448 Accuracy=0.5675675675675675: 100%|██████████| 449/449 [00:39<00:00, 11.48it/s]\n"
     ]
    },
    {
     "name": "stdout",
     "output_type": "stream",
     "text": [
      "- Avg.loss: 1.2299 | Avg.acc: 0.4954\n"
     ]
    },
    {
     "name": "stderr",
     "output_type": "stream",
     "text": [
      "Loss=0.8158001899719238 Batch_id=0 Accuracy=0.546875:   0%|          | 1/449 [00:00<00:51,  8.68it/s]"
     ]
    },
    {
     "name": "stdout",
     "output_type": "stream",
     "text": [
      "- Avg. test_loss: 2.3678 | Avg. test_acc: 0.3257\n",
      "* Update optimal model\n",
      "Epoch:  2\n"
     ]
    },
    {
     "name": "stderr",
     "output_type": "stream",
     "text": [
      "Loss=0.8583192825317383 Batch_id=448 Accuracy=0.5135135135135135: 100%|██████████| 449/449 [00:39<00:00, 11.48it/s]\n"
     ]
    },
    {
     "name": "stdout",
     "output_type": "stream",
     "text": [
      "- Avg.loss: 0.9244 | Avg.acc: 0.5864\n",
      "- Avg. test_loss: 1.5678 | Avg. test_acc: 0.4622\n"
     ]
    },
    {
     "name": "stderr",
     "output_type": "stream",
     "text": [
      "Loss=0.905745804309845 Batch_id=0 Accuracy=0.625:   0%|          | 1/449 [00:00<01:09,  6.43it/s]"
     ]
    },
    {
     "name": "stdout",
     "output_type": "stream",
     "text": [
      "* Update optimal model\n",
      "Epoch:  3\n"
     ]
    },
    {
     "name": "stderr",
     "output_type": "stream",
     "text": [
      "Loss=1.1571018695831299 Batch_id=448 Accuracy=0.4864864864864865: 100%|██████████| 449/449 [00:39<00:00, 11.44it/s]\n"
     ]
    },
    {
     "name": "stdout",
     "output_type": "stream",
     "text": [
      "- Avg.loss: 0.8061 | Avg.acc: 0.6280\n"
     ]
    },
    {
     "name": "stderr",
     "output_type": "stream",
     "text": [
      "Loss=0.7502336502075195 Batch_id=0 Accuracy=0.703125:   0%|          | 1/449 [00:00<00:51,  8.76it/s]"
     ]
    },
    {
     "name": "stdout",
     "output_type": "stream",
     "text": [
      "- Avg. test_loss: 1.8505 | Avg. test_acc: 0.4347\n",
      "Epoch:  4\n"
     ]
    },
    {
     "name": "stderr",
     "output_type": "stream",
     "text": [
      "Loss=1.3950679302215576 Batch_id=448 Accuracy=0.6486486486486487: 100%|██████████| 449/449 [00:39<00:00, 11.51it/s]\n"
     ]
    },
    {
     "name": "stdout",
     "output_type": "stream",
     "text": [
      "- Avg.loss: 0.7085 | Avg.acc: 0.7123\n",
      "- Avg. test_loss: 1.5015 | Avg. test_acc: 0.6053\n"
     ]
    },
    {
     "name": "stderr",
     "output_type": "stream",
     "text": [
      "Loss=1.0086766481399536 Batch_id=0 Accuracy=0.65625:   0%|          | 1/449 [00:00<01:09,  6.43it/s]"
     ]
    },
    {
     "name": "stdout",
     "output_type": "stream",
     "text": [
      "* Update optimal model\n",
      "Epoch:  5\n"
     ]
    },
    {
     "name": "stderr",
     "output_type": "stream",
     "text": [
      "Loss=1.0339726209640503 Batch_id=448 Accuracy=0.43243243243243246: 100%|██████████| 449/449 [00:39<00:00, 11.51it/s]\n"
     ]
    },
    {
     "name": "stdout",
     "output_type": "stream",
     "text": [
      "- Avg.loss: 0.6566 | Avg.acc: 0.7536\n",
      "- Avg. test_loss: 0.9531 | Avg. test_acc: 0.7200\n"
     ]
    },
    {
     "name": "stderr",
     "output_type": "stream",
     "text": [
      "\r",
      "  0%|          | 0/449 [00:00<?, ?it/s]"
     ]
    },
    {
     "name": "stdout",
     "output_type": "stream",
     "text": [
      "* Update optimal model\n",
      "Epoch:  6\n"
     ]
    },
    {
     "name": "stderr",
     "output_type": "stream",
     "text": [
      "Loss=1.0853368043899536 Batch_id=448 Accuracy=0.5945945945945946: 100%|██████████| 449/449 [00:39<00:00, 11.44it/s]\n"
     ]
    },
    {
     "name": "stdout",
     "output_type": "stream",
     "text": [
      "- Avg.loss: 0.5184 | Avg.acc: 0.8007\n"
     ]
    },
    {
     "name": "stderr",
     "output_type": "stream",
     "text": [
      "Loss=0.369344025850296 Batch_id=0 Accuracy=0.953125:   0%|          | 1/449 [00:00<00:50,  8.85it/s]"
     ]
    },
    {
     "name": "stdout",
     "output_type": "stream",
     "text": [
      "- Avg. test_loss: 0.8882 | Avg. test_acc: 0.6956\n",
      "Epoch:  7\n"
     ]
    },
    {
     "name": "stderr",
     "output_type": "stream",
     "text": [
      "Loss=0.5664389133453369 Batch_id=448 Accuracy=0.7837837837837838: 100%|██████████| 449/449 [00:38<00:00, 11.52it/s]\n"
     ]
    },
    {
     "name": "stdout",
     "output_type": "stream",
     "text": [
      "- Avg.loss: 0.5316 | Avg.acc: 0.8033\n"
     ]
    },
    {
     "name": "stderr",
     "output_type": "stream",
     "text": [
      "Loss=0.4663119614124298 Batch_id=0 Accuracy=0.90625:   0%|          | 1/449 [00:00<00:50,  8.80it/s]"
     ]
    },
    {
     "name": "stdout",
     "output_type": "stream",
     "text": [
      "- Avg. test_loss: 0.8278 | Avg. test_acc: 0.6775\n",
      "Epoch:  8\n"
     ]
    },
    {
     "name": "stderr",
     "output_type": "stream",
     "text": [
      "Loss=0.3231678009033203 Batch_id=448 Accuracy=0.8918918918918919: 100%|██████████| 449/449 [00:39<00:00, 11.51it/s]\n"
     ]
    },
    {
     "name": "stdout",
     "output_type": "stream",
     "text": [
      "- Avg.loss: 0.4853 | Avg.acc: 0.8216\n",
      "- Avg. test_loss: 0.6580 | Avg. test_acc: 0.7643\n"
     ]
    },
    {
     "name": "stderr",
     "output_type": "stream",
     "text": [
      "\r",
      "  0%|          | 0/449 [00:00<?, ?it/s]"
     ]
    },
    {
     "name": "stdout",
     "output_type": "stream",
     "text": [
      "* Update optimal model\n",
      "Epoch:  9\n"
     ]
    },
    {
     "name": "stderr",
     "output_type": "stream",
     "text": [
      "Loss=0.20031319558620453 Batch_id=448 Accuracy=0.972972972972973: 100%|██████████| 449/449 [00:39<00:00, 11.44it/s]\n"
     ]
    },
    {
     "name": "stdout",
     "output_type": "stream",
     "text": [
      "- Avg.loss: 0.4546 | Avg.acc: 0.8339\n"
     ]
    },
    {
     "name": "stderr",
     "output_type": "stream",
     "text": [
      "Loss=0.3577318489551544 Batch_id=0 Accuracy=0.9375:   0%|          | 1/449 [00:00<00:52,  8.60it/s]"
     ]
    },
    {
     "name": "stdout",
     "output_type": "stream",
     "text": [
      "- Avg. test_loss: 1.0669 | Avg. test_acc: 0.7129\n",
      "Epoch:  10\n"
     ]
    },
    {
     "name": "stderr",
     "output_type": "stream",
     "text": [
      "Loss=0.8199410438537598 Batch_id=448 Accuracy=0.7027027027027027: 100%|██████████| 449/449 [00:38<00:00, 11.55it/s]\n"
     ]
    },
    {
     "name": "stdout",
     "output_type": "stream",
     "text": [
      "- Avg.loss: 0.4408 | Avg.acc: 0.8430\n"
     ]
    },
    {
     "name": "stderr",
     "output_type": "stream",
     "text": [
      "\r",
      "  0%|          | 0/449 [00:00<?, ?it/s]"
     ]
    },
    {
     "name": "stdout",
     "output_type": "stream",
     "text": [
      "- Avg. test_loss: 1.3967 | Avg. test_acc: 0.6475\n",
      "Epoch:  11\n"
     ]
    },
    {
     "name": "stderr",
     "output_type": "stream",
     "text": [
      "Loss=0.5060980916023254 Batch_id=448 Accuracy=0.8378378378378378: 100%|██████████| 449/449 [00:39<00:00, 11.46it/s]\n"
     ]
    },
    {
     "name": "stdout",
     "output_type": "stream",
     "text": [
      "- Avg.loss: 0.4196 | Avg.acc: 0.8536\n",
      "- Avg. test_loss: 0.5579 | Avg. test_acc: 0.8013\n"
     ]
    },
    {
     "name": "stderr",
     "output_type": "stream",
     "text": [
      "Loss=0.08973328024148941 Batch_id=0 Accuracy=0.984375:   0%|          | 1/449 [00:00<01:09,  6.40it/s]"
     ]
    },
    {
     "name": "stdout",
     "output_type": "stream",
     "text": [
      "* Update optimal model\n",
      "Epoch:  12\n"
     ]
    },
    {
     "name": "stderr",
     "output_type": "stream",
     "text": [
      "Loss=0.17149293422698975 Batch_id=448 Accuracy=0.972972972972973: 100%|██████████| 449/449 [00:38<00:00, 11.54it/s]\n"
     ]
    },
    {
     "name": "stdout",
     "output_type": "stream",
     "text": [
      "- Avg.loss: 0.3220 | Avg.acc: 0.8879\n"
     ]
    },
    {
     "name": "stderr",
     "output_type": "stream",
     "text": [
      "Loss=0.9893635511398315 Batch_id=0 Accuracy=0.53125:   0%|          | 1/449 [00:00<00:50,  8.78it/s]"
     ]
    },
    {
     "name": "stdout",
     "output_type": "stream",
     "text": [
      "- Avg. test_loss: 1.1312 | Avg. test_acc: 0.7449\n",
      "Epoch:  13\n"
     ]
    },
    {
     "name": "stderr",
     "output_type": "stream",
     "text": [
      "Loss=1.7116801738739014 Batch_id=448 Accuracy=0.6216216216216216: 100%|██████████| 449/449 [00:38<00:00, 11.57it/s]\n"
     ]
    },
    {
     "name": "stdout",
     "output_type": "stream",
     "text": [
      "- Avg.loss: 0.3633 | Avg.acc: 0.8823\n"
     ]
    },
    {
     "name": "stderr",
     "output_type": "stream",
     "text": [
      "\r",
      "  0%|          | 0/449 [00:00<?, ?it/s]"
     ]
    },
    {
     "name": "stdout",
     "output_type": "stream",
     "text": [
      "- Avg. test_loss: 0.8865 | Avg. test_acc: 0.7446\n",
      "Epoch:  14\n"
     ]
    },
    {
     "name": "stderr",
     "output_type": "stream",
     "text": [
      "Loss=0.4029677212238312 Batch_id=448 Accuracy=0.918918918918919: 100%|██████████| 449/449 [00:39<00:00, 11.46it/s]\n"
     ]
    },
    {
     "name": "stdout",
     "output_type": "stream",
     "text": [
      "- Avg.loss: 0.3077 | Avg.acc: 0.8982\n",
      "- Avg. test_loss: 0.5881 | Avg. test_acc: 0.8026\n"
     ]
    },
    {
     "name": "stderr",
     "output_type": "stream",
     "text": [
      "Loss=0.09590555727481842 Batch_id=0 Accuracy=0.96875:   0%|          | 1/449 [00:00<01:08,  6.57it/s]"
     ]
    },
    {
     "name": "stdout",
     "output_type": "stream",
     "text": [
      "* Update optimal model\n",
      "Epoch:  15\n"
     ]
    },
    {
     "name": "stderr",
     "output_type": "stream",
     "text": [
      "Loss=1.0071419477462769 Batch_id=448 Accuracy=0.5675675675675675: 100%|██████████| 449/449 [00:38<00:00, 11.56it/s]\n"
     ]
    },
    {
     "name": "stdout",
     "output_type": "stream",
     "text": [
      "- Avg.loss: 0.2745 | Avg.acc: 0.9115\n"
     ]
    },
    {
     "name": "stderr",
     "output_type": "stream",
     "text": [
      "Loss=0.40565016865730286 Batch_id=0 Accuracy=0.796875:   0%|          | 1/449 [00:00<00:50,  8.80it/s]"
     ]
    },
    {
     "name": "stdout",
     "output_type": "stream",
     "text": [
      "- Avg. test_loss: 1.3659 | Avg. test_acc: 0.6519\n",
      "Epoch:  16\n"
     ]
    },
    {
     "name": "stderr",
     "output_type": "stream",
     "text": [
      "Loss=0.2983017861843109 Batch_id=448 Accuracy=0.9459459459459459: 100%|██████████| 449/449 [00:38<00:00, 11.53it/s]\n"
     ]
    },
    {
     "name": "stdout",
     "output_type": "stream",
     "text": [
      "- Avg.loss: 0.2846 | Avg.acc: 0.9089\n",
      "- Avg. test_loss: 0.5071 | Avg. test_acc: 0.8401\n"
     ]
    },
    {
     "name": "stderr",
     "output_type": "stream",
     "text": [
      "Loss=0.07369867712259293 Batch_id=0 Accuracy=0.984375:   0%|          | 1/449 [00:00<01:09,  6.43it/s]"
     ]
    },
    {
     "name": "stdout",
     "output_type": "stream",
     "text": [
      "* Update optimal model\n",
      "Epoch:  17\n"
     ]
    },
    {
     "name": "stderr",
     "output_type": "stream",
     "text": [
      "Loss=0.40266841650009155 Batch_id=448 Accuracy=0.8108108108108109: 100%|██████████| 449/449 [00:38<00:00, 11.61it/s]\n"
     ]
    },
    {
     "name": "stdout",
     "output_type": "stream",
     "text": [
      "- Avg.loss: 0.2437 | Avg.acc: 0.9261\n",
      "- Avg. test_loss: 0.3649 | Avg. test_acc: 0.8807\n"
     ]
    },
    {
     "name": "stderr",
     "output_type": "stream",
     "text": [
      "Loss=0.1111818179488182 Batch_id=0 Accuracy=0.96875:   0%|          | 1/449 [00:00<01:07,  6.65it/s]"
     ]
    },
    {
     "name": "stdout",
     "output_type": "stream",
     "text": [
      "* Update optimal model\n",
      "Epoch:  18\n"
     ]
    },
    {
     "name": "stderr",
     "output_type": "stream",
     "text": [
      "Loss=0.7412776947021484 Batch_id=448 Accuracy=0.7567567567567568: 100%|██████████| 449/449 [00:38<00:00, 11.58it/s]\n"
     ]
    },
    {
     "name": "stdout",
     "output_type": "stream",
     "text": [
      "- Avg.loss: 0.2259 | Avg.acc: 0.9323\n"
     ]
    },
    {
     "name": "stderr",
     "output_type": "stream",
     "text": [
      "\r",
      "  0%|          | 0/449 [00:00<?, ?it/s]"
     ]
    },
    {
     "name": "stdout",
     "output_type": "stream",
     "text": [
      "- Avg. test_loss: 0.7171 | Avg. test_acc: 0.7983\n",
      "Epoch:  19\n"
     ]
    },
    {
     "name": "stderr",
     "output_type": "stream",
     "text": [
      "Loss=0.20401425659656525 Batch_id=448 Accuracy=0.8918918918918919: 100%|██████████| 449/449 [00:39<00:00, 11.40it/s]\n"
     ]
    },
    {
     "name": "stdout",
     "output_type": "stream",
     "text": [
      "- Avg.loss: 0.2072 | Avg.acc: 0.9346\n",
      "- Avg. test_loss: 0.4059 | Avg. test_acc: 0.8838\n"
     ]
    },
    {
     "name": "stderr",
     "output_type": "stream",
     "text": [
      "Loss=0.047078441828489304 Batch_id=0 Accuracy=1.0:   0%|          | 1/449 [00:00<01:08,  6.51it/s]"
     ]
    },
    {
     "name": "stdout",
     "output_type": "stream",
     "text": [
      "* Update optimal model\n",
      "Epoch:  20\n"
     ]
    },
    {
     "name": "stderr",
     "output_type": "stream",
     "text": [
      "Loss=0.09892366826534271 Batch_id=448 Accuracy=0.972972972972973: 100%|██████████| 449/449 [00:38<00:00, 11.55it/s]\n"
     ]
    },
    {
     "name": "stdout",
     "output_type": "stream",
     "text": [
      "- Avg.loss: 0.2155 | Avg.acc: 0.9361\n",
      "- Avg. test_loss: 0.3296 | Avg. test_acc: 0.8920\n"
     ]
    },
    {
     "name": "stderr",
     "output_type": "stream",
     "text": [
      "Loss=0.18717308342456818 Batch_id=0 Accuracy=0.890625:   0%|          | 1/449 [00:00<01:08,  6.49it/s]"
     ]
    },
    {
     "name": "stdout",
     "output_type": "stream",
     "text": [
      "* Update optimal model\n",
      "Epoch:  21\n"
     ]
    },
    {
     "name": "stderr",
     "output_type": "stream",
     "text": [
      "Loss=0.6055008769035339 Batch_id=448 Accuracy=0.8378378378378378: 100%|██████████| 449/449 [00:38<00:00, 11.51it/s]\n"
     ]
    },
    {
     "name": "stdout",
     "output_type": "stream",
     "text": [
      "- Avg.loss: 0.2037 | Avg.acc: 0.9379\n"
     ]
    },
    {
     "name": "stderr",
     "output_type": "stream",
     "text": [
      "\r",
      "  0%|          | 0/449 [00:00<?, ?it/s]"
     ]
    },
    {
     "name": "stdout",
     "output_type": "stream",
     "text": [
      "- Avg. test_loss: 1.4086 | Avg. test_acc: 0.7354\n",
      "Epoch:  22\n"
     ]
    },
    {
     "name": "stderr",
     "output_type": "stream",
     "text": [
      "Loss=0.1887921392917633 Batch_id=448 Accuracy=0.918918918918919: 100%|██████████| 449/449 [00:39<00:00, 11.39it/s]\n"
     ]
    },
    {
     "name": "stdout",
     "output_type": "stream",
     "text": [
      "- Avg.loss: 0.1966 | Avg.acc: 0.9370\n"
     ]
    },
    {
     "name": "stderr",
     "output_type": "stream",
     "text": [
      "Loss=0.7318978905677795 Batch_id=0 Accuracy=0.765625:   0%|          | 1/449 [00:00<00:50,  8.80it/s]"
     ]
    },
    {
     "name": "stdout",
     "output_type": "stream",
     "text": [
      "- Avg. test_loss: 0.4796 | Avg. test_acc: 0.8647\n",
      "Epoch:  23\n"
     ]
    },
    {
     "name": "stderr",
     "output_type": "stream",
     "text": [
      "Loss=0.18601098656654358 Batch_id=448 Accuracy=0.9459459459459459: 100%|██████████| 449/449 [00:39<00:00, 11.48it/s]\n"
     ]
    },
    {
     "name": "stdout",
     "output_type": "stream",
     "text": [
      "- Avg.loss: 0.2034 | Avg.acc: 0.9371\n"
     ]
    },
    {
     "name": "stderr",
     "output_type": "stream",
     "text": [
      "\r",
      "  0%|          | 0/449 [00:00<?, ?it/s]"
     ]
    },
    {
     "name": "stdout",
     "output_type": "stream",
     "text": [
      "- Avg. test_loss: 0.7843 | Avg. test_acc: 0.8341\n",
      "Epoch:  24\n"
     ]
    },
    {
     "name": "stderr",
     "output_type": "stream",
     "text": [
      "Loss=0.15894456207752228 Batch_id=448 Accuracy=0.918918918918919: 100%|██████████| 449/449 [00:39<00:00, 11.39it/s]\n"
     ]
    },
    {
     "name": "stdout",
     "output_type": "stream",
     "text": [
      "- Avg.loss: 0.1815 | Avg.acc: 0.9446\n"
     ]
    },
    {
     "name": "stderr",
     "output_type": "stream",
     "text": [
      "Loss=0.3202907145023346 Batch_id=0 Accuracy=0.875:   0%|          | 1/449 [00:00<00:50,  8.83it/s]"
     ]
    },
    {
     "name": "stdout",
     "output_type": "stream",
     "text": [
      "- Avg. test_loss: 2.8535 | Avg. test_acc: 0.4887\n",
      "Epoch:  25\n"
     ]
    },
    {
     "name": "stderr",
     "output_type": "stream",
     "text": [
      "Loss=0.015237221494317055 Batch_id=448 Accuracy=1.0: 100%|██████████| 449/449 [00:38<00:00, 11.52it/s]     \n"
     ]
    },
    {
     "name": "stdout",
     "output_type": "stream",
     "text": [
      "- Avg.loss: 0.1580 | Avg.acc: 0.9495\n",
      "- Avg. test_loss: 0.3230 | Avg. test_acc: 0.8944\n"
     ]
    },
    {
     "name": "stderr",
     "output_type": "stream",
     "text": [
      "Loss=0.06585655361413956 Batch_id=0 Accuracy=1.0:   0%|          | 1/449 [00:00<01:09,  6.48it/s]"
     ]
    },
    {
     "name": "stdout",
     "output_type": "stream",
     "text": [
      "* Update optimal model\n",
      "Epoch:  26\n"
     ]
    },
    {
     "name": "stderr",
     "output_type": "stream",
     "text": [
      "Loss=0.8564202785491943 Batch_id=448 Accuracy=0.8108108108108109: 100%|██████████| 449/449 [00:39<00:00, 11.47it/s]\n"
     ]
    },
    {
     "name": "stdout",
     "output_type": "stream",
     "text": [
      "- Avg.loss: 0.1795 | Avg.acc: 0.9433\n"
     ]
    },
    {
     "name": "stderr",
     "output_type": "stream",
     "text": [
      "\r",
      "  0%|          | 0/449 [00:00<?, ?it/s]"
     ]
    },
    {
     "name": "stdout",
     "output_type": "stream",
     "text": [
      "- Avg. test_loss: 0.5389 | Avg. test_acc: 0.8433\n",
      "Epoch:  27\n"
     ]
    },
    {
     "name": "stderr",
     "output_type": "stream",
     "text": [
      "Loss=0.2318902462720871 Batch_id=448 Accuracy=0.9459459459459459: 100%|██████████| 449/449 [00:39<00:00, 11.44it/s]\n"
     ]
    },
    {
     "name": "stdout",
     "output_type": "stream",
     "text": [
      "- Avg.loss: 0.1695 | Avg.acc: 0.9494\n"
     ]
    },
    {
     "name": "stderr",
     "output_type": "stream",
     "text": [
      "Loss=0.07663660496473312 Batch_id=0 Accuracy=1.0:   0%|          | 1/449 [00:00<00:50,  8.86it/s]"
     ]
    },
    {
     "name": "stdout",
     "output_type": "stream",
     "text": [
      "- Avg. test_loss: 0.4213 | Avg. test_acc: 0.8530\n",
      "Epoch:  28\n"
     ]
    },
    {
     "name": "stderr",
     "output_type": "stream",
     "text": [
      "Loss=0.6001963019371033 Batch_id=448 Accuracy=0.918918918918919: 100%|██████████| 449/449 [00:38<00:00, 11.56it/s]\n"
     ]
    },
    {
     "name": "stdout",
     "output_type": "stream",
     "text": [
      "- Avg.loss: 0.1837 | Avg.acc: 0.9442\n"
     ]
    },
    {
     "name": "stderr",
     "output_type": "stream",
     "text": [
      "Loss=0.24800646305084229 Batch_id=0 Accuracy=0.890625:   0%|          | 1/449 [00:00<00:51,  8.70it/s]"
     ]
    },
    {
     "name": "stdout",
     "output_type": "stream",
     "text": [
      "- Avg. test_loss: 0.4707 | Avg. test_acc: 0.8706\n",
      "Epoch:  29\n"
     ]
    },
    {
     "name": "stderr",
     "output_type": "stream",
     "text": [
      "Loss=0.1410718858242035 Batch_id=448 Accuracy=0.918918918918919: 100%|██████████| 449/449 [00:38<00:00, 11.54it/s]\n"
     ]
    },
    {
     "name": "stdout",
     "output_type": "stream",
     "text": [
      "- Avg.loss: 0.1816 | Avg.acc: 0.9416\n"
     ]
    },
    {
     "name": "stderr",
     "output_type": "stream",
     "text": [
      "\r",
      "  0%|          | 0/449 [00:00<?, ?it/s]"
     ]
    },
    {
     "name": "stdout",
     "output_type": "stream",
     "text": [
      "- Avg. test_loss: 0.6881 | Avg. test_acc: 0.8224\n",
      "Epoch:  30\n"
     ]
    },
    {
     "name": "stderr",
     "output_type": "stream",
     "text": [
      "Loss=0.25361722707748413 Batch_id=448 Accuracy=0.8918918918918919: 100%|██████████| 449/449 [00:39<00:00, 11.45it/s]\n"
     ]
    },
    {
     "name": "stdout",
     "output_type": "stream",
     "text": [
      "- Avg.loss: 0.1832 | Avg.acc: 0.9446\n"
     ]
    },
    {
     "name": "stderr",
     "output_type": "stream",
     "text": [
      "Loss=0.037372808903455734 Batch_id=0 Accuracy=1.0:   0%|          | 1/449 [00:00<00:51,  8.66it/s]"
     ]
    },
    {
     "name": "stdout",
     "output_type": "stream",
     "text": [
      "- Avg. test_loss: 0.7853 | Avg. test_acc: 0.7778\n",
      "Epoch:  31\n"
     ]
    },
    {
     "name": "stderr",
     "output_type": "stream",
     "text": [
      "Loss=1.0300179719924927 Batch_id=448 Accuracy=0.8378378378378378: 100%|██████████| 449/449 [00:38<00:00, 11.51it/s]\n"
     ]
    },
    {
     "name": "stdout",
     "output_type": "stream",
     "text": [
      "- Avg.loss: 0.1781 | Avg.acc: 0.9442\n"
     ]
    },
    {
     "name": "stderr",
     "output_type": "stream",
     "text": [
      "\r",
      "  0%|          | 0/449 [00:00<?, ?it/s]"
     ]
    },
    {
     "name": "stdout",
     "output_type": "stream",
     "text": [
      "- Avg. test_loss: 0.7080 | Avg. test_acc: 0.8279\n",
      "Epoch    31: reducing learning rate of group 0 to 1.0000e-04.\n",
      "Epoch:  32\n"
     ]
    },
    {
     "name": "stderr",
     "output_type": "stream",
     "text": [
      "Loss=0.08217966556549072 Batch_id=448 Accuracy=0.972972972972973: 100%|██████████| 449/449 [00:39<00:00, 11.37it/s]\n"
     ]
    },
    {
     "name": "stdout",
     "output_type": "stream",
     "text": [
      "- Avg.loss: 0.0995 | Avg.acc: 0.9690\n"
     ]
    },
    {
     "name": "stderr",
     "output_type": "stream",
     "text": [
      "\r",
      "  0%|          | 0/449 [00:00<?, ?it/s]"
     ]
    },
    {
     "name": "stdout",
     "output_type": "stream",
     "text": [
      "- Avg. test_loss: 0.2755 | Avg. test_acc: 0.9096\n",
      "* Update optimal model\n",
      "Epoch:  33\n"
     ]
    },
    {
     "name": "stderr",
     "output_type": "stream",
     "text": [
      "Loss=0.020020131021738052 Batch_id=448 Accuracy=1.0: 100%|██████████| 449/449 [00:38<00:00, 11.52it/s]     \n"
     ]
    },
    {
     "name": "stdout",
     "output_type": "stream",
     "text": [
      "- Avg.loss: 0.0828 | Avg.acc: 0.9730\n"
     ]
    },
    {
     "name": "stderr",
     "output_type": "stream",
     "text": [
      "\r",
      "  0%|          | 0/449 [00:00<?, ?it/s]"
     ]
    },
    {
     "name": "stdout",
     "output_type": "stream",
     "text": [
      "- Avg. test_loss: 0.2495 | Avg. test_acc: 0.9237\n",
      "* Update optimal model\n",
      "Epoch:  34\n"
     ]
    },
    {
     "name": "stderr",
     "output_type": "stream",
     "text": [
      "Loss=0.026196155697107315 Batch_id=448 Accuracy=1.0: 100%|██████████| 449/449 [00:38<00:00, 11.56it/s]     \n"
     ]
    },
    {
     "name": "stdout",
     "output_type": "stream",
     "text": [
      "- Avg.loss: 0.0837 | Avg.acc: 0.9743\n"
     ]
    },
    {
     "name": "stderr",
     "output_type": "stream",
     "text": [
      "\r",
      "  0%|          | 0/449 [00:00<?, ?it/s]"
     ]
    },
    {
     "name": "stdout",
     "output_type": "stream",
     "text": [
      "- Avg. test_loss: 0.2437 | Avg. test_acc: 0.9227\n",
      "Epoch:  35\n"
     ]
    },
    {
     "name": "stderr",
     "output_type": "stream",
     "text": [
      "Loss=0.0020130632910877466 Batch_id=448 Accuracy=1.0: 100%|██████████| 449/449 [00:39<00:00, 11.45it/s]    \n"
     ]
    },
    {
     "name": "stdout",
     "output_type": "stream",
     "text": [
      "- Avg.loss: 0.0625 | Avg.acc: 0.9787\n"
     ]
    },
    {
     "name": "stderr",
     "output_type": "stream",
     "text": [
      "Loss=0.13668273389339447 Batch_id=0 Accuracy=0.9375:   0%|          | 1/449 [00:00<00:51,  8.77it/s]"
     ]
    },
    {
     "name": "stdout",
     "output_type": "stream",
     "text": [
      "- Avg. test_loss: 0.2384 | Avg. test_acc: 0.9086\n",
      "Epoch:  36\n"
     ]
    },
    {
     "name": "stderr",
     "output_type": "stream",
     "text": [
      "Loss=0.12995877861976624 Batch_id=448 Accuracy=0.972972972972973: 100%|██████████| 449/449 [00:38<00:00, 11.53it/s]\n"
     ]
    },
    {
     "name": "stdout",
     "output_type": "stream",
     "text": [
      "- Avg.loss: 0.0808 | Avg.acc: 0.9757\n"
     ]
    },
    {
     "name": "stderr",
     "output_type": "stream",
     "text": [
      "Loss=0.10479117929935455 Batch_id=0 Accuracy=0.953125:   0%|          | 1/449 [00:00<00:50,  8.82it/s]"
     ]
    },
    {
     "name": "stdout",
     "output_type": "stream",
     "text": [
      "- Avg. test_loss: 0.2368 | Avg. test_acc: 0.9189\n",
      "Epoch:  37\n"
     ]
    },
    {
     "name": "stderr",
     "output_type": "stream",
     "text": [
      "Loss=0.6038351655006409 Batch_id=448 Accuracy=0.8648648648648649: 100%|██████████| 449/449 [00:38<00:00, 11.53it/s]\n"
     ]
    },
    {
     "name": "stdout",
     "output_type": "stream",
     "text": [
      "- Avg.loss: 0.0538 | Avg.acc: 0.9808\n"
     ]
    },
    {
     "name": "stderr",
     "output_type": "stream",
     "text": [
      "Loss=0.00858826283365488 Batch_id=0 Accuracy=1.0:   0%|          | 1/449 [00:00<00:50,  8.81it/s]"
     ]
    },
    {
     "name": "stdout",
     "output_type": "stream",
     "text": [
      "- Avg. test_loss: 0.3082 | Avg. test_acc: 0.9161\n",
      "Epoch:  38\n"
     ]
    },
    {
     "name": "stderr",
     "output_type": "stream",
     "text": [
      "Loss=0.10449463874101639 Batch_id=448 Accuracy=0.9459459459459459: 100%|██████████| 449/449 [00:38<00:00, 11.51it/s]\n"
     ]
    },
    {
     "name": "stdout",
     "output_type": "stream",
     "text": [
      "- Avg.loss: 0.0571 | Avg.acc: 0.9823\n"
     ]
    },
    {
     "name": "stderr",
     "output_type": "stream",
     "text": [
      "Loss=0.0013263579457998276 Batch_id=0 Accuracy=1.0:   0%|          | 1/449 [00:00<00:50,  8.79it/s]"
     ]
    },
    {
     "name": "stdout",
     "output_type": "stream",
     "text": [
      "- Avg. test_loss: 0.3061 | Avg. test_acc: 0.9022\n",
      "Epoch:  39\n"
     ]
    },
    {
     "name": "stderr",
     "output_type": "stream",
     "text": [
      "Loss=0.001547239487990737 Batch_id=448 Accuracy=1.0: 100%|██████████| 449/449 [00:38<00:00, 11.52it/s]     \n"
     ]
    },
    {
     "name": "stdout",
     "output_type": "stream",
     "text": [
      "- Avg.loss: 0.0594 | Avg.acc: 0.9805\n"
     ]
    },
    {
     "name": "stderr",
     "output_type": "stream",
     "text": [
      "\r",
      "  0%|          | 0/449 [00:00<?, ?it/s]"
     ]
    },
    {
     "name": "stdout",
     "output_type": "stream",
     "text": [
      "- Avg. test_loss: 0.2844 | Avg. test_acc: 0.9065\n",
      "Epoch    39: reducing learning rate of group 0 to 1.0000e-05.\n",
      "Epoch:  40\n"
     ]
    },
    {
     "name": "stderr",
     "output_type": "stream",
     "text": [
      "Loss=0.0026268051005899906 Batch_id=448 Accuracy=1.0: 100%|██████████| 449/449 [00:39<00:00, 11.42it/s]    \n"
     ]
    },
    {
     "name": "stdout",
     "output_type": "stream",
     "text": [
      "- Avg.loss: 0.0535 | Avg.acc: 0.9818\n"
     ]
    },
    {
     "name": "stderr",
     "output_type": "stream",
     "text": [
      "\r",
      "  0%|          | 0/449 [00:00<?, ?it/s]"
     ]
    },
    {
     "name": "stdout",
     "output_type": "stream",
     "text": [
      "- Avg. test_loss: 0.2403 | Avg. test_acc: 0.9281\n",
      "* Update optimal model\n",
      "Epoch:  41\n"
     ]
    },
    {
     "name": "stderr",
     "output_type": "stream",
     "text": [
      "Loss=0.08377863466739655 Batch_id=448 Accuracy=1.0: 100%|██████████| 449/449 [00:39<00:00, 11.46it/s]      \n"
     ]
    },
    {
     "name": "stdout",
     "output_type": "stream",
     "text": [
      "- Avg.loss: 0.0452 | Avg.acc: 0.9854\n"
     ]
    },
    {
     "name": "stderr",
     "output_type": "stream",
     "text": [
      "Loss=0.0014770656125620008 Batch_id=0 Accuracy=1.0:   0%|          | 1/449 [00:00<00:51,  8.75it/s]"
     ]
    },
    {
     "name": "stdout",
     "output_type": "stream",
     "text": [
      "- Avg. test_loss: 0.2405 | Avg. test_acc: 0.9256\n",
      "Epoch:  42\n"
     ]
    },
    {
     "name": "stderr",
     "output_type": "stream",
     "text": [
      "Loss=0.4249342978000641 Batch_id=448 Accuracy=0.8918918918918919: 100%|██████████| 449/449 [00:38<00:00, 11.52it/s]\n"
     ]
    },
    {
     "name": "stdout",
     "output_type": "stream",
     "text": [
      "- Avg.loss: 0.0509 | Avg.acc: 0.9850\n"
     ]
    },
    {
     "name": "stderr",
     "output_type": "stream",
     "text": [
      "\r",
      "  0%|          | 0/449 [00:00<?, ?it/s]"
     ]
    },
    {
     "name": "stdout",
     "output_type": "stream",
     "text": [
      "- Avg. test_loss: 0.2802 | Avg. test_acc: 0.9195\n",
      "Epoch:  43\n"
     ]
    },
    {
     "name": "stderr",
     "output_type": "stream",
     "text": [
      "Loss=0.0005104361334815621 Batch_id=448 Accuracy=1.0: 100%|██████████| 449/449 [00:39<00:00, 11.42it/s]    \n"
     ]
    },
    {
     "name": "stdout",
     "output_type": "stream",
     "text": [
      "- Avg.loss: 0.0534 | Avg.acc: 0.9826\n"
     ]
    },
    {
     "name": "stderr",
     "output_type": "stream",
     "text": [
      "Loss=0.009623968042433262 Batch_id=0 Accuracy=1.0:   0%|          | 1/449 [00:00<00:51,  8.75it/s]"
     ]
    },
    {
     "name": "stdout",
     "output_type": "stream",
     "text": [
      "- Avg. test_loss: 0.2615 | Avg. test_acc: 0.9193\n",
      "Epoch:  44\n"
     ]
    },
    {
     "name": "stderr",
     "output_type": "stream",
     "text": [
      "Loss=0.12318632006645203 Batch_id=448 Accuracy=0.9459459459459459: 100%|██████████| 449/449 [00:39<00:00, 11.51it/s]\n"
     ]
    },
    {
     "name": "stdout",
     "output_type": "stream",
     "text": [
      "- Avg.loss: 0.0510 | Avg.acc: 0.9827\n"
     ]
    },
    {
     "name": "stderr",
     "output_type": "stream",
     "text": [
      "\r",
      "  0%|          | 0/449 [00:00<?, ?it/s]"
     ]
    },
    {
     "name": "stdout",
     "output_type": "stream",
     "text": [
      "- Avg. test_loss: 0.2966 | Avg. test_acc: 0.9079\n",
      "Epoch:  45\n"
     ]
    },
    {
     "name": "stderr",
     "output_type": "stream",
     "text": [
      "Loss=0.004036416299641132 Batch_id=448 Accuracy=1.0: 100%|██████████| 449/449 [00:39<00:00, 11.39it/s]     \n"
     ]
    },
    {
     "name": "stdout",
     "output_type": "stream",
     "text": [
      "- Avg.loss: 0.0547 | Avg.acc: 0.9818\n"
     ]
    },
    {
     "name": "stderr",
     "output_type": "stream",
     "text": [
      "Loss=0.12352496385574341 Batch_id=0 Accuracy=0.953125:   0%|          | 1/449 [00:00<00:51,  8.66it/s]"
     ]
    },
    {
     "name": "stdout",
     "output_type": "stream",
     "text": [
      "- Avg. test_loss: 0.2551 | Avg. test_acc: 0.9249\n",
      "Epoch:  46\n"
     ]
    },
    {
     "name": "stderr",
     "output_type": "stream",
     "text": [
      "Loss=0.1849992722272873 Batch_id=448 Accuracy=0.9459459459459459: 100%|██████████| 449/449 [00:39<00:00, 11.47it/s]\n"
     ]
    },
    {
     "name": "stdout",
     "output_type": "stream",
     "text": [
      "- Avg.loss: 0.0444 | Avg.acc: 0.9860\n"
     ]
    },
    {
     "name": "stderr",
     "output_type": "stream",
     "text": [
      "Loss=0.003495868295431137 Batch_id=0 Accuracy=1.0:   0%|          | 1/449 [00:00<00:51,  8.78it/s]"
     ]
    },
    {
     "name": "stdout",
     "output_type": "stream",
     "text": [
      "- Avg. test_loss: 0.2382 | Avg. test_acc: 0.9277\n",
      "Epoch    46: reducing learning rate of group 0 to 1.0000e-06.\n",
      "Epoch:  47\n"
     ]
    },
    {
     "name": "stderr",
     "output_type": "stream",
     "text": [
      "Loss=0.0003261975944042206 Batch_id=448 Accuracy=1.0: 100%|██████████| 449/449 [00:39<00:00, 11.48it/s]    \n"
     ]
    },
    {
     "name": "stdout",
     "output_type": "stream",
     "text": [
      "- Avg.loss: 0.0531 | Avg.acc: 0.9828\n"
     ]
    },
    {
     "name": "stderr",
     "output_type": "stream",
     "text": [
      "\r",
      "  0%|          | 0/449 [00:00<?, ?it/s]"
     ]
    },
    {
     "name": "stdout",
     "output_type": "stream",
     "text": [
      "- Avg. test_loss: 0.2624 | Avg. test_acc: 0.9007\n",
      "Epoch:  48\n"
     ]
    },
    {
     "name": "stderr",
     "output_type": "stream",
     "text": [
      "Loss=0.15292870998382568 Batch_id=448 Accuracy=0.9459459459459459: 100%|██████████| 449/449 [00:39<00:00, 11.40it/s]\n"
     ]
    },
    {
     "name": "stdout",
     "output_type": "stream",
     "text": [
      "- Avg.loss: 0.0459 | Avg.acc: 0.9854\n"
     ]
    },
    {
     "name": "stderr",
     "output_type": "stream",
     "text": [
      "Loss=0.018414106220006943 Batch_id=0 Accuracy=1.0:   0%|          | 1/449 [00:00<00:51,  8.66it/s]"
     ]
    },
    {
     "name": "stdout",
     "output_type": "stream",
     "text": [
      "- Avg. test_loss: 0.3241 | Avg. test_acc: 0.8996\n",
      "Epoch:  49\n"
     ]
    },
    {
     "name": "stderr",
     "output_type": "stream",
     "text": [
      "Loss=0.014004996977746487 Batch_id=448 Accuracy=1.0: 100%|██████████| 449/449 [00:39<00:00, 11.50it/s]     \n"
     ]
    },
    {
     "name": "stdout",
     "output_type": "stream",
     "text": [
      "- Avg.loss: 0.0558 | Avg.acc: 0.9838\n"
     ]
    },
    {
     "name": "stderr",
     "output_type": "stream",
     "text": [
      "Loss=0.009879524819552898 Batch_id=0 Accuracy=1.0:   0%|          | 1/449 [00:00<00:51,  8.65it/s]"
     ]
    },
    {
     "name": "stdout",
     "output_type": "stream",
     "text": [
      "- Avg. test_loss: 0.2302 | Avg. test_acc: 0.9257\n",
      "Epoch:  50\n"
     ]
    },
    {
     "name": "stderr",
     "output_type": "stream",
     "text": [
      "Loss=1.1788554191589355 Batch_id=448 Accuracy=0.8648648648648649: 100%|██████████| 449/449 [00:39<00:00, 11.44it/s]\n"
     ]
    },
    {
     "name": "stdout",
     "output_type": "stream",
     "text": [
      "- Avg.loss: 0.0516 | Avg.acc: 0.9830\n",
      "- Avg. test_loss: 0.2065 | Avg. test_acc: 0.9223\n",
      "Optimal result: test_loss: 0.2403 | test_acc: 0.9281\n",
      " - Finished Training of fold  1  - \n",
      "Fold  2  /  5  ********************* \n"
     ]
    },
    {
     "name": "stderr",
     "output_type": "stream",
     "text": [
      "Loss=1.9803346395492554 Batch_id=0 Accuracy=0.15625:   0%|          | 1/449 [00:00<00:50,  8.84it/s]"
     ]
    },
    {
     "name": "stdout",
     "output_type": "stream",
     "text": [
      "Epoch:  1\n"
     ]
    },
    {
     "name": "stderr",
     "output_type": "stream",
     "text": [
      "Loss=1.5067485570907593 Batch_id=448 Accuracy=0.24324324324324326: 100%|██████████| 449/449 [00:38<00:00, 11.55it/s]\n"
     ]
    },
    {
     "name": "stdout",
     "output_type": "stream",
     "text": [
      "- Avg.loss: 1.4956 | Avg.acc: 0.3978\n"
     ]
    },
    {
     "name": "stderr",
     "output_type": "stream",
     "text": [
      "Loss=1.2519142627716064 Batch_id=0 Accuracy=0.421875:   0%|          | 1/449 [00:00<00:50,  8.84it/s]"
     ]
    },
    {
     "name": "stdout",
     "output_type": "stream",
     "text": [
      "- Avg. test_loss: 7.7416 | Avg. test_acc: 0.1209\n",
      "* Update optimal model\n",
      "Epoch:  2\n"
     ]
    },
    {
     "name": "stderr",
     "output_type": "stream",
     "text": [
      "Loss=0.9286653399467468 Batch_id=448 Accuracy=0.5405405405405406: 100%|██████████| 449/449 [00:38<00:00, 11.54it/s]\n"
     ]
    },
    {
     "name": "stdout",
     "output_type": "stream",
     "text": [
      "- Avg.loss: 1.0570 | Avg.acc: 0.5611\n",
      "- Avg. test_loss: 5.9388 | Avg. test_acc: 0.2686\n"
     ]
    },
    {
     "name": "stderr",
     "output_type": "stream",
     "text": [
      "\r",
      "  0%|          | 0/449 [00:00<?, ?it/s]"
     ]
    },
    {
     "name": "stdout",
     "output_type": "stream",
     "text": [
      "* Update optimal model\n",
      "Epoch:  3\n"
     ]
    },
    {
     "name": "stderr",
     "output_type": "stream",
     "text": [
      "Loss=0.9040740728378296 Batch_id=448 Accuracy=0.6756756756756757: 100%|██████████| 449/449 [00:39<00:00, 11.36it/s]\n"
     ]
    },
    {
     "name": "stdout",
     "output_type": "stream",
     "text": [
      "- Avg.loss: 0.8895 | Avg.acc: 0.6417\n",
      "- Avg. test_loss: 1.4558 | Avg. test_acc: 0.4663\n"
     ]
    },
    {
     "name": "stderr",
     "output_type": "stream",
     "text": [
      "Loss=1.124502182006836 Batch_id=0 Accuracy=0.5:   0%|          | 1/449 [00:00<01:10,  6.38it/s]"
     ]
    },
    {
     "name": "stdout",
     "output_type": "stream",
     "text": [
      "* Update optimal model\n",
      "Epoch:  4\n"
     ]
    },
    {
     "name": "stderr",
     "output_type": "stream",
     "text": [
      "Loss=1.0863966941833496 Batch_id=448 Accuracy=0.5945945945945946: 100%|██████████| 449/449 [00:39<00:00, 11.50it/s]\n"
     ]
    },
    {
     "name": "stdout",
     "output_type": "stream",
     "text": [
      "- Avg.loss: 0.7361 | Avg.acc: 0.7095\n",
      "- Avg. test_loss: 2.5637 | Avg. test_acc: 0.4969\n"
     ]
    },
    {
     "name": "stderr",
     "output_type": "stream",
     "text": [
      "Loss=0.7649394869804382 Batch_id=0 Accuracy=0.6875:   0%|          | 1/449 [00:00<01:10,  6.39it/s]"
     ]
    },
    {
     "name": "stdout",
     "output_type": "stream",
     "text": [
      "* Update optimal model\n",
      "Epoch:  5\n"
     ]
    },
    {
     "name": "stderr",
     "output_type": "stream",
     "text": [
      "Loss=0.8934998512268066 Batch_id=448 Accuracy=0.5405405405405406: 100%|██████████| 449/449 [00:39<00:00, 11.46it/s]\n"
     ]
    },
    {
     "name": "stdout",
     "output_type": "stream",
     "text": [
      "- Avg.loss: 0.6693 | Avg.acc: 0.7475\n",
      "- Avg. test_loss: 1.3746 | Avg. test_acc: 0.5078\n"
     ]
    },
    {
     "name": "stderr",
     "output_type": "stream",
     "text": [
      "\r",
      "  0%|          | 0/449 [00:00<?, ?it/s]"
     ]
    },
    {
     "name": "stdout",
     "output_type": "stream",
     "text": [
      "* Update optimal model\n",
      "Epoch:  6\n"
     ]
    },
    {
     "name": "stderr",
     "output_type": "stream",
     "text": [
      "Loss=0.6371941566467285 Batch_id=448 Accuracy=0.7027027027027027: 100%|██████████| 449/449 [00:39<00:00, 11.41it/s]\n"
     ]
    },
    {
     "name": "stdout",
     "output_type": "stream",
     "text": [
      "- Avg.loss: 0.6624 | Avg.acc: 0.7494\n",
      "- Avg. test_loss: 0.9536 | Avg. test_acc: 0.6081\n"
     ]
    },
    {
     "name": "stderr",
     "output_type": "stream",
     "text": [
      "Loss=0.4133269190788269 Batch_id=0 Accuracy=0.828125:   0%|          | 1/449 [00:00<01:06,  6.73it/s]"
     ]
    },
    {
     "name": "stdout",
     "output_type": "stream",
     "text": [
      "* Update optimal model\n",
      "Epoch:  7\n"
     ]
    },
    {
     "name": "stderr",
     "output_type": "stream",
     "text": [
      "Loss=0.5789621472358704 Batch_id=448 Accuracy=0.7027027027027027: 100%|██████████| 449/449 [00:39<00:00, 11.47it/s]\n"
     ]
    },
    {
     "name": "stdout",
     "output_type": "stream",
     "text": [
      "- Avg.loss: 0.5931 | Avg.acc: 0.7812\n",
      "- Avg. test_loss: 0.7954 | Avg. test_acc: 0.6783\n"
     ]
    },
    {
     "name": "stderr",
     "output_type": "stream",
     "text": [
      "\r",
      "  0%|          | 0/449 [00:00<?, ?it/s]"
     ]
    },
    {
     "name": "stdout",
     "output_type": "stream",
     "text": [
      "* Update optimal model\n",
      "Epoch:  8\n"
     ]
    },
    {
     "name": "stderr",
     "output_type": "stream",
     "text": [
      "Loss=0.8227747082710266 Batch_id=448 Accuracy=0.6756756756756757: 100%|██████████| 449/449 [00:39<00:00, 11.38it/s]\n"
     ]
    },
    {
     "name": "stdout",
     "output_type": "stream",
     "text": [
      "- Avg.loss: 0.5579 | Avg.acc: 0.7914\n",
      "- Avg. test_loss: 0.6118 | Avg. test_acc: 0.7800\n"
     ]
    },
    {
     "name": "stderr",
     "output_type": "stream",
     "text": [
      "Loss=0.21992115676403046 Batch_id=0 Accuracy=0.953125:   0%|          | 1/449 [00:00<01:10,  6.40it/s]"
     ]
    },
    {
     "name": "stdout",
     "output_type": "stream",
     "text": [
      "* Update optimal model\n",
      "Epoch:  9\n"
     ]
    },
    {
     "name": "stderr",
     "output_type": "stream",
     "text": [
      "Loss=1.110330581665039 Batch_id=448 Accuracy=0.4864864864864865: 100%|██████████| 449/449 [00:38<00:00, 11.53it/s]\n"
     ]
    },
    {
     "name": "stdout",
     "output_type": "stream",
     "text": [
      "- Avg.loss: 0.5044 | Avg.acc: 0.8200\n"
     ]
    },
    {
     "name": "stderr",
     "output_type": "stream",
     "text": [
      "Loss=0.30036428570747375 Batch_id=0 Accuracy=0.921875:   0%|          | 1/449 [00:00<00:51,  8.63it/s]"
     ]
    },
    {
     "name": "stdout",
     "output_type": "stream",
     "text": [
      "- Avg. test_loss: 0.6438 | Avg. test_acc: 0.7673\n",
      "Epoch:  10\n"
     ]
    },
    {
     "name": "stderr",
     "output_type": "stream",
     "text": [
      "Loss=0.7668842673301697 Batch_id=448 Accuracy=0.7567567567567568: 100%|██████████| 449/449 [00:39<00:00, 11.50it/s]\n"
     ]
    },
    {
     "name": "stdout",
     "output_type": "stream",
     "text": [
      "- Avg.loss: 0.4702 | Avg.acc: 0.8250\n"
     ]
    },
    {
     "name": "stderr",
     "output_type": "stream",
     "text": [
      "\r",
      "  0%|          | 0/449 [00:00<?, ?it/s]"
     ]
    },
    {
     "name": "stdout",
     "output_type": "stream",
     "text": [
      "- Avg. test_loss: 0.7159 | Avg. test_acc: 0.7118\n",
      "Epoch:  11\n"
     ]
    },
    {
     "name": "stderr",
     "output_type": "stream",
     "text": [
      "Loss=1.7789891958236694 Batch_id=448 Accuracy=0.5675675675675675: 100%|██████████| 449/449 [00:39<00:00, 11.42it/s]\n"
     ]
    },
    {
     "name": "stdout",
     "output_type": "stream",
     "text": [
      "- Avg.loss: 0.5070 | Avg.acc: 0.8140\n",
      "- Avg. test_loss: 0.5483 | Avg. test_acc: 0.7963\n"
     ]
    },
    {
     "name": "stderr",
     "output_type": "stream",
     "text": [
      "Loss=0.20333848893642426 Batch_id=0 Accuracy=0.90625:   0%|          | 1/449 [00:00<01:08,  6.53it/s]"
     ]
    },
    {
     "name": "stdout",
     "output_type": "stream",
     "text": [
      "* Update optimal model\n",
      "Epoch:  12\n"
     ]
    },
    {
     "name": "stderr",
     "output_type": "stream",
     "text": [
      "Loss=0.8028624057769775 Batch_id=448 Accuracy=0.7027027027027027: 100%|██████████| 449/449 [00:38<00:00, 11.54it/s]\n"
     ]
    },
    {
     "name": "stdout",
     "output_type": "stream",
     "text": [
      "- Avg.loss: 0.4315 | Avg.acc: 0.8429\n"
     ]
    },
    {
     "name": "stderr",
     "output_type": "stream",
     "text": [
      "Loss=0.49249207973480225 Batch_id=0 Accuracy=0.765625:   0%|          | 1/449 [00:00<00:50,  8.87it/s]"
     ]
    },
    {
     "name": "stdout",
     "output_type": "stream",
     "text": [
      "- Avg. test_loss: 0.8336 | Avg. test_acc: 0.7405\n",
      "Epoch:  13\n"
     ]
    },
    {
     "name": "stderr",
     "output_type": "stream",
     "text": [
      "Loss=0.6508477330207825 Batch_id=448 Accuracy=0.7297297297297297: 100%|██████████| 449/449 [00:38<00:00, 11.56it/s]\n"
     ]
    },
    {
     "name": "stdout",
     "output_type": "stream",
     "text": [
      "- Avg.loss: 0.4438 | Avg.acc: 0.8414\n"
     ]
    },
    {
     "name": "stderr",
     "output_type": "stream",
     "text": [
      "\r",
      "  0%|          | 0/449 [00:00<?, ?it/s]"
     ]
    },
    {
     "name": "stdout",
     "output_type": "stream",
     "text": [
      "- Avg. test_loss: 8.2899 | Avg. test_acc: 0.4425\n",
      "Epoch:  14\n"
     ]
    },
    {
     "name": "stderr",
     "output_type": "stream",
     "text": [
      "Loss=1.9396913051605225 Batch_id=448 Accuracy=0.4864864864864865: 100%|██████████| 449/449 [00:39<00:00, 11.43it/s]\n"
     ]
    },
    {
     "name": "stdout",
     "output_type": "stream",
     "text": [
      "- Avg.loss: 0.4383 | Avg.acc: 0.8390\n"
     ]
    },
    {
     "name": "stderr",
     "output_type": "stream",
     "text": [
      "Loss=0.3017536401748657 Batch_id=0 Accuracy=0.890625:   0%|          | 1/449 [00:00<00:50,  8.87it/s]"
     ]
    },
    {
     "name": "stdout",
     "output_type": "stream",
     "text": [
      "- Avg. test_loss: 0.6525 | Avg. test_acc: 0.7704\n",
      "Epoch:  15\n"
     ]
    },
    {
     "name": "stderr",
     "output_type": "stream",
     "text": [
      "Loss=0.32212820649147034 Batch_id=448 Accuracy=0.918918918918919: 100%|██████████| 449/449 [00:38<00:00, 11.52it/s]\n"
     ]
    },
    {
     "name": "stdout",
     "output_type": "stream",
     "text": [
      "- Avg.loss: 0.3640 | Avg.acc: 0.8731\n"
     ]
    },
    {
     "name": "stderr",
     "output_type": "stream",
     "text": [
      "\r",
      "  0%|          | 0/449 [00:00<?, ?it/s]"
     ]
    },
    {
     "name": "stdout",
     "output_type": "stream",
     "text": [
      "- Avg. test_loss: 0.7206 | Avg. test_acc: 0.7786\n",
      "Epoch:  16\n"
     ]
    },
    {
     "name": "stderr",
     "output_type": "stream",
     "text": [
      "Loss=0.4522601366043091 Batch_id=448 Accuracy=0.8378378378378378: 100%|██████████| 449/449 [00:39<00:00, 11.43it/s]\n"
     ]
    },
    {
     "name": "stdout",
     "output_type": "stream",
     "text": [
      "- Avg.loss: 0.3904 | Avg.acc: 0.8696\n",
      "- Avg. test_loss: 0.4698 | Avg. test_acc: 0.8429\n"
     ]
    },
    {
     "name": "stderr",
     "output_type": "stream",
     "text": [
      "Loss=0.5245044827461243 Batch_id=0 Accuracy=0.78125:   0%|          | 1/449 [00:00<01:07,  6.59it/s]"
     ]
    },
    {
     "name": "stdout",
     "output_type": "stream",
     "text": [
      "* Update optimal model\n",
      "Epoch:  17\n"
     ]
    },
    {
     "name": "stderr",
     "output_type": "stream",
     "text": [
      "Loss=0.25832700729370117 Batch_id=448 Accuracy=0.918918918918919: 100%|██████████| 449/449 [00:38<00:00, 11.53it/s]\n"
     ]
    },
    {
     "name": "stdout",
     "output_type": "stream",
     "text": [
      "- Avg.loss: 0.3170 | Avg.acc: 0.8930\n"
     ]
    },
    {
     "name": "stderr",
     "output_type": "stream",
     "text": [
      "Loss=0.34207507967948914 Batch_id=0 Accuracy=0.875:   0%|          | 1/449 [00:00<00:51,  8.77it/s]"
     ]
    },
    {
     "name": "stdout",
     "output_type": "stream",
     "text": [
      "- Avg. test_loss: 0.6596 | Avg. test_acc: 0.7660\n",
      "Epoch:  18\n"
     ]
    },
    {
     "name": "stderr",
     "output_type": "stream",
     "text": [
      "Loss=0.53819340467453 Batch_id=448 Accuracy=0.8918918918918919: 100%|██████████| 449/449 [00:38<00:00, 11.55it/s]\n"
     ]
    },
    {
     "name": "stdout",
     "output_type": "stream",
     "text": [
      "- Avg.loss: 0.2870 | Avg.acc: 0.9039\n"
     ]
    },
    {
     "name": "stderr",
     "output_type": "stream",
     "text": [
      "\r",
      "  0%|          | 0/449 [00:00<?, ?it/s]"
     ]
    },
    {
     "name": "stdout",
     "output_type": "stream",
     "text": [
      "- Avg. test_loss: 0.5204 | Avg. test_acc: 0.8176\n",
      "Epoch:  19\n"
     ]
    },
    {
     "name": "stderr",
     "output_type": "stream",
     "text": [
      "Loss=0.739406168460846 Batch_id=448 Accuracy=0.6216216216216216: 100%|██████████| 449/449 [00:39<00:00, 11.46it/s]\n"
     ]
    },
    {
     "name": "stdout",
     "output_type": "stream",
     "text": [
      "- Avg.loss: 0.3009 | Avg.acc: 0.9021\n"
     ]
    },
    {
     "name": "stderr",
     "output_type": "stream",
     "text": [
      "Loss=0.2382304072380066 Batch_id=0 Accuracy=0.875:   0%|          | 1/449 [00:00<00:51,  8.71it/s]"
     ]
    },
    {
     "name": "stdout",
     "output_type": "stream",
     "text": [
      "- Avg. test_loss: 0.7610 | Avg. test_acc: 0.7403\n",
      "Epoch:  20\n"
     ]
    },
    {
     "name": "stderr",
     "output_type": "stream",
     "text": [
      "Loss=1.5548447370529175 Batch_id=448 Accuracy=0.4864864864864865: 100%|██████████| 449/449 [00:39<00:00, 11.49it/s]\n"
     ]
    },
    {
     "name": "stdout",
     "output_type": "stream",
     "text": [
      "- Avg.loss: 0.2497 | Avg.acc: 0.9233\n",
      "- Avg. test_loss: 0.4895 | Avg. test_acc: 0.8447\n"
     ]
    },
    {
     "name": "stderr",
     "output_type": "stream",
     "text": [
      "Loss=0.05437486991286278 Batch_id=0 Accuracy=0.984375:   0%|          | 1/449 [00:00<00:52,  8.50it/s]"
     ]
    },
    {
     "name": "stdout",
     "output_type": "stream",
     "text": [
      "* Update optimal model\n",
      "Epoch:  21\n"
     ]
    },
    {
     "name": "stderr",
     "output_type": "stream",
     "text": [
      "Loss=0.44871985912323 Batch_id=448 Accuracy=0.918918918918919: 100%|██████████| 449/449 [00:39<00:00, 11.47it/s]\n"
     ]
    },
    {
     "name": "stdout",
     "output_type": "stream",
     "text": [
      "- Avg.loss: 0.2451 | Avg.acc: 0.9235\n"
     ]
    },
    {
     "name": "stderr",
     "output_type": "stream",
     "text": [
      "\r",
      "  0%|          | 0/449 [00:00<?, ?it/s]"
     ]
    },
    {
     "name": "stdout",
     "output_type": "stream",
     "text": [
      "- Avg. test_loss: 1.2380 | Avg. test_acc: 0.7116\n",
      "Epoch:  22\n"
     ]
    },
    {
     "name": "stderr",
     "output_type": "stream",
     "text": [
      "Loss=0.9952898621559143 Batch_id=448 Accuracy=0.5135135135135135: 100%|██████████| 449/449 [00:39<00:00, 11.35it/s]\n"
     ]
    },
    {
     "name": "stdout",
     "output_type": "stream",
     "text": [
      "- Avg.loss: 0.2060 | Avg.acc: 0.9346\n",
      "- Avg. test_loss: 0.3388 | Avg. test_acc: 0.8944\n"
     ]
    },
    {
     "name": "stderr",
     "output_type": "stream",
     "text": [
      "Loss=0.08951937407255173 Batch_id=0 Accuracy=1.0:   0%|          | 1/449 [00:00<01:09,  6.47it/s]"
     ]
    },
    {
     "name": "stdout",
     "output_type": "stream",
     "text": [
      "* Update optimal model\n",
      "Epoch:  23\n"
     ]
    },
    {
     "name": "stderr",
     "output_type": "stream",
     "text": [
      "Loss=0.7762160897254944 Batch_id=448 Accuracy=0.7027027027027027: 100%|██████████| 449/449 [00:38<00:00, 11.54it/s]\n"
     ]
    },
    {
     "name": "stdout",
     "output_type": "stream",
     "text": [
      "- Avg.loss: 0.2308 | Avg.acc: 0.9272\n"
     ]
    },
    {
     "name": "stderr",
     "output_type": "stream",
     "text": [
      "\r",
      "  0%|          | 0/449 [00:00<?, ?it/s]"
     ]
    },
    {
     "name": "stdout",
     "output_type": "stream",
     "text": [
      "- Avg. test_loss: 0.9167 | Avg. test_acc: 0.7251\n",
      "Epoch:  24\n"
     ]
    },
    {
     "name": "stderr",
     "output_type": "stream",
     "text": [
      "Loss=1.4486826658248901 Batch_id=448 Accuracy=0.6486486486486487: 100%|██████████| 449/449 [00:39<00:00, 11.45it/s]\n"
     ]
    },
    {
     "name": "stdout",
     "output_type": "stream",
     "text": [
      "- Avg.loss: 0.1983 | Avg.acc: 0.9401\n"
     ]
    },
    {
     "name": "stderr",
     "output_type": "stream",
     "text": [
      "Loss=0.05264317989349365 Batch_id=0 Accuracy=0.984375:   0%|          | 1/449 [00:00<00:51,  8.68it/s]"
     ]
    },
    {
     "name": "stdout",
     "output_type": "stream",
     "text": [
      "- Avg. test_loss: 0.4278 | Avg. test_acc: 0.8734\n",
      "Epoch:  25\n"
     ]
    },
    {
     "name": "stderr",
     "output_type": "stream",
     "text": [
      "Loss=0.3470117151737213 Batch_id=448 Accuracy=0.8918918918918919: 100%|██████████| 449/449 [00:38<00:00, 11.53it/s]\n"
     ]
    },
    {
     "name": "stdout",
     "output_type": "stream",
     "text": [
      "- Avg.loss: 0.2355 | Avg.acc: 0.9255\n"
     ]
    },
    {
     "name": "stderr",
     "output_type": "stream",
     "text": [
      "Loss=0.16450577974319458 Batch_id=0 Accuracy=0.953125:   0%|          | 1/449 [00:00<00:51,  8.72it/s]"
     ]
    },
    {
     "name": "stdout",
     "output_type": "stream",
     "text": [
      "- Avg. test_loss: 0.4454 | Avg. test_acc: 0.8398\n",
      "Epoch:  26\n"
     ]
    },
    {
     "name": "stderr",
     "output_type": "stream",
     "text": [
      "Loss=0.6268051862716675 Batch_id=448 Accuracy=0.8648648648648649: 100%|██████████| 449/449 [00:38<00:00, 11.55it/s]\n"
     ]
    },
    {
     "name": "stdout",
     "output_type": "stream",
     "text": [
      "- Avg.loss: 0.2129 | Avg.acc: 0.9321\n"
     ]
    },
    {
     "name": "stderr",
     "output_type": "stream",
     "text": [
      "\r",
      "  0%|          | 0/449 [00:00<?, ?it/s]"
     ]
    },
    {
     "name": "stdout",
     "output_type": "stream",
     "text": [
      "- Avg. test_loss: 0.4989 | Avg. test_acc: 0.8465\n",
      "Epoch:  27\n"
     ]
    },
    {
     "name": "stderr",
     "output_type": "stream",
     "text": [
      "Loss=0.7161698937416077 Batch_id=448 Accuracy=0.8918918918918919: 100%|██████████| 449/449 [00:39<00:00, 11.44it/s]\n"
     ]
    },
    {
     "name": "stdout",
     "output_type": "stream",
     "text": [
      "- Avg.loss: 0.1825 | Avg.acc: 0.9425\n",
      "- Avg. test_loss: 0.2551 | Avg. test_acc: 0.9093\n"
     ]
    },
    {
     "name": "stderr",
     "output_type": "stream",
     "text": [
      "Loss=0.023896794766187668 Batch_id=0 Accuracy=0.984375:   0%|          | 1/449 [00:00<01:08,  6.52it/s]"
     ]
    },
    {
     "name": "stdout",
     "output_type": "stream",
     "text": [
      "* Update optimal model\n",
      "Epoch:  28\n"
     ]
    },
    {
     "name": "stderr",
     "output_type": "stream",
     "text": [
      "Loss=0.35157108306884766 Batch_id=448 Accuracy=0.8378378378378378: 100%|██████████| 449/449 [00:39<00:00, 11.51it/s]\n"
     ]
    },
    {
     "name": "stdout",
     "output_type": "stream",
     "text": [
      "- Avg.loss: 0.1915 | Avg.acc: 0.9447\n"
     ]
    },
    {
     "name": "stderr",
     "output_type": "stream",
     "text": [
      "Loss=0.016641946509480476 Batch_id=0 Accuracy=1.0:   0%|          | 1/449 [00:00<00:50,  8.79it/s]"
     ]
    },
    {
     "name": "stdout",
     "output_type": "stream",
     "text": [
      "- Avg. test_loss: 0.4520 | Avg. test_acc: 0.8677\n",
      "Epoch:  29\n"
     ]
    },
    {
     "name": "stderr",
     "output_type": "stream",
     "text": [
      "Loss=0.3774411380290985 Batch_id=448 Accuracy=0.8918918918918919: 100%|██████████| 449/449 [00:38<00:00, 11.52it/s]\n"
     ]
    },
    {
     "name": "stdout",
     "output_type": "stream",
     "text": [
      "- Avg.loss: 0.1693 | Avg.acc: 0.9483\n"
     ]
    },
    {
     "name": "stderr",
     "output_type": "stream",
     "text": [
      "Loss=0.0770561695098877 Batch_id=0 Accuracy=0.984375:   0%|          | 1/449 [00:00<00:50,  8.86it/s]"
     ]
    },
    {
     "name": "stdout",
     "output_type": "stream",
     "text": [
      "- Avg. test_loss: 0.2906 | Avg. test_acc: 0.8975\n",
      "Epoch:  30\n"
     ]
    },
    {
     "name": "stderr",
     "output_type": "stream",
     "text": [
      "Loss=0.35436367988586426 Batch_id=448 Accuracy=0.8918918918918919: 100%|██████████| 449/449 [00:39<00:00, 11.48it/s]\n"
     ]
    },
    {
     "name": "stdout",
     "output_type": "stream",
     "text": [
      "- Avg.loss: 0.1778 | Avg.acc: 0.9467\n"
     ]
    },
    {
     "name": "stderr",
     "output_type": "stream",
     "text": [
      "Loss=0.21731036901474 Batch_id=0 Accuracy=0.890625:   0%|          | 1/449 [00:00<00:51,  8.68it/s]"
     ]
    },
    {
     "name": "stdout",
     "output_type": "stream",
     "text": [
      "- Avg. test_loss: 4.0822 | Avg. test_acc: 0.4916\n",
      "Epoch:  31\n"
     ]
    },
    {
     "name": "stderr",
     "output_type": "stream",
     "text": [
      "Loss=0.06955866515636444 Batch_id=448 Accuracy=1.0: 100%|██████████| 449/449 [00:39<00:00, 11.49it/s]      \n"
     ]
    },
    {
     "name": "stdout",
     "output_type": "stream",
     "text": [
      "- Avg.loss: 0.1703 | Avg.acc: 0.9478\n"
     ]
    },
    {
     "name": "stderr",
     "output_type": "stream",
     "text": [
      "\r",
      "  0%|          | 0/449 [00:00<?, ?it/s]"
     ]
    },
    {
     "name": "stdout",
     "output_type": "stream",
     "text": [
      "- Avg. test_loss: 0.6561 | Avg. test_acc: 0.8419\n",
      "Epoch:  32\n"
     ]
    },
    {
     "name": "stderr",
     "output_type": "stream",
     "text": [
      "Loss=0.8556084632873535 Batch_id=448 Accuracy=0.6756756756756757: 100%|██████████| 449/449 [00:39<00:00, 11.45it/s]\n"
     ]
    },
    {
     "name": "stdout",
     "output_type": "stream",
     "text": [
      "- Avg.loss: 0.1738 | Avg.acc: 0.9486\n"
     ]
    },
    {
     "name": "stderr",
     "output_type": "stream",
     "text": [
      "Loss=0.26557257771492004 Batch_id=0 Accuracy=0.921875:   0%|          | 1/449 [00:00<00:51,  8.78it/s]"
     ]
    },
    {
     "name": "stdout",
     "output_type": "stream",
     "text": [
      "- Avg. test_loss: 0.4534 | Avg. test_acc: 0.8193\n",
      "Epoch:  33\n"
     ]
    },
    {
     "name": "stderr",
     "output_type": "stream",
     "text": [
      "Loss=0.5292595028877258 Batch_id=448 Accuracy=0.8378378378378378: 100%|██████████| 449/449 [00:38<00:00, 11.52it/s]\n"
     ]
    },
    {
     "name": "stdout",
     "output_type": "stream",
     "text": [
      "- Avg.loss: 0.1569 | Avg.acc: 0.9509\n"
     ]
    },
    {
     "name": "stderr",
     "output_type": "stream",
     "text": [
      "Loss=0.07791311293840408 Batch_id=0 Accuracy=0.96875:   0%|          | 1/449 [00:00<00:51,  8.76it/s]"
     ]
    },
    {
     "name": "stdout",
     "output_type": "stream",
     "text": [
      "- Avg. test_loss: 0.4358 | Avg. test_acc: 0.8807\n",
      "Epoch    33: reducing learning rate of group 0 to 1.0000e-04.\n",
      "Epoch:  34\n"
     ]
    },
    {
     "name": "stderr",
     "output_type": "stream",
     "text": [
      "Loss=0.07797276228666306 Batch_id=448 Accuracy=0.972972972972973: 100%|██████████| 449/449 [00:39<00:00, 11.44it/s]\n"
     ]
    },
    {
     "name": "stdout",
     "output_type": "stream",
     "text": [
      "- Avg.loss: 0.1005 | Avg.acc: 0.9691\n"
     ]
    },
    {
     "name": "stderr",
     "output_type": "stream",
     "text": [
      "\r",
      "  0%|          | 0/449 [00:00<?, ?it/s]"
     ]
    },
    {
     "name": "stdout",
     "output_type": "stream",
     "text": [
      "- Avg. test_loss: 0.3158 | Avg. test_acc: 0.9069\n",
      "Epoch:  35\n"
     ]
    },
    {
     "name": "stderr",
     "output_type": "stream",
     "text": [
      "Loss=0.006497981958091259 Batch_id=448 Accuracy=1.0: 100%|██████████| 449/449 [00:39<00:00, 11.42it/s]     \n"
     ]
    },
    {
     "name": "stdout",
     "output_type": "stream",
     "text": [
      "- Avg.loss: 0.0815 | Avg.acc: 0.9749\n",
      "- Avg. test_loss: 0.2995 | Avg. test_acc: 0.9178\n"
     ]
    },
    {
     "name": "stderr",
     "output_type": "stream",
     "text": [
      "Loss=0.10920723527669907 Batch_id=0 Accuracy=0.953125:   0%|          | 1/449 [00:00<01:09,  6.49it/s]"
     ]
    },
    {
     "name": "stdout",
     "output_type": "stream",
     "text": [
      "* Update optimal model\n",
      "Epoch:  36\n"
     ]
    },
    {
     "name": "stderr",
     "output_type": "stream",
     "text": [
      "Loss=0.3619914948940277 Batch_id=448 Accuracy=0.8648648648648649: 100%|██████████| 449/449 [00:39<00:00, 11.48it/s]\n"
     ]
    },
    {
     "name": "stdout",
     "output_type": "stream",
     "text": [
      "- Avg.loss: 0.0767 | Avg.acc: 0.9752\n"
     ]
    },
    {
     "name": "stderr",
     "output_type": "stream",
     "text": [
      "\r",
      "  0%|          | 0/449 [00:00<?, ?it/s]"
     ]
    },
    {
     "name": "stdout",
     "output_type": "stream",
     "text": [
      "- Avg. test_loss: 0.3092 | Avg. test_acc: 0.9126\n",
      "Epoch:  37\n"
     ]
    },
    {
     "name": "stderr",
     "output_type": "stream",
     "text": [
      "Loss=0.0071086883544921875 Batch_id=448 Accuracy=1.0: 100%|██████████| 449/449 [00:39<00:00, 11.40it/s]    \n"
     ]
    },
    {
     "name": "stdout",
     "output_type": "stream",
     "text": [
      "- Avg.loss: 0.0655 | Avg.acc: 0.9788\n"
     ]
    },
    {
     "name": "stderr",
     "output_type": "stream",
     "text": [
      "Loss=0.010775316506624222 Batch_id=0 Accuracy=1.0:   0%|          | 1/449 [00:00<00:50,  8.80it/s]"
     ]
    },
    {
     "name": "stdout",
     "output_type": "stream",
     "text": [
      "- Avg. test_loss: 0.3451 | Avg. test_acc: 0.8908\n",
      "Epoch:  38\n"
     ]
    },
    {
     "name": "stderr",
     "output_type": "stream",
     "text": [
      "Loss=0.1670570969581604 Batch_id=448 Accuracy=0.972972972972973: 100%|██████████| 449/449 [00:38<00:00, 11.53it/s]\n"
     ]
    },
    {
     "name": "stdout",
     "output_type": "stream",
     "text": [
      "- Avg.loss: 0.0588 | Avg.acc: 0.9821\n"
     ]
    },
    {
     "name": "stderr",
     "output_type": "stream",
     "text": [
      "Loss=0.0028967319522053003 Batch_id=0 Accuracy=1.0:   0%|          | 1/449 [00:00<00:50,  8.79it/s]"
     ]
    },
    {
     "name": "stdout",
     "output_type": "stream",
     "text": [
      "- Avg. test_loss: 0.2991 | Avg. test_acc: 0.8968\n",
      "Epoch:  39\n"
     ]
    },
    {
     "name": "stderr",
     "output_type": "stream",
     "text": [
      "Loss=0.6460508108139038 Batch_id=448 Accuracy=0.7297297297297297: 100%|██████████| 449/449 [00:38<00:00, 11.53it/s]\n"
     ]
    },
    {
     "name": "stdout",
     "output_type": "stream",
     "text": [
      "- Avg.loss: 0.0682 | Avg.acc: 0.9780\n",
      "- Avg. test_loss: 0.2928 | Avg. test_acc: 0.9199\n"
     ]
    },
    {
     "name": "stderr",
     "output_type": "stream",
     "text": [
      "\r",
      "  0%|          | 0/449 [00:00<?, ?it/s]"
     ]
    },
    {
     "name": "stdout",
     "output_type": "stream",
     "text": [
      "* Update optimal model\n",
      "Epoch:  40\n"
     ]
    },
    {
     "name": "stderr",
     "output_type": "stream",
     "text": [
      "Loss=0.0036870893090963364 Batch_id=448 Accuracy=1.0: 100%|██████████| 449/449 [00:39<00:00, 11.47it/s]    \n"
     ]
    },
    {
     "name": "stdout",
     "output_type": "stream",
     "text": [
      "- Avg.loss: 0.0646 | Avg.acc: 0.9784\n"
     ]
    },
    {
     "name": "stderr",
     "output_type": "stream",
     "text": [
      "Loss=0.005912124644964933 Batch_id=0 Accuracy=1.0:   0%|          | 1/449 [00:00<00:50,  8.82it/s]"
     ]
    },
    {
     "name": "stdout",
     "output_type": "stream",
     "text": [
      "- Avg. test_loss: 0.2899 | Avg. test_acc: 0.9029\n",
      "Epoch:  41\n"
     ]
    },
    {
     "name": "stderr",
     "output_type": "stream",
     "text": [
      "Loss=0.4311070144176483 Batch_id=448 Accuracy=0.8108108108108109: 100%|██████████| 449/449 [00:38<00:00, 11.57it/s]\n"
     ]
    },
    {
     "name": "stdout",
     "output_type": "stream",
     "text": [
      "- Avg.loss: 0.0714 | Avg.acc: 0.9759\n"
     ]
    },
    {
     "name": "stderr",
     "output_type": "stream",
     "text": [
      "Loss=0.03131125122308731 Batch_id=0 Accuracy=1.0:   0%|          | 1/449 [00:00<00:50,  8.82it/s]"
     ]
    },
    {
     "name": "stdout",
     "output_type": "stream",
     "text": [
      "- Avg. test_loss: 0.3429 | Avg. test_acc: 0.8982\n",
      "Epoch:  42\n"
     ]
    },
    {
     "name": "stderr",
     "output_type": "stream",
     "text": [
      "Loss=0.12928712368011475 Batch_id=448 Accuracy=0.972972972972973: 100%|██████████| 449/449 [00:38<00:00, 11.56it/s]\n"
     ]
    },
    {
     "name": "stdout",
     "output_type": "stream",
     "text": [
      "- Avg.loss: 0.0710 | Avg.acc: 0.9759\n"
     ]
    },
    {
     "name": "stderr",
     "output_type": "stream",
     "text": [
      "Loss=0.05271012336015701 Batch_id=0 Accuracy=1.0:   0%|          | 1/449 [00:00<00:51,  8.72it/s]"
     ]
    },
    {
     "name": "stdout",
     "output_type": "stream",
     "text": [
      "- Avg. test_loss: 0.2832 | Avg. test_acc: 0.8996\n",
      "Epoch:  43\n"
     ]
    },
    {
     "name": "stderr",
     "output_type": "stream",
     "text": [
      "Loss=0.2520104944705963 Batch_id=448 Accuracy=0.9459459459459459: 100%|██████████| 449/449 [00:39<00:00, 11.51it/s]\n"
     ]
    },
    {
     "name": "stdout",
     "output_type": "stream",
     "text": [
      "- Avg.loss: 0.0609 | Avg.acc: 0.9806\n"
     ]
    },
    {
     "name": "stderr",
     "output_type": "stream",
     "text": [
      "Loss=0.005521139595657587 Batch_id=0 Accuracy=1.0:   0%|          | 1/449 [00:00<00:51,  8.73it/s]"
     ]
    },
    {
     "name": "stdout",
     "output_type": "stream",
     "text": [
      "- Avg. test_loss: 0.3305 | Avg. test_acc: 0.9050\n",
      "Epoch:  44\n"
     ]
    },
    {
     "name": "stderr",
     "output_type": "stream",
     "text": [
      "Loss=0.7527603507041931 Batch_id=448 Accuracy=0.5945945945945946: 100%|██████████| 449/449 [00:39<00:00, 11.48it/s]\n"
     ]
    },
    {
     "name": "stdout",
     "output_type": "stream",
     "text": [
      "- Avg.loss: 0.0583 | Avg.acc: 0.9812\n"
     ]
    },
    {
     "name": "stderr",
     "output_type": "stream",
     "text": [
      "\r",
      "  0%|          | 0/449 [00:00<?, ?it/s]"
     ]
    },
    {
     "name": "stdout",
     "output_type": "stream",
     "text": [
      "- Avg. test_loss: 0.3565 | Avg. test_acc: 0.9025\n",
      "Epoch:  45\n"
     ]
    },
    {
     "name": "stderr",
     "output_type": "stream",
     "text": [
      "Loss=0.11376631259918213 Batch_id=448 Accuracy=0.9459459459459459: 100%|██████████| 449/449 [00:39<00:00, 11.42it/s]\n"
     ]
    },
    {
     "name": "stdout",
     "output_type": "stream",
     "text": [
      "- Avg.loss: 0.0587 | Avg.acc: 0.9794\n"
     ]
    },
    {
     "name": "stderr",
     "output_type": "stream",
     "text": [
      "Loss=0.0056410119868814945 Batch_id=0 Accuracy=1.0:   0%|          | 1/449 [00:00<00:50,  8.84it/s]"
     ]
    },
    {
     "name": "stdout",
     "output_type": "stream",
     "text": [
      "- Avg. test_loss: 0.2952 | Avg. test_acc: 0.8951\n",
      "Epoch    45: reducing learning rate of group 0 to 1.0000e-05.\n",
      "Epoch:  46\n"
     ]
    },
    {
     "name": "stderr",
     "output_type": "stream",
     "text": [
      "Loss=0.4677848219871521 Batch_id=448 Accuracy=0.8378378378378378: 100%|██████████| 449/449 [00:38<00:00, 11.54it/s]\n"
     ]
    },
    {
     "name": "stdout",
     "output_type": "stream",
     "text": [
      "- Avg.loss: 0.0521 | Avg.acc: 0.9836\n"
     ]
    },
    {
     "name": "stderr",
     "output_type": "stream",
     "text": [
      "Loss=0.16278159618377686 Batch_id=0 Accuracy=0.890625:   0%|          | 1/449 [00:00<00:50,  8.81it/s]"
     ]
    },
    {
     "name": "stdout",
     "output_type": "stream",
     "text": [
      "- Avg. test_loss: 0.3270 | Avg. test_acc: 0.8987\n",
      "Epoch:  47\n"
     ]
    },
    {
     "name": "stderr",
     "output_type": "stream",
     "text": [
      "Loss=0.046324048191308975 Batch_id=448 Accuracy=1.0: 100%|██████████| 449/449 [00:39<00:00, 11.51it/s]     \n"
     ]
    },
    {
     "name": "stdout",
     "output_type": "stream",
     "text": [
      "- Avg.loss: 0.0512 | Avg.acc: 0.9830\n",
      "- Avg. test_loss: 0.2165 | Avg. test_acc: 0.9202\n"
     ]
    },
    {
     "name": "stderr",
     "output_type": "stream",
     "text": [
      "\r",
      "  0%|          | 0/449 [00:00<?, ?it/s]"
     ]
    },
    {
     "name": "stdout",
     "output_type": "stream",
     "text": [
      "* Update optimal model\n",
      "Epoch:  48\n"
     ]
    },
    {
     "name": "stderr",
     "output_type": "stream",
     "text": [
      "Loss=0.10105442255735397 Batch_id=448 Accuracy=0.918918918918919: 100%|██████████| 449/449 [00:39<00:00, 11.39it/s]\n"
     ]
    },
    {
     "name": "stdout",
     "output_type": "stream",
     "text": [
      "- Avg.loss: 0.0458 | Avg.acc: 0.9848\n"
     ]
    },
    {
     "name": "stderr",
     "output_type": "stream",
     "text": [
      "Loss=0.003191237337887287 Batch_id=0 Accuracy=1.0:   0%|          | 1/449 [00:00<00:51,  8.75it/s]"
     ]
    },
    {
     "name": "stdout",
     "output_type": "stream",
     "text": [
      "- Avg. test_loss: 0.3252 | Avg. test_acc: 0.9037\n",
      "Epoch:  49\n"
     ]
    },
    {
     "name": "stderr",
     "output_type": "stream",
     "text": [
      "Loss=0.10307157039642334 Batch_id=448 Accuracy=0.972972972972973: 100%|██████████| 449/449 [00:38<00:00, 11.53it/s]\n"
     ]
    },
    {
     "name": "stdout",
     "output_type": "stream",
     "text": [
      "- Avg.loss: 0.0508 | Avg.acc: 0.9832\n"
     ]
    },
    {
     "name": "stderr",
     "output_type": "stream",
     "text": [
      "\r",
      "  0%|          | 0/449 [00:00<?, ?it/s]"
     ]
    },
    {
     "name": "stdout",
     "output_type": "stream",
     "text": [
      "- Avg. test_loss: 0.3314 | Avg. test_acc: 0.8902\n",
      "Epoch:  50\n"
     ]
    },
    {
     "name": "stderr",
     "output_type": "stream",
     "text": [
      "Loss=0.009382076561450958 Batch_id=448 Accuracy=1.0: 100%|██████████| 449/449 [00:39<00:00, 11.43it/s]     \n"
     ]
    },
    {
     "name": "stdout",
     "output_type": "stream",
     "text": [
      "- Avg.loss: 0.0437 | Avg.acc: 0.9852\n",
      "- Avg. test_loss: 0.2958 | Avg. test_acc: 0.9090\n",
      "Optimal result: test_loss: 0.2165 | test_acc: 0.9202\n",
      " - Finished Training of fold  2  - \n",
      "Fold  3  /  5  ********************* \n"
     ]
    },
    {
     "name": "stderr",
     "output_type": "stream",
     "text": [
      "Loss=1.9279733896255493 Batch_id=0 Accuracy=0.203125:   0%|          | 1/449 [00:00<00:50,  8.94it/s]"
     ]
    },
    {
     "name": "stdout",
     "output_type": "stream",
     "text": [
      "Epoch:  1\n"
     ]
    },
    {
     "name": "stderr",
     "output_type": "stream",
     "text": [
      "Loss=0.8514169454574585 Batch_id=448 Accuracy=0.631578947368421: 100%|██████████| 449/449 [00:38<00:00, 11.54it/s]\n"
     ]
    },
    {
     "name": "stdout",
     "output_type": "stream",
     "text": [
      "- Avg.loss: 1.3321 | Avg.acc: 0.4476\n"
     ]
    },
    {
     "name": "stderr",
     "output_type": "stream",
     "text": [
      "Loss=0.8482736945152283 Batch_id=0 Accuracy=0.625:   0%|          | 1/449 [00:00<00:50,  8.79it/s]"
     ]
    },
    {
     "name": "stdout",
     "output_type": "stream",
     "text": [
      "- Avg. test_loss: 1.1296 | Avg. test_acc: 0.5176\n",
      "* Update optimal model\n",
      "Epoch:  2\n"
     ]
    },
    {
     "name": "stderr",
     "output_type": "stream",
     "text": [
      "Loss=2.8241629600524902 Batch_id=448 Accuracy=0.15789473684210525: 100%|██████████| 449/449 [00:38<00:00, 11.52it/s]\n"
     ]
    },
    {
     "name": "stdout",
     "output_type": "stream",
     "text": [
      "- Avg.loss: 0.9653 | Avg.acc: 0.5791\n",
      "- Avg. test_loss: 1.1215 | Avg. test_acc: 0.5487\n"
     ]
    },
    {
     "name": "stderr",
     "output_type": "stream",
     "text": [
      "\r",
      "  0%|          | 0/449 [00:00<?, ?it/s]"
     ]
    },
    {
     "name": "stdout",
     "output_type": "stream",
     "text": [
      "* Update optimal model\n",
      "Epoch:  3\n"
     ]
    },
    {
     "name": "stderr",
     "output_type": "stream",
     "text": [
      "Loss=1.6669842004776 Batch_id=448 Accuracy=0.13157894736842105: 100%|██████████| 449/449 [00:39<00:00, 11.42it/s]\n"
     ]
    },
    {
     "name": "stdout",
     "output_type": "stream",
     "text": [
      "- Avg.loss: 0.8683 | Avg.acc: 0.6288\n",
      "- Avg. test_loss: 0.8332 | Avg. test_acc: 0.6174\n"
     ]
    },
    {
     "name": "stderr",
     "output_type": "stream",
     "text": [
      "Loss=0.6382387280464172 Batch_id=0 Accuracy=0.640625:   0%|          | 1/449 [00:00<00:52,  8.53it/s]"
     ]
    },
    {
     "name": "stdout",
     "output_type": "stream",
     "text": [
      "* Update optimal model\n",
      "Epoch:  4\n"
     ]
    },
    {
     "name": "stderr",
     "output_type": "stream",
     "text": [
      "Loss=0.8057974576950073 Batch_id=448 Accuracy=0.6052631578947368: 100%|██████████| 449/449 [00:38<00:00, 11.53it/s]\n"
     ]
    },
    {
     "name": "stdout",
     "output_type": "stream",
     "text": [
      "- Avg.loss: 0.7996 | Avg.acc: 0.6550\n"
     ]
    },
    {
     "name": "stderr",
     "output_type": "stream",
     "text": [
      "Loss=3.6454570293426514 Batch_id=0 Accuracy=0.46875:   0%|          | 1/449 [00:00<00:51,  8.76it/s]"
     ]
    },
    {
     "name": "stdout",
     "output_type": "stream",
     "text": [
      "- Avg. test_loss: 0.9320 | Avg. test_acc: 0.6065\n",
      "Epoch:  5\n"
     ]
    },
    {
     "name": "stderr",
     "output_type": "stream",
     "text": [
      "Loss=0.590202271938324 Batch_id=448 Accuracy=0.7105263157894737: 100%|██████████| 449/449 [00:38<00:00, 11.53it/s]\n"
     ]
    },
    {
     "name": "stdout",
     "output_type": "stream",
     "text": [
      "- Avg.loss: 0.6467 | Avg.acc: 0.7470\n"
     ]
    },
    {
     "name": "stderr",
     "output_type": "stream",
     "text": [
      "\r",
      "  0%|          | 0/449 [00:00<?, ?it/s]"
     ]
    },
    {
     "name": "stdout",
     "output_type": "stream",
     "text": [
      "- Avg. test_loss: 1.5902 | Avg. test_acc: 0.5976\n",
      "Epoch:  6\n"
     ]
    },
    {
     "name": "stderr",
     "output_type": "stream",
     "text": [
      "Loss=0.44655463099479675 Batch_id=448 Accuracy=0.7894736842105263: 100%|██████████| 449/449 [00:39<00:00, 11.41it/s]\n"
     ]
    },
    {
     "name": "stdout",
     "output_type": "stream",
     "text": [
      "- Avg.loss: 0.5641 | Avg.acc: 0.7838\n",
      "- Avg. test_loss: 0.6223 | Avg. test_acc: 0.7528\n"
     ]
    },
    {
     "name": "stderr",
     "output_type": "stream",
     "text": [
      "Loss=0.7336375713348389 Batch_id=0 Accuracy=0.875:   0%|          | 1/449 [00:00<01:10,  6.38it/s]"
     ]
    },
    {
     "name": "stdout",
     "output_type": "stream",
     "text": [
      "* Update optimal model\n",
      "Epoch:  7\n"
     ]
    },
    {
     "name": "stderr",
     "output_type": "stream",
     "text": [
      "Loss=0.3449840843677521 Batch_id=448 Accuracy=0.8947368421052632: 100%|██████████| 449/449 [00:39<00:00, 11.49it/s]\n"
     ]
    },
    {
     "name": "stdout",
     "output_type": "stream",
     "text": [
      "- Avg.loss: 0.5426 | Avg.acc: 0.7892\n"
     ]
    },
    {
     "name": "stderr",
     "output_type": "stream",
     "text": [
      "\r",
      "  0%|          | 0/449 [00:00<?, ?it/s]"
     ]
    },
    {
     "name": "stdout",
     "output_type": "stream",
     "text": [
      "- Avg. test_loss: 2.1711 | Avg. test_acc: 0.5260\n",
      "Epoch:  8\n"
     ]
    },
    {
     "name": "stderr",
     "output_type": "stream",
     "text": [
      "Loss=0.7531054019927979 Batch_id=448 Accuracy=0.631578947368421: 100%|██████████| 449/449 [00:39<00:00, 11.44it/s]\n"
     ]
    },
    {
     "name": "stdout",
     "output_type": "stream",
     "text": [
      "- Avg.loss: 0.5418 | Avg.acc: 0.8024\n"
     ]
    },
    {
     "name": "stderr",
     "output_type": "stream",
     "text": [
      "Loss=0.41873565316200256 Batch_id=0 Accuracy=0.921875:   0%|          | 1/449 [00:00<00:50,  8.82it/s]"
     ]
    },
    {
     "name": "stdout",
     "output_type": "stream",
     "text": [
      "- Avg. test_loss: 1.4531 | Avg. test_acc: 0.5479\n",
      "Epoch:  9\n"
     ]
    },
    {
     "name": "stderr",
     "output_type": "stream",
     "text": [
      "Loss=0.48401471972465515 Batch_id=448 Accuracy=0.7894736842105263: 100%|██████████| 449/449 [00:38<00:00, 11.53it/s]\n"
     ]
    },
    {
     "name": "stdout",
     "output_type": "stream",
     "text": [
      "- Avg.loss: 0.4553 | Avg.acc: 0.8346\n",
      "- Avg. test_loss: 0.6329 | Avg. test_acc: 0.7610\n"
     ]
    },
    {
     "name": "stderr",
     "output_type": "stream",
     "text": [
      "Loss=0.2269863337278366 Batch_id=0 Accuracy=0.953125:   0%|          | 1/449 [00:00<01:10,  6.37it/s]"
     ]
    },
    {
     "name": "stdout",
     "output_type": "stream",
     "text": [
      "* Update optimal model\n",
      "Epoch:  10\n"
     ]
    },
    {
     "name": "stderr",
     "output_type": "stream",
     "text": [
      "Loss=0.12018001824617386 Batch_id=448 Accuracy=0.9736842105263158: 100%|██████████| 449/449 [00:39<00:00, 11.49it/s]\n"
     ]
    },
    {
     "name": "stdout",
     "output_type": "stream",
     "text": [
      "- Avg.loss: 0.4289 | Avg.acc: 0.8487\n"
     ]
    },
    {
     "name": "stderr",
     "output_type": "stream",
     "text": [
      "\r",
      "  0%|          | 0/449 [00:00<?, ?it/s]"
     ]
    },
    {
     "name": "stdout",
     "output_type": "stream",
     "text": [
      "- Avg. test_loss: 0.7602 | Avg. test_acc: 0.7382\n",
      "Epoch:  11\n"
     ]
    },
    {
     "name": "stderr",
     "output_type": "stream",
     "text": [
      "Loss=0.1990685909986496 Batch_id=448 Accuracy=0.9210526315789473: 100%|██████████| 449/449 [00:39<00:00, 11.39it/s]\n"
     ]
    },
    {
     "name": "stdout",
     "output_type": "stream",
     "text": [
      "- Avg.loss: 0.3471 | Avg.acc: 0.8813\n",
      "- Avg. test_loss: 0.5555 | Avg. test_acc: 0.8179\n"
     ]
    },
    {
     "name": "stderr",
     "output_type": "stream",
     "text": [
      "Loss=0.47953447699546814 Batch_id=0 Accuracy=0.796875:   0%|          | 1/449 [00:00<01:09,  6.43it/s]"
     ]
    },
    {
     "name": "stdout",
     "output_type": "stream",
     "text": [
      "* Update optimal model\n",
      "Epoch:  12\n"
     ]
    },
    {
     "name": "stderr",
     "output_type": "stream",
     "text": [
      "Loss=0.19482775032520294 Batch_id=448 Accuracy=0.9210526315789473: 100%|██████████| 449/449 [00:39<00:00, 11.46it/s]\n"
     ]
    },
    {
     "name": "stdout",
     "output_type": "stream",
     "text": [
      "- Avg.loss: 0.3248 | Avg.acc: 0.8978\n",
      "- Avg. test_loss: 0.4870 | Avg. test_acc: 0.8442\n"
     ]
    },
    {
     "name": "stderr",
     "output_type": "stream",
     "text": [
      "Loss=0.15742960572242737 Batch_id=0 Accuracy=0.984375:   0%|          | 1/449 [00:00<01:10,  6.40it/s]"
     ]
    },
    {
     "name": "stdout",
     "output_type": "stream",
     "text": [
      "* Update optimal model\n",
      "Epoch:  13\n"
     ]
    },
    {
     "name": "stderr",
     "output_type": "stream",
     "text": [
      "Loss=1.5570156574249268 Batch_id=448 Accuracy=0.7105263157894737: 100%|██████████| 449/449 [00:39<00:00, 11.47it/s]\n"
     ]
    },
    {
     "name": "stdout",
     "output_type": "stream",
     "text": [
      "- Avg.loss: 0.2615 | Avg.acc: 0.9181\n"
     ]
    },
    {
     "name": "stderr",
     "output_type": "stream",
     "text": [
      "\r",
      "  0%|          | 0/449 [00:00<?, ?it/s]"
     ]
    },
    {
     "name": "stdout",
     "output_type": "stream",
     "text": [
      "- Avg. test_loss: 1.0506 | Avg. test_acc: 0.7435\n",
      "Epoch:  14\n"
     ]
    },
    {
     "name": "stderr",
     "output_type": "stream",
     "text": [
      "Loss=0.15864600241184235 Batch_id=448 Accuracy=0.9736842105263158: 100%|██████████| 449/449 [00:39<00:00, 11.42it/s]\n"
     ]
    },
    {
     "name": "stdout",
     "output_type": "stream",
     "text": [
      "- Avg.loss: 0.2517 | Avg.acc: 0.9191\n"
     ]
    },
    {
     "name": "stderr",
     "output_type": "stream",
     "text": [
      "Loss=0.09580014646053314 Batch_id=0 Accuracy=0.984375:   0%|          | 1/449 [00:00<00:51,  8.78it/s]"
     ]
    },
    {
     "name": "stdout",
     "output_type": "stream",
     "text": [
      "- Avg. test_loss: 0.6794 | Avg. test_acc: 0.8138\n",
      "Epoch:  15\n"
     ]
    },
    {
     "name": "stderr",
     "output_type": "stream",
     "text": [
      "Loss=0.2868410050868988 Batch_id=448 Accuracy=0.9473684210526315: 100%|██████████| 449/449 [00:38<00:00, 11.52it/s]\n"
     ]
    },
    {
     "name": "stdout",
     "output_type": "stream",
     "text": [
      "- Avg.loss: 0.2867 | Avg.acc: 0.9092\n"
     ]
    },
    {
     "name": "stderr",
     "output_type": "stream",
     "text": [
      "\r",
      "  0%|          | 0/449 [00:00<?, ?it/s]"
     ]
    },
    {
     "name": "stdout",
     "output_type": "stream",
     "text": [
      "- Avg. test_loss: 1.4392 | Avg. test_acc: 0.6439\n",
      "Epoch:  16\n"
     ]
    },
    {
     "name": "stderr",
     "output_type": "stream",
     "text": [
      "Loss=0.13358601927757263 Batch_id=448 Accuracy=1.0: 100%|██████████| 449/449 [00:39<00:00, 11.44it/s]      \n"
     ]
    },
    {
     "name": "stdout",
     "output_type": "stream",
     "text": [
      "- Avg.loss: 0.2533 | Avg.acc: 0.9213\n"
     ]
    },
    {
     "name": "stderr",
     "output_type": "stream",
     "text": [
      "Loss=0.15648461878299713 Batch_id=0 Accuracy=0.984375:   0%|          | 1/449 [00:00<00:51,  8.75it/s]"
     ]
    },
    {
     "name": "stdout",
     "output_type": "stream",
     "text": [
      "- Avg. test_loss: 0.5726 | Avg. test_acc: 0.7847\n",
      "Epoch:  17\n"
     ]
    },
    {
     "name": "stderr",
     "output_type": "stream",
     "text": [
      "Loss=0.05693623423576355 Batch_id=448 Accuracy=1.0: 100%|██████████| 449/449 [00:39<00:00, 11.47it/s]      \n"
     ]
    },
    {
     "name": "stdout",
     "output_type": "stream",
     "text": [
      "- Avg.loss: 0.2145 | Avg.acc: 0.9325\n"
     ]
    },
    {
     "name": "stderr",
     "output_type": "stream",
     "text": [
      "Loss=1.0433461666107178 Batch_id=0 Accuracy=0.65625:   0%|          | 1/449 [00:00<00:50,  8.86it/s]"
     ]
    },
    {
     "name": "stdout",
     "output_type": "stream",
     "text": [
      "- Avg. test_loss: 1.3946 | Avg. test_acc: 0.6273\n",
      "Epoch:  18\n"
     ]
    },
    {
     "name": "stderr",
     "output_type": "stream",
     "text": [
      "Loss=0.09953495860099792 Batch_id=448 Accuracy=0.9736842105263158: 100%|██████████| 449/449 [00:39<00:00, 11.47it/s]\n"
     ]
    },
    {
     "name": "stdout",
     "output_type": "stream",
     "text": [
      "- Avg.loss: 0.2034 | Avg.acc: 0.9372\n"
     ]
    },
    {
     "name": "stderr",
     "output_type": "stream",
     "text": [
      "\r",
      "  0%|          | 0/449 [00:00<?, ?it/s]"
     ]
    },
    {
     "name": "stdout",
     "output_type": "stream",
     "text": [
      "- Avg. test_loss: 1.1064 | Avg. test_acc: 0.7353\n",
      "Epoch    18: reducing learning rate of group 0 to 1.0000e-04.\n",
      "Epoch:  19\n"
     ]
    },
    {
     "name": "stderr",
     "output_type": "stream",
     "text": [
      "Loss=2.133416175842285 Batch_id=448 Accuracy=0.7368421052631579: 100%|██████████| 449/449 [00:39<00:00, 11.36it/s]\n"
     ]
    },
    {
     "name": "stdout",
     "output_type": "stream",
     "text": [
      "- Avg.loss: 0.1445 | Avg.acc: 0.9541\n",
      "- Avg. test_loss: 0.4999 | Avg. test_acc: 0.8628\n"
     ]
    },
    {
     "name": "stderr",
     "output_type": "stream",
     "text": [
      "Loss=0.8722628355026245 Batch_id=0 Accuracy=0.6875:   0%|          | 1/449 [00:00<01:08,  6.51it/s]"
     ]
    },
    {
     "name": "stdout",
     "output_type": "stream",
     "text": [
      "* Update optimal model\n",
      "Epoch:  20\n"
     ]
    },
    {
     "name": "stderr",
     "output_type": "stream",
     "text": [
      "Loss=0.054143521934747696 Batch_id=448 Accuracy=0.9736842105263158: 100%|██████████| 449/449 [00:39<00:00, 11.47it/s]\n"
     ]
    },
    {
     "name": "stdout",
     "output_type": "stream",
     "text": [
      "- Avg.loss: 0.1125 | Avg.acc: 0.9643\n",
      "- Avg. test_loss: 0.2845 | Avg. test_acc: 0.9079\n"
     ]
    },
    {
     "name": "stderr",
     "output_type": "stream",
     "text": [
      "Loss=0.004405001178383827 Batch_id=0 Accuracy=1.0:   0%|          | 1/449 [00:00<01:08,  6.50it/s]"
     ]
    },
    {
     "name": "stdout",
     "output_type": "stream",
     "text": [
      "* Update optimal model\n",
      "Epoch:  21\n"
     ]
    },
    {
     "name": "stderr",
     "output_type": "stream",
     "text": [
      "Loss=0.020102914422750473 Batch_id=448 Accuracy=1.0: 100%|██████████| 449/449 [00:39<00:00, 11.48it/s]     \n"
     ]
    },
    {
     "name": "stdout",
     "output_type": "stream",
     "text": [
      "- Avg.loss: 0.0796 | Avg.acc: 0.9757\n",
      "- Avg. test_loss: 0.2806 | Avg. test_acc: 0.9135\n"
     ]
    },
    {
     "name": "stderr",
     "output_type": "stream",
     "text": [
      "Loss=0.06487839668989182 Batch_id=0 Accuracy=1.0:   0%|          | 1/449 [00:00<01:08,  6.52it/s]"
     ]
    },
    {
     "name": "stdout",
     "output_type": "stream",
     "text": [
      "* Update optimal model\n",
      "Epoch:  22\n"
     ]
    },
    {
     "name": "stderr",
     "output_type": "stream",
     "text": [
      "Loss=0.7211451530456543 Batch_id=448 Accuracy=0.7368421052631579: 100%|██████████| 449/449 [00:38<00:00, 11.51it/s]\n"
     ]
    },
    {
     "name": "stdout",
     "output_type": "stream",
     "text": [
      "- Avg.loss: 0.0787 | Avg.acc: 0.9757\n",
      "- Avg. test_loss: 0.3080 | Avg. test_acc: 0.9144\n"
     ]
    },
    {
     "name": "stderr",
     "output_type": "stream",
     "text": [
      "Loss=0.002895342418923974 Batch_id=0 Accuracy=1.0:   0%|          | 1/449 [00:00<01:08,  6.51it/s]"
     ]
    },
    {
     "name": "stdout",
     "output_type": "stream",
     "text": [
      "* Update optimal model\n",
      "Epoch:  23\n"
     ]
    },
    {
     "name": "stderr",
     "output_type": "stream",
     "text": [
      "Loss=0.22607946395874023 Batch_id=448 Accuracy=0.8947368421052632: 100%|██████████| 449/449 [00:39<00:00, 11.46it/s]\n"
     ]
    },
    {
     "name": "stdout",
     "output_type": "stream",
     "text": [
      "- Avg.loss: 0.0809 | Avg.acc: 0.9757\n"
     ]
    },
    {
     "name": "stderr",
     "output_type": "stream",
     "text": [
      "\r",
      "  0%|          | 0/449 [00:00<?, ?it/s]"
     ]
    },
    {
     "name": "stdout",
     "output_type": "stream",
     "text": [
      "- Avg. test_loss: 0.4416 | Avg. test_acc: 0.8693\n",
      "Epoch:  24\n"
     ]
    },
    {
     "name": "stderr",
     "output_type": "stream",
     "text": [
      "Loss=0.39276644587516785 Batch_id=448 Accuracy=0.8947368421052632: 100%|██████████| 449/449 [00:39<00:00, 11.41it/s]\n"
     ]
    },
    {
     "name": "stdout",
     "output_type": "stream",
     "text": [
      "- Avg.loss: 0.0779 | Avg.acc: 0.9761\n"
     ]
    },
    {
     "name": "stderr",
     "output_type": "stream",
     "text": [
      "Loss=0.004940242972224951 Batch_id=0 Accuracy=1.0:   0%|          | 1/449 [00:00<00:51,  8.64it/s]"
     ]
    },
    {
     "name": "stdout",
     "output_type": "stream",
     "text": [
      "- Avg. test_loss: 0.3296 | Avg. test_acc: 0.8902\n",
      "Epoch:  25\n"
     ]
    },
    {
     "name": "stderr",
     "output_type": "stream",
     "text": [
      "Loss=0.26916107535362244 Batch_id=448 Accuracy=0.868421052631579: 100%|██████████| 449/449 [00:39<00:00, 11.48it/s]\n"
     ]
    },
    {
     "name": "stdout",
     "output_type": "stream",
     "text": [
      "- Avg.loss: 0.0677 | Avg.acc: 0.9769\n"
     ]
    },
    {
     "name": "stderr",
     "output_type": "stream",
     "text": [
      "Loss=0.026373181492090225 Batch_id=0 Accuracy=0.984375:   0%|          | 1/449 [00:00<00:52,  8.60it/s]"
     ]
    },
    {
     "name": "stdout",
     "output_type": "stream",
     "text": [
      "- Avg. test_loss: 0.2944 | Avg. test_acc: 0.9136\n",
      "Epoch:  26\n"
     ]
    },
    {
     "name": "stderr",
     "output_type": "stream",
     "text": [
      "Loss=0.050699666142463684 Batch_id=448 Accuracy=1.0: 100%|██████████| 449/449 [00:38<00:00, 11.52it/s]     \n"
     ]
    },
    {
     "name": "stdout",
     "output_type": "stream",
     "text": [
      "- Avg.loss: 0.0783 | Avg.acc: 0.9744\n"
     ]
    },
    {
     "name": "stderr",
     "output_type": "stream",
     "text": [
      "\r",
      "  0%|          | 0/449 [00:00<?, ?it/s]"
     ]
    },
    {
     "name": "stdout",
     "output_type": "stream",
     "text": [
      "- Avg. test_loss: 0.2610 | Avg. test_acc: 0.9108\n",
      "Epoch:  27\n"
     ]
    },
    {
     "name": "stderr",
     "output_type": "stream",
     "text": [
      "Loss=0.6550506353378296 Batch_id=448 Accuracy=0.7368421052631579: 100%|██████████| 449/449 [00:39<00:00, 11.40it/s]\n"
     ]
    },
    {
     "name": "stdout",
     "output_type": "stream",
     "text": [
      "- Avg.loss: 0.0556 | Avg.acc: 0.9825\n"
     ]
    },
    {
     "name": "stderr",
     "output_type": "stream",
     "text": [
      "Loss=0.1508484035730362 Batch_id=0 Accuracy=0.953125:   0%|          | 1/449 [00:00<00:51,  8.72it/s]"
     ]
    },
    {
     "name": "stdout",
     "output_type": "stream",
     "text": [
      "- Avg. test_loss: 0.2999 | Avg. test_acc: 0.9108\n",
      "Epoch:  28\n"
     ]
    },
    {
     "name": "stderr",
     "output_type": "stream",
     "text": [
      "Loss=0.043281134217977524 Batch_id=448 Accuracy=1.0: 100%|██████████| 449/449 [00:39<00:00, 11.45it/s]     \n"
     ]
    },
    {
     "name": "stdout",
     "output_type": "stream",
     "text": [
      "- Avg.loss: 0.0708 | Avg.acc: 0.9772\n",
      "- Avg. test_loss: 0.2876 | Avg. test_acc: 0.9232\n"
     ]
    },
    {
     "name": "stderr",
     "output_type": "stream",
     "text": [
      "\r",
      "  0%|          | 0/449 [00:00<?, ?it/s]"
     ]
    },
    {
     "name": "stdout",
     "output_type": "stream",
     "text": [
      "* Update optimal model\n",
      "Epoch:  29\n"
     ]
    },
    {
     "name": "stderr",
     "output_type": "stream",
     "text": [
      "Loss=0.7291671633720398 Batch_id=448 Accuracy=0.8157894736842105: 100%|██████████| 449/449 [00:39<00:00, 11.44it/s]\n"
     ]
    },
    {
     "name": "stdout",
     "output_type": "stream",
     "text": [
      "- Avg.loss: 0.0600 | Avg.acc: 0.9817\n"
     ]
    },
    {
     "name": "stderr",
     "output_type": "stream",
     "text": [
      "Loss=0.5788686275482178 Batch_id=0 Accuracy=0.828125:   0%|          | 1/449 [00:00<00:50,  8.83it/s]"
     ]
    },
    {
     "name": "stdout",
     "output_type": "stream",
     "text": [
      "- Avg. test_loss: 0.2903 | Avg. test_acc: 0.9099\n",
      "Epoch:  30\n"
     ]
    },
    {
     "name": "stderr",
     "output_type": "stream",
     "text": [
      "Loss=0.6526706218719482 Batch_id=448 Accuracy=0.7368421052631579: 100%|██████████| 449/449 [00:39<00:00, 11.46it/s]\n"
     ]
    },
    {
     "name": "stdout",
     "output_type": "stream",
     "text": [
      "- Avg.loss: 0.0707 | Avg.acc: 0.9792\n"
     ]
    },
    {
     "name": "stderr",
     "output_type": "stream",
     "text": [
      "Loss=0.029427846893668175 Batch_id=0 Accuracy=1.0:   0%|          | 1/449 [00:00<00:50,  8.83it/s]"
     ]
    },
    {
     "name": "stdout",
     "output_type": "stream",
     "text": [
      "- Avg. test_loss: 0.3692 | Avg. test_acc: 0.8926\n",
      "Epoch:  31\n"
     ]
    },
    {
     "name": "stderr",
     "output_type": "stream",
     "text": [
      "Loss=0.004145320970565081 Batch_id=448 Accuracy=1.0: 100%|██████████| 449/449 [00:39<00:00, 11.50it/s]     \n"
     ]
    },
    {
     "name": "stdout",
     "output_type": "stream",
     "text": [
      "- Avg.loss: 0.0648 | Avg.acc: 0.9809\n",
      "- Avg. test_loss: 0.2765 | Avg. test_acc: 0.9241\n"
     ]
    },
    {
     "name": "stderr",
     "output_type": "stream",
     "text": [
      "\r",
      "  0%|          | 0/449 [00:00<?, ?it/s]"
     ]
    },
    {
     "name": "stdout",
     "output_type": "stream",
     "text": [
      "* Update optimal model\n",
      "Epoch:  32\n"
     ]
    },
    {
     "name": "stderr",
     "output_type": "stream",
     "text": [
      "Loss=0.017513422295451164 Batch_id=448 Accuracy=1.0: 100%|██████████| 449/449 [00:39<00:00, 11.39it/s]     \n"
     ]
    },
    {
     "name": "stdout",
     "output_type": "stream",
     "text": [
      "- Avg.loss: 0.0564 | Avg.acc: 0.9827\n"
     ]
    },
    {
     "name": "stderr",
     "output_type": "stream",
     "text": [
      "Loss=0.006682279985398054 Batch_id=0 Accuracy=1.0:   0%|          | 1/449 [00:00<00:51,  8.66it/s]"
     ]
    },
    {
     "name": "stdout",
     "output_type": "stream",
     "text": [
      "- Avg. test_loss: 0.3863 | Avg. test_acc: 0.9150\n",
      "Epoch:  33\n"
     ]
    },
    {
     "name": "stderr",
     "output_type": "stream",
     "text": [
      "Loss=0.2954237759113312 Batch_id=448 Accuracy=0.8157894736842105: 100%|██████████| 449/449 [00:39<00:00, 11.49it/s]\n"
     ]
    },
    {
     "name": "stdout",
     "output_type": "stream",
     "text": [
      "- Avg.loss: 0.0616 | Avg.acc: 0.9829\n"
     ]
    },
    {
     "name": "stderr",
     "output_type": "stream",
     "text": [
      "Loss=0.00330716441385448 Batch_id=0 Accuracy=1.0:   0%|          | 1/449 [00:00<00:50,  8.80it/s]"
     ]
    },
    {
     "name": "stdout",
     "output_type": "stream",
     "text": [
      "- Avg. test_loss: 0.2704 | Avg. test_acc: 0.9167\n",
      "Epoch:  34\n"
     ]
    },
    {
     "name": "stderr",
     "output_type": "stream",
     "text": [
      "Loss=0.010868620127439499 Batch_id=448 Accuracy=1.0: 100%|██████████| 449/449 [00:39<00:00, 11.51it/s]     \n"
     ]
    },
    {
     "name": "stdout",
     "output_type": "stream",
     "text": [
      "- Avg.loss: 0.0677 | Avg.acc: 0.9789\n"
     ]
    },
    {
     "name": "stderr",
     "output_type": "stream",
     "text": [
      "\r",
      "  0%|          | 0/449 [00:00<?, ?it/s]"
     ]
    },
    {
     "name": "stdout",
     "output_type": "stream",
     "text": [
      "- Avg. test_loss: 0.2669 | Avg. test_acc: 0.9193\n",
      "Epoch:  35\n"
     ]
    },
    {
     "name": "stderr",
     "output_type": "stream",
     "text": [
      "Loss=0.21855856478214264 Batch_id=448 Accuracy=0.868421052631579: 100%|██████████| 449/449 [00:39<00:00, 11.40it/s]\n"
     ]
    },
    {
     "name": "stdout",
     "output_type": "stream",
     "text": [
      "- Avg.loss: 0.0549 | Avg.acc: 0.9836\n"
     ]
    },
    {
     "name": "stderr",
     "output_type": "stream",
     "text": [
      "Loss=0.002347191795706749 Batch_id=0 Accuracy=1.0:   0%|          | 1/449 [00:00<00:51,  8.70it/s]"
     ]
    },
    {
     "name": "stdout",
     "output_type": "stream",
     "text": [
      "- Avg. test_loss: 0.2903 | Avg. test_acc: 0.9151\n",
      "Epoch:  36\n"
     ]
    },
    {
     "name": "stderr",
     "output_type": "stream",
     "text": [
      "Loss=0.7722010612487793 Batch_id=448 Accuracy=0.6842105263157895: 100%|██████████| 449/449 [00:39<00:00, 11.47it/s]\n"
     ]
    },
    {
     "name": "stdout",
     "output_type": "stream",
     "text": [
      "- Avg.loss: 0.0625 | Avg.acc: 0.9816\n"
     ]
    },
    {
     "name": "stderr",
     "output_type": "stream",
     "text": [
      "\r",
      "  0%|          | 0/449 [00:00<?, ?it/s]"
     ]
    },
    {
     "name": "stdout",
     "output_type": "stream",
     "text": [
      "- Avg. test_loss: 0.2724 | Avg. test_acc: 0.9143\n",
      "Epoch:  37\n"
     ]
    },
    {
     "name": "stderr",
     "output_type": "stream",
     "text": [
      "Loss=0.012639102526009083 Batch_id=448 Accuracy=1.0: 100%|██████████| 449/449 [00:39<00:00, 11.40it/s]     \n"
     ]
    },
    {
     "name": "stdout",
     "output_type": "stream",
     "text": [
      "- Avg.loss: 0.0590 | Avg.acc: 0.9824\n"
     ]
    },
    {
     "name": "stderr",
     "output_type": "stream",
     "text": [
      "Loss=0.003999821841716766 Batch_id=0 Accuracy=1.0:   0%|          | 1/449 [00:00<00:50,  8.79it/s]"
     ]
    },
    {
     "name": "stdout",
     "output_type": "stream",
     "text": [
      "- Avg. test_loss: 0.2406 | Avg. test_acc: 0.9154\n",
      "Epoch    37: reducing learning rate of group 0 to 1.0000e-05.\n",
      "Epoch:  38\n"
     ]
    },
    {
     "name": "stderr",
     "output_type": "stream",
     "text": [
      "Loss=0.17883922159671783 Batch_id=448 Accuracy=0.9210526315789473: 100%|██████████| 449/449 [00:39<00:00, 11.48it/s]\n"
     ]
    },
    {
     "name": "stdout",
     "output_type": "stream",
     "text": [
      "- Avg.loss: 0.0454 | Avg.acc: 0.9852\n"
     ]
    },
    {
     "name": "stderr",
     "output_type": "stream",
     "text": [
      "Loss=0.11569508165121078 Batch_id=0 Accuracy=0.953125:   0%|          | 1/449 [00:00<00:50,  8.80it/s]"
     ]
    },
    {
     "name": "stdout",
     "output_type": "stream",
     "text": [
      "- Avg. test_loss: 0.2387 | Avg. test_acc: 0.9221\n",
      "Epoch:  39\n"
     ]
    },
    {
     "name": "stderr",
     "output_type": "stream",
     "text": [
      "Loss=0.26992619037628174 Batch_id=448 Accuracy=0.9210526315789473: 100%|██████████| 449/449 [00:39<00:00, 11.50it/s]\n"
     ]
    },
    {
     "name": "stdout",
     "output_type": "stream",
     "text": [
      "- Avg.loss: 0.0458 | Avg.acc: 0.9860\n",
      "- Avg. test_loss: 0.2125 | Avg. test_acc: 0.9335\n"
     ]
    },
    {
     "name": "stderr",
     "output_type": "stream",
     "text": [
      "\r",
      "  0%|          | 0/449 [00:00<?, ?it/s]"
     ]
    },
    {
     "name": "stdout",
     "output_type": "stream",
     "text": [
      "* Update optimal model\n",
      "Epoch:  40\n"
     ]
    },
    {
     "name": "stderr",
     "output_type": "stream",
     "text": [
      "Loss=0.0007145774434320629 Batch_id=448 Accuracy=1.0: 100%|██████████| 449/449 [00:39<00:00, 11.41it/s]    \n"
     ]
    },
    {
     "name": "stdout",
     "output_type": "stream",
     "text": [
      "- Avg.loss: 0.0390 | Avg.acc: 0.9874\n",
      "- Avg. test_loss: 0.2254 | Avg. test_acc: 0.9349\n"
     ]
    },
    {
     "name": "stderr",
     "output_type": "stream",
     "text": [
      "Loss=0.00679016625508666 Batch_id=0 Accuracy=1.0:   0%|          | 1/449 [00:00<01:08,  6.52it/s]"
     ]
    },
    {
     "name": "stdout",
     "output_type": "stream",
     "text": [
      "* Update optimal model\n",
      "Epoch:  41\n"
     ]
    },
    {
     "name": "stderr",
     "output_type": "stream",
     "text": [
      "Loss=0.036302000284194946 Batch_id=448 Accuracy=1.0: 100%|██████████| 449/449 [00:38<00:00, 11.54it/s]     \n"
     ]
    },
    {
     "name": "stdout",
     "output_type": "stream",
     "text": [
      "- Avg.loss: 0.0369 | Avg.acc: 0.9882\n"
     ]
    },
    {
     "name": "stderr",
     "output_type": "stream",
     "text": [
      "Loss=0.07433376461267471 Batch_id=0 Accuracy=0.984375:   0%|          | 1/449 [00:00<00:50,  8.84it/s]"
     ]
    },
    {
     "name": "stdout",
     "output_type": "stream",
     "text": [
      "- Avg. test_loss: 0.1873 | Avg. test_acc: 0.9292\n",
      "Epoch:  42\n"
     ]
    },
    {
     "name": "stderr",
     "output_type": "stream",
     "text": [
      "Loss=0.0610218308866024 Batch_id=448 Accuracy=1.0: 100%|██████████| 449/449 [00:38<00:00, 11.54it/s]       \n"
     ]
    },
    {
     "name": "stdout",
     "output_type": "stream",
     "text": [
      "- Avg.loss: 0.0415 | Avg.acc: 0.9897\n",
      "- Avg. test_loss: 0.2359 | Avg. test_acc: 0.9360\n"
     ]
    },
    {
     "name": "stderr",
     "output_type": "stream",
     "text": [
      "Loss=0.0015432958025485277 Batch_id=0 Accuracy=1.0:   0%|          | 1/449 [00:00<01:08,  6.49it/s]"
     ]
    },
    {
     "name": "stdout",
     "output_type": "stream",
     "text": [
      "* Update optimal model\n",
      "Epoch:  43\n"
     ]
    },
    {
     "name": "stderr",
     "output_type": "stream",
     "text": [
      "Loss=0.032886479049921036 Batch_id=376 Accuracy=1.0:  84%|████████▍ | 377/449 [00:32<00:06, 11.48it/s]     "
     ]
    }
   ],
   "source": [
    "batch_size= 64\n",
    "lr = 0.001\n",
    "epochs = 50\n",
    "device = torch.device('cuda')\n",
    "optimal_folds = [] # [test loss, test acc]\n",
    "\n",
    "for fold, (train_ids, test_ids) in enumerate(kfold.split(dataset)):\n",
    "    print('Fold ', fold + 1, ' / ', n_folds, ' ********************* ')\n",
    "#     print('len train_ids: ', len(train_ids))\n",
    "#     print('len test_ids: ', len(test_ids))\n",
    "    \n",
    "    # define sub train and test\n",
    "    train_subsampler = SubsetRandomSampler(train_ids)\n",
    "    test_subsampler = SubsetRandomSampler(test_ids)\n",
    "    \n",
    "    # data loader\n",
    "    train_loader = DataLoader(dataset, batch_size, sampler=train_subsampler)\n",
    "    test_loader = DataLoader(dataset, batch_size, sampler=test_subsampler)\n",
    "    \n",
    "#     print('len train_loader: ', len(train_loader), len(train_loader.dataset))\n",
    "#     print('len test_loader: ', len(test_loader), len(test_loader.dataset))\n",
    "    \n",
    "    # create model\n",
    "    model = sVGG_exp(features=vgg16_bn(pretrained=False).features[:34], in_features_classifier=512, n_classes=7)\n",
    "\n",
    "    model = model.to(device)\n",
    "    criterion = nn.CrossEntropyLoss()\n",
    "    optimizer = optim.Adam(model.parameters(), lr=lr, weight_decay=1e-4)\n",
    "    scheduler = lr_scheduler.ReduceLROnPlateau(optimizer, mode='max', factor=0.1, patience=5, verbose=True)\n",
    "    \n",
    "    model_path = 'exploss_crossval/resExploss_model_fold' + str(fold+1) + '.pt'\n",
    "    \n",
    "    # train\n",
    "    best_acc = 0.0\n",
    "    curloss = -1\n",
    "    hist = []\n",
    "    \n",
    "    for epoch in range(epochs):  # loop over the dataset multiple times\n",
    "        \n",
    "        print('Epoch: ', epoch + 1)\n",
    "        running_loss = 0.0\n",
    "        running_acc = 0.0\n",
    "        processed = 0.0\n",
    "\n",
    "        # TRAIN\n",
    "        model.train()\n",
    "        pbar = tqdm(train_loader, position=0)\n",
    "        for i, data in enumerate(pbar):\n",
    "            # get the inputs; data is a list of [inputs, labels]\n",
    "            inputs, labels = data\n",
    "            inputs = inputs.to(device)\n",
    "            labels = labels.to(device)\n",
    "            \n",
    "#             print('Unique labels: ', torch.unique(labels))\n",
    "\n",
    "            # zero the parameter gradients\n",
    "            optimizer.zero_grad()\n",
    "\n",
    "            # forward + backward + optimize\n",
    "            outputs, sim_loss, features = model(inputs, labels)\n",
    "            loss = criterion(outputs, labels) + sim_loss\n",
    "            acc = (torch.argmax(outputs, dim=1) == labels).float().sum()\n",
    "\n",
    "            loss.backward()\n",
    "            optimizer.step()\n",
    "\n",
    "            # print statistics\n",
    "            running_loss += (loss.item() * inputs.size(0))\n",
    "            running_acc += acc.item()\n",
    "            processed += len(inputs)\n",
    "\n",
    "            pbar.set_description(desc= f'Loss={loss.item()} Batch_id={i} Accuracy={acc.item() / inputs.size(0)}')\n",
    "\n",
    "        print('- Avg.loss: %.4f | Avg.acc: %.4f' % (running_loss / len(train_ids), running_acc / len(train_ids)))\n",
    "        avgloss = running_loss / len(train_ids)\n",
    "        avgacc = running_acc / len(train_ids)\n",
    "\n",
    "        # EVALUATE\n",
    "        model.eval()\n",
    "        running_valloss = 0.0\n",
    "        running_valacc = 0.0\n",
    "        for i,data in enumerate(test_loader):\n",
    "            # get the inputs; data is a list of [inputs, labels]\n",
    "            inputs, labels = data\n",
    "            inputs = inputs.to(device)\n",
    "            labels = labels.to(device)\n",
    "\n",
    "            outputs, sim_loss, features = model(inputs, labels)\n",
    "\n",
    "            loss = criterion(outputs, labels) + sim_loss\n",
    "            acc = (torch.argmax(outputs, dim=1) == labels).float().sum()\n",
    "\n",
    "            running_valloss += (loss.item() * inputs.size(0))\n",
    "            running_valacc += acc.item()\n",
    "\n",
    "        print('- Avg. test_loss: %.4f | Avg. test_acc: %.4f' % (running_valloss / len(test_ids), running_valacc / len(test_ids)))\n",
    "\n",
    "        avgvalloss = running_valloss / len(test_ids)\n",
    "        avgvalacc = running_valacc / len(test_ids)\n",
    "\n",
    "        scheduler.step(avgvalacc)\n",
    "\n",
    "        hist.append([avgloss, avgvalloss, avgacc, avgvalacc])\n",
    "\n",
    "        if best_acc < avgvalacc:\n",
    "            best_acc = avgvalacc\n",
    "            curloss = avgvalloss\n",
    "            torch.save(model, model_path)\n",
    "            print('* Update optimal model')\n",
    "    \n",
    "    \n",
    "    pickle.dump(hist, open('exploss_crossval/resExploss_hist_fold' + str(fold+1) + '.hdf5', 'wb'))\n",
    "    optimal_folds.append([curloss, best_acc])\n",
    "    print('Optimal result: test_loss: %.4f | test_acc: %.4f' % (curloss, best_acc))\n",
    "    print(' - Finished Training of fold ', fold + 1, ' - ')"
   ]
  },
  {
   "cell_type": "code",
   "execution_count": null,
   "metadata": {},
   "outputs": [],
   "source": [
    "pickle.dump(optimal_folds, open('exploss_crossval/optimal_folds.hdf5', 'wb'))"
   ]
  },
  {
   "cell_type": "code",
   "execution_count": 19,
   "metadata": {},
   "outputs": [
    {
     "data": {
      "text/plain": [
       "[[0.24028798388709063, 0.9281136806910003],\n",
       " [0.21653891619897944, 0.9201727500696573],\n",
       " [0.17440381800836052, 0.9423157308067438],\n",
       " [0.25318973042331433, 0.910965584506061],\n",
       " [0.2775112829517983, 0.9175142817333147]]"
      ]
     },
     "execution_count": 19,
     "metadata": {},
     "output_type": "execute_result"
    }
   ],
   "source": [
    "optimal_folds"
   ]
  },
  {
   "cell_type": "code",
   "execution_count": null,
   "metadata": {},
   "outputs": [],
   "source": []
  }
 ],
 "metadata": {
  "kernelspec": {
   "display_name": "Python 3",
   "language": "python",
   "name": "python3"
  },
  "language_info": {
   "codemirror_mode": {
    "name": "ipython",
    "version": 3
   },
   "file_extension": ".py",
   "mimetype": "text/x-python",
   "name": "python",
   "nbconvert_exporter": "python",
   "pygments_lexer": "ipython3",
   "version": "3.6.9"
  }
 },
 "nbformat": 4,
 "nbformat_minor": 4
}
