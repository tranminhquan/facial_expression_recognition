{
 "cells": [
  {
   "cell_type": "code",
   "execution_count": 1,
   "metadata": {},
   "outputs": [],
   "source": [
    "import os\n",
    "os.environ[\"CUDA_VISIBLE_DEVICES\"]=\"0\"\n",
    "os.environ['CUDA_LAUNCH_BLOCKING'] = \"1\""
   ]
  },
  {
   "cell_type": "code",
   "execution_count": 2,
   "metadata": {},
   "outputs": [],
   "source": [
    "import pandas as pd\n",
    "import numpy as np\n",
    "import matplotlib.pyplot as plt\n",
    "import copy\n",
    "\n",
    "from tqdm import tqdm\n",
    "\n",
    "import torch\n",
    "from torch.utils.data import Dataset\n",
    "from torchvision import transforms\n",
    "import torch.nn as nn\n",
    "import torchvision.models as models\n",
    "import torch.optim as optim\n",
    "\n",
    "import math"
   ]
  },
  {
   "cell_type": "code",
   "execution_count": 3,
   "metadata": {},
   "outputs": [],
   "source": [
    "class FERDataset(Dataset):\n",
    "    'Characterizes a dataset for PyTorch'\n",
    "    def __init__(self, dff, transforms):\n",
    "        'Initialization'\n",
    "        self.transforms = transforms\n",
    "        self.dff= pd.read_csv(dff) if type(dff) is str else dff\n",
    "        \n",
    "        self.dff['pixels'] = [[int(y) for y in x.split()] for x in self.dff['pixels']]\n",
    "\n",
    "    def __len__(self):\n",
    "        'Denotes the total number of samples'\n",
    "        return len(self.dff)\n",
    "\n",
    "    def __getitem__(self, index):\n",
    "        'Generates one sample of data'\n",
    "        # Select sample\n",
    "        #ID = self.list_IDs[index]\n",
    "\n",
    "        # Load data and get label\n",
    "        X = self.dff.iloc[index]['pixels']\n",
    "        X = np.array(X).reshape(48,48,1)\n",
    "        \n",
    "        y = int(self.dff.iloc[index]['emotion'])\n",
    "\n",
    "        if self.transforms:\n",
    "            X = self.transforms(np.uint8(X))\n",
    "\n",
    "            X = torch.cat((X,X,X),0)\n",
    "\n",
    "        return X, y"
   ]
  },
  {
   "cell_type": "code",
   "execution_count": 4,
   "metadata": {},
   "outputs": [
    {
     "data": {
      "text/html": [
       "<div>\n",
       "<style scoped>\n",
       "    .dataframe tbody tr th:only-of-type {\n",
       "        vertical-align: middle;\n",
       "    }\n",
       "\n",
       "    .dataframe tbody tr th {\n",
       "        vertical-align: top;\n",
       "    }\n",
       "\n",
       "    .dataframe thead th {\n",
       "        text-align: right;\n",
       "    }\n",
       "</style>\n",
       "<table border=\"1\" class=\"dataframe\">\n",
       "  <thead>\n",
       "    <tr style=\"text-align: right;\">\n",
       "      <th></th>\n",
       "      <th>emotion</th>\n",
       "      <th>pixels</th>\n",
       "      <th>Usage</th>\n",
       "    </tr>\n",
       "  </thead>\n",
       "  <tbody>\n",
       "    <tr>\n",
       "      <th>0</th>\n",
       "      <td>0</td>\n",
       "      <td>70 80 82 72 58 58 60 63 54 58 60 48 89 115 121...</td>\n",
       "      <td>Training</td>\n",
       "    </tr>\n",
       "    <tr>\n",
       "      <th>1</th>\n",
       "      <td>0</td>\n",
       "      <td>151 150 147 155 148 133 111 140 170 174 182 15...</td>\n",
       "      <td>Training</td>\n",
       "    </tr>\n",
       "    <tr>\n",
       "      <th>2</th>\n",
       "      <td>2</td>\n",
       "      <td>231 212 156 164 174 138 161 173 182 200 106 38...</td>\n",
       "      <td>Training</td>\n",
       "    </tr>\n",
       "    <tr>\n",
       "      <th>3</th>\n",
       "      <td>4</td>\n",
       "      <td>24 32 36 30 32 23 19 20 30 41 21 22 32 34 21 1...</td>\n",
       "      <td>Training</td>\n",
       "    </tr>\n",
       "    <tr>\n",
       "      <th>4</th>\n",
       "      <td>6</td>\n",
       "      <td>4 0 0 0 0 0 0 0 0 0 0 0 3 15 23 28 48 50 58 84...</td>\n",
       "      <td>Training</td>\n",
       "    </tr>\n",
       "    <tr>\n",
       "      <th>...</th>\n",
       "      <td>...</td>\n",
       "      <td>...</td>\n",
       "      <td>...</td>\n",
       "    </tr>\n",
       "    <tr>\n",
       "      <th>35882</th>\n",
       "      <td>6</td>\n",
       "      <td>50 36 17 22 23 29 33 39 34 37 37 37 39 43 48 5...</td>\n",
       "      <td>PrivateTest</td>\n",
       "    </tr>\n",
       "    <tr>\n",
       "      <th>35883</th>\n",
       "      <td>3</td>\n",
       "      <td>178 174 172 173 181 188 191 194 196 199 200 20...</td>\n",
       "      <td>PrivateTest</td>\n",
       "    </tr>\n",
       "    <tr>\n",
       "      <th>35884</th>\n",
       "      <td>0</td>\n",
       "      <td>17 17 16 23 28 22 19 17 25 26 20 24 31 19 27 9...</td>\n",
       "      <td>PrivateTest</td>\n",
       "    </tr>\n",
       "    <tr>\n",
       "      <th>35885</th>\n",
       "      <td>3</td>\n",
       "      <td>30 28 28 29 31 30 42 68 79 81 77 67 67 71 63 6...</td>\n",
       "      <td>PrivateTest</td>\n",
       "    </tr>\n",
       "    <tr>\n",
       "      <th>35886</th>\n",
       "      <td>2</td>\n",
       "      <td>19 13 14 12 13 16 21 33 50 57 71 84 97 108 122...</td>\n",
       "      <td>PrivateTest</td>\n",
       "    </tr>\n",
       "  </tbody>\n",
       "</table>\n",
       "<p>35887 rows × 3 columns</p>\n",
       "</div>"
      ],
      "text/plain": [
       "       emotion                                             pixels        Usage\n",
       "0            0  70 80 82 72 58 58 60 63 54 58 60 48 89 115 121...     Training\n",
       "1            0  151 150 147 155 148 133 111 140 170 174 182 15...     Training\n",
       "2            2  231 212 156 164 174 138 161 173 182 200 106 38...     Training\n",
       "3            4  24 32 36 30 32 23 19 20 30 41 21 22 32 34 21 1...     Training\n",
       "4            6  4 0 0 0 0 0 0 0 0 0 0 0 3 15 23 28 48 50 58 84...     Training\n",
       "...        ...                                                ...          ...\n",
       "35882        6  50 36 17 22 23 29 33 39 34 37 37 37 39 43 48 5...  PrivateTest\n",
       "35883        3  178 174 172 173 181 188 191 194 196 199 200 20...  PrivateTest\n",
       "35884        0  17 17 16 23 28 22 19 17 25 26 20 24 31 19 27 9...  PrivateTest\n",
       "35885        3  30 28 28 29 31 30 42 68 79 81 77 67 67 71 63 6...  PrivateTest\n",
       "35886        2  19 13 14 12 13 16 21 33 50 57 71 84 97 108 122...  PrivateTest\n",
       "\n",
       "[35887 rows x 3 columns]"
      ]
     },
     "execution_count": 4,
     "metadata": {},
     "output_type": "execute_result"
    }
   ],
   "source": [
    "df = pd.read_csv('/tf/data/Quan/fer2013/data/csv_file/fer2013.csv')\n",
    "df"
   ]
  },
  {
   "cell_type": "code",
   "execution_count": 5,
   "metadata": {},
   "outputs": [
    {
     "name": "stderr",
     "output_type": "stream",
     "text": [
      "/usr/local/lib/python3.6/dist-packages/ipykernel_launcher.py:8: SettingWithCopyWarning: \n",
      "A value is trying to be set on a copy of a slice from a DataFrame.\n",
      "Try using .loc[row_indexer,col_indexer] = value instead\n",
      "\n",
      "See the caveats in the documentation: https://pandas.pydata.org/pandas-docs/stable/user_guide/indexing.html#returning-a-view-versus-a-copy\n",
      "  \n"
     ]
    }
   ],
   "source": [
    "batch_size= 128\n",
    "\n",
    "df_train = df[df['Usage'] == 'Training']\n",
    "df_val = df[df['Usage'] == 'PublicTest']\n",
    "# df_test = df[df['Usage'] == 'PrivateTest']\n",
    "\n",
    "train_transforms = transforms.Compose([\n",
    "    transforms.ToPILImage(),\n",
    "    transforms.RandomHorizontalFlip(),\n",
    "#     transforms.RandomCrop(48),\n",
    "    transforms.ToTensor(),\n",
    "    transforms.Normalize((0.5,), (0.5,)),\n",
    "])\n",
    "\n",
    "test_transforms = transforms.Compose([\n",
    "    transforms.ToTensor(),\n",
    "    transforms.Normalize((0.5,), (0.5,)),\n",
    "])\n",
    "\n",
    "training_set = FERDataset(df_train, train_transforms)\n",
    "val_set = FERDataset(df_val, test_transforms)\n",
    "# test_set = FERDataset(df_test, train_transforms)\n",
    "\n",
    "\n",
    "training_generator = torch.utils.data.DataLoader(training_set,\n",
    "                                             batch_size=batch_size, shuffle=True,\n",
    "                                             num_workers=8)\n",
    "validation_generator = torch.utils.data.DataLoader(val_set,\n",
    "                                             batch_size=batch_size, shuffle=False,\n",
    "                                             num_workers=8)\n",
    "# train_loader = torch.utils.data.DataLoader(test_set,\n",
    "#                                              batch_size=batch_size, shuffle=False,\n",
    "#                                              num_workers=8)"
   ]
  },
  {
   "cell_type": "code",
   "execution_count": 26,
   "metadata": {},
   "outputs": [
    {
     "data": {
      "text/plain": [
       "28709"
      ]
     },
     "execution_count": 26,
     "metadata": {},
     "output_type": "execute_result"
    }
   ],
   "source": [
    "len(training_set)"
   ]
  },
  {
   "cell_type": "code",
   "execution_count": 28,
   "metadata": {},
   "outputs": [
    {
     "data": {
      "text/plain": [
       "28800"
      ]
     },
     "execution_count": 28,
     "metadata": {},
     "output_type": "execute_result"
    }
   ],
   "source": [
    "len(training_generator)"
   ]
  },
  {
   "cell_type": "code",
   "execution_count": 13,
   "metadata": {},
   "outputs": [],
   "source": [
    "def plot(train_losses,train_acc,test_losses,test_acc, label):\n",
    "    fig, axs = plt.subplots(1,2,figsize=(20,8))\n",
    "    axs[0].plot(test_losses, label=label)\n",
    "    axs[0].set_title(\"Test Loss\")\n",
    "    axs[1].plot(test_acc, label=label)\n",
    "    axs[1].set_title(\"Test Accuracy\")\n",
    "\n",
    "def get_lr(optimizer):\n",
    "    for param_group in optimizer.param_groups:\n",
    "        return param_group['lr']"
   ]
  },
  {
   "cell_type": "code",
   "execution_count": 14,
   "metadata": {},
   "outputs": [],
   "source": [
    "def train(model, train_loader, optimizer, scheduler):\n",
    "    model.train()\n",
    "    pbar = tqdm(train_loader, position=0)\n",
    "    running_loss = 0.0\n",
    "    correct = 0\n",
    "    processed = 0\n",
    "    criterion = nn.CrossEntropyLoss()\n",
    "\n",
    "    for batch_idx, (data, target) in enumerate(pbar):\n",
    "        data, target = data.to(device), target.to(device)\n",
    "        optimizer.zero_grad()\n",
    "        embeddings = model(data)\n",
    "        loss = criterion(embeddings, target)\n",
    "        running_loss += (loss.item() * data.size(0))\n",
    "        train_loss.append(loss)\n",
    "        loss.backward()\n",
    "        optimizer.step()\n",
    "\n",
    "#         pred = embeddings.argmax(dim=1, keepdim=True)  # get the index of the max log-probability\n",
    "#         pred = (embeddings > 0.5).float()\n",
    "#         correct += pred.eq(target.view_as(pred)).sum().item()\n",
    "        correct += (torch.argmax(embeddings, dim=1) == target).float().sum()\n",
    "        processed += len(data)\n",
    "\n",
    "        train_acc.append(100*correct/processed)\n",
    "        pbar.set_description(desc= f'Loss={loss.item()} Batch_id={batch_idx} le={get_lr(optimizer)} Accuracy={100*correct/processed:0.2f}')\n",
    "        \n",
    "    print('\\t train_loss: ', running_loss / len(train_loader.dataset), ' | train_acc: ', correct / len(train_loader.dataset))\n",
    "    \n",
    "        \n",
    "def test(model, test_loader):\n",
    "    model.eval()\n",
    "    best_acc = 0.\n",
    "    test_loss = 0\n",
    "    correct = 0\n",
    "    criterion = nn.CrossEntropyLoss()\n",
    "    \n",
    "    for data, target in test_loader:\n",
    "        data, target = data.to(device), target.to(device)\n",
    "        output = model(data)\n",
    "        test_loss += (criterion(output, target).item() * data.size(0))  # sum up batch loss\n",
    "#         pred = output.argmax(dim=1, keepdim=True)  # get the index of the max log-probability\n",
    "        correct += (torch.argmax(output, dim=1) == target).float().sum()\n",
    "\n",
    "    test_loss /= len(test_loader.dataset)\n",
    "    valid_loss.append(test_loss)\n",
    "\n",
    "    _cur_acc = correct / len(test_loader.dataset)\n",
    "\n",
    "    print('\\nTest set: Average loss: {:.4f}, Accuracy: {}/{} ({:.2f}%)\\n'.format(\n",
    "        test_loss, correct, len(test_loader.dataset),\n",
    "        100. * _cur_acc))\n",
    "    \n",
    "    if _cur_acc > best_acc:\n",
    "        print('* Update optimal model')\n",
    "        best_acc = _cur_acc\n",
    "        if not model_path is None:\n",
    "            torch.save(model, model_path)\n",
    "    \n",
    "    \n",
    "    valid_acc.append(100. * _cur_acc)\n",
    "    \n",
    "    return test_loss"
   ]
  },
  {
   "cell_type": "code",
   "execution_count": 15,
   "metadata": {},
   "outputs": [],
   "source": [
    "class VGG16_baseline(nn.Module):\n",
    "    def __init__(self, pretrained=False):\n",
    "        super(VGG16_baseline, self).__init__()\n",
    "        baseline = models.vgg16_bn(pretrained=pretrained)\n",
    "        self.features = baseline.features\n",
    "        self.avgpool = baseline.avgpool\n",
    "        self.classifier = nn.Sequential(nn.Linear(25088, 4096, bias=True),\n",
    "                                       nn.ReLU(),\n",
    "                                       nn.Dropout(p=0.5),\n",
    "                                       nn.Linear(4096, 4096, bias=True),\n",
    "                                       nn.ReLU(),\n",
    "                                       nn.Dropout(p=0.5),\n",
    "                                       nn.Linear(4096, 7, bias=True))\n",
    "    def forward(self, x):\n",
    "        x = self.features(x)\n",
    "        x = self.avgpool(x)\n",
    "        x = x.view(-1, 25088)\n",
    "        x = self.classifier(x)\n",
    "        \n",
    "        return x"
   ]
  },
  {
   "cell_type": "code",
   "execution_count": 24,
   "metadata": {},
   "outputs": [
    {
     "name": "stderr",
     "output_type": "stream",
     "text": [
      "\r",
      "  0%|          | 0/225 [00:00<?, ?it/s]"
     ]
    },
    {
     "name": "stdout",
     "output_type": "stream",
     "text": [
      "EPOCH: 0 LR: 0.0019999999999999983 \n"
     ]
    },
    {
     "name": "stderr",
     "output_type": "stream",
     "text": [
      "Loss=1.7207826375961304 Batch_id=224 le=0.003064156314741575 Accuracy=25.45: 100%|██████████| 225/225 [00:26<00:00,  8.62it/s] \n",
      "  0%|          | 0/225 [00:00<?, ?it/s]"
     ]
    },
    {
     "name": "stdout",
     "output_type": "stream",
     "text": [
      "\n",
      "Test set: Average loss: 0.0132, Accuracy: 1185/3589 (33.02%)\n",
      "\n",
      "* Update optimal model\n",
      "EPOCH: 1 LR: 0.003064156314741575 \n"
     ]
    },
    {
     "name": "stderr",
     "output_type": "stream",
     "text": [
      "Loss=1.4838634729385376 Batch_id=224 le=0.006004974445143111 Accuracy=38.51: 100%|██████████| 225/225 [00:26<00:00,  8.59it/s] \n",
      "  0%|          | 0/225 [00:00<?, ?it/s]"
     ]
    },
    {
     "name": "stdout",
     "output_type": "stream",
     "text": [
      "\n",
      "Test set: Average loss: 0.0115, Accuracy: 1609/3589 (44.83%)\n",
      "\n",
      "* Update optimal model\n",
      "EPOCH: 2 LR: 0.006004974445143111 \n"
     ]
    },
    {
     "name": "stderr",
     "output_type": "stream",
     "text": [
      "Loss=1.3422800302505493 Batch_id=224 le=0.010127012128099425 Accuracy=46.52: 100%|██████████| 225/225 [00:26<00:00,  8.57it/s] \n",
      "  0%|          | 0/225 [00:00<?, ?it/s]"
     ]
    },
    {
     "name": "stdout",
     "output_type": "stream",
     "text": [
      "\n",
      "Test set: Average loss: 0.0116, Accuracy: 1603/3589 (44.66%)\n",
      "\n",
      "* Update optimal model\n",
      "EPOCH: 3 LR: 0.010127012128099425 \n"
     ]
    },
    {
     "name": "stderr",
     "output_type": "stream",
     "text": [
      "Loss=1.1954898834228516 Batch_id=224 le=0.014455493268072585 Accuracy=51.96: 100%|██████████| 225/225 [00:26<00:00,  8.52it/s]\n",
      "  0%|          | 0/225 [00:00<?, ?it/s]"
     ]
    },
    {
     "name": "stdout",
     "output_type": "stream",
     "text": [
      "\n",
      "Test set: Average loss: 0.0103, Accuracy: 1826/3589 (50.88%)\n",
      "\n",
      "* Update optimal model\n",
      "EPOCH: 4 LR: 0.014455493268072585 \n"
     ]
    },
    {
     "name": "stderr",
     "output_type": "stream",
     "text": [
      "Loss=1.21372652053833 Batch_id=224 le=0.017966822189875425 Accuracy=55.34: 100%|██████████| 225/225 [00:26<00:00,  8.53it/s]  \n",
      "  0%|          | 0/225 [00:00<?, ?it/s]"
     ]
    },
    {
     "name": "stdout",
     "output_type": "stream",
     "text": [
      "\n",
      "Test set: Average loss: 0.0103, Accuracy: 1864/3589 (51.94%)\n",
      "\n",
      "* Update optimal model\n",
      "EPOCH: 5 LR: 0.017966822189875425 \n"
     ]
    },
    {
     "name": "stderr",
     "output_type": "stream",
     "text": [
      "Loss=1.196033239364624 Batch_id=224 le=0.01983064270566989 Accuracy=57.97: 100%|██████████| 225/225 [00:26<00:00,  8.53it/s]  \n",
      "  0%|          | 0/225 [00:00<?, ?it/s]"
     ]
    },
    {
     "name": "stdout",
     "output_type": "stream",
     "text": [
      "\n",
      "Test set: Average loss: 0.0095, Accuracy: 2024/3589 (56.39%)\n",
      "\n",
      "* Update optimal model\n",
      "EPOCH: 6 LR: 0.01983064270566989 \n"
     ]
    },
    {
     "name": "stderr",
     "output_type": "stream",
     "text": [
      "Loss=1.0285720825195312 Batch_id=224 le=0.019972502125976347 Accuracy=60.84: 100%|██████████| 225/225 [00:26<00:00,  8.52it/s]\n",
      "  0%|          | 0/225 [00:00<?, ?it/s]"
     ]
    },
    {
     "name": "stdout",
     "output_type": "stream",
     "text": [
      "\n",
      "Test set: Average loss: 0.0095, Accuracy: 2019/3589 (56.26%)\n",
      "\n",
      "* Update optimal model\n",
      "EPOCH: 7 LR: 0.019972502125976347 \n"
     ]
    },
    {
     "name": "stderr",
     "output_type": "stream",
     "text": [
      "Loss=1.021057367324829 Batch_id=224 le=0.019806789224759088 Accuracy=63.20: 100%|██████████| 225/225 [00:26<00:00,  8.50it/s] \n",
      "  0%|          | 0/225 [00:00<?, ?it/s]"
     ]
    },
    {
     "name": "stdout",
     "output_type": "stream",
     "text": [
      "\n",
      "Test set: Average loss: 0.0093, Accuracy: 2010/3589 (56.00%)\n",
      "\n",
      "* Update optimal model\n",
      "EPOCH: 8 LR: 0.019806789224759088 \n"
     ]
    },
    {
     "name": "stderr",
     "output_type": "stream",
     "text": [
      "Loss=0.9423007369041443 Batch_id=224 le=0.019493574589509826 Accuracy=65.19: 100%|██████████| 225/225 [00:26<00:00,  8.51it/s]\n",
      "  0%|          | 0/225 [00:00<?, ?it/s]"
     ]
    },
    {
     "name": "stdout",
     "output_type": "stream",
     "text": [
      "\n",
      "Test set: Average loss: 0.0089, Accuracy: 2146/3589 (59.79%)\n",
      "\n",
      "* Update optimal model\n",
      "EPOCH: 9 LR: 0.019493574589509826 \n"
     ]
    },
    {
     "name": "stderr",
     "output_type": "stream",
     "text": [
      "Loss=1.0640771389007568 Batch_id=224 le=0.019037569259883688 Accuracy=67.64: 100%|██████████| 225/225 [00:26<00:00,  8.50it/s]\n",
      "  0%|          | 0/225 [00:00<?, ?it/s]"
     ]
    },
    {
     "name": "stdout",
     "output_type": "stream",
     "text": [
      "\n",
      "Test set: Average loss: 0.0098, Accuracy: 1998/3589 (55.67%)\n",
      "\n",
      "* Update optimal model\n",
      "EPOCH: 10 LR: 0.019037569259883688 \n"
     ]
    },
    {
     "name": "stderr",
     "output_type": "stream",
     "text": [
      "Loss=0.8869560956954956 Batch_id=224 le=0.0184456319804892 Accuracy=69.20: 100%|██████████| 225/225 [00:26<00:00,  8.48it/s]  \n",
      "  0%|          | 0/225 [00:00<?, ?it/s]"
     ]
    },
    {
     "name": "stdout",
     "output_type": "stream",
     "text": [
      "\n",
      "Test set: Average loss: 0.0096, Accuracy: 1984/3589 (55.28%)\n",
      "\n",
      "* Update optimal model\n",
      "EPOCH: 11 LR: 0.0184456319804892 \n"
     ]
    },
    {
     "name": "stderr",
     "output_type": "stream",
     "text": [
      "Loss=0.7880299687385559 Batch_id=224 le=0.0177266660389852 Accuracy=71.74: 100%|██████████| 225/225 [00:26<00:00,  8.48it/s]  \n",
      "  0%|          | 0/225 [00:00<?, ?it/s]"
     ]
    },
    {
     "name": "stdout",
     "output_type": "stream",
     "text": [
      "\n",
      "Test set: Average loss: 0.0086, Accuracy: 2183/3589 (60.82%)\n",
      "\n",
      "* Update optimal model\n",
      "EPOCH: 12 LR: 0.0177266660389852 \n"
     ]
    },
    {
     "name": "stderr",
     "output_type": "stream",
     "text": [
      "Loss=0.8512291312217712 Batch_id=205 le=0.016966205137781645 Accuracy=73.61:  92%|█████████▏| 206/225 [00:24<00:02,  8.42it/s]\n"
     ]
    },
    {
     "ename": "KeyboardInterrupt",
     "evalue": "",
     "output_type": "error",
     "traceback": [
      "\u001b[0;31m---------------------------------------------------------------------------\u001b[0m",
      "\u001b[0;31mKeyboardInterrupt\u001b[0m                         Traceback (most recent call last)",
      "\u001b[0;32m<ipython-input-24-52cf25fd36d1>\u001b[0m in \u001b[0;36m<module>\u001b[0;34m\u001b[0m\n\u001b[1;32m     14\u001b[0m \u001b[0;32mfor\u001b[0m \u001b[0mepoch\u001b[0m \u001b[0;32min\u001b[0m \u001b[0mrange\u001b[0m\u001b[0;34m(\u001b[0m\u001b[0mepochs\u001b[0m\u001b[0;34m)\u001b[0m\u001b[0;34m:\u001b[0m\u001b[0;34m\u001b[0m\u001b[0;34m\u001b[0m\u001b[0m\n\u001b[1;32m     15\u001b[0m     \u001b[0mprint\u001b[0m\u001b[0;34m(\u001b[0m\u001b[0;34m\"EPOCH: %s LR: %s \"\u001b[0m \u001b[0;34m%\u001b[0m \u001b[0;34m(\u001b[0m\u001b[0mepoch\u001b[0m\u001b[0;34m,\u001b[0m \u001b[0mget_lr\u001b[0m\u001b[0;34m(\u001b[0m\u001b[0moptimizer\u001b[0m\u001b[0;34m)\u001b[0m\u001b[0;34m)\u001b[0m\u001b[0;34m)\u001b[0m\u001b[0;34m\u001b[0m\u001b[0;34m\u001b[0m\u001b[0m\n\u001b[0;32m---> 16\u001b[0;31m     \u001b[0mtrain\u001b[0m\u001b[0;34m(\u001b[0m\u001b[0mmodel\u001b[0m\u001b[0;34m,\u001b[0m \u001b[0mtraining_generator\u001b[0m\u001b[0;34m,\u001b[0m \u001b[0moptimizer\u001b[0m\u001b[0;34m,\u001b[0m\u001b[0mscheduler\u001b[0m\u001b[0;34m)\u001b[0m\u001b[0;34m\u001b[0m\u001b[0;34m\u001b[0m\u001b[0m\n\u001b[0m\u001b[1;32m     17\u001b[0m     \u001b[0mtest\u001b[0m\u001b[0;34m(\u001b[0m\u001b[0mmodel\u001b[0m\u001b[0;34m,\u001b[0m \u001b[0mvalidation_generator\u001b[0m\u001b[0;34m)\u001b[0m\u001b[0;34m\u001b[0m\u001b[0;34m\u001b[0m\u001b[0m\n\u001b[1;32m     18\u001b[0m     \u001b[0;31m#scheduler.step()\u001b[0m\u001b[0;34m\u001b[0m\u001b[0;34m\u001b[0m\u001b[0;34m\u001b[0m\u001b[0m\n",
      "\u001b[0;32m<ipython-input-20-ab20984e8ba7>\u001b[0m in \u001b[0;36mtrain\u001b[0;34m(model, train_loader, optimizer, scheduler)\u001b[0m\n\u001b[1;32m     15\u001b[0m         \u001b[0mtrain_loss\u001b[0m\u001b[0;34m.\u001b[0m\u001b[0mappend\u001b[0m\u001b[0;34m(\u001b[0m\u001b[0mloss\u001b[0m\u001b[0;34m)\u001b[0m\u001b[0;34m\u001b[0m\u001b[0;34m\u001b[0m\u001b[0m\n\u001b[1;32m     16\u001b[0m         \u001b[0mloss\u001b[0m\u001b[0;34m.\u001b[0m\u001b[0mbackward\u001b[0m\u001b[0;34m(\u001b[0m\u001b[0;34m)\u001b[0m\u001b[0;34m\u001b[0m\u001b[0;34m\u001b[0m\u001b[0m\n\u001b[0;32m---> 17\u001b[0;31m         \u001b[0moptimizer\u001b[0m\u001b[0;34m.\u001b[0m\u001b[0mstep\u001b[0m\u001b[0;34m(\u001b[0m\u001b[0;34m)\u001b[0m\u001b[0;34m\u001b[0m\u001b[0;34m\u001b[0m\u001b[0m\n\u001b[0m\u001b[1;32m     18\u001b[0m         \u001b[0mscheduler\u001b[0m\u001b[0;34m.\u001b[0m\u001b[0mstep\u001b[0m\u001b[0;34m(\u001b[0m\u001b[0;34m)\u001b[0m\u001b[0;34m\u001b[0m\u001b[0;34m\u001b[0m\u001b[0m\n\u001b[1;32m     19\u001b[0m \u001b[0;34m\u001b[0m\u001b[0m\n",
      "\u001b[0;32m/usr/local/lib/python3.6/dist-packages/torch/optim/lr_scheduler.py\u001b[0m in \u001b[0;36mwrapper\u001b[0;34m(*args, **kwargs)\u001b[0m\n\u001b[1;32m     64\u001b[0m                 \u001b[0minstance\u001b[0m\u001b[0;34m.\u001b[0m\u001b[0m_step_count\u001b[0m \u001b[0;34m+=\u001b[0m \u001b[0;36m1\u001b[0m\u001b[0;34m\u001b[0m\u001b[0;34m\u001b[0m\u001b[0m\n\u001b[1;32m     65\u001b[0m                 \u001b[0mwrapped\u001b[0m \u001b[0;34m=\u001b[0m \u001b[0mfunc\u001b[0m\u001b[0;34m.\u001b[0m\u001b[0m__get__\u001b[0m\u001b[0;34m(\u001b[0m\u001b[0minstance\u001b[0m\u001b[0;34m,\u001b[0m \u001b[0mcls\u001b[0m\u001b[0;34m)\u001b[0m\u001b[0;34m\u001b[0m\u001b[0;34m\u001b[0m\u001b[0m\n\u001b[0;32m---> 66\u001b[0;31m                 \u001b[0;32mreturn\u001b[0m \u001b[0mwrapped\u001b[0m\u001b[0;34m(\u001b[0m\u001b[0;34m*\u001b[0m\u001b[0margs\u001b[0m\u001b[0;34m,\u001b[0m \u001b[0;34m**\u001b[0m\u001b[0mkwargs\u001b[0m\u001b[0;34m)\u001b[0m\u001b[0;34m\u001b[0m\u001b[0;34m\u001b[0m\u001b[0m\n\u001b[0m\u001b[1;32m     67\u001b[0m \u001b[0;34m\u001b[0m\u001b[0m\n\u001b[1;32m     68\u001b[0m             \u001b[0;31m# Note that the returned function here is no longer a bound method,\u001b[0m\u001b[0;34m\u001b[0m\u001b[0;34m\u001b[0m\u001b[0;34m\u001b[0m\u001b[0m\n",
      "\u001b[0;32m/usr/local/lib/python3.6/dist-packages/torch/optim/sgd.py\u001b[0m in \u001b[0;36mstep\u001b[0;34m(self, closure)\u001b[0m\n\u001b[1;32m     98\u001b[0m                     \u001b[0;32melse\u001b[0m\u001b[0;34m:\u001b[0m\u001b[0;34m\u001b[0m\u001b[0;34m\u001b[0m\u001b[0m\n\u001b[1;32m     99\u001b[0m                         \u001b[0mbuf\u001b[0m \u001b[0;34m=\u001b[0m \u001b[0mparam_state\u001b[0m\u001b[0;34m[\u001b[0m\u001b[0;34m'momentum_buffer'\u001b[0m\u001b[0;34m]\u001b[0m\u001b[0;34m\u001b[0m\u001b[0;34m\u001b[0m\u001b[0m\n\u001b[0;32m--> 100\u001b[0;31m                         \u001b[0mbuf\u001b[0m\u001b[0;34m.\u001b[0m\u001b[0mmul_\u001b[0m\u001b[0;34m(\u001b[0m\u001b[0mmomentum\u001b[0m\u001b[0;34m)\u001b[0m\u001b[0;34m.\u001b[0m\u001b[0madd_\u001b[0m\u001b[0;34m(\u001b[0m\u001b[0;36m1\u001b[0m \u001b[0;34m-\u001b[0m \u001b[0mdampening\u001b[0m\u001b[0;34m,\u001b[0m \u001b[0md_p\u001b[0m\u001b[0;34m)\u001b[0m\u001b[0;34m\u001b[0m\u001b[0;34m\u001b[0m\u001b[0m\n\u001b[0m\u001b[1;32m    101\u001b[0m                     \u001b[0;32mif\u001b[0m \u001b[0mnesterov\u001b[0m\u001b[0;34m:\u001b[0m\u001b[0;34m\u001b[0m\u001b[0;34m\u001b[0m\u001b[0m\n\u001b[1;32m    102\u001b[0m                         \u001b[0md_p\u001b[0m \u001b[0;34m=\u001b[0m \u001b[0md_p\u001b[0m\u001b[0;34m.\u001b[0m\u001b[0madd\u001b[0m\u001b[0;34m(\u001b[0m\u001b[0mmomentum\u001b[0m\u001b[0;34m,\u001b[0m \u001b[0mbuf\u001b[0m\u001b[0;34m)\u001b[0m\u001b[0;34m\u001b[0m\u001b[0;34m\u001b[0m\u001b[0m\n",
      "\u001b[0;31mKeyboardInterrupt\u001b[0m: "
     ]
    }
   ],
   "source": [
    "model_path = None\n",
    "device = torch.device('cuda')\n",
    "model=VGG16_baseline(pretrained=False)\n",
    "model.to(device)\n",
    "epochs=32\n",
    "optimizer = optim.SGD(model.parameters(), lr=0.002, momentum=0.9, weight_decay=9e-4)\n",
    "scheduler = torch.optim.lr_scheduler.OneCycleLR(optimizer, max_lr=0.02, steps_per_epoch=len(training_generator), pct_start=0.2, div_factor=10, cycle_momentum=False, epochs=epochs)\n",
    "\n",
    "input_size=(3,48,48)\n",
    "train_acc = []\n",
    "train_loss = []\n",
    "valid_acc = []\n",
    "valid_loss = []\n",
    "for epoch in range(epochs):\n",
    "    print(\"EPOCH: %s LR: %s \" % (epoch, get_lr(optimizer)))\n",
    "    train(model, training_generator, optimizer,scheduler)\n",
    "    test(model, validation_generator)\n",
    "    #scheduler.step()\n",
    "plot(train_loss,train_acc, valid_loss, valid_acc, 'Loss & Accuracy')"
   ]
  },
  {
   "cell_type": "code",
   "execution_count": 5,
   "metadata": {},
   "outputs": [],
   "source": [
    "class SVblock(nn.Module):\n",
    "    def __init__(self, in_neurons, nb_neurons, kernel_size=(3,3), batch_norm=True, activation='relu', **kwargs):\n",
    "        '''\n",
    "    in_neurons: C_in\n",
    "    nb_neurons: n_filters of conv2d\n",
    "    '''\n",
    "        super(SVblock, self).__init__()\n",
    "\n",
    "        self.index = kwargs['index'] if 'index' in kwargs else None\n",
    "        self.conv1 = nn.Conv2d(in_neurons, nb_neurons, kernel_size=kernel_size, padding=1, stride=1)\n",
    "        self.conv2 = nn.Conv2d(nb_neurons, nb_neurons, kernel_size=kernel_size, padding=1, stride=1)\n",
    "        self.conv3 = nn.Conv2d(nb_neurons, nb_neurons, kernel_size=kernel_size, padding=1, stride=1)\n",
    "        \n",
    "        self.bn1 = nn.BatchNorm2d(nb_neurons)\n",
    "        self.bn2 = nn.BatchNorm2d(nb_neurons)\n",
    "        self.bn3 = nn.BatchNorm2d(nb_neurons)\n",
    "        \n",
    "        self.preconv1 = nn.Conv2d(in_neurons, nb_neurons, kernel_size=1)\n",
    "        self.preconv2 = nn.Conv2d(nb_neurons, nb_neurons, kernel_size=1)\n",
    "        self.preconv3 = nn.Conv2d(nb_neurons, nb_neurons, kernel_size=1)\n",
    "        self.bn1_ = nn.BatchNorm2d(nb_neurons)\n",
    "        self.bn2_ = nn.BatchNorm2d(nb_neurons)\n",
    "        self.bn3_ = nn.BatchNorm2d(nb_neurons)\n",
    "        \n",
    "        self.relu = nn.LeakyReLU(inplace=True)\n",
    "        self.maxpool = nn.MaxPool2d(kernel_size=(2,2), stride=2)\n",
    "     \n",
    "\n",
    "\n",
    "    def forward(self, x):        \n",
    "        \n",
    "        x0_res = self.preconv1(x)\n",
    "        x0_res = self.bn1_(x0_res)\n",
    "        \n",
    "        # 1st\n",
    "        x1 = self.conv1(x)\n",
    "        x1 = self.bn1(x1)\n",
    "        x1 = x1 + x0_res\n",
    "        x1 = self.relu(x1)\n",
    "        \n",
    "        x1_res = self.preconv2(x1)\n",
    "        x1_res = self.bn2_(x1_res)\n",
    "\n",
    "        # 2nd\n",
    "        x2 = self.conv2(x1)\n",
    "        x2 = self.bn2(x2)\n",
    "        x2 = x2 + x1_res\n",
    "        x2 = self.relu(x2)\n",
    "        \n",
    "        x2_res = self.preconv3(x2)\n",
    "        x2_res = self.bn3_(x2_res)\n",
    "        \n",
    "        # 3rd\n",
    "        x3 = self.conv3(x2)\n",
    "        x3 = self.bn3(x3)\n",
    "        x3 = x3 + x2_res\n",
    "        x3 = self.relu(x3)\n",
    "\n",
    "        # maxpooling\n",
    "        x_out = self.maxpool(x3)\n",
    "\n",
    "        return x_out"
   ]
  },
  {
   "cell_type": "code",
   "execution_count": 6,
   "metadata": {},
   "outputs": [],
   "source": [
    "class Attention(nn.Module):\n",
    "    \n",
    "    def __init__(self, feature_depth, target_depth, emb_dim, **kwargs):\n",
    "        super(Attention, self).__init__()\n",
    "        \n",
    "        self.emb_dim = emb_dim\n",
    "#         self.device = kwargs['device']\n",
    "        \n",
    "        self.iconv1 = nn.Conv2d(feature_depth, emb_dim, kernel_size=1)\n",
    "        self.iconv2 = nn.Conv2d(target_depth, emb_dim, kernel_size=1)\n",
    "        self.iconv3 = nn.Conv2d(target_depth, emb_dim, kernel_size=1)\n",
    "        self.iconv_out = nn.Conv2d(emb_dim, target_depth, kernel_size=1)\n",
    "        self.bn_out = nn.BatchNorm2d(target_depth)\n",
    "        \n",
    "        # ensure the init stage is the indentical mapping\n",
    "#         nn.init.zeros_(self.iconv_out.weight)\n",
    "#         nn.init.zeros_(self.iconv_out.bias)\n",
    "#         nn.init.zeros_(self.bn_out.weight)\n",
    "#         nn.init.zeros_(self.bn_out.bias)\n",
    "        \n",
    "    def forward(self, x):\n",
    "        x1_emb = self.iconv1(x)\n",
    "        _x1 = nn.Flatten(-2)(x1_emb)\n",
    "        \n",
    "        x2_emb = self.iconv2(x)\n",
    "        _x2 = nn.Flatten(-2)(x2_emb)\n",
    "        \n",
    "        x3_emb = self.iconv3(x)\n",
    "        \n",
    "        QK = torch.matmul(_x1, _x2.permute(0,2,1))\n",
    "        QK = QK / QK.size(1)\n",
    "        QK = torch.matmul(QK, QK.permute(0,2,1)).sum(1)\n",
    "        QK = QK.sigmoid()\n",
    "        QK = QK.unsqueeze(-1).unsqueeze(-1)\n",
    "        \n",
    "        \n",
    "        x_out = (1 + QK) * x3_emb\n",
    "        x_out = self.iconv_out(x_out)\n",
    "        x_out = self.bn_out(x_out)\n",
    "        x_out = nn.LeakyReLU(inplace=True)(x_out)\n",
    "        \n",
    "        x_out = x_out + x #residual\n",
    "        \n",
    "        return x_out"
   ]
  },
  {
   "cell_type": "code",
   "execution_count": 7,
   "metadata": {},
   "outputs": [],
   "source": [
    "class SVGG(nn.Module):\n",
    "    \n",
    "    def __init__(self, **kwargs):\n",
    "        super(SVGG, self).__init__()\n",
    "\n",
    "        self.device = torch.device('cpu') if not 'device' in kwargs else kwargs['device']\n",
    "\n",
    "        self.sv0 = SVblock(3, 64).to(self.device)\n",
    "        self.sv1 = SVblock(64, 128).to(self.device)\n",
    "        self.sv2 = SVblock(128, 256).to(self.device)\n",
    "        self.sv3 = SVblock(256, 512).to(self.device)\n",
    "        self.sv4 = SVblock(512, 1024).to(self.device)\n",
    "\n",
    "        self.wf0 = Attention(64, 64, emb_dim=32).to(self.device)\n",
    "        self.wf1 = Attention(128, 128, emb_dim=64).to(self.device)\n",
    "        self.wf2 = Attention(256, 256, emb_dim=128).to(self.device)\n",
    "        self.wf3 = Attention(512, 512, emb_dim=256).to(self.device)\n",
    "        self.wf4 = Attention(1024, 1024, emb_dim=512).to(self.device)\n",
    "\n",
    "        self.fc1 = nn.Linear(1024, 512)\n",
    "        self.bn1 = nn.BatchNorm1d(512)\n",
    "        self.fc2 = nn.Linear(512, 7)\n",
    "        self.bn2 = nn.BatchNorm1d(7)\n",
    "        \n",
    "    \n",
    "    def forward(self, x):\n",
    "        x0 = self.sv0(x)\n",
    "        x_wf0 = self.wf0(x0)\n",
    "\n",
    "        x1 = self.sv1(x_wf0)\n",
    "        x_wf1 = self.wf1(x1)\n",
    "\n",
    "        x2 = self.sv2(x_wf1)\n",
    "        x_wf2 = self.wf2(x2)\n",
    "\n",
    "        x3 = self.sv3(x_wf2)\n",
    "        x_wf3 = self.wf3(x3)\n",
    "        \n",
    "        x4 = self.sv4(x_wf3)\n",
    "        x_wf4 = self.wf4(x4)\n",
    "\n",
    "        x_wf4 = nn.AvgPool2d(kernel_size=(x_wf4.size(-2), x_wf4.size(-1)))(x_wf4)\n",
    "    \n",
    "        x = nn.Flatten()(x_wf4)\n",
    "\n",
    "        x = self.fc1(x)\n",
    "        x = self.bn1(x)\n",
    "        x = nn.LeakyReLU()(x)\n",
    "        x = self.fc2(x)\n",
    "        x = self.bn2(x)\n",
    "\n",
    "        return x"
   ]
  },
  {
   "cell_type": "code",
   "execution_count": 11,
   "metadata": {
    "scrolled": true
   },
   "outputs": [
    {
     "name": "stderr",
     "output_type": "stream",
     "text": [
      "\r",
      "  0%|          | 0/225 [00:00<?, ?it/s]"
     ]
    },
    {
     "name": "stdout",
     "output_type": "stream",
     "text": [
      "EPOCH: 0 LR: 0.0019999999999999983 \n"
     ]
    },
    {
     "name": "stderr",
     "output_type": "stream",
     "text": [
      "Loss=1.8106708526611328 Batch_id=224 le=0.0019999999999999983 Accuracy=25.15: 100%|██████████| 225/225 [00:53<00:00,  4.20it/s]"
     ]
    },
    {
     "name": "stdout",
     "output_type": "stream",
     "text": [
      "\t train_loss:  1.9297533758448402  | train_acc:  tensor(0.2515, device='cuda:0')\n"
     ]
    },
    {
     "name": "stderr",
     "output_type": "stream",
     "text": [
      "\n",
      "/usr/local/lib/python3.6/dist-packages/torch/optim/lr_scheduler.py:156: UserWarning: The epoch parameter in `scheduler.step()` was not necessary and is being deprecated where possible. Please use `scheduler.step()` to step the scheduler. During the deprecation, if epoch is different from None, the closed form is used instead of the new chainable form, where available. Please open an issue if you are unable to replicate your use case: https://github.com/pytorch/pytorch/issues/new/choose.\n",
      "  warnings.warn(EPOCH_DEPRECATION_WARNING, UserWarning)\n",
      "  0%|          | 0/225 [00:00<?, ?it/s]"
     ]
    },
    {
     "name": "stdout",
     "output_type": "stream",
     "text": [
      "\n",
      "Test set: Average loss: 2.2517, Accuracy: 869.0/3589 (24.21%)\n",
      "\n",
      "* Update optimal model\n",
      "EPOCH: 1 LR: 0.0020000445212102237 \n"
     ]
    },
    {
     "name": "stderr",
     "output_type": "stream",
     "text": [
      "Loss=1.6105784177780151 Batch_id=224 le=0.0020000445212102237 Accuracy=34.56: 100%|██████████| 225/225 [00:54<00:00,  4.15it/s]"
     ]
    },
    {
     "name": "stdout",
     "output_type": "stream",
     "text": [
      "\t train_loss:  1.6686882905241895  | train_acc:  tensor(0.3456, device='cuda:0')\n"
     ]
    },
    {
     "name": "stderr",
     "output_type": "stream",
     "text": [
      "\n",
      "  0%|          | 0/225 [00:00<?, ?it/s]"
     ]
    },
    {
     "name": "stdout",
     "output_type": "stream",
     "text": [
      "\n",
      "Test set: Average loss: 1.8379, Accuracy: 985.0/3589 (27.44%)\n",
      "\n",
      "* Update optimal model\n",
      "EPOCH: 2 LR: 0.0020000296616905014 \n"
     ]
    },
    {
     "name": "stderr",
     "output_type": "stream",
     "text": [
      "Loss=1.3165181875228882 Batch_id=224 le=0.0020000296616905014 Accuracy=44.33: 100%|██████████| 225/225 [00:54<00:00,  4.14it/s]"
     ]
    },
    {
     "name": "stdout",
     "output_type": "stream",
     "text": [
      "\t train_loss:  1.4460182392865855  | train_acc:  tensor(0.4433, device='cuda:0')\n"
     ]
    },
    {
     "name": "stderr",
     "output_type": "stream",
     "text": [
      "\n",
      "  0%|          | 0/225 [00:00<?, ?it/s]"
     ]
    },
    {
     "name": "stdout",
     "output_type": "stream",
     "text": [
      "\n",
      "Test set: Average loss: 1.4296, Accuracy: 1632.0/3589 (45.47%)\n",
      "\n",
      "* Update optimal model\n",
      "EPOCH: 3 LR: 0.0020000179464574434 \n"
     ]
    },
    {
     "name": "stderr",
     "output_type": "stream",
     "text": [
      "Loss=1.5166144371032715 Batch_id=224 le=0.0020000179464574434 Accuracy=48.07: 100%|██████████| 225/225 [00:54<00:00,  4.14it/s]"
     ]
    },
    {
     "name": "stdout",
     "output_type": "stream",
     "text": [
      "\t train_loss:  1.35524866139072  | train_acc:  tensor(0.4807, device='cuda:0')\n"
     ]
    },
    {
     "name": "stderr",
     "output_type": "stream",
     "text": [
      "\n",
      "  0%|          | 0/225 [00:00<?, ?it/s]"
     ]
    },
    {
     "name": "stdout",
     "output_type": "stream",
     "text": [
      "\n",
      "Test set: Average loss: 1.4133, Accuracy: 1628.0/3589 (45.36%)\n",
      "\n",
      "* Update optimal model\n",
      "EPOCH: 4 LR: 0.0020000175395923185 \n"
     ]
    },
    {
     "name": "stderr",
     "output_type": "stream",
     "text": [
      "Loss=1.362617015838623 Batch_id=224 le=0.0020000175395923185 Accuracy=50.76: 100%|██████████| 225/225 [00:54<00:00,  4.13it/s] "
     ]
    },
    {
     "name": "stdout",
     "output_type": "stream",
     "text": [
      "\t train_loss:  1.2998316165832788  | train_acc:  tensor(0.5076, device='cuda:0')\n"
     ]
    },
    {
     "name": "stderr",
     "output_type": "stream",
     "text": [
      "\n",
      "  0%|          | 0/225 [00:00<?, ?it/s]"
     ]
    },
    {
     "name": "stdout",
     "output_type": "stream",
     "text": [
      "\n",
      "Test set: Average loss: 1.4039, Accuracy: 1678.0/3589 (46.75%)\n",
      "\n",
      "* Update optimal model\n",
      "EPOCH: 5 LR: 0.0020000173056022134 \n"
     ]
    },
    {
     "name": "stderr",
     "output_type": "stream",
     "text": [
      "Loss=1.2524348497390747 Batch_id=224 le=0.0020000173056022134 Accuracy=51.65: 100%|██████████| 225/225 [00:54<00:00,  4.13it/s]"
     ]
    },
    {
     "name": "stdout",
     "output_type": "stream",
     "text": [
      "\t train_loss:  1.2722340886996222  | train_acc:  tensor(0.5165, device='cuda:0')\n"
     ]
    },
    {
     "name": "stderr",
     "output_type": "stream",
     "text": [
      "\n",
      "  0%|          | 0/225 [00:00<?, ?it/s]"
     ]
    },
    {
     "name": "stdout",
     "output_type": "stream",
     "text": [
      "\n",
      "Test set: Average loss: 1.4436, Accuracy: 1593.0/3589 (44.39%)\n",
      "\n",
      "* Update optimal model\n",
      "EPOCH: 6 LR: 0.002000018298992868 \n"
     ]
    },
    {
     "name": "stderr",
     "output_type": "stream",
     "text": [
      "Loss=1.118680715560913 Batch_id=224 le=0.002000018298992868 Accuracy=53.68: 100%|██████████| 225/225 [00:54<00:00,  4.14it/s] "
     ]
    },
    {
     "name": "stdout",
     "output_type": "stream",
     "text": [
      "\t train_loss:  1.2200991188895596  | train_acc:  tensor(0.5368, device='cuda:0')\n"
     ]
    },
    {
     "name": "stderr",
     "output_type": "stream",
     "text": [
      "\n",
      "  0%|          | 0/225 [00:00<?, ?it/s]"
     ]
    },
    {
     "name": "stdout",
     "output_type": "stream",
     "text": [
      "\n",
      "Test set: Average loss: 1.3243, Accuracy: 1783.0/3589 (49.68%)\n",
      "\n",
      "* Update optimal model\n",
      "EPOCH: 7 LR: 0.002000015400428684 \n"
     ]
    },
    {
     "name": "stderr",
     "output_type": "stream",
     "text": [
      "Loss=1.4109828472137451 Batch_id=224 le=0.002000015400428684 Accuracy=55.90: 100%|██████████| 225/225 [00:54<00:00,  4.14it/s]"
     ]
    },
    {
     "name": "stdout",
     "output_type": "stream",
     "text": [
      "\t train_loss:  1.1710775112124994  | train_acc:  tensor(0.5590, device='cuda:0')\n"
     ]
    },
    {
     "name": "stderr",
     "output_type": "stream",
     "text": [
      "\n",
      "  0%|          | 0/225 [00:00<?, ?it/s]"
     ]
    },
    {
     "name": "stdout",
     "output_type": "stream",
     "text": [
      "\n",
      "Test set: Average loss: 1.2633, Accuracy: 1860.0/3589 (51.83%)\n",
      "\n",
      "* Update optimal model\n",
      "EPOCH: 8 LR: 0.002000014012528452 \n"
     ]
    },
    {
     "name": "stderr",
     "output_type": "stream",
     "text": [
      "Loss=1.1304219961166382 Batch_id=224 le=0.002000014012528452 Accuracy=56.87: 100%|██████████| 225/225 [00:54<00:00,  4.15it/s]"
     ]
    },
    {
     "name": "stdout",
     "output_type": "stream",
     "text": [
      "\t train_loss:  1.1424546355492617  | train_acc:  tensor(0.5687, device='cuda:0')\n"
     ]
    },
    {
     "name": "stderr",
     "output_type": "stream",
     "text": [
      "\n",
      "  0%|          | 0/225 [00:00<?, ?it/s]"
     ]
    },
    {
     "name": "stdout",
     "output_type": "stream",
     "text": [
      "\n",
      "Test set: Average loss: 1.2321, Accuracy: 1937.0/3589 (53.97%)\n",
      "\n",
      "* Update optimal model\n",
      "EPOCH: 9 LR: 0.002000013330554471 \n"
     ]
    },
    {
     "name": "stderr",
     "output_type": "stream",
     "text": [
      "Loss=1.1149868965148926 Batch_id=224 le=0.002000013330554471 Accuracy=58.08: 100%|██████████| 225/225 [00:54<00:00,  4.13it/s]"
     ]
    },
    {
     "name": "stdout",
     "output_type": "stream",
     "text": [
      "\t train_loss:  1.1144451938239694  | train_acc:  tensor(0.5808, device='cuda:0')\n"
     ]
    },
    {
     "name": "stderr",
     "output_type": "stream",
     "text": [
      "\n",
      "  0%|          | 0/225 [00:00<?, ?it/s]"
     ]
    },
    {
     "name": "stdout",
     "output_type": "stream",
     "text": [
      "\n",
      "Test set: Average loss: 1.2198, Accuracy: 1946.0/3589 (54.22%)\n",
      "\n",
      "* Update optimal model\n",
      "EPOCH: 10 LR: 0.0020000130651872186 \n"
     ]
    },
    {
     "name": "stderr",
     "output_type": "stream",
     "text": [
      "Loss=1.3337376117706299 Batch_id=224 le=0.0020000130651872186 Accuracy=59.04: 100%|██████████| 225/225 [00:54<00:00,  4.12it/s]"
     ]
    },
    {
     "name": "stdout",
     "output_type": "stream",
     "text": [
      "\t train_loss:  1.0938732572232857  | train_acc:  tensor(0.5904, device='cuda:0')\n"
     ]
    },
    {
     "name": "stderr",
     "output_type": "stream",
     "text": [
      "\n",
      "  0%|          | 0/225 [00:00<?, ?it/s]"
     ]
    },
    {
     "name": "stdout",
     "output_type": "stream",
     "text": [
      "\n",
      "Test set: Average loss: 1.2404, Accuracy: 1923.0/3589 (53.58%)\n",
      "\n",
      "* Update optimal model\n",
      "EPOCH: 11 LR: 0.0020000135095969776 \n"
     ]
    },
    {
     "name": "stderr",
     "output_type": "stream",
     "text": [
      "Loss=0.9909757375717163 Batch_id=224 le=0.0020000135095969776 Accuracy=59.60: 100%|██████████| 225/225 [00:54<00:00,  4.13it/s]"
     ]
    },
    {
     "name": "stdout",
     "output_type": "stream",
     "text": [
      "\t train_loss:  1.0788672977432427  | train_acc:  tensor(0.5960, device='cuda:0')\n"
     ]
    },
    {
     "name": "stderr",
     "output_type": "stream",
     "text": [
      "\n",
      "  0%|          | 0/225 [00:00<?, ?it/s]"
     ]
    },
    {
     "name": "stdout",
     "output_type": "stream",
     "text": [
      "\n",
      "Test set: Average loss: 1.2673, Accuracy: 1876.0/3589 (52.27%)\n",
      "\n",
      "* Update optimal model\n",
      "EPOCH: 12 LR: 0.0020000141015599493 \n"
     ]
    },
    {
     "name": "stderr",
     "output_type": "stream",
     "text": [
      "Loss=1.0217204093933105 Batch_id=224 le=0.0020000141015599493 Accuracy=60.27: 100%|██████████| 225/225 [00:54<00:00,  4.13it/s]"
     ]
    },
    {
     "name": "stdout",
     "output_type": "stream",
     "text": [
      "\t train_loss:  1.0650134316481967  | train_acc:  tensor(0.6027, device='cuda:0')\n"
     ]
    },
    {
     "name": "stderr",
     "output_type": "stream",
     "text": [
      "\n",
      "  0%|          | 0/225 [00:00<?, ?it/s]"
     ]
    },
    {
     "name": "stdout",
     "output_type": "stream",
     "text": [
      "\n",
      "Test set: Average loss: 1.2499, Accuracy: 1923.0/3589 (53.58%)\n",
      "\n",
      "* Update optimal model\n",
      "EPOCH: 13 LR: 0.002000013717496002 \n"
     ]
    },
    {
     "name": "stderr",
     "output_type": "stream",
     "text": [
      "Loss=0.6323030591011047 Batch_id=224 le=0.002000013717496002 Accuracy=60.75: 100%|██████████| 225/225 [00:54<00:00,  4.13it/s]"
     ]
    },
    {
     "name": "stdout",
     "output_type": "stream",
     "text": [
      "\t train_loss:  1.0449933076964522  | train_acc:  tensor(0.6075, device='cuda:0')\n"
     ]
    },
    {
     "name": "stderr",
     "output_type": "stream",
     "text": [
      "\n",
      "  0%|          | 0/225 [00:00<?, ?it/s]"
     ]
    },
    {
     "name": "stdout",
     "output_type": "stream",
     "text": [
      "\n",
      "Test set: Average loss: 1.1719, Accuracy: 2000.0/3589 (55.73%)\n",
      "\n",
      "* Update optimal model\n",
      "EPOCH: 14 LR: 0.0020000120588732836 \n"
     ]
    },
    {
     "name": "stderr",
     "output_type": "stream",
     "text": [
      "Loss=1.0027713775634766 Batch_id=224 le=0.0020000120588732836 Accuracy=61.23: 100%|██████████| 225/225 [00:54<00:00,  4.15it/s]"
     ]
    },
    {
     "name": "stdout",
     "output_type": "stream",
     "text": [
      "\t train_loss:  1.0322871921893684  | train_acc:  tensor(0.6123, device='cuda:0')\n"
     ]
    },
    {
     "name": "stderr",
     "output_type": "stream",
     "text": [
      "\n",
      "  0%|          | 0/225 [00:00<?, ?it/s]"
     ]
    },
    {
     "name": "stdout",
     "output_type": "stream",
     "text": [
      "\n",
      "Test set: Average loss: 1.1453, Accuracy: 2062.0/3589 (57.45%)\n",
      "\n",
      "* Update optimal model\n",
      "EPOCH: 15 LR: 0.002000011517940093 \n"
     ]
    },
    {
     "name": "stderr",
     "output_type": "stream",
     "text": [
      "Loss=1.1876516342163086 Batch_id=224 le=0.002000011517940093 Accuracy=61.64: 100%|██████████| 225/225 [00:54<00:00,  4.13it/s]\n"
     ]
    },
    {
     "name": "stdout",
     "output_type": "stream",
     "text": [
      "\t train_loss:  1.0229099195883555  | train_acc:  tensor(0.6164, device='cuda:0')\n"
     ]
    },
    {
     "name": "stderr",
     "output_type": "stream",
     "text": [
      "\r",
      "  0%|          | 0/225 [00:00<?, ?it/s]"
     ]
    },
    {
     "name": "stdout",
     "output_type": "stream",
     "text": [
      "\n",
      "Test set: Average loss: 1.1702, Accuracy: 2008.0/3589 (55.95%)\n",
      "\n",
      "* Update optimal model\n",
      "EPOCH: 16 LR: 0.0020000120235848552 \n"
     ]
    },
    {
     "name": "stderr",
     "output_type": "stream",
     "text": [
      "Loss=0.9792997241020203 Batch_id=224 le=0.0020000120235848552 Accuracy=61.87: 100%|██████████| 225/225 [00:54<00:00,  4.13it/s]"
     ]
    },
    {
     "name": "stdout",
     "output_type": "stream",
     "text": [
      "\t train_loss:  1.015284364932034  | train_acc:  tensor(0.6187, device='cuda:0')\n"
     ]
    },
    {
     "name": "stderr",
     "output_type": "stream",
     "text": [
      "\n",
      "  0%|          | 0/225 [00:00<?, ?it/s]"
     ]
    },
    {
     "name": "stdout",
     "output_type": "stream",
     "text": [
      "\n",
      "Test set: Average loss: 1.0892, Accuracy: 2105.0/3589 (58.65%)\n",
      "\n",
      "* Update optimal model\n",
      "EPOCH: 17 LR: 0.0020000104178443077 \n"
     ]
    },
    {
     "name": "stderr",
     "output_type": "stream",
     "text": [
      "Loss=1.0279721021652222 Batch_id=224 le=0.0020000104178443077 Accuracy=62.70: 100%|██████████| 225/225 [00:54<00:00,  4.13it/s]"
     ]
    },
    {
     "name": "stdout",
     "output_type": "stream",
     "text": [
      "\t train_loss:  0.9971322879559061  | train_acc:  tensor(0.6270, device='cuda:0')\n"
     ]
    },
    {
     "name": "stderr",
     "output_type": "stream",
     "text": [
      "\n",
      "  0%|          | 0/225 [00:00<?, ?it/s]"
     ]
    },
    {
     "name": "stdout",
     "output_type": "stream",
     "text": [
      "\n",
      "Test set: Average loss: 1.1740, Accuracy: 1959.0/3589 (54.58%)\n",
      "\n",
      "* Update optimal model\n",
      "EPOCH: 18 LR: 0.0020000121026497106 \n"
     ]
    },
    {
     "name": "stderr",
     "output_type": "stream",
     "text": [
      "Loss=1.0285272598266602 Batch_id=224 le=0.0020000121026497106 Accuracy=62.89: 100%|██████████| 225/225 [00:54<00:00,  4.13it/s]"
     ]
    },
    {
     "name": "stdout",
     "output_type": "stream",
     "text": [
      "\t train_loss:  0.9917431663971069  | train_acc:  tensor(0.6289, device='cuda:0')\n"
     ]
    },
    {
     "name": "stderr",
     "output_type": "stream",
     "text": [
      "\n",
      "  0%|          | 0/225 [00:00<?, ?it/s]"
     ]
    },
    {
     "name": "stdout",
     "output_type": "stream",
     "text": [
      "\n",
      "Test set: Average loss: 1.0965, Accuracy: 2119.0/3589 (59.04%)\n",
      "\n",
      "* Update optimal model\n",
      "EPOCH: 19 LR: 0.002000010558143247 \n"
     ]
    },
    {
     "name": "stderr",
     "output_type": "stream",
     "text": [
      "Loss=0.7993600368499756 Batch_id=224 le=0.002000010558143247 Accuracy=62.87: 100%|██████████| 225/225 [00:54<00:00,  4.13it/s]"
     ]
    },
    {
     "name": "stdout",
     "output_type": "stream",
     "text": [
      "\t train_loss:  0.9872091585177439  | train_acc:  tensor(0.6287, device='cuda:0')\n"
     ]
    },
    {
     "name": "stderr",
     "output_type": "stream",
     "text": [
      "\n",
      "  0%|          | 0/225 [00:00<?, ?it/s]"
     ]
    },
    {
     "name": "stdout",
     "output_type": "stream",
     "text": [
      "\n",
      "Test set: Average loss: 1.1069, Accuracy: 2089.0/3589 (58.21%)\n",
      "\n",
      "* Update optimal model\n",
      "EPOCH: 20 LR: 0.002000010757965607 \n"
     ]
    },
    {
     "name": "stderr",
     "output_type": "stream",
     "text": [
      "Loss=1.3031179904937744 Batch_id=224 le=0.002000010757965607 Accuracy=63.51: 100%|██████████| 225/225 [00:54<00:00,  4.13it/s]"
     ]
    },
    {
     "name": "stdout",
     "output_type": "stream",
     "text": [
      "\t train_loss:  0.9748597212431386  | train_acc:  tensor(0.6351, device='cuda:0')\n"
     ]
    },
    {
     "name": "stderr",
     "output_type": "stream",
     "text": [
      "\n",
      "  0%|          | 0/225 [00:00<?, ?it/s]"
     ]
    },
    {
     "name": "stdout",
     "output_type": "stream",
     "text": [
      "\n",
      "Test set: Average loss: 1.1303, Accuracy: 2076.0/3589 (57.84%)\n",
      "\n",
      "* Update optimal model\n",
      "EPOCH: 21 LR: 0.0020000112181384998 \n"
     ]
    },
    {
     "name": "stderr",
     "output_type": "stream",
     "text": [
      "Loss=1.1900779008865356 Batch_id=224 le=0.0020000112181384998 Accuracy=63.74: 100%|██████████| 225/225 [00:54<00:00,  4.15it/s]"
     ]
    },
    {
     "name": "stdout",
     "output_type": "stream",
     "text": [
      "\t train_loss:  0.9738652282566888  | train_acc:  tensor(0.6374, device='cuda:0')\n"
     ]
    },
    {
     "name": "stderr",
     "output_type": "stream",
     "text": [
      "\n",
      "  0%|          | 0/225 [00:00<?, ?it/s]"
     ]
    },
    {
     "name": "stdout",
     "output_type": "stream",
     "text": [
      "\n",
      "Test set: Average loss: 1.1216, Accuracy: 2111.0/3589 (58.82%)\n",
      "\n",
      "* Update optimal model\n",
      "EPOCH: 22 LR: 0.002000011046108807 \n"
     ]
    },
    {
     "name": "stderr",
     "output_type": "stream",
     "text": [
      "Loss=0.7885708808898926 Batch_id=224 le=0.002000011046108807 Accuracy=64.28: 100%|██████████| 225/225 [00:54<00:00,  4.14it/s]"
     ]
    },
    {
     "name": "stdout",
     "output_type": "stream",
     "text": [
      "\t train_loss:  0.9574686832747542  | train_acc:  tensor(0.6428, device='cuda:0')\n"
     ]
    },
    {
     "name": "stderr",
     "output_type": "stream",
     "text": [
      "\n",
      "  0%|          | 0/225 [00:00<?, ?it/s]"
     ]
    },
    {
     "name": "stdout",
     "output_type": "stream",
     "text": [
      "\n",
      "Test set: Average loss: 1.1018, Accuracy: 2135.0/3589 (59.49%)\n",
      "\n",
      "* Update optimal model\n",
      "EPOCH: 23 LR: 0.0020000106601779782 \n"
     ]
    },
    {
     "name": "stderr",
     "output_type": "stream",
     "text": [
      "Loss=1.0516051054000854 Batch_id=224 le=0.0020000106601779782 Accuracy=64.27: 100%|██████████| 225/225 [00:54<00:00,  4.15it/s]"
     ]
    },
    {
     "name": "stdout",
     "output_type": "stream",
     "text": [
      "\t train_loss:  0.9546234935606164  | train_acc:  tensor(0.6427, device='cuda:0')\n"
     ]
    },
    {
     "name": "stderr",
     "output_type": "stream",
     "text": [
      "\n",
      "  0%|          | 0/225 [00:00<?, ?it/s]"
     ]
    },
    {
     "name": "stdout",
     "output_type": "stream",
     "text": [
      "\n",
      "Test set: Average loss: 1.0884, Accuracy: 2133.0/3589 (59.43%)\n",
      "\n",
      "* Update optimal model\n",
      "EPOCH: 24 LR: 0.0020000104010129277 \n"
     ]
    },
    {
     "name": "stderr",
     "output_type": "stream",
     "text": [
      "Loss=1.0276159048080444 Batch_id=224 le=0.0020000104010129277 Accuracy=64.86: 100%|██████████| 225/225 [00:54<00:00,  4.15it/s]"
     ]
    },
    {
     "name": "stdout",
     "output_type": "stream",
     "text": [
      "\t train_loss:  0.9510449738606975  | train_acc:  tensor(0.6486, device='cuda:0')\n"
     ]
    },
    {
     "name": "stderr",
     "output_type": "stream",
     "text": [
      "\n",
      "  0%|          | 0/225 [00:00<?, ?it/s]"
     ]
    },
    {
     "name": "stdout",
     "output_type": "stream",
     "text": [
      "\n",
      "Test set: Average loss: 1.0824, Accuracy: 2112.0/3589 (58.85%)\n",
      "\n",
      "* Update optimal model\n",
      "EPOCH: 25 LR: 0.00200001028748242 \n"
     ]
    },
    {
     "name": "stderr",
     "output_type": "stream",
     "text": [
      "Loss=0.9945996999740601 Batch_id=224 le=0.00200001028748242 Accuracy=64.80: 100%|██████████| 225/225 [00:54<00:00,  4.13it/s]"
     ]
    },
    {
     "name": "stdout",
     "output_type": "stream",
     "text": [
      "\t train_loss:  0.94470896234316  | train_acc:  tensor(0.6480, device='cuda:0')\n"
     ]
    },
    {
     "name": "stderr",
     "output_type": "stream",
     "text": [
      "\n",
      "  0%|          | 0/225 [00:00<?, ?it/s]"
     ]
    },
    {
     "name": "stdout",
     "output_type": "stream",
     "text": [
      "\n",
      "Test set: Average loss: 1.1009, Accuracy: 2086.0/3589 (58.12%)\n",
      "\n",
      "* Update optimal model\n",
      "EPOCH: 26 LR: 0.0020000106415949334 \n"
     ]
    },
    {
     "name": "stderr",
     "output_type": "stream",
     "text": [
      "Loss=0.7496457099914551 Batch_id=224 le=0.0020000106415949334 Accuracy=65.11: 100%|██████████| 225/225 [00:54<00:00,  4.14it/s]"
     ]
    },
    {
     "name": "stdout",
     "output_type": "stream",
     "text": [
      "\t train_loss:  0.9355675130350687  | train_acc:  tensor(0.6511, device='cuda:0')\n"
     ]
    },
    {
     "name": "stderr",
     "output_type": "stream",
     "text": [
      "\n",
      "  0%|          | 0/225 [00:00<?, ?it/s]"
     ]
    },
    {
     "name": "stdout",
     "output_type": "stream",
     "text": [
      "\n",
      "Test set: Average loss: 1.1398, Accuracy: 2029.0/3589 (56.53%)\n",
      "\n",
      "* Update optimal model\n",
      "EPOCH: 27 LR: 0.0020000114070066605 \n"
     ]
    },
    {
     "name": "stderr",
     "output_type": "stream",
     "text": [
      "Loss=0.8712818026542664 Batch_id=224 le=0.0020000114070066605 Accuracy=65.29: 100%|██████████| 225/225 [00:54<00:00,  4.14it/s]"
     ]
    },
    {
     "name": "stdout",
     "output_type": "stream",
     "text": [
      "\t train_loss:  0.930548911498023  | train_acc:  tensor(0.6529, device='cuda:0')\n"
     ]
    },
    {
     "name": "stderr",
     "output_type": "stream",
     "text": [
      "\n",
      "  0%|          | 0/225 [00:00<?, ?it/s]"
     ]
    },
    {
     "name": "stdout",
     "output_type": "stream",
     "text": [
      "\n",
      "Test set: Average loss: 1.1044, Accuracy: 2098.0/3589 (58.46%)\n",
      "\n",
      "* Update optimal model\n",
      "EPOCH: 28 LR: 0.0020000107105577376 \n"
     ]
    },
    {
     "name": "stderr",
     "output_type": "stream",
     "text": [
      "Loss=1.0064274072647095 Batch_id=224 le=0.0020000107105577376 Accuracy=65.54: 100%|██████████| 225/225 [00:54<00:00,  4.14it/s]\n"
     ]
    },
    {
     "name": "stdout",
     "output_type": "stream",
     "text": [
      "\t train_loss:  0.9271463643811523  | train_acc:  tensor(0.6554, device='cuda:0')\n"
     ]
    },
    {
     "name": "stderr",
     "output_type": "stream",
     "text": [
      "\r",
      "  0%|          | 0/225 [00:00<?, ?it/s]"
     ]
    },
    {
     "name": "stdout",
     "output_type": "stream",
     "text": [
      "\n",
      "Test set: Average loss: 1.1038, Accuracy: 2115.0/3589 (58.93%)\n",
      "\n",
      "* Update optimal model\n",
      "EPOCH: 29 LR: 0.0020000106982015625 \n"
     ]
    },
    {
     "name": "stderr",
     "output_type": "stream",
     "text": [
      "Loss=0.8610618710517883 Batch_id=224 le=0.0020000106982015625 Accuracy=65.67: 100%|██████████| 225/225 [00:54<00:00,  4.14it/s]"
     ]
    },
    {
     "name": "stdout",
     "output_type": "stream",
     "text": [
      "\t train_loss:  0.9218816657234764  | train_acc:  tensor(0.6567, device='cuda:0')\n"
     ]
    },
    {
     "name": "stderr",
     "output_type": "stream",
     "text": [
      "\n",
      "  0%|          | 0/225 [00:00<?, ?it/s]"
     ]
    },
    {
     "name": "stdout",
     "output_type": "stream",
     "text": [
      "\n",
      "Test set: Average loss: 1.0927, Accuracy: 2118.0/3589 (59.01%)\n",
      "\n",
      "* Update optimal model\n",
      "EPOCH: 30 LR: 0.0020000104844825513 \n"
     ]
    },
    {
     "name": "stderr",
     "output_type": "stream",
     "text": [
      "Loss=0.8406438827514648 Batch_id=224 le=0.0020000104844825513 Accuracy=65.54: 100%|██████████| 225/225 [00:54<00:00,  4.13it/s]"
     ]
    },
    {
     "name": "stdout",
     "output_type": "stream",
     "text": [
      "\t train_loss:  0.9165327412036814  | train_acc:  tensor(0.6554, device='cuda:0')\n"
     ]
    },
    {
     "name": "stderr",
     "output_type": "stream",
     "text": [
      "\n",
      "  0%|          | 0/225 [00:00<?, ?it/s]"
     ]
    },
    {
     "name": "stdout",
     "output_type": "stream",
     "text": [
      "\n",
      "Test set: Average loss: 1.2603, Accuracy: 1865.0/3589 (51.96%)\n",
      "\n",
      "* Update optimal model\n",
      "EPOCH: 31 LR: 0.002000013947035067 \n"
     ]
    },
    {
     "name": "stderr",
     "output_type": "stream",
     "text": [
      "Loss=0.7638731002807617 Batch_id=224 le=0.002000013947035067 Accuracy=66.24: 100%|██████████| 225/225 [00:54<00:00,  4.13it/s]\n"
     ]
    },
    {
     "name": "stdout",
     "output_type": "stream",
     "text": [
      "\t train_loss:  0.9095472335283932  | train_acc:  tensor(0.6624, device='cuda:0')\n"
     ]
    },
    {
     "name": "stderr",
     "output_type": "stream",
     "text": [
      "\r",
      "  0%|          | 0/225 [00:00<?, ?it/s]"
     ]
    },
    {
     "name": "stdout",
     "output_type": "stream",
     "text": [
      "\n",
      "Test set: Average loss: 1.1005, Accuracy: 2122.0/3589 (59.13%)\n",
      "\n",
      "* Update optimal model\n",
      "EPOCH: 32 LR: 0.002000010634302614 \n"
     ]
    },
    {
     "name": "stderr",
     "output_type": "stream",
     "text": [
      "Loss=1.0515315532684326 Batch_id=224 le=0.002000010634302614 Accuracy=66.48: 100%|██████████| 225/225 [00:54<00:00,  4.14it/s]"
     ]
    },
    {
     "name": "stdout",
     "output_type": "stream",
     "text": [
      "\t train_loss:  0.90273042541341  | train_acc:  tensor(0.6648, device='cuda:0')\n"
     ]
    },
    {
     "name": "stderr",
     "output_type": "stream",
     "text": [
      "\n",
      "  0%|          | 0/225 [00:00<?, ?it/s]"
     ]
    },
    {
     "name": "stdout",
     "output_type": "stream",
     "text": [
      "\n",
      "Test set: Average loss: 1.1704, Accuracy: 2043.0/3589 (56.92%)\n",
      "\n",
      "* Update optimal model\n",
      "EPOCH: 33 LR: 0.0020000120273570114 \n"
     ]
    },
    {
     "name": "stderr",
     "output_type": "stream",
     "text": [
      "Loss=0.6612899303436279 Batch_id=224 le=0.0020000120273570114 Accuracy=66.54: 100%|██████████| 225/225 [00:54<00:00,  4.13it/s]"
     ]
    },
    {
     "name": "stdout",
     "output_type": "stream",
     "text": [
      "\t train_loss:  0.8986220070218637  | train_acc:  tensor(0.6654, device='cuda:0')\n"
     ]
    },
    {
     "name": "stderr",
     "output_type": "stream",
     "text": [
      "\n",
      "  0%|          | 0/225 [00:00<?, ?it/s]"
     ]
    },
    {
     "name": "stdout",
     "output_type": "stream",
     "text": [
      "\n",
      "Test set: Average loss: 1.0677, Accuracy: 2173.0/3589 (60.55%)\n",
      "\n",
      "* Update optimal model\n",
      "EPOCH: 34 LR: 0.0020000100096575213 \n"
     ]
    },
    {
     "name": "stderr",
     "output_type": "stream",
     "text": [
      "Loss=0.9069620966911316 Batch_id=224 le=0.0020000100096575213 Accuracy=66.86: 100%|██████████| 225/225 [00:54<00:00,  4.14it/s]"
     ]
    },
    {
     "name": "stdout",
     "output_type": "stream",
     "text": [
      "\t train_loss:  0.8971374014846591  | train_acc:  tensor(0.6686, device='cuda:0')\n"
     ]
    },
    {
     "name": "stderr",
     "output_type": "stream",
     "text": [
      "\n",
      "  0%|          | 0/225 [00:00<?, ?it/s]"
     ]
    },
    {
     "name": "stdout",
     "output_type": "stream",
     "text": [
      "\n",
      "Test set: Average loss: 1.1463, Accuracy: 2115.0/3589 (58.93%)\n",
      "\n",
      "* Update optimal model\n",
      "EPOCH: 35 LR: 0.0020000115370448247 \n"
     ]
    },
    {
     "name": "stderr",
     "output_type": "stream",
     "text": [
      "Loss=0.91529381275177 Batch_id=224 le=0.0020000115370448247 Accuracy=67.33: 100%|██████████| 225/225 [00:54<00:00,  4.14it/s]  "
     ]
    },
    {
     "name": "stdout",
     "output_type": "stream",
     "text": [
      "\t train_loss:  0.8891503733441583  | train_acc:  tensor(0.6733, device='cuda:0')\n"
     ]
    },
    {
     "name": "stderr",
     "output_type": "stream",
     "text": [
      "\n",
      "  0%|          | 0/225 [00:00<?, ?it/s]"
     ]
    },
    {
     "name": "stdout",
     "output_type": "stream",
     "text": [
      "\n",
      "Test set: Average loss: 1.1951, Accuracy: 1999.0/3589 (55.70%)\n",
      "\n",
      "* Update optimal model\n",
      "EPOCH: 36 LR: 0.002000012541915737 \n"
     ]
    },
    {
     "name": "stderr",
     "output_type": "stream",
     "text": [
      "Loss=1.014435052871704 Batch_id=224 le=0.002000012541915737 Accuracy=67.09: 100%|██████████| 225/225 [00:54<00:00,  4.14it/s] "
     ]
    },
    {
     "name": "stdout",
     "output_type": "stream",
     "text": [
      "\t train_loss:  0.8892228731088759  | train_acc:  tensor(0.6709, device='cuda:0')\n"
     ]
    },
    {
     "name": "stderr",
     "output_type": "stream",
     "text": [
      "\n",
      "  0%|          | 0/225 [00:00<?, ?it/s]"
     ]
    },
    {
     "name": "stdout",
     "output_type": "stream",
     "text": [
      "\n",
      "Test set: Average loss: 1.1277, Accuracy: 2121.0/3589 (59.10%)\n",
      "\n",
      "* Update optimal model\n",
      "EPOCH: 37 LR: 0.00200001116562238 \n"
     ]
    },
    {
     "name": "stderr",
     "output_type": "stream",
     "text": [
      "Loss=0.8966618180274963 Batch_id=224 le=0.00200001116562238 Accuracy=67.50: 100%|██████████| 225/225 [00:54<00:00,  4.12it/s]"
     ]
    },
    {
     "name": "stdout",
     "output_type": "stream",
     "text": [
      "\t train_loss:  0.8805838184419971  | train_acc:  tensor(0.6750, device='cuda:0')\n"
     ]
    },
    {
     "name": "stderr",
     "output_type": "stream",
     "text": [
      "\n",
      "  0%|          | 0/225 [00:00<?, ?it/s]"
     ]
    },
    {
     "name": "stdout",
     "output_type": "stream",
     "text": [
      "\n",
      "Test set: Average loss: 1.1259, Accuracy: 2083.0/3589 (58.04%)\n",
      "\n",
      "* Update optimal model\n",
      "EPOCH: 38 LR: 0.0020000111309408063 \n"
     ]
    },
    {
     "name": "stderr",
     "output_type": "stream",
     "text": [
      "Loss=0.9324309825897217 Batch_id=224 le=0.0020000111309408063 Accuracy=67.40: 100%|██████████| 225/225 [00:54<00:00,  4.12it/s]"
     ]
    },
    {
     "name": "stdout",
     "output_type": "stream",
     "text": [
      "\t train_loss:  0.8743415701422116  | train_acc:  tensor(0.6740, device='cuda:0')\n"
     ]
    },
    {
     "name": "stderr",
     "output_type": "stream",
     "text": [
      "\n",
      "  0%|          | 0/225 [00:00<?, ?it/s]"
     ]
    },
    {
     "name": "stdout",
     "output_type": "stream",
     "text": [
      "\n",
      "Test set: Average loss: 1.1401, Accuracy: 2101.0/3589 (58.54%)\n",
      "\n",
      "* Update optimal model\n",
      "EPOCH: 39 LR: 0.0020000114125181268 \n"
     ]
    },
    {
     "name": "stderr",
     "output_type": "stream",
     "text": [
      "Loss=1.0145783424377441 Batch_id=224 le=0.0020000114125181268 Accuracy=67.64: 100%|██████████| 225/225 [00:54<00:00,  4.13it/s]"
     ]
    },
    {
     "name": "stdout",
     "output_type": "stream",
     "text": [
      "\t train_loss:  0.8728019621243583  | train_acc:  tensor(0.6764, device='cuda:0')\n"
     ]
    },
    {
     "name": "stderr",
     "output_type": "stream",
     "text": [
      "\n",
      "  0%|          | 0/225 [00:00<?, ?it/s]"
     ]
    },
    {
     "name": "stdout",
     "output_type": "stream",
     "text": [
      "\n",
      "Test set: Average loss: 1.0688, Accuracy: 2161.0/3589 (60.21%)\n",
      "\n",
      "* Update optimal model\n",
      "EPOCH: 40 LR: 0.002000010029792835 \n"
     ]
    },
    {
     "name": "stderr",
     "output_type": "stream",
     "text": [
      "Loss=0.9060438871383667 Batch_id=224 le=0.002000010029792835 Accuracy=67.95: 100%|██████████| 225/225 [00:54<00:00,  4.13it/s]"
     ]
    },
    {
     "name": "stdout",
     "output_type": "stream",
     "text": [
      "\t train_loss:  0.8652712371872612  | train_acc:  tensor(0.6795, device='cuda:0')\n"
     ]
    },
    {
     "name": "stderr",
     "output_type": "stream",
     "text": [
      "\n",
      "  0%|          | 0/225 [00:00<?, ?it/s]"
     ]
    },
    {
     "name": "stdout",
     "output_type": "stream",
     "text": [
      "\n",
      "Test set: Average loss: 1.0790, Accuracy: 2162.0/3589 (60.24%)\n",
      "\n",
      "* Update optimal model\n",
      "EPOCH: 41 LR: 0.002000010222493402 \n"
     ]
    },
    {
     "name": "stderr",
     "output_type": "stream",
     "text": [
      "Loss=1.301931381225586 Batch_id=224 le=0.002000010222493402 Accuracy=68.07: 100%|██████████| 225/225 [00:54<00:00,  4.13it/s] "
     ]
    },
    {
     "name": "stdout",
     "output_type": "stream",
     "text": [
      "\t train_loss:  0.861493233598974  | train_acc:  tensor(0.6807, device='cuda:0')\n"
     ]
    },
    {
     "name": "stderr",
     "output_type": "stream",
     "text": [
      "\n",
      "  0%|          | 0/225 [00:00<?, ?it/s]"
     ]
    },
    {
     "name": "stdout",
     "output_type": "stream",
     "text": [
      "\n",
      "Test set: Average loss: 1.1103, Accuracy: 2134.0/3589 (59.46%)\n",
      "\n",
      "* Update optimal model\n",
      "EPOCH: 42 LR: 0.002000010825057741 \n"
     ]
    },
    {
     "name": "stderr",
     "output_type": "stream",
     "text": [
      "Loss=1.2036943435668945 Batch_id=224 le=0.002000010825057741 Accuracy=67.96: 100%|██████████| 225/225 [00:54<00:00,  4.14it/s]"
     ]
    },
    {
     "name": "stdout",
     "output_type": "stream",
     "text": [
      "\t train_loss:  0.861967107885837  | train_acc:  tensor(0.6796, device='cuda:0')\n"
     ]
    },
    {
     "name": "stderr",
     "output_type": "stream",
     "text": [
      "\n",
      "  0%|          | 0/225 [00:00<?, ?it/s]"
     ]
    },
    {
     "name": "stdout",
     "output_type": "stream",
     "text": [
      "\n",
      "Test set: Average loss: 1.1201, Accuracy: 2138.0/3589 (59.57%)\n",
      "\n",
      "* Update optimal model\n",
      "EPOCH: 43 LR: 0.0020000110174834065 \n"
     ]
    },
    {
     "name": "stderr",
     "output_type": "stream",
     "text": [
      "Loss=1.0325798988342285 Batch_id=224 le=0.0020000110174834065 Accuracy=68.36: 100%|██████████| 225/225 [00:54<00:00,  4.12it/s]"
     ]
    },
    {
     "name": "stdout",
     "output_type": "stream",
     "text": [
      "\t train_loss:  0.8582656605664148  | train_acc:  tensor(0.6836, device='cuda:0')\n"
     ]
    },
    {
     "name": "stderr",
     "output_type": "stream",
     "text": [
      "\n",
      "  0%|          | 0/225 [00:00<?, ?it/s]"
     ]
    },
    {
     "name": "stdout",
     "output_type": "stream",
     "text": [
      "\n",
      "Test set: Average loss: 1.0948, Accuracy: 2120.0/3589 (59.07%)\n",
      "\n",
      "* Update optimal model\n",
      "EPOCH: 44 LR: 0.0020000105252451737 \n"
     ]
    },
    {
     "name": "stderr",
     "output_type": "stream",
     "text": [
      "Loss=1.1537889242172241 Batch_id=224 le=0.0020000105252451737 Accuracy=68.44: 100%|██████████| 225/225 [00:54<00:00,  4.12it/s]"
     ]
    },
    {
     "name": "stdout",
     "output_type": "stream",
     "text": [
      "\t train_loss:  0.854744778049333  | train_acc:  tensor(0.6844, device='cuda:0')\n"
     ]
    },
    {
     "name": "stderr",
     "output_type": "stream",
     "text": [
      "\n",
      "  0%|          | 0/225 [00:00<?, ?it/s]"
     ]
    },
    {
     "name": "stdout",
     "output_type": "stream",
     "text": [
      "\n",
      "Test set: Average loss: 1.0547, Accuracy: 2144.0/3589 (59.74%)\n",
      "\n",
      "* Update optimal model\n",
      "EPOCH: 45 LR: 0.002000009767927184 \n"
     ]
    },
    {
     "name": "stderr",
     "output_type": "stream",
     "text": [
      "Loss=1.2579506635665894 Batch_id=224 le=0.002000009767927184 Accuracy=68.48: 100%|██████████| 225/225 [00:54<00:00,  4.12it/s]"
     ]
    },
    {
     "name": "stdout",
     "output_type": "stream",
     "text": [
      "\t train_loss:  0.8462949583716367  | train_acc:  tensor(0.6848, device='cuda:0')\n"
     ]
    },
    {
     "name": "stderr",
     "output_type": "stream",
     "text": [
      "\n",
      "  0%|          | 0/225 [00:00<?, ?it/s]"
     ]
    },
    {
     "name": "stdout",
     "output_type": "stream",
     "text": [
      "\n",
      "Test set: Average loss: 1.0943, Accuracy: 2135.0/3589 (59.49%)\n",
      "\n",
      "* Update optimal model\n",
      "EPOCH: 46 LR: 0.002000010515577161 \n"
     ]
    },
    {
     "name": "stderr",
     "output_type": "stream",
     "text": [
      "Loss=0.9541342258453369 Batch_id=224 le=0.002000010515577161 Accuracy=68.64: 100%|██████████| 225/225 [00:54<00:00,  4.11it/s]"
     ]
    },
    {
     "name": "stdout",
     "output_type": "stream",
     "text": [
      "\t train_loss:  0.8464551494431233  | train_acc:  tensor(0.6864, device='cuda:0')\n"
     ]
    },
    {
     "name": "stderr",
     "output_type": "stream",
     "text": [
      "\n",
      "  0%|          | 0/225 [00:00<?, ?it/s]"
     ]
    },
    {
     "name": "stdout",
     "output_type": "stream",
     "text": [
      "\n",
      "Test set: Average loss: 1.1887, Accuracy: 2030.0/3589 (56.56%)\n",
      "\n",
      "* Update optimal model\n",
      "EPOCH: 47 LR: 0.0020000124072239965 \n"
     ]
    },
    {
     "name": "stderr",
     "output_type": "stream",
     "text": [
      "Loss=1.1507567167282104 Batch_id=224 le=0.0020000124072239965 Accuracy=68.99: 100%|██████████| 225/225 [00:54<00:00,  4.12it/s]"
     ]
    },
    {
     "name": "stdout",
     "output_type": "stream",
     "text": [
      "\t train_loss:  0.8390037463066691  | train_acc:  tensor(0.6899, device='cuda:0')\n"
     ]
    },
    {
     "name": "stderr",
     "output_type": "stream",
     "text": [
      "\n",
      "  0%|          | 0/225 [00:00<?, ?it/s]"
     ]
    },
    {
     "name": "stdout",
     "output_type": "stream",
     "text": [
      "\n",
      "Test set: Average loss: 1.0647, Accuracy: 2174.0/3589 (60.57%)\n",
      "\n",
      "* Update optimal model\n",
      "EPOCH: 48 LR: 0.0020000099542116893 \n"
     ]
    },
    {
     "name": "stderr",
     "output_type": "stream",
     "text": [
      "Loss=0.9875631332397461 Batch_id=224 le=0.0020000099542116893 Accuracy=68.94: 100%|██████████| 225/225 [00:54<00:00,  4.11it/s]"
     ]
    },
    {
     "name": "stdout",
     "output_type": "stream",
     "text": [
      "\t train_loss:  0.8407844268871644  | train_acc:  tensor(0.6894, device='cuda:0')\n"
     ]
    },
    {
     "name": "stderr",
     "output_type": "stream",
     "text": [
      "\n",
      "  0%|          | 0/225 [00:00<?, ?it/s]"
     ]
    },
    {
     "name": "stdout",
     "output_type": "stream",
     "text": [
      "\n",
      "Test set: Average loss: 1.1252, Accuracy: 2137.0/3589 (59.54%)\n",
      "\n",
      "* Update optimal model\n",
      "EPOCH: 49 LR: 0.0020000111163172643 \n"
     ]
    },
    {
     "name": "stderr",
     "output_type": "stream",
     "text": [
      "Loss=0.9069242477416992 Batch_id=224 le=0.0020000111163172643 Accuracy=68.92: 100%|██████████| 225/225 [00:54<00:00,  4.11it/s]"
     ]
    },
    {
     "name": "stdout",
     "output_type": "stream",
     "text": [
      "\t train_loss:  0.8360007248966541  | train_acc:  tensor(0.6892, device='cuda:0')\n"
     ]
    },
    {
     "name": "stderr",
     "output_type": "stream",
     "text": [
      "\n"
     ]
    },
    {
     "name": "stdout",
     "output_type": "stream",
     "text": [
      "\n",
      "Test set: Average loss: 1.1792, Accuracy: 2026.0/3589 (56.45%)\n",
      "\n",
      "* Update optimal model\n"
     ]
    },
    {
     "data": {
      "image/png": "[encoded data removed]",
      "text/plain": [
       "<Figure size 1440x576 with 2 Axes>"
      ]
     },
     "metadata": {
      "needs_background": "light"
     },
     "output_type": "display_data"
    }
   ],
   "source": [
    "device = torch.device('cuda')\n",
    "model=SVGG(device=device)\n",
    "model.to(device)\n",
    "epochs=50\n",
    "optimizer = optim.Adam(model.parameters(), lr=0.004, weight_decay=9e-4)\n",
    "scheduler = torch.optim.lr_scheduler.OneCycleLR(optimizer, max_lr=0.02, steps_per_epoch=len(training_generator), pct_start=0.2, div_factor=10, cycle_momentum=False, epochs=epochs)\n",
    "\n",
    "input_size=(3,48,48)\n",
    "model_path = None\n",
    "train_acc = []\n",
    "train_loss = []\n",
    "valid_acc = []\n",
    "valid_loss = []\n",
    "for epoch in range(epochs):\n",
    "    print(\"EPOCH: %s LR: %s \" % (epoch, get_lr(optimizer)))\n",
    "    train(model, training_generator, optimizer,scheduler)\n",
    "    tloss = test(model, validation_generator)\n",
    "    scheduler.step(tloss)\n",
    "plot(train_loss,train_acc, valid_loss, valid_acc, 'Loss & Accuracy')"
   ]
  },
  {
   "cell_type": "markdown",
   "metadata": {},
   "source": [
    "## Triplet loss"
   ]
  },
  {
   "cell_type": "code",
   "execution_count": 8,
   "metadata": {},
   "outputs": [],
   "source": [
    "from pytorch_metric_learning import losses, miners, distances, reducers, testers\n",
    "from pytorch_metric_learning.utils.accuracy_calculator import AccuracyCalculator\n",
    "\n",
    "from torchvision import datasets\n",
    "import torch\n",
    "import torch.nn as nn\n",
    "import torch.nn.functional as F\n",
    "import torch.optim as optim\n",
    "from torchvision import datasets, transforms\n",
    "import numpy as np\n",
    "\n",
    "# ### MNIST code originally from https://github.com/pytorch/examples/blob/master/mnist/main.py ### \n",
    "# def train(model, loss_func, mining_func, device, train_loader, optimizer, epoch):\n",
    "#     model.train()\n",
    "#     for batch_idx, (data, labels) in enumerate(train_loader):\n",
    "#         data, labels = data.to(device), labels.to(device)\n",
    "#         optimizer.zero_grad()\n",
    "#         embeddings = model(data)\n",
    "#         indices_tuple = mining_func(embeddings, labels)\n",
    "#         loss = loss_func(embeddings, labels, indices_tuple)\n",
    "#         loss.backward()\n",
    "#         optimizer.step()\n",
    "#         if batch_idx % 20 == 0:\n",
    "#             print(\"Epoch {} Iteration {}: Loss = {}, Number of mined triplets = {}\".format(epoch, batch_idx, loss, mining_func.num_triplets))\n",
    "\n",
    "# ### convenient function from pytorch-metric-learning ###\n",
    "# def get_all_embeddings(dataset, model):\n",
    "#     tester = testers.BaseTester()\n",
    "#     return tester.get_all_embeddings(dataset, model)\n",
    "\n",
    "# ### compute accuracy using AccuracyCalculator from pytorch-metric-learning ###\n",
    "# def test(train_set, test_set, model, accuracy_calculator):\n",
    "#     train_embeddings, train_labels = get_all_embeddings(train_set, model)\n",
    "#     test_embeddings, test_labels = get_all_embeddings(test_set, model)\n",
    "#     print(\"Computing accuracy\")\n",
    "#     accuracies = accuracy_calculator.get_accuracy(test_embeddings, \n",
    "#                                                 train_embeddings,\n",
    "#                                                 np.squeeze(test_labels),\n",
    "#                                                 np.squeeze(train_labels),\n",
    "#                                                 False)\n",
    "#     print(\"Test set accuracy (Precision@1) = {}\".format(accuracies[\"precision_at_1\"]))\n"
   ]
  },
  {
   "cell_type": "code",
   "execution_count": 9,
   "metadata": {},
   "outputs": [
    {
     "name": "stderr",
     "output_type": "stream",
     "text": [
      "/usr/local/lib/python3.6/dist-packages/ipykernel_launcher.py:8: SettingWithCopyWarning: \n",
      "A value is trying to be set on a copy of a slice from a DataFrame.\n",
      "Try using .loc[row_indexer,col_indexer] = value instead\n",
      "\n",
      "See the caveats in the documentation: https://pandas.pydata.org/pandas-docs/stable/user_guide/indexing.html#returning-a-view-versus-a-copy\n",
      "  \n"
     ]
    }
   ],
   "source": [
    "batch_size= 128\n",
    "\n",
    "df_train = df[df['Usage'] == 'Training']\n",
    "df_val = df[df['Usage'] == 'PublicTest']\n",
    "# df_test = df[df['Usage'] == 'PrivateTest']\n",
    "\n",
    "train_transforms = transforms.Compose([\n",
    "    transforms.ToPILImage(),\n",
    "    transforms.RandomHorizontalFlip(),\n",
    "#     transforms.RandomCrop(48),\n",
    "    transforms.ToTensor(),\n",
    "    transforms.Normalize((0.5,), (0.5,)),\n",
    "])\n",
    "\n",
    "test_transforms = transforms.Compose([\n",
    "    transforms.ToTensor(),\n",
    "    transforms.Normalize((0.5,), (0.5,)),\n",
    "])\n",
    "\n",
    "training_set = FERDataset(df_train, train_transforms)\n",
    "val_set = FERDataset(df_val, test_transforms)\n",
    "# test_set = FERDataset(df_test, train_transforms)\n",
    "\n",
    "\n",
    "training_generator = torch.utils.data.DataLoader(training_set,\n",
    "                                             batch_size=batch_size, shuffle=True,\n",
    "                                             num_workers=8)\n",
    "validation_generator = torch.utils.data.DataLoader(val_set,\n",
    "                                             batch_size=batch_size, shuffle=False,\n",
    "                                             num_workers=8)\n",
    "# train_loader = torch.utils.data.DataLoader(test_set,\n",
    "#                                              batch_size=batch_size, shuffle=False,\n",
    "#                                              num_workers=8)"
   ]
  },
  {
   "cell_type": "code",
   "execution_count": 17,
   "metadata": {},
   "outputs": [],
   "source": [
    "def train(model, train_loader, optimizer, loss_func, mining_func, scheduler):\n",
    "    model.train()\n",
    "    pbar = tqdm(train_loader, position=0)\n",
    "    running_loss = 0.0\n",
    "    correct = 0\n",
    "    processed = 0\n",
    "\n",
    "    for batch_idx, (data, target) in enumerate(pbar):\n",
    "        data, target = data.to(device), target.to(device)\n",
    "        optimizer.zero_grad()\n",
    "        embeddings = model(data)\n",
    "        indices_tuple = mining_func(embeddings, target)\n",
    "        loss = loss_func(embeddings, target, indices_tuple)\n",
    "        running_loss += (loss.item() * data.shape[0])\n",
    "        train_loss.append(loss)\n",
    "        loss.backward()\n",
    "        optimizer.step()\n",
    "\n",
    "#         pred = embeddings.argmax(dim=1, keepdim=True)  # get the index of the max log-probability\n",
    "#         pred = (embeddings > 0.5).float()\n",
    "#         correct += pred.eq(target.view_as(pred)).sum().item()\n",
    "        correct += (torch.argmax(embeddings, dim=1) == target).float().sum()\n",
    "        processed += len(data)\n",
    "\n",
    "        train_acc.append(100*correct/processed)\n",
    "        pbar.set_description(desc= f'Loss={loss.item()} Batch_id={batch_idx} le={get_lr(optimizer)} Accuracy={100*correct/processed:0.2f}')\n",
    "        \n",
    "    print('\\t train_loss: ', running_loss / len(train_loader.dataset), ' | train_acc: ', correct / len(train_loader.dataset))\n",
    "    \n",
    "        \n",
    "def test(model, test_loader):\n",
    "    model.eval()\n",
    "    best_acc = 0.\n",
    "    test_loss = 0\n",
    "    correct = 0\n",
    "    criterion = nn.CrossEntropyLoss()\n",
    "    \n",
    "    for data, target in test_loader:\n",
    "        data, target = data.to(device), target.to(device)\n",
    "        output = model(data)\n",
    "        test_loss += (criterion(output, target).item() * data.size(0))  # sum up batch loss\n",
    "#         pred = output.argmax(dim=1, keepdim=True)  # get the index of the max log-probability\n",
    "        correct += (torch.argmax(output, dim=1) == target).float().sum()\n",
    "\n",
    "    test_loss /= len(test_loader.dataset)\n",
    "    valid_loss.append(test_loss)\n",
    "\n",
    "    _cur_acc = correct / len(test_loader.dataset)\n",
    "\n",
    "    print('\\nTest set: Average loss: {:.4f}, Accuracy: {}/{} ({:.2f}%)\\n'.format(\n",
    "        test_loss, correct, len(test_loader.dataset),\n",
    "        100. * _cur_acc))\n",
    "    \n",
    "    if _cur_acc > best_acc:\n",
    "        print('* Update optimal model')\n",
    "        best_acc = _cur_acc\n",
    "        if not model_path is None:\n",
    "            torch.save(model, model_path)\n",
    "    \n",
    "    \n",
    "    valid_acc.append(100. * _cur_acc)\n",
    "    \n",
    "    return test_loss"
   ]
  },
  {
   "cell_type": "code",
   "execution_count": 12,
   "metadata": {
    "scrolled": true
   },
   "outputs": [
    {
     "name": "stderr",
     "output_type": "stream",
     "text": [
      "\r",
      "  0%|          | 0/225 [00:00<?, ?it/s]"
     ]
    },
    {
     "name": "stdout",
     "output_type": "stream",
     "text": [
      "EPOCH: 0 LR: 0.004 \n"
     ]
    },
    {
     "name": "stderr",
     "output_type": "stream",
     "text": [
      "Loss=0.10238195210695267 Batch_id=224 le=0.004 Accuracy=15.54: 100%|██████████| 225/225 [00:53<00:00,  4.21it/s]"
     ]
    },
    {
     "name": "stdout",
     "output_type": "stream",
     "text": [
      "\t train_loss:  0.10603448135522744  | train_acc:  tensor(0.1554, device='cuda:0')\n"
     ]
    },
    {
     "name": "stderr",
     "output_type": "stream",
     "text": [
      "\n",
      "  0%|          | 0/225 [00:00<?, ?it/s]"
     ]
    },
    {
     "name": "stdout",
     "output_type": "stream",
     "text": [
      "\n",
      "Test set: Average loss: 15.9406, Accuracy: 498.0/3589 (13.88%)\n",
      "\n",
      "* Update optimal model\n",
      "EPOCH: 1 LR: 0.004 \n"
     ]
    },
    {
     "name": "stderr",
     "output_type": "stream",
     "text": [
      "Loss=0.10188788920640945 Batch_id=224 le=0.004 Accuracy=14.71: 100%|██████████| 225/225 [00:53<00:00,  4.18it/s]"
     ]
    },
    {
     "name": "stdout",
     "output_type": "stream",
     "text": [
      "\t train_loss:  0.1061851230874518  | train_acc:  tensor(0.1471, device='cuda:0')\n"
     ]
    },
    {
     "name": "stderr",
     "output_type": "stream",
     "text": [
      "\n",
      "  0%|          | 0/225 [00:00<?, ?it/s]"
     ]
    },
    {
     "name": "stdout",
     "output_type": "stream",
     "text": [
      "\n",
      "Test set: Average loss: 2.3430, Accuracy: 424.0/3589 (11.81%)\n",
      "\n",
      "* Update optimal model\n",
      "EPOCH: 2 LR: 0.004 \n"
     ]
    },
    {
     "name": "stderr",
     "output_type": "stream",
     "text": [
      "Loss=0.10592347383499146 Batch_id=224 le=0.004 Accuracy=14.63: 100%|██████████| 225/225 [00:53<00:00,  4.17it/s]"
     ]
    },
    {
     "name": "stdout",
     "output_type": "stream",
     "text": [
      "\t train_loss:  0.10517257571183027  | train_acc:  tensor(0.1463, device='cuda:0')\n"
     ]
    },
    {
     "name": "stderr",
     "output_type": "stream",
     "text": [
      "\n",
      "  0%|          | 0/225 [00:00<?, ?it/s]"
     ]
    },
    {
     "name": "stdout",
     "output_type": "stream",
     "text": [
      "\n",
      "Test set: Average loss: 2.6034, Accuracy: 576.0/3589 (16.05%)\n",
      "\n",
      "* Update optimal model\n",
      "EPOCH: 3 LR: 0.004 \n"
     ]
    },
    {
     "name": "stderr",
     "output_type": "stream",
     "text": [
      "Loss=0.10738416761159897 Batch_id=224 le=0.004 Accuracy=14.74: 100%|██████████| 225/225 [00:53<00:00,  4.17it/s]"
     ]
    },
    {
     "name": "stdout",
     "output_type": "stream",
     "text": [
      "\t train_loss:  0.10441510547717424  | train_acc:  tensor(0.1474, device='cuda:0')\n"
     ]
    },
    {
     "name": "stderr",
     "output_type": "stream",
     "text": [
      "\n",
      "  0%|          | 0/225 [00:00<?, ?it/s]"
     ]
    },
    {
     "name": "stdout",
     "output_type": "stream",
     "text": [
      "\n",
      "Test set: Average loss: 3.0100, Accuracy: 282.0/3589 (7.86%)\n",
      "\n",
      "* Update optimal model\n",
      "EPOCH: 4 LR: 0.004 \n"
     ]
    },
    {
     "name": "stderr",
     "output_type": "stream",
     "text": [
      "Loss=0.10290367901325226 Batch_id=224 le=0.004 Accuracy=15.58: 100%|██████████| 225/225 [00:54<00:00,  4.16it/s]"
     ]
    },
    {
     "name": "stdout",
     "output_type": "stream",
     "text": [
      "\t train_loss:  0.10435194545940461  | train_acc:  tensor(0.1558, device='cuda:0')\n"
     ]
    },
    {
     "name": "stderr",
     "output_type": "stream",
     "text": [
      "\n",
      "  0%|          | 0/225 [00:00<?, ?it/s]"
     ]
    },
    {
     "name": "stdout",
     "output_type": "stream",
     "text": [
      "\n",
      "Test set: Average loss: 2.2694, Accuracy: 565.0/3589 (15.74%)\n",
      "\n",
      "* Update optimal model\n",
      "EPOCH: 5 LR: 0.004 \n"
     ]
    },
    {
     "name": "stderr",
     "output_type": "stream",
     "text": [
      "Loss=0.10088241100311279 Batch_id=224 le=0.004 Accuracy=20.53: 100%|██████████| 225/225 [00:54<00:00,  4.16it/s]"
     ]
    },
    {
     "name": "stdout",
     "output_type": "stream",
     "text": [
      "\t train_loss:  0.10384048909086964  | train_acc:  tensor(0.2053, device='cuda:0')\n"
     ]
    },
    {
     "name": "stderr",
     "output_type": "stream",
     "text": [
      "\n",
      "  0%|          | 0/225 [00:00<?, ?it/s]"
     ]
    },
    {
     "name": "stdout",
     "output_type": "stream",
     "text": [
      "\n",
      "Test set: Average loss: 2.3619, Accuracy: 515.0/3589 (14.35%)\n",
      "\n",
      "* Update optimal model\n",
      "EPOCH: 6 LR: 0.004 \n"
     ]
    },
    {
     "name": "stderr",
     "output_type": "stream",
     "text": [
      "Loss=0.1052817702293396 Batch_id=224 le=0.004 Accuracy=22.41: 100%|██████████| 225/225 [00:53<00:00,  4.17it/s] "
     ]
    },
    {
     "name": "stdout",
     "output_type": "stream",
     "text": [
      "\t train_loss:  0.10424331207709558  | train_acc:  tensor(0.2241, device='cuda:0')\n"
     ]
    },
    {
     "name": "stderr",
     "output_type": "stream",
     "text": [
      "\n",
      "  0%|          | 0/225 [00:00<?, ?it/s]"
     ]
    },
    {
     "name": "stdout",
     "output_type": "stream",
     "text": [
      "\n",
      "Test set: Average loss: 2.0191, Accuracy: 592.0/3589 (16.49%)\n",
      "\n",
      "* Update optimal model\n",
      "EPOCH: 7 LR: 0.004 \n"
     ]
    },
    {
     "name": "stderr",
     "output_type": "stream",
     "text": [
      "Loss=0.10003181546926498 Batch_id=224 le=0.004 Accuracy=22.28: 100%|██████████| 225/225 [00:53<00:00,  4.17it/s]"
     ]
    },
    {
     "name": "stdout",
     "output_type": "stream",
     "text": [
      "\t train_loss:  0.10390747663712874  | train_acc:  tensor(0.2228, device='cuda:0')\n"
     ]
    },
    {
     "name": "stderr",
     "output_type": "stream",
     "text": [
      "\n",
      "  0%|          | 0/225 [00:00<?, ?it/s]"
     ]
    },
    {
     "name": "stdout",
     "output_type": "stream",
     "text": [
      "\n",
      "Test set: Average loss: 2.0563, Accuracy: 943.0/3589 (26.27%)\n",
      "\n",
      "* Update optimal model\n",
      "EPOCH: 8 LR: 0.004 \n"
     ]
    },
    {
     "name": "stderr",
     "output_type": "stream",
     "text": [
      "Loss=0.10571583360433578 Batch_id=224 le=0.004 Accuracy=23.42: 100%|██████████| 225/225 [00:54<00:00,  4.16it/s]"
     ]
    },
    {
     "name": "stdout",
     "output_type": "stream",
     "text": [
      "\t train_loss:  0.10363335430486112  | train_acc:  tensor(0.2342, device='cuda:0')\n"
     ]
    },
    {
     "name": "stderr",
     "output_type": "stream",
     "text": [
      "\n",
      "  0%|          | 0/225 [00:00<?, ?it/s]"
     ]
    },
    {
     "name": "stdout",
     "output_type": "stream",
     "text": [
      "\n",
      "Test set: Average loss: 1.9147, Accuracy: 878.0/3589 (24.46%)\n",
      "\n",
      "* Update optimal model\n",
      "EPOCH: 9 LR: 0.004 \n"
     ]
    },
    {
     "name": "stderr",
     "output_type": "stream",
     "text": [
      "Loss=0.10273745656013489 Batch_id=224 le=0.004 Accuracy=23.29: 100%|██████████| 225/225 [00:54<00:00,  4.17it/s]"
     ]
    },
    {
     "name": "stdout",
     "output_type": "stream",
     "text": [
      "\t train_loss:  0.10349152198222834  | train_acc:  tensor(0.2329, device='cuda:0')\n"
     ]
    },
    {
     "name": "stderr",
     "output_type": "stream",
     "text": [
      "\n",
      "  0%|          | 0/225 [00:00<?, ?it/s]"
     ]
    },
    {
     "name": "stdout",
     "output_type": "stream",
     "text": [
      "\n",
      "Test set: Average loss: 1.9449, Accuracy: 805.0/3589 (22.43%)\n",
      "\n",
      "* Update optimal model\n",
      "EPOCH: 10 LR: 0.004 \n"
     ]
    },
    {
     "name": "stderr",
     "output_type": "stream",
     "text": [
      "Loss=0.10266217589378357 Batch_id=224 le=0.004 Accuracy=24.78: 100%|██████████| 225/225 [00:53<00:00,  4.17it/s]"
     ]
    },
    {
     "name": "stdout",
     "output_type": "stream",
     "text": [
      "\t train_loss:  0.10348889466288562  | train_acc:  tensor(0.2478, device='cuda:0')\n"
     ]
    },
    {
     "name": "stderr",
     "output_type": "stream",
     "text": [
      "\n",
      "  0%|          | 0/225 [00:00<?, ?it/s]"
     ]
    },
    {
     "name": "stdout",
     "output_type": "stream",
     "text": [
      "\n",
      "Test set: Average loss: 1.9359, Accuracy: 979.0/3589 (27.28%)\n",
      "\n",
      "* Update optimal model\n",
      "EPOCH: 11 LR: 0.004 \n"
     ]
    },
    {
     "name": "stderr",
     "output_type": "stream",
     "text": [
      "Loss=0.10410048067569733 Batch_id=224 le=0.004 Accuracy=25.63: 100%|██████████| 225/225 [00:53<00:00,  4.17it/s]"
     ]
    },
    {
     "name": "stdout",
     "output_type": "stream",
     "text": [
      "\t train_loss:  0.10335959990317556  | train_acc:  tensor(0.2563, device='cuda:0')\n"
     ]
    },
    {
     "name": "stderr",
     "output_type": "stream",
     "text": [
      "\n",
      "  0%|          | 0/225 [00:00<?, ?it/s]"
     ]
    },
    {
     "name": "stdout",
     "output_type": "stream",
     "text": [
      "\n",
      "Test set: Average loss: 1.8590, Accuracy: 988.0/3589 (27.53%)\n",
      "\n",
      "* Update optimal model\n",
      "EPOCH: 12 LR: 0.004 \n"
     ]
    },
    {
     "name": "stderr",
     "output_type": "stream",
     "text": [
      "Loss=0.10689283907413483 Batch_id=224 le=0.004 Accuracy=26.55: 100%|██████████| 225/225 [00:54<00:00,  4.17it/s]"
     ]
    },
    {
     "name": "stdout",
     "output_type": "stream",
     "text": [
      "\t train_loss:  0.10329408996180102  | train_acc:  tensor(0.2655, device='cuda:0')\n"
     ]
    },
    {
     "name": "stderr",
     "output_type": "stream",
     "text": [
      "\n",
      "  0%|          | 0/225 [00:00<?, ?it/s]"
     ]
    },
    {
     "name": "stdout",
     "output_type": "stream",
     "text": [
      "\n",
      "Test set: Average loss: 1.8253, Accuracy: 1082.0/3589 (30.15%)\n",
      "\n",
      "* Update optimal model\n",
      "EPOCH: 13 LR: 0.004 \n"
     ]
    },
    {
     "name": "stderr",
     "output_type": "stream",
     "text": [
      "Loss=0.09973767399787903 Batch_id=224 le=0.004 Accuracy=27.27: 100%|██████████| 225/225 [00:53<00:00,  4.17it/s]"
     ]
    },
    {
     "name": "stdout",
     "output_type": "stream",
     "text": [
      "\t train_loss:  0.10325037347759264  | train_acc:  tensor(0.2727, device='cuda:0')\n"
     ]
    },
    {
     "name": "stderr",
     "output_type": "stream",
     "text": [
      "\n",
      "  0%|          | 0/225 [00:00<?, ?it/s]"
     ]
    },
    {
     "name": "stdout",
     "output_type": "stream",
     "text": [
      "\n",
      "Test set: Average loss: 1.8462, Accuracy: 981.0/3589 (27.33%)\n",
      "\n",
      "* Update optimal model\n",
      "EPOCH: 14 LR: 0.004 \n"
     ]
    },
    {
     "name": "stderr",
     "output_type": "stream",
     "text": [
      "Loss=0.09812963008880615 Batch_id=224 le=0.004 Accuracy=26.60: 100%|██████████| 225/225 [00:53<00:00,  4.17it/s]"
     ]
    },
    {
     "name": "stdout",
     "output_type": "stream",
     "text": [
      "\t train_loss:  0.10316985545559834  | train_acc:  tensor(0.2660, device='cuda:0')\n"
     ]
    },
    {
     "name": "stderr",
     "output_type": "stream",
     "text": [
      "\n",
      "  0%|          | 0/225 [00:00<?, ?it/s]"
     ]
    },
    {
     "name": "stdout",
     "output_type": "stream",
     "text": [
      "\n",
      "Test set: Average loss: 2.0705, Accuracy: 683.0/3589 (19.03%)\n",
      "\n",
      "* Update optimal model\n",
      "EPOCH: 15 LR: 0.004 \n"
     ]
    },
    {
     "name": "stderr",
     "output_type": "stream",
     "text": [
      "Loss=0.10343033820390701 Batch_id=224 le=0.004 Accuracy=26.48: 100%|██████████| 225/225 [00:53<00:00,  4.18it/s]"
     ]
    },
    {
     "name": "stdout",
     "output_type": "stream",
     "text": [
      "\t train_loss:  0.1031222158948943  | train_acc:  tensor(0.2648, device='cuda:0')\n"
     ]
    },
    {
     "name": "stderr",
     "output_type": "stream",
     "text": [
      "\n",
      "  0%|          | 0/225 [00:00<?, ?it/s]"
     ]
    },
    {
     "name": "stdout",
     "output_type": "stream",
     "text": [
      "\n",
      "Test set: Average loss: 1.9430, Accuracy: 988.0/3589 (27.53%)\n",
      "\n",
      "* Update optimal model\n",
      "EPOCH: 16 LR: 0.004 \n"
     ]
    },
    {
     "name": "stderr",
     "output_type": "stream",
     "text": [
      "Loss=0.10414116084575653 Batch_id=224 le=0.004 Accuracy=26.88: 100%|██████████| 225/225 [00:53<00:00,  4.17it/s]"
     ]
    },
    {
     "name": "stdout",
     "output_type": "stream",
     "text": [
      "\t train_loss:  0.10281105072428397  | train_acc:  tensor(0.2688, device='cuda:0')\n"
     ]
    },
    {
     "name": "stderr",
     "output_type": "stream",
     "text": [
      "\n",
      "  0%|          | 0/225 [00:00<?, ?it/s]"
     ]
    },
    {
     "name": "stdout",
     "output_type": "stream",
     "text": [
      "\n",
      "Test set: Average loss: 1.8481, Accuracy: 1130.0/3589 (31.49%)\n",
      "\n",
      "* Update optimal model\n",
      "EPOCH: 17 LR: 0.004 \n"
     ]
    },
    {
     "name": "stderr",
     "output_type": "stream",
     "text": [
      "Loss=0.10196443647146225 Batch_id=224 le=0.004 Accuracy=26.49: 100%|██████████| 225/225 [00:53<00:00,  4.18it/s]"
     ]
    },
    {
     "name": "stdout",
     "output_type": "stream",
     "text": [
      "\t train_loss:  0.10319895005224267  | train_acc:  tensor(0.2649, device='cuda:0')\n"
     ]
    },
    {
     "name": "stderr",
     "output_type": "stream",
     "text": [
      "\n",
      "  0%|          | 0/225 [00:00<?, ?it/s]"
     ]
    },
    {
     "name": "stdout",
     "output_type": "stream",
     "text": [
      "\n",
      "Test set: Average loss: 2.0124, Accuracy: 788.0/3589 (21.96%)\n",
      "\n",
      "* Update optimal model\n",
      "EPOCH: 18 LR: 0.004 \n"
     ]
    },
    {
     "name": "stderr",
     "output_type": "stream",
     "text": [
      "Loss=0.10332094132900238 Batch_id=224 le=0.004 Accuracy=26.06: 100%|██████████| 225/225 [00:53<00:00,  4.18it/s]"
     ]
    },
    {
     "name": "stdout",
     "output_type": "stream",
     "text": [
      "\t train_loss:  0.102936088614792  | train_acc:  tensor(0.2606, device='cuda:0')\n"
     ]
    },
    {
     "name": "stderr",
     "output_type": "stream",
     "text": [
      "\n",
      "  0%|          | 0/225 [00:00<?, ?it/s]"
     ]
    },
    {
     "name": "stdout",
     "output_type": "stream",
     "text": [
      "\n",
      "Test set: Average loss: 1.9345, Accuracy: 983.0/3589 (27.39%)\n",
      "\n",
      "* Update optimal model\n",
      "EPOCH: 19 LR: 0.004 \n"
     ]
    },
    {
     "name": "stderr",
     "output_type": "stream",
     "text": [
      "Loss=0.10178664326667786 Batch_id=224 le=0.004 Accuracy=27.08: 100%|██████████| 225/225 [00:53<00:00,  4.17it/s]"
     ]
    },
    {
     "name": "stdout",
     "output_type": "stream",
     "text": [
      "\t train_loss:  0.10320918571924506  | train_acc:  tensor(0.2708, device='cuda:0')\n"
     ]
    },
    {
     "name": "stderr",
     "output_type": "stream",
     "text": [
      "\n",
      "  0%|          | 0/225 [00:00<?, ?it/s]"
     ]
    },
    {
     "name": "stdout",
     "output_type": "stream",
     "text": [
      "\n",
      "Test set: Average loss: 1.8964, Accuracy: 910.0/3589 (25.36%)\n",
      "\n",
      "* Update optimal model\n",
      "EPOCH: 20 LR: 0.004 \n"
     ]
    },
    {
     "name": "stderr",
     "output_type": "stream",
     "text": [
      "Loss=0.09850277006626129 Batch_id=224 le=0.004 Accuracy=26.43: 100%|██████████| 225/225 [00:53<00:00,  4.17it/s]"
     ]
    },
    {
     "name": "stdout",
     "output_type": "stream",
     "text": [
      "\t train_loss:  0.10286119161039074  | train_acc:  tensor(0.2643, device='cuda:0')\n"
     ]
    },
    {
     "name": "stderr",
     "output_type": "stream",
     "text": [
      "\n",
      "  0%|          | 0/225 [00:00<?, ?it/s]"
     ]
    },
    {
     "name": "stdout",
     "output_type": "stream",
     "text": [
      "\n",
      "Test set: Average loss: 1.9559, Accuracy: 888.0/3589 (24.74%)\n",
      "\n",
      "* Update optimal model\n",
      "EPOCH: 21 LR: 0.004 \n"
     ]
    },
    {
     "name": "stderr",
     "output_type": "stream",
     "text": [
      "Loss=0.0966576337814331 Batch_id=224 le=0.004 Accuracy=27.34: 100%|██████████| 225/225 [00:53<00:00,  4.17it/s] "
     ]
    },
    {
     "name": "stdout",
     "output_type": "stream",
     "text": [
      "\t train_loss:  0.10279859287445064  | train_acc:  tensor(0.2734, device='cuda:0')\n"
     ]
    },
    {
     "name": "stderr",
     "output_type": "stream",
     "text": [
      "\n",
      "  0%|          | 0/225 [00:00<?, ?it/s]"
     ]
    },
    {
     "name": "stdout",
     "output_type": "stream",
     "text": [
      "\n",
      "Test set: Average loss: 1.9743, Accuracy: 770.0/3589 (21.45%)\n",
      "\n",
      "* Update optimal model\n",
      "EPOCH: 22 LR: 0.002 \n"
     ]
    },
    {
     "name": "stderr",
     "output_type": "stream",
     "text": [
      "Loss=0.09979917854070663 Batch_id=224 le=0.002 Accuracy=27.84: 100%|██████████| 225/225 [00:53<00:00,  4.18it/s]"
     ]
    },
    {
     "name": "stdout",
     "output_type": "stream",
     "text": [
      "\t train_loss:  0.1028145505338902  | train_acc:  tensor(0.2784, device='cuda:0')\n"
     ]
    },
    {
     "name": "stderr",
     "output_type": "stream",
     "text": [
      "\n",
      "  0%|          | 0/225 [00:00<?, ?it/s]"
     ]
    },
    {
     "name": "stdout",
     "output_type": "stream",
     "text": [
      "\n",
      "Test set: Average loss: 1.8510, Accuracy: 1008.0/3589 (28.09%)\n",
      "\n",
      "* Update optimal model\n",
      "EPOCH: 23 LR: 0.002 \n"
     ]
    },
    {
     "name": "stderr",
     "output_type": "stream",
     "text": [
      "Loss=0.10593874752521515 Batch_id=224 le=0.002 Accuracy=27.39: 100%|██████████| 225/225 [00:54<00:00,  4.16it/s]"
     ]
    },
    {
     "name": "stdout",
     "output_type": "stream",
     "text": [
      "\t train_loss:  0.10303983611089981  | train_acc:  tensor(0.2739, device='cuda:0')\n"
     ]
    },
    {
     "name": "stderr",
     "output_type": "stream",
     "text": [
      "\n",
      "  0%|          | 0/225 [00:00<?, ?it/s]"
     ]
    },
    {
     "name": "stdout",
     "output_type": "stream",
     "text": [
      "\n",
      "Test set: Average loss: 1.9154, Accuracy: 922.0/3589 (25.69%)\n",
      "\n",
      "* Update optimal model\n",
      "EPOCH: 24 LR: 0.002 \n"
     ]
    },
    {
     "name": "stderr",
     "output_type": "stream",
     "text": [
      "Loss=0.09991906583309174 Batch_id=224 le=0.002 Accuracy=27.35: 100%|██████████| 225/225 [00:53<00:00,  4.18it/s]"
     ]
    },
    {
     "name": "stdout",
     "output_type": "stream",
     "text": [
      "\t train_loss:  0.10287899446558432  | train_acc:  tensor(0.2735, device='cuda:0')\n"
     ]
    },
    {
     "name": "stderr",
     "output_type": "stream",
     "text": [
      "\n",
      "  0%|          | 0/225 [00:00<?, ?it/s]"
     ]
    },
    {
     "name": "stdout",
     "output_type": "stream",
     "text": [
      "\n",
      "Test set: Average loss: 1.9270, Accuracy: 907.0/3589 (25.27%)\n",
      "\n",
      "* Update optimal model\n",
      "EPOCH: 25 LR: 0.002 \n"
     ]
    },
    {
     "name": "stderr",
     "output_type": "stream",
     "text": [
      "Loss=0.09913326054811478 Batch_id=224 le=0.002 Accuracy=28.27: 100%|██████████| 225/225 [00:53<00:00,  4.18it/s]"
     ]
    },
    {
     "name": "stdout",
     "output_type": "stream",
     "text": [
      "\t train_loss:  0.10258243201096325  | train_acc:  tensor(0.2827, device='cuda:0')\n"
     ]
    },
    {
     "name": "stderr",
     "output_type": "stream",
     "text": [
      "\n",
      "  0%|          | 0/225 [00:00<?, ?it/s]"
     ]
    },
    {
     "name": "stdout",
     "output_type": "stream",
     "text": [
      "\n",
      "Test set: Average loss: 1.9226, Accuracy: 968.0/3589 (26.97%)\n",
      "\n",
      "* Update optimal model\n",
      "EPOCH: 26 LR: 0.002 \n"
     ]
    },
    {
     "name": "stderr",
     "output_type": "stream",
     "text": [
      "Loss=0.10636085271835327 Batch_id=224 le=0.002 Accuracy=27.91: 100%|██████████| 225/225 [00:53<00:00,  4.18it/s]\n"
     ]
    },
    {
     "name": "stdout",
     "output_type": "stream",
     "text": [
      "\t train_loss:  0.10283693078169732  | train_acc:  tensor(0.2791, device='cuda:0')\n"
     ]
    },
    {
     "name": "stderr",
     "output_type": "stream",
     "text": [
      "\r",
      "  0%|          | 0/225 [00:00<?, ?it/s]"
     ]
    },
    {
     "name": "stdout",
     "output_type": "stream",
     "text": [
      "\n",
      "Test set: Average loss: 1.8829, Accuracy: 958.0/3589 (26.69%)\n",
      "\n",
      "* Update optimal model\n",
      "EPOCH: 27 LR: 0.002 \n"
     ]
    },
    {
     "name": "stderr",
     "output_type": "stream",
     "text": [
      "Loss=0.10699782520532608 Batch_id=224 le=0.002 Accuracy=27.88: 100%|██████████| 225/225 [00:54<00:00,  4.17it/s]"
     ]
    },
    {
     "name": "stdout",
     "output_type": "stream",
     "text": [
      "\t train_loss:  0.10308407905081306  | train_acc:  tensor(0.2788, device='cuda:0')\n"
     ]
    },
    {
     "name": "stderr",
     "output_type": "stream",
     "text": [
      "\n",
      "  0%|          | 0/225 [00:00<?, ?it/s]"
     ]
    },
    {
     "name": "stdout",
     "output_type": "stream",
     "text": [
      "\n",
      "Test set: Average loss: 1.9276, Accuracy: 864.0/3589 (24.07%)\n",
      "\n",
      "* Update optimal model\n",
      "EPOCH: 28 LR: 0.002 \n"
     ]
    },
    {
     "name": "stderr",
     "output_type": "stream",
     "text": [
      "Loss=0.10558689385652542 Batch_id=224 le=0.002 Accuracy=28.33: 100%|██████████| 225/225 [00:53<00:00,  4.17it/s]\n"
     ]
    },
    {
     "name": "stdout",
     "output_type": "stream",
     "text": [
      "\t train_loss:  0.10295609633811253  | train_acc:  tensor(0.2833, device='cuda:0')\n"
     ]
    },
    {
     "name": "stderr",
     "output_type": "stream",
     "text": [
      "\r",
      "  0%|          | 0/225 [00:00<?, ?it/s]"
     ]
    },
    {
     "name": "stdout",
     "output_type": "stream",
     "text": [
      "\n",
      "Test set: Average loss: 1.9604, Accuracy: 892.0/3589 (24.85%)\n",
      "\n",
      "* Update optimal model\n",
      "EPOCH: 29 LR: 0.002 \n"
     ]
    },
    {
     "name": "stderr",
     "output_type": "stream",
     "text": [
      "Loss=0.10281692445278168 Batch_id=224 le=0.002 Accuracy=28.20: 100%|██████████| 225/225 [00:53<00:00,  4.18it/s]\n"
     ]
    },
    {
     "name": "stdout",
     "output_type": "stream",
     "text": [
      "\t train_loss:  0.10296951021741287  | train_acc:  tensor(0.2820, device='cuda:0')\n"
     ]
    },
    {
     "name": "stderr",
     "output_type": "stream",
     "text": [
      "\r",
      "  0%|          | 0/225 [00:00<?, ?it/s]"
     ]
    },
    {
     "name": "stdout",
     "output_type": "stream",
     "text": [
      "\n",
      "Test set: Average loss: 1.9640, Accuracy: 794.0/3589 (22.12%)\n",
      "\n",
      "* Update optimal model\n",
      "EPOCH: 30 LR: 0.002 \n"
     ]
    },
    {
     "name": "stderr",
     "output_type": "stream",
     "text": [
      "Loss=0.10046332329511642 Batch_id=224 le=0.002 Accuracy=28.81: 100%|██████████| 225/225 [00:53<00:00,  4.17it/s]"
     ]
    },
    {
     "name": "stdout",
     "output_type": "stream",
     "text": [
      "\t train_loss:  0.10296700309275991  | train_acc:  tensor(0.2881, device='cuda:0')\n"
     ]
    },
    {
     "name": "stderr",
     "output_type": "stream",
     "text": [
      "\n",
      "  0%|          | 0/225 [00:00<?, ?it/s]"
     ]
    },
    {
     "name": "stdout",
     "output_type": "stream",
     "text": [
      "\n",
      "Test set: Average loss: 1.9045, Accuracy: 932.0/3589 (25.97%)\n",
      "\n",
      "* Update optimal model\n",
      "EPOCH: 31 LR: 0.001 \n"
     ]
    },
    {
     "name": "stderr",
     "output_type": "stream",
     "text": [
      "Loss=0.09890596568584442 Batch_id=224 le=0.001 Accuracy=28.83: 100%|██████████| 225/225 [00:53<00:00,  4.17it/s]"
     ]
    },
    {
     "name": "stdout",
     "output_type": "stream",
     "text": [
      "\t train_loss:  0.1026016775556416  | train_acc:  tensor(0.2883, device='cuda:0')\n"
     ]
    },
    {
     "name": "stderr",
     "output_type": "stream",
     "text": [
      "\n",
      "  0%|          | 0/225 [00:00<?, ?it/s]"
     ]
    },
    {
     "name": "stdout",
     "output_type": "stream",
     "text": [
      "\n",
      "Test set: Average loss: 1.8629, Accuracy: 983.0/3589 (27.39%)\n",
      "\n",
      "* Update optimal model\n",
      "EPOCH: 32 LR: 0.001 \n"
     ]
    },
    {
     "name": "stderr",
     "output_type": "stream",
     "text": [
      "Loss=0.09669100493192673 Batch_id=224 le=0.001 Accuracy=28.92: 100%|██████████| 225/225 [00:53<00:00,  4.17it/s]"
     ]
    },
    {
     "name": "stdout",
     "output_type": "stream",
     "text": [
      "\t train_loss:  0.10268540977118527  | train_acc:  tensor(0.2892, device='cuda:0')\n"
     ]
    },
    {
     "name": "stderr",
     "output_type": "stream",
     "text": [
      "\n",
      "  0%|          | 0/225 [00:00<?, ?it/s]"
     ]
    },
    {
     "name": "stdout",
     "output_type": "stream",
     "text": [
      "\n",
      "Test set: Average loss: 1.8631, Accuracy: 1014.0/3589 (28.25%)\n",
      "\n",
      "* Update optimal model\n",
      "EPOCH: 33 LR: 0.001 \n"
     ]
    },
    {
     "name": "stderr",
     "output_type": "stream",
     "text": [
      "Loss=0.09931915253400803 Batch_id=224 le=0.001 Accuracy=29.14: 100%|██████████| 225/225 [00:53<00:00,  4.17it/s]"
     ]
    },
    {
     "name": "stdout",
     "output_type": "stream",
     "text": [
      "\t train_loss:  0.10292513856248482  | train_acc:  tensor(0.2914, device='cuda:0')\n"
     ]
    },
    {
     "name": "stderr",
     "output_type": "stream",
     "text": [
      "\n",
      "  0%|          | 0/225 [00:00<?, ?it/s]"
     ]
    },
    {
     "name": "stdout",
     "output_type": "stream",
     "text": [
      "\n",
      "Test set: Average loss: 1.8580, Accuracy: 1055.0/3589 (29.40%)\n",
      "\n",
      "* Update optimal model\n",
      "EPOCH: 34 LR: 0.001 \n"
     ]
    },
    {
     "name": "stderr",
     "output_type": "stream",
     "text": [
      "Loss=0.10960660129785538 Batch_id=224 le=0.001 Accuracy=29.26: 100%|██████████| 225/225 [00:54<00:00,  4.16it/s]"
     ]
    },
    {
     "name": "stdout",
     "output_type": "stream",
     "text": [
      "\t train_loss:  0.10296922696896359  | train_acc:  tensor(0.2926, device='cuda:0')\n"
     ]
    },
    {
     "name": "stderr",
     "output_type": "stream",
     "text": [
      "\n",
      "  0%|          | 0/225 [00:00<?, ?it/s]"
     ]
    },
    {
     "name": "stdout",
     "output_type": "stream",
     "text": [
      "\n",
      "Test set: Average loss: 1.8684, Accuracy: 971.0/3589 (27.05%)\n",
      "\n",
      "* Update optimal model\n",
      "EPOCH: 35 LR: 0.001 \n"
     ]
    },
    {
     "name": "stderr",
     "output_type": "stream",
     "text": [
      "Loss=0.10337109118700027 Batch_id=224 le=0.001 Accuracy=29.11: 100%|██████████| 225/225 [00:54<00:00,  4.16it/s]"
     ]
    },
    {
     "name": "stdout",
     "output_type": "stream",
     "text": [
      "\t train_loss:  0.10303453274745711  | train_acc:  tensor(0.2911, device='cuda:0')\n"
     ]
    },
    {
     "name": "stderr",
     "output_type": "stream",
     "text": [
      "\n",
      "  0%|          | 0/225 [00:00<?, ?it/s]"
     ]
    },
    {
     "name": "stdout",
     "output_type": "stream",
     "text": [
      "\n",
      "Test set: Average loss: 1.8623, Accuracy: 995.0/3589 (27.72%)\n",
      "\n",
      "* Update optimal model\n",
      "EPOCH: 36 LR: 0.001 \n"
     ]
    },
    {
     "name": "stderr",
     "output_type": "stream",
     "text": [
      "Loss=0.1026846170425415 Batch_id=224 le=0.001 Accuracy=28.92: 100%|██████████| 225/225 [00:54<00:00,  4.17it/s] "
     ]
    },
    {
     "name": "stdout",
     "output_type": "stream",
     "text": [
      "\t train_loss:  0.1029045768464935  | train_acc:  tensor(0.2892, device='cuda:0')\n"
     ]
    },
    {
     "name": "stderr",
     "output_type": "stream",
     "text": [
      "\n",
      "  0%|          | 0/225 [00:00<?, ?it/s]"
     ]
    },
    {
     "name": "stdout",
     "output_type": "stream",
     "text": [
      "\n",
      "Test set: Average loss: 1.8496, Accuracy: 1056.0/3589 (29.42%)\n",
      "\n",
      "* Update optimal model\n",
      "EPOCH: 37 LR: 0.001 \n"
     ]
    },
    {
     "name": "stderr",
     "output_type": "stream",
     "text": [
      "Loss=0.09871789813041687 Batch_id=224 le=0.001 Accuracy=28.95: 100%|██████████| 225/225 [00:54<00:00,  4.16it/s]"
     ]
    },
    {
     "name": "stdout",
     "output_type": "stream",
     "text": [
      "\t train_loss:  0.10297734878305614  | train_acc:  tensor(0.2895, device='cuda:0')\n"
     ]
    },
    {
     "name": "stderr",
     "output_type": "stream",
     "text": [
      "\n",
      "  0%|          | 0/225 [00:00<?, ?it/s]"
     ]
    },
    {
     "name": "stdout",
     "output_type": "stream",
     "text": [
      "\n",
      "Test set: Average loss: 1.8604, Accuracy: 1009.0/3589 (28.11%)\n",
      "\n",
      "* Update optimal model\n",
      "EPOCH: 38 LR: 0.001 \n"
     ]
    },
    {
     "name": "stderr",
     "output_type": "stream",
     "text": [
      "Loss=0.10472305864095688 Batch_id=224 le=0.001 Accuracy=29.25: 100%|██████████| 225/225 [00:53<00:00,  4.17it/s]"
     ]
    },
    {
     "name": "stdout",
     "output_type": "stream",
     "text": [
      "\t train_loss:  0.10296203369123111  | train_acc:  tensor(0.2925, device='cuda:0')\n"
     ]
    },
    {
     "name": "stderr",
     "output_type": "stream",
     "text": [
      "\n",
      "  0%|          | 0/225 [00:00<?, ?it/s]"
     ]
    },
    {
     "name": "stdout",
     "output_type": "stream",
     "text": [
      "\n",
      "Test set: Average loss: 1.8502, Accuracy: 1047.0/3589 (29.17%)\n",
      "\n",
      "* Update optimal model\n",
      "EPOCH: 39 LR: 0.001 \n"
     ]
    },
    {
     "name": "stderr",
     "output_type": "stream",
     "text": [
      "Loss=0.09869715571403503 Batch_id=224 le=0.001 Accuracy=29.41: 100%|██████████| 225/225 [00:54<00:00,  4.15it/s]"
     ]
    },
    {
     "name": "stdout",
     "output_type": "stream",
     "text": [
      "\t train_loss:  0.10297664860858742  | train_acc:  tensor(0.2941, device='cuda:0')\n"
     ]
    },
    {
     "name": "stderr",
     "output_type": "stream",
     "text": [
      "\n",
      "  0%|          | 0/225 [00:00<?, ?it/s]"
     ]
    },
    {
     "name": "stdout",
     "output_type": "stream",
     "text": [
      "\n",
      "Test set: Average loss: 1.8307, Accuracy: 1015.0/3589 (28.28%)\n",
      "\n",
      "* Update optimal model\n",
      "EPOCH: 40 LR: 0.0005 \n"
     ]
    },
    {
     "name": "stderr",
     "output_type": "stream",
     "text": [
      "Loss=0.10014905780553818 Batch_id=224 le=0.0005 Accuracy=29.55: 100%|██████████| 225/225 [00:53<00:00,  4.17it/s]"
     ]
    },
    {
     "name": "stdout",
     "output_type": "stream",
     "text": [
      "\t train_loss:  0.10277454844478107  | train_acc:  tensor(0.2955, device='cuda:0')\n"
     ]
    },
    {
     "name": "stderr",
     "output_type": "stream",
     "text": [
      "\n",
      "  0%|          | 0/225 [00:00<?, ?it/s]"
     ]
    },
    {
     "name": "stdout",
     "output_type": "stream",
     "text": [
      "\n",
      "Test set: Average loss: 1.8584, Accuracy: 1020.0/3589 (28.42%)\n",
      "\n",
      "* Update optimal model\n",
      "EPOCH: 41 LR: 0.0005 \n"
     ]
    },
    {
     "name": "stderr",
     "output_type": "stream",
     "text": [
      "Loss=0.09797754883766174 Batch_id=224 le=0.0005 Accuracy=29.73: 100%|██████████| 225/225 [00:54<00:00,  4.17it/s]"
     ]
    },
    {
     "name": "stdout",
     "output_type": "stream",
     "text": [
      "\t train_loss:  0.10294833293512218  | train_acc:  tensor(0.2973, device='cuda:0')\n"
     ]
    },
    {
     "name": "stderr",
     "output_type": "stream",
     "text": [
      "\n",
      "  0%|          | 0/225 [00:00<?, ?it/s]"
     ]
    },
    {
     "name": "stdout",
     "output_type": "stream",
     "text": [
      "\n",
      "Test set: Average loss: 1.8471, Accuracy: 1014.0/3589 (28.25%)\n",
      "\n",
      "* Update optimal model\n",
      "EPOCH: 42 LR: 0.0005 \n"
     ]
    },
    {
     "name": "stderr",
     "output_type": "stream",
     "text": [
      "Loss=0.09344352781772614 Batch_id=224 le=0.0005 Accuracy=29.91: 100%|██████████| 225/225 [00:54<00:00,  4.16it/s]"
     ]
    },
    {
     "name": "stdout",
     "output_type": "stream",
     "text": [
      "\t train_loss:  0.1032205743208388  | train_acc:  tensor(0.2991, device='cuda:0')\n"
     ]
    },
    {
     "name": "stderr",
     "output_type": "stream",
     "text": [
      "\n",
      "  0%|          | 0/225 [00:00<?, ?it/s]"
     ]
    },
    {
     "name": "stdout",
     "output_type": "stream",
     "text": [
      "\n",
      "Test set: Average loss: 1.8442, Accuracy: 1029.0/3589 (28.67%)\n",
      "\n",
      "* Update optimal model\n",
      "EPOCH: 43 LR: 0.0005 \n"
     ]
    },
    {
     "name": "stderr",
     "output_type": "stream",
     "text": [
      "Loss=0.09763127565383911 Batch_id=224 le=0.0005 Accuracy=29.81: 100%|██████████| 225/225 [00:53<00:00,  4.17it/s]"
     ]
    },
    {
     "name": "stdout",
     "output_type": "stream",
     "text": [
      "\t train_loss:  0.10294884647993031  | train_acc:  tensor(0.2981, device='cuda:0')\n"
     ]
    },
    {
     "name": "stderr",
     "output_type": "stream",
     "text": [
      "\n",
      "  0%|          | 0/225 [00:00<?, ?it/s]"
     ]
    },
    {
     "name": "stdout",
     "output_type": "stream",
     "text": [
      "\n",
      "Test set: Average loss: 1.8859, Accuracy: 938.0/3589 (26.14%)\n",
      "\n",
      "* Update optimal model\n",
      "EPOCH: 44 LR: 0.0005 \n"
     ]
    },
    {
     "name": "stderr",
     "output_type": "stream",
     "text": [
      "Loss=0.09635117650032043 Batch_id=224 le=0.0005 Accuracy=29.76: 100%|██████████| 225/225 [00:54<00:00,  4.16it/s]"
     ]
    },
    {
     "name": "stdout",
     "output_type": "stream",
     "text": [
      "\t train_loss:  0.10305684788203247  | train_acc:  tensor(0.2976, device='cuda:0')\n"
     ]
    },
    {
     "name": "stderr",
     "output_type": "stream",
     "text": [
      "\n",
      "  0%|          | 0/225 [00:00<?, ?it/s]"
     ]
    },
    {
     "name": "stdout",
     "output_type": "stream",
     "text": [
      "\n",
      "Test set: Average loss: 1.8392, Accuracy: 986.0/3589 (27.47%)\n",
      "\n",
      "* Update optimal model\n",
      "EPOCH: 45 LR: 0.0005 \n"
     ]
    },
    {
     "name": "stderr",
     "output_type": "stream",
     "text": [
      "Loss=0.10352538526058197 Batch_id=224 le=0.0005 Accuracy=29.81: 100%|██████████| 225/225 [00:54<00:00,  4.16it/s]"
     ]
    },
    {
     "name": "stdout",
     "output_type": "stream",
     "text": [
      "\t train_loss:  0.10306218399413639  | train_acc:  tensor(0.2981, device='cuda:0')\n"
     ]
    },
    {
     "name": "stderr",
     "output_type": "stream",
     "text": [
      "\n",
      "  0%|          | 0/225 [00:00<?, ?it/s]"
     ]
    },
    {
     "name": "stdout",
     "output_type": "stream",
     "text": [
      "\n",
      "Test set: Average loss: 1.8322, Accuracy: 1025.0/3589 (28.56%)\n",
      "\n",
      "* Update optimal model\n",
      "EPOCH: 46 LR: 0.0005 \n"
     ]
    },
    {
     "name": "stderr",
     "output_type": "stream",
     "text": [
      "Loss=0.10166792571544647 Batch_id=224 le=0.0005 Accuracy=30.04: 100%|██████████| 225/225 [00:54<00:00,  4.14it/s]"
     ]
    },
    {
     "name": "stdout",
     "output_type": "stream",
     "text": [
      "\t train_loss:  0.10313074920661124  | train_acc:  tensor(0.3004, device='cuda:0')\n"
     ]
    },
    {
     "name": "stderr",
     "output_type": "stream",
     "text": [
      "\n",
      "  0%|          | 0/225 [00:00<?, ?it/s]"
     ]
    },
    {
     "name": "stdout",
     "output_type": "stream",
     "text": [
      "\n",
      "Test set: Average loss: 1.8332, Accuracy: 992.0/3589 (27.64%)\n",
      "\n",
      "* Update optimal model\n",
      "EPOCH: 47 LR: 0.0005 \n"
     ]
    },
    {
     "name": "stderr",
     "output_type": "stream",
     "text": [
      "Loss=0.10319775342941284 Batch_id=224 le=0.0005 Accuracy=30.10: 100%|██████████| 225/225 [00:54<00:00,  4.17it/s]"
     ]
    },
    {
     "name": "stdout",
     "output_type": "stream",
     "text": [
      "\t train_loss:  0.10302849867745101  | train_acc:  tensor(0.3010, device='cuda:0')\n"
     ]
    },
    {
     "name": "stderr",
     "output_type": "stream",
     "text": [
      "\n",
      "  0%|          | 0/225 [00:00<?, ?it/s]"
     ]
    },
    {
     "name": "stdout",
     "output_type": "stream",
     "text": [
      "\n",
      "Test set: Average loss: 1.8172, Accuracy: 1015.0/3589 (28.28%)\n",
      "\n",
      "* Update optimal model\n",
      "EPOCH: 48 LR: 0.0005 \n"
     ]
    },
    {
     "name": "stderr",
     "output_type": "stream",
     "text": [
      "Loss=0.09396987408399582 Batch_id=224 le=0.0005 Accuracy=29.85: 100%|██████████| 225/225 [00:54<00:00,  4.17it/s]"
     ]
    },
    {
     "name": "stdout",
     "output_type": "stream",
     "text": [
      "\t train_loss:  0.1030729000277789  | train_acc:  tensor(0.2985, device='cuda:0')\n"
     ]
    },
    {
     "name": "stderr",
     "output_type": "stream",
     "text": [
      "\n",
      "  0%|          | 0/225 [00:00<?, ?it/s]"
     ]
    },
    {
     "name": "stdout",
     "output_type": "stream",
     "text": [
      "\n",
      "Test set: Average loss: 1.8508, Accuracy: 978.0/3589 (27.25%)\n",
      "\n",
      "* Update optimal model\n",
      "EPOCH: 49 LR: 0.0005 \n"
     ]
    },
    {
     "name": "stderr",
     "output_type": "stream",
     "text": [
      "Loss=0.10683128982782364 Batch_id=224 le=0.0005 Accuracy=29.87: 100%|██████████| 225/225 [00:54<00:00,  4.16it/s]"
     ]
    },
    {
     "name": "stdout",
     "output_type": "stream",
     "text": [
      "\t train_loss:  0.10314063775685353  | train_acc:  tensor(0.2987, device='cuda:0')\n"
     ]
    },
    {
     "name": "stderr",
     "output_type": "stream",
     "text": [
      "\n"
     ]
    },
    {
     "name": "stdout",
     "output_type": "stream",
     "text": [
      "\n",
      "Test set: Average loss: 1.8483, Accuracy: 1013.0/3589 (28.23%)\n",
      "\n",
      "* Update optimal model\n"
     ]
    },
    {
     "data": {
      "image/png": "[encoded data removed]",
      "text/plain": [
       "<Figure size 1440x576 with 2 Axes>"
      ]
     },
     "metadata": {
      "needs_background": "light"
     },
     "output_type": "display_data"
    }
   ],
   "source": [
    "model_path = None\n",
    "device = torch.device('cuda')\n",
    "model=SVGG(device=device)\n",
    "model.to(device)\n",
    "epochs=50\n",
    "optimizer = optim.Adam(model.parameters(), lr=0.004, weight_decay=9e-4)\n",
    "# scheduler = torch.optim.lr_scheduler.OneCycleLR(optimizer, max_lr=0.02, steps_per_epoch=len(training_generator), pct_start=0.2, div_factor=10, cycle_momentum=False, epochs=epochs)\n",
    "scheduler = torch.optim.lr_scheduler.ReduceLROnPlateau(optimizer, mode='min', factor=0.5, patience=8, verbose=False)\n",
    "\n",
    "input_size=(3,48,48)\n",
    "model_path = None\n",
    "train_acc = []\n",
    "train_loss = []\n",
    "valid_acc = []\n",
    "valid_loss = []\n",
    "\n",
    "distance = distances.CosineSimilarity()\n",
    "reducer = reducers.ThresholdReducer(low = 0)\n",
    "loss_func = losses.TripletMarginLoss(margin = 0.2, distance = distance, reducer = reducer)\n",
    "mining_func = miners.TripletMarginMiner(margin = 0.2, distance = distance, type_of_triplets = \"semihard\")\n",
    "\n",
    "for epoch in range(epochs):\n",
    "    print(\"EPOCH: %s LR: %s \" % (epoch, get_lr(optimizer)))\n",
    "    train(model, training_generator, optimizer, loss_func, mining_func, scheduler)\n",
    "    tloss = test(model, validation_generator)\n",
    "    scheduler.step(tloss)\n",
    "plot(train_loss,train_acc, valid_loss, valid_acc, 'Loss & Accuracy')"
   ]
  },
  {
   "cell_type": "code",
   "execution_count": 13,
   "metadata": {},
   "outputs": [
    {
     "name": "stderr",
     "output_type": "stream",
     "text": [
      "\r",
      "  0%|          | 0/225 [00:00<?, ?it/s]"
     ]
    },
    {
     "name": "stdout",
     "output_type": "stream",
     "text": [
      "EPOCH: 50 LR: 0.0005 \n"
     ]
    },
    {
     "name": "stderr",
     "output_type": "stream",
     "text": [
      "Loss=0.10340596735477448 Batch_id=224 le=0.0005 Accuracy=30.25: 100%|██████████| 225/225 [00:53<00:00,  4.22it/s]"
     ]
    },
    {
     "name": "stdout",
     "output_type": "stream",
     "text": [
      "\t train_loss:  0.10324832610974113  | train_acc:  tensor(0.3025, device='cuda:0')\n"
     ]
    },
    {
     "name": "stderr",
     "output_type": "stream",
     "text": [
      "\n",
      "  0%|          | 0/225 [00:00<?, ?it/s]"
     ]
    },
    {
     "name": "stdout",
     "output_type": "stream",
     "text": [
      "\n",
      "Test set: Average loss: 1.8310, Accuracy: 983.0/3589 (27.39%)\n",
      "\n",
      "* Update optimal model\n",
      "EPOCH: 51 LR: 0.0005 \n"
     ]
    },
    {
     "name": "stderr",
     "output_type": "stream",
     "text": [
      "Loss=0.1064733937382698 Batch_id=224 le=0.0005 Accuracy=30.19: 100%|██████████| 225/225 [00:53<00:00,  4.19it/s] "
     ]
    },
    {
     "name": "stdout",
     "output_type": "stream",
     "text": [
      "\t train_loss:  0.10334148423181706  | train_acc:  tensor(0.3019, device='cuda:0')\n"
     ]
    },
    {
     "name": "stderr",
     "output_type": "stream",
     "text": [
      "\n",
      "  0%|          | 0/225 [00:00<?, ?it/s]"
     ]
    },
    {
     "name": "stdout",
     "output_type": "stream",
     "text": [
      "\n",
      "Test set: Average loss: 1.8540, Accuracy: 960.0/3589 (26.75%)\n",
      "\n",
      "* Update optimal model\n",
      "EPOCH: 52 LR: 0.0005 \n"
     ]
    },
    {
     "name": "stderr",
     "output_type": "stream",
     "text": [
      "Loss=0.09681188315153122 Batch_id=224 le=0.0005 Accuracy=30.13: 100%|██████████| 225/225 [00:53<00:00,  4.17it/s]"
     ]
    },
    {
     "name": "stdout",
     "output_type": "stream",
     "text": [
      "\t train_loss:  0.10311031297823492  | train_acc:  tensor(0.3013, device='cuda:0')\n"
     ]
    },
    {
     "name": "stderr",
     "output_type": "stream",
     "text": [
      "\n",
      "  0%|          | 0/225 [00:00<?, ?it/s]"
     ]
    },
    {
     "name": "stdout",
     "output_type": "stream",
     "text": [
      "\n",
      "Test set: Average loss: 1.8030, Accuracy: 1060.0/3589 (29.53%)\n",
      "\n",
      "* Update optimal model\n",
      "EPOCH: 53 LR: 0.0005 \n"
     ]
    },
    {
     "name": "stderr",
     "output_type": "stream",
     "text": [
      "Loss=0.09902167320251465 Batch_id=224 le=0.0005 Accuracy=30.00: 100%|██████████| 225/225 [00:54<00:00,  4.17it/s]"
     ]
    },
    {
     "name": "stdout",
     "output_type": "stream",
     "text": [
      "\t train_loss:  0.10311935967697138  | train_acc:  tensor(0.3000, device='cuda:0')\n"
     ]
    },
    {
     "name": "stderr",
     "output_type": "stream",
     "text": [
      "\n",
      "  0%|          | 0/225 [00:00<?, ?it/s]"
     ]
    },
    {
     "name": "stdout",
     "output_type": "stream",
     "text": [
      "\n",
      "Test set: Average loss: 1.8407, Accuracy: 1000.0/3589 (27.86%)\n",
      "\n",
      "* Update optimal model\n",
      "EPOCH: 54 LR: 0.0005 \n"
     ]
    },
    {
     "name": "stderr",
     "output_type": "stream",
     "text": [
      "Loss=0.0989862009882927 Batch_id=224 le=0.0005 Accuracy=29.99: 100%|██████████| 225/225 [00:53<00:00,  4.17it/s] "
     ]
    },
    {
     "name": "stdout",
     "output_type": "stream",
     "text": [
      "\t train_loss:  0.10309460791940371  | train_acc:  tensor(0.2999, device='cuda:0')\n"
     ]
    },
    {
     "name": "stderr",
     "output_type": "stream",
     "text": [
      "\n",
      "  0%|          | 0/225 [00:00<?, ?it/s]"
     ]
    },
    {
     "name": "stdout",
     "output_type": "stream",
     "text": [
      "\n",
      "Test set: Average loss: 1.8320, Accuracy: 1020.0/3589 (28.42%)\n",
      "\n",
      "* Update optimal model\n",
      "EPOCH: 55 LR: 0.0005 \n"
     ]
    },
    {
     "name": "stderr",
     "output_type": "stream",
     "text": [
      "Loss=0.09841505438089371 Batch_id=224 le=0.0005 Accuracy=30.00: 100%|██████████| 225/225 [00:54<00:00,  4.15it/s]"
     ]
    },
    {
     "name": "stdout",
     "output_type": "stream",
     "text": [
      "\t train_loss:  0.10329156982010736  | train_acc:  tensor(0.3000, device='cuda:0')\n"
     ]
    },
    {
     "name": "stderr",
     "output_type": "stream",
     "text": [
      "\n",
      "  0%|          | 0/225 [00:00<?, ?it/s]"
     ]
    },
    {
     "name": "stdout",
     "output_type": "stream",
     "text": [
      "\n",
      "Test set: Average loss: 1.8069, Accuracy: 1007.0/3589 (28.06%)\n",
      "\n",
      "* Update optimal model\n",
      "EPOCH: 56 LR: 0.0005 \n"
     ]
    },
    {
     "name": "stderr",
     "output_type": "stream",
     "text": [
      "Loss=0.10288707911968231 Batch_id=224 le=0.0005 Accuracy=29.69: 100%|██████████| 225/225 [00:54<00:00,  4.16it/s]"
     ]
    },
    {
     "name": "stdout",
     "output_type": "stream",
     "text": [
      "\t train_loss:  0.1034010817057752  | train_acc:  tensor(0.2969, device='cuda:0')\n"
     ]
    },
    {
     "name": "stderr",
     "output_type": "stream",
     "text": [
      "\n",
      "  0%|          | 0/225 [00:00<?, ?it/s]"
     ]
    },
    {
     "name": "stdout",
     "output_type": "stream",
     "text": [
      "\n",
      "Test set: Average loss: 1.8236, Accuracy: 1013.0/3589 (28.23%)\n",
      "\n",
      "* Update optimal model\n",
      "EPOCH: 57 LR: 0.0005 \n"
     ]
    },
    {
     "name": "stderr",
     "output_type": "stream",
     "text": [
      "Loss=0.0984119102358818 Batch_id=224 le=0.0005 Accuracy=29.68: 100%|██████████| 225/225 [00:54<00:00,  4.16it/s] "
     ]
    },
    {
     "name": "stdout",
     "output_type": "stream",
     "text": [
      "\t train_loss:  0.1029977915586214  | train_acc:  tensor(0.2968, device='cuda:0')\n"
     ]
    },
    {
     "name": "stderr",
     "output_type": "stream",
     "text": [
      "\n",
      "  0%|          | 0/225 [00:00<?, ?it/s]"
     ]
    },
    {
     "name": "stdout",
     "output_type": "stream",
     "text": [
      "\n",
      "Test set: Average loss: 1.8122, Accuracy: 1045.0/3589 (29.12%)\n",
      "\n",
      "* Update optimal model\n",
      "EPOCH: 58 LR: 0.0005 \n"
     ]
    },
    {
     "name": "stderr",
     "output_type": "stream",
     "text": [
      "Loss=0.10027779638767242 Batch_id=224 le=0.0005 Accuracy=30.06: 100%|██████████| 225/225 [00:54<00:00,  4.15it/s]"
     ]
    },
    {
     "name": "stdout",
     "output_type": "stream",
     "text": [
      "\t train_loss:  0.1032499792152589  | train_acc:  tensor(0.3006, device='cuda:0')\n"
     ]
    },
    {
     "name": "stderr",
     "output_type": "stream",
     "text": [
      "\n",
      "  0%|          | 0/225 [00:00<?, ?it/s]"
     ]
    },
    {
     "name": "stdout",
     "output_type": "stream",
     "text": [
      "\n",
      "Test set: Average loss: 1.8347, Accuracy: 955.0/3589 (26.61%)\n",
      "\n",
      "* Update optimal model\n",
      "EPOCH: 59 LR: 0.0005 \n"
     ]
    },
    {
     "name": "stderr",
     "output_type": "stream",
     "text": [
      "Loss=0.1012144461274147 Batch_id=224 le=0.0005 Accuracy=29.98: 100%|██████████| 225/225 [00:54<00:00,  4.15it/s] "
     ]
    },
    {
     "name": "stdout",
     "output_type": "stream",
     "text": [
      "\t train_loss:  0.10348440107522479  | train_acc:  tensor(0.2998, device='cuda:0')\n"
     ]
    },
    {
     "name": "stderr",
     "output_type": "stream",
     "text": [
      "\n",
      "  0%|          | 0/225 [00:00<?, ?it/s]"
     ]
    },
    {
     "name": "stdout",
     "output_type": "stream",
     "text": [
      "\n",
      "Test set: Average loss: 1.8189, Accuracy: 983.0/3589 (27.39%)\n",
      "\n",
      "* Update optimal model\n",
      "EPOCH: 60 LR: 0.0005 \n"
     ]
    },
    {
     "name": "stderr",
     "output_type": "stream",
     "text": [
      "Loss=0.10075782239437103 Batch_id=224 le=0.0005 Accuracy=30.05: 100%|██████████| 225/225 [00:54<00:00,  4.15it/s]"
     ]
    },
    {
     "name": "stdout",
     "output_type": "stream",
     "text": [
      "\t train_loss:  0.10345502938207005  | train_acc:  tensor(0.3005, device='cuda:0')\n"
     ]
    },
    {
     "name": "stderr",
     "output_type": "stream",
     "text": [
      "\n",
      "  0%|          | 0/225 [00:00<?, ?it/s]"
     ]
    },
    {
     "name": "stdout",
     "output_type": "stream",
     "text": [
      "\n",
      "Test set: Average loss: 1.8433, Accuracy: 973.0/3589 (27.11%)\n",
      "\n",
      "* Update optimal model\n",
      "EPOCH: 61 LR: 0.0005 \n"
     ]
    },
    {
     "name": "stderr",
     "output_type": "stream",
     "text": [
      "Loss=0.10693426430225372 Batch_id=224 le=0.0005 Accuracy=30.10: 100%|██████████| 225/225 [00:54<00:00,  4.14it/s]"
     ]
    },
    {
     "name": "stdout",
     "output_type": "stream",
     "text": [
      "\t train_loss:  0.1031412949258828  | train_acc:  tensor(0.3010, device='cuda:0')\n"
     ]
    },
    {
     "name": "stderr",
     "output_type": "stream",
     "text": [
      "\n",
      "  0%|          | 0/225 [00:00<?, ?it/s]"
     ]
    },
    {
     "name": "stdout",
     "output_type": "stream",
     "text": [
      "\n",
      "Test set: Average loss: 1.8529, Accuracy: 957.0/3589 (26.66%)\n",
      "\n",
      "* Update optimal model\n",
      "EPOCH: 62 LR: 0.00025 \n"
     ]
    },
    {
     "name": "stderr",
     "output_type": "stream",
     "text": [
      "Loss=0.10048660635948181 Batch_id=224 le=0.00025 Accuracy=30.25: 100%|██████████| 225/225 [00:54<00:00,  4.14it/s]"
     ]
    },
    {
     "name": "stdout",
     "output_type": "stream",
     "text": [
      "\t train_loss:  0.10355687011761901  | train_acc:  tensor(0.3025, device='cuda:0')\n"
     ]
    },
    {
     "name": "stderr",
     "output_type": "stream",
     "text": [
      "\n",
      "  0%|          | 0/225 [00:00<?, ?it/s]"
     ]
    },
    {
     "name": "stdout",
     "output_type": "stream",
     "text": [
      "\n",
      "Test set: Average loss: 1.8307, Accuracy: 984.0/3589 (27.42%)\n",
      "\n",
      "* Update optimal model\n",
      "EPOCH: 63 LR: 0.00025 \n"
     ]
    },
    {
     "name": "stderr",
     "output_type": "stream",
     "text": [
      "Loss=0.09896160662174225 Batch_id=224 le=0.00025 Accuracy=30.37: 100%|██████████| 225/225 [00:54<00:00,  4.15it/s]"
     ]
    },
    {
     "name": "stdout",
     "output_type": "stream",
     "text": [
      "\t train_loss:  0.10353999657345489  | train_acc:  tensor(0.3037, device='cuda:0')\n"
     ]
    },
    {
     "name": "stderr",
     "output_type": "stream",
     "text": [
      "\n",
      "  0%|          | 0/225 [00:00<?, ?it/s]"
     ]
    },
    {
     "name": "stdout",
     "output_type": "stream",
     "text": [
      "\n",
      "Test set: Average loss: 1.8237, Accuracy: 1010.0/3589 (28.14%)\n",
      "\n",
      "* Update optimal model\n",
      "EPOCH: 64 LR: 0.00025 \n"
     ]
    },
    {
     "name": "stderr",
     "output_type": "stream",
     "text": [
      "Loss=0.10528560727834702 Batch_id=224 le=0.00025 Accuracy=30.37: 100%|██████████| 225/225 [00:54<00:00,  4.15it/s]"
     ]
    },
    {
     "name": "stdout",
     "output_type": "stream",
     "text": [
      "\t train_loss:  0.10343475922308412  | train_acc:  tensor(0.3037, device='cuda:0')\n"
     ]
    },
    {
     "name": "stderr",
     "output_type": "stream",
     "text": [
      "\n",
      "  0%|          | 0/225 [00:00<?, ?it/s]"
     ]
    },
    {
     "name": "stdout",
     "output_type": "stream",
     "text": [
      "\n",
      "Test set: Average loss: 1.8279, Accuracy: 990.0/3589 (27.58%)\n",
      "\n",
      "* Update optimal model\n",
      "EPOCH: 65 LR: 0.00025 \n"
     ]
    },
    {
     "name": "stderr",
     "output_type": "stream",
     "text": [
      "Loss=0.10896272957324982 Batch_id=224 le=0.00025 Accuracy=30.73: 100%|██████████| 225/225 [00:54<00:00,  4.14it/s]"
     ]
    },
    {
     "name": "stdout",
     "output_type": "stream",
     "text": [
      "\t train_loss:  0.1036289305713567  | train_acc:  tensor(0.3073, device='cuda:0')\n"
     ]
    },
    {
     "name": "stderr",
     "output_type": "stream",
     "text": [
      "\n",
      "  0%|          | 0/225 [00:00<?, ?it/s]"
     ]
    },
    {
     "name": "stdout",
     "output_type": "stream",
     "text": [
      "\n",
      "Test set: Average loss: 1.8237, Accuracy: 995.0/3589 (27.72%)\n",
      "\n",
      "* Update optimal model\n",
      "EPOCH: 66 LR: 0.00025 \n"
     ]
    },
    {
     "name": "stderr",
     "output_type": "stream",
     "text": [
      "Loss=0.09469284862279892 Batch_id=224 le=0.00025 Accuracy=30.72: 100%|██████████| 225/225 [00:54<00:00,  4.14it/s]"
     ]
    },
    {
     "name": "stdout",
     "output_type": "stream",
     "text": [
      "\t train_loss:  0.1035007574267574  | train_acc:  tensor(0.3072, device='cuda:0')\n"
     ]
    },
    {
     "name": "stderr",
     "output_type": "stream",
     "text": [
      "\n",
      "  0%|          | 0/225 [00:00<?, ?it/s]"
     ]
    },
    {
     "name": "stdout",
     "output_type": "stream",
     "text": [
      "\n",
      "Test set: Average loss: 1.8178, Accuracy: 994.0/3589 (27.70%)\n",
      "\n",
      "* Update optimal model\n",
      "EPOCH: 67 LR: 0.00025 \n"
     ]
    },
    {
     "name": "stderr",
     "output_type": "stream",
     "text": [
      "Loss=0.10274632275104523 Batch_id=224 le=0.00025 Accuracy=30.77: 100%|██████████| 225/225 [00:54<00:00,  4.15it/s]"
     ]
    },
    {
     "name": "stdout",
     "output_type": "stream",
     "text": [
      "\t train_loss:  0.10357584348033101  | train_acc:  tensor(0.3077, device='cuda:0')\n"
     ]
    },
    {
     "name": "stderr",
     "output_type": "stream",
     "text": [
      "\n",
      "  0%|          | 0/225 [00:00<?, ?it/s]"
     ]
    },
    {
     "name": "stdout",
     "output_type": "stream",
     "text": [
      "\n",
      "Test set: Average loss: 1.8237, Accuracy: 999.0/3589 (27.84%)\n",
      "\n",
      "* Update optimal model\n",
      "EPOCH: 68 LR: 0.00025 \n"
     ]
    },
    {
     "name": "stderr",
     "output_type": "stream",
     "text": [
      "Loss=0.0857357382774353 Batch_id=224 le=0.00025 Accuracy=30.83: 100%|██████████| 225/225 [00:54<00:00,  4.15it/s] "
     ]
    },
    {
     "name": "stdout",
     "output_type": "stream",
     "text": [
      "\t train_loss:  0.1037854356445021  | train_acc:  tensor(0.3083, device='cuda:0')\n"
     ]
    },
    {
     "name": "stderr",
     "output_type": "stream",
     "text": [
      "\n",
      "  0%|          | 0/225 [00:00<?, ?it/s]"
     ]
    },
    {
     "name": "stdout",
     "output_type": "stream",
     "text": [
      "\n",
      "Test set: Average loss: 1.8142, Accuracy: 1022.0/3589 (28.48%)\n",
      "\n",
      "* Update optimal model\n",
      "EPOCH: 69 LR: 0.00025 \n"
     ]
    },
    {
     "name": "stderr",
     "output_type": "stream",
     "text": [
      "Loss=0.10172257572412491 Batch_id=224 le=0.00025 Accuracy=30.89: 100%|██████████| 225/225 [00:54<00:00,  4.14it/s]"
     ]
    },
    {
     "name": "stdout",
     "output_type": "stream",
     "text": [
      "\t train_loss:  0.10404510022049526  | train_acc:  tensor(0.3089, device='cuda:0')\n"
     ]
    },
    {
     "name": "stderr",
     "output_type": "stream",
     "text": [
      "\n",
      "  0%|          | 0/225 [00:00<?, ?it/s]"
     ]
    },
    {
     "name": "stdout",
     "output_type": "stream",
     "text": [
      "\n",
      "Test set: Average loss: 1.8229, Accuracy: 993.0/3589 (27.67%)\n",
      "\n",
      "* Update optimal model\n",
      "EPOCH: 70 LR: 0.00025 \n"
     ]
    },
    {
     "name": "stderr",
     "output_type": "stream",
     "text": [
      "Loss=0.09562920778989792 Batch_id=224 le=0.00025 Accuracy=30.89: 100%|██████████| 225/225 [00:54<00:00,  4.14it/s]"
     ]
    },
    {
     "name": "stdout",
     "output_type": "stream",
     "text": [
      "\t train_loss:  0.10399260427460882  | train_acc:  tensor(0.3089, device='cuda:0')\n"
     ]
    },
    {
     "name": "stderr",
     "output_type": "stream",
     "text": [
      "\n",
      "  0%|          | 0/225 [00:00<?, ?it/s]"
     ]
    },
    {
     "name": "stdout",
     "output_type": "stream",
     "text": [
      "\n",
      "Test set: Average loss: 1.8277, Accuracy: 992.0/3589 (27.64%)\n",
      "\n",
      "* Update optimal model\n",
      "EPOCH: 71 LR: 0.000125 \n"
     ]
    },
    {
     "name": "stderr",
     "output_type": "stream",
     "text": [
      "Loss=0.09988456964492798 Batch_id=224 le=0.000125 Accuracy=30.88: 100%|██████████| 225/225 [00:54<00:00,  4.15it/s]"
     ]
    },
    {
     "name": "stdout",
     "output_type": "stream",
     "text": [
      "\t train_loss:  0.10394256152289179  | train_acc:  tensor(0.3088, device='cuda:0')\n"
     ]
    },
    {
     "name": "stderr",
     "output_type": "stream",
     "text": [
      "\n",
      "  0%|          | 0/225 [00:00<?, ?it/s]"
     ]
    },
    {
     "name": "stdout",
     "output_type": "stream",
     "text": [
      "\n",
      "Test set: Average loss: 1.8228, Accuracy: 1018.0/3589 (28.36%)\n",
      "\n",
      "* Update optimal model\n",
      "EPOCH: 72 LR: 0.000125 \n"
     ]
    },
    {
     "name": "stderr",
     "output_type": "stream",
     "text": [
      "Loss=0.1027238667011261 Batch_id=224 le=0.000125 Accuracy=31.11: 100%|██████████| 225/225 [00:54<00:00,  4.15it/s] "
     ]
    },
    {
     "name": "stdout",
     "output_type": "stream",
     "text": [
      "\t train_loss:  0.1041666489137187  | train_acc:  tensor(0.3111, device='cuda:0')\n"
     ]
    },
    {
     "name": "stderr",
     "output_type": "stream",
     "text": [
      "\n",
      "  0%|          | 0/225 [00:00<?, ?it/s]"
     ]
    },
    {
     "name": "stdout",
     "output_type": "stream",
     "text": [
      "\n",
      "Test set: Average loss: 1.8154, Accuracy: 1016.0/3589 (28.31%)\n",
      "\n",
      "* Update optimal model\n",
      "EPOCH: 73 LR: 0.000125 \n"
     ]
    },
    {
     "name": "stderr",
     "output_type": "stream",
     "text": [
      "Loss=0.10108773410320282 Batch_id=224 le=0.000125 Accuracy=30.79: 100%|██████████| 225/225 [00:54<00:00,  4.14it/s]"
     ]
    },
    {
     "name": "stdout",
     "output_type": "stream",
     "text": [
      "\t train_loss:  0.10408503385348614  | train_acc:  tensor(0.3079, device='cuda:0')\n"
     ]
    },
    {
     "name": "stderr",
     "output_type": "stream",
     "text": [
      "\n",
      "  0%|          | 0/225 [00:00<?, ?it/s]"
     ]
    },
    {
     "name": "stdout",
     "output_type": "stream",
     "text": [
      "\n",
      "Test set: Average loss: 1.8291, Accuracy: 1018.0/3589 (28.36%)\n",
      "\n",
      "* Update optimal model\n",
      "EPOCH: 74 LR: 0.000125 \n"
     ]
    },
    {
     "name": "stderr",
     "output_type": "stream",
     "text": [
      "Loss=0.10693887621164322 Batch_id=224 le=0.000125 Accuracy=30.76: 100%|██████████| 225/225 [00:54<00:00,  4.14it/s]"
     ]
    },
    {
     "name": "stdout",
     "output_type": "stream",
     "text": [
      "\t train_loss:  0.10386402964132109  | train_acc:  tensor(0.3076, device='cuda:0')\n"
     ]
    },
    {
     "name": "stderr",
     "output_type": "stream",
     "text": [
      "\n",
      "  0%|          | 0/225 [00:00<?, ?it/s]"
     ]
    },
    {
     "name": "stdout",
     "output_type": "stream",
     "text": [
      "\n",
      "Test set: Average loss: 1.8228, Accuracy: 1025.0/3589 (28.56%)\n",
      "\n",
      "* Update optimal model\n",
      "EPOCH: 75 LR: 0.000125 \n"
     ]
    },
    {
     "name": "stderr",
     "output_type": "stream",
     "text": [
      "Loss=0.1014329046010971 Batch_id=224 le=0.000125 Accuracy=31.01: 100%|██████████| 225/225 [00:54<00:00,  4.13it/s] "
     ]
    },
    {
     "name": "stdout",
     "output_type": "stream",
     "text": [
      "\t train_loss:  0.10422096071887645  | train_acc:  tensor(0.3101, device='cuda:0')\n"
     ]
    },
    {
     "name": "stderr",
     "output_type": "stream",
     "text": [
      "\n",
      "  0%|          | 0/225 [00:00<?, ?it/s]"
     ]
    },
    {
     "name": "stdout",
     "output_type": "stream",
     "text": [
      "\n",
      "Test set: Average loss: 1.8287, Accuracy: 1007.0/3589 (28.06%)\n",
      "\n",
      "* Update optimal model\n",
      "EPOCH: 76 LR: 0.000125 \n"
     ]
    },
    {
     "name": "stderr",
     "output_type": "stream",
     "text": [
      "Loss=0.11135465651750565 Batch_id=224 le=0.000125 Accuracy=30.91: 100%|██████████| 225/225 [00:54<00:00,  4.14it/s]"
     ]
    },
    {
     "name": "stdout",
     "output_type": "stream",
     "text": [
      "\t train_loss:  0.10421579785268963  | train_acc:  tensor(0.3091, device='cuda:0')\n"
     ]
    },
    {
     "name": "stderr",
     "output_type": "stream",
     "text": [
      "\n",
      "  0%|          | 0/225 [00:00<?, ?it/s]"
     ]
    },
    {
     "name": "stdout",
     "output_type": "stream",
     "text": [
      "\n",
      "Test set: Average loss: 1.8398, Accuracy: 985.0/3589 (27.44%)\n",
      "\n",
      "* Update optimal model\n",
      "EPOCH: 77 LR: 0.000125 \n"
     ]
    },
    {
     "name": "stderr",
     "output_type": "stream",
     "text": [
      "Loss=0.10603410005569458 Batch_id=224 le=0.000125 Accuracy=31.32: 100%|██████████| 225/225 [00:54<00:00,  4.15it/s]"
     ]
    },
    {
     "name": "stdout",
     "output_type": "stream",
     "text": [
      "\t train_loss:  0.10421045037072307  | train_acc:  tensor(0.3132, device='cuda:0')\n"
     ]
    },
    {
     "name": "stderr",
     "output_type": "stream",
     "text": [
      "\n",
      "  0%|          | 0/225 [00:00<?, ?it/s]"
     ]
    },
    {
     "name": "stdout",
     "output_type": "stream",
     "text": [
      "\n",
      "Test set: Average loss: 1.8211, Accuracy: 1000.0/3589 (27.86%)\n",
      "\n",
      "* Update optimal model\n",
      "EPOCH: 78 LR: 0.000125 \n"
     ]
    },
    {
     "name": "stderr",
     "output_type": "stream",
     "text": [
      "Loss=0.11005540192127228 Batch_id=224 le=0.000125 Accuracy=31.07: 100%|██████████| 225/225 [00:54<00:00,  4.13it/s]"
     ]
    },
    {
     "name": "stdout",
     "output_type": "stream",
     "text": [
      "\t train_loss:  0.10426944748629655  | train_acc:  tensor(0.3107, device='cuda:0')\n"
     ]
    },
    {
     "name": "stderr",
     "output_type": "stream",
     "text": [
      "\n",
      "  0%|          | 0/225 [00:00<?, ?it/s]"
     ]
    },
    {
     "name": "stdout",
     "output_type": "stream",
     "text": [
      "\n",
      "Test set: Average loss: 1.8086, Accuracy: 1036.0/3589 (28.87%)\n",
      "\n",
      "* Update optimal model\n",
      "EPOCH: 79 LR: 0.000125 \n"
     ]
    },
    {
     "name": "stderr",
     "output_type": "stream",
     "text": [
      "Loss=0.10280918329954147 Batch_id=224 le=0.000125 Accuracy=31.06: 100%|██████████| 225/225 [00:54<00:00,  4.14it/s]"
     ]
    },
    {
     "name": "stdout",
     "output_type": "stream",
     "text": [
      "\t train_loss:  0.1041945835772762  | train_acc:  tensor(0.3106, device='cuda:0')\n"
     ]
    },
    {
     "name": "stderr",
     "output_type": "stream",
     "text": [
      "\n"
     ]
    },
    {
     "name": "stdout",
     "output_type": "stream",
     "text": [
      "\n",
      "Test set: Average loss: 1.8206, Accuracy: 1019.0/3589 (28.39%)\n",
      "\n",
      "* Update optimal model\n"
     ]
    },
    {
     "data": {
      "image/png": "[encoded data removed]",
      "text/plain": [
       "<Figure size 1440x576 with 2 Axes>"
      ]
     },
     "metadata": {
      "needs_background": "light"
     },
     "output_type": "display_data"
    }
   ],
   "source": [
    "for epoch in range(50, 80):\n",
    "    print(\"EPOCH: %s LR: %s \" % (epoch, get_lr(optimizer)))\n",
    "    train(model, training_generator, optimizer, loss_func, mining_func, scheduler)\n",
    "    tloss = test(model, validation_generator)\n",
    "    scheduler.step(tloss)\n",
    "plot(train_loss,train_acc, valid_loss, valid_acc, 'Loss & Accuracy')"
   ]
  },
  {
   "cell_type": "code",
   "execution_count": 18,
   "metadata": {
    "scrolled": true
   },
   "outputs": [
    {
     "name": "stderr",
     "output_type": "stream",
     "text": [
      "\r",
      "  0%|          | 0/225 [00:00<?, ?it/s]"
     ]
    },
    {
     "name": "stdout",
     "output_type": "stream",
     "text": [
      "EPOCH: 0 LR: 0.004 \n"
     ]
    },
    {
     "name": "stderr",
     "output_type": "stream",
     "text": [
      "Loss=0.10281665623188019 Batch_id=224 le=0.004 Accuracy=14.62: 100%|██████████| 225/225 [00:32<00:00,  6.96it/s]"
     ]
    },
    {
     "name": "stdout",
     "output_type": "stream",
     "text": [
      "\t train_loss:  0.1306976122133676  | train_acc:  tensor(0.1462, device='cuda:0')\n"
     ]
    },
    {
     "name": "stderr",
     "output_type": "stream",
     "text": [
      "\n",
      "  0%|          | 0/225 [00:00<?, ?it/s]"
     ]
    },
    {
     "name": "stdout",
     "output_type": "stream",
     "text": [
      "\n",
      "Test set: Average loss: 36.7862, Accuracy: 467.0/3589 (13.01%)\n",
      "\n",
      "* Update optimal model\n",
      "EPOCH: 1 LR: 0.004 \n"
     ]
    },
    {
     "name": "stderr",
     "output_type": "stream",
     "text": [
      "Loss=0.10337349027395248 Batch_id=224 le=0.004 Accuracy=14.32: 100%|██████████| 225/225 [00:32<00:00,  6.95it/s]"
     ]
    },
    {
     "name": "stdout",
     "output_type": "stream",
     "text": [
      "\t train_loss:  0.10290128904456085  | train_acc:  tensor(0.1432, device='cuda:0')\n"
     ]
    },
    {
     "name": "stderr",
     "output_type": "stream",
     "text": [
      "\n",
      "  0%|          | 0/225 [00:00<?, ?it/s]"
     ]
    },
    {
     "name": "stdout",
     "output_type": "stream",
     "text": [
      "\n",
      "Test set: Average loss: 14.3223, Accuracy: 653.0/3589 (18.19%)\n",
      "\n",
      "* Update optimal model\n",
      "EPOCH: 2 LR: 0.004 \n"
     ]
    },
    {
     "name": "stderr",
     "output_type": "stream",
     "text": [
      "Loss=0.10352828353643417 Batch_id=224 le=0.004 Accuracy=14.43: 100%|██████████| 225/225 [00:32<00:00,  6.96it/s]"
     ]
    },
    {
     "name": "stdout",
     "output_type": "stream",
     "text": [
      "\t train_loss:  0.10274806151423418  | train_acc:  tensor(0.1443, device='cuda:0')\n"
     ]
    },
    {
     "name": "stderr",
     "output_type": "stream",
     "text": [
      "\n",
      "  0%|          | 0/225 [00:00<?, ?it/s]"
     ]
    },
    {
     "name": "stdout",
     "output_type": "stream",
     "text": [
      "\n",
      "Test set: Average loss: 12.8690, Accuracy: 467.0/3589 (13.01%)\n",
      "\n",
      "* Update optimal model\n",
      "EPOCH: 3 LR: 0.004 \n"
     ]
    },
    {
     "name": "stderr",
     "output_type": "stream",
     "text": [
      "Loss=0.1024245098233223 Batch_id=224 le=0.004 Accuracy=14.09: 100%|██████████| 225/225 [00:32<00:00,  6.97it/s] "
     ]
    },
    {
     "name": "stdout",
     "output_type": "stream",
     "text": [
      "\t train_loss:  0.10268225471592193  | train_acc:  tensor(0.1409, device='cuda:0')\n"
     ]
    },
    {
     "name": "stderr",
     "output_type": "stream",
     "text": [
      "\n",
      "  0%|          | 0/225 [00:00<?, ?it/s]"
     ]
    },
    {
     "name": "stdout",
     "output_type": "stream",
     "text": [
      "\n",
      "Test set: Average loss: 23.0022, Accuracy: 467.0/3589 (13.01%)\n",
      "\n",
      "* Update optimal model\n",
      "EPOCH: 4 LR: 0.004 \n"
     ]
    },
    {
     "name": "stderr",
     "output_type": "stream",
     "text": [
      "Loss=0.0998099148273468 Batch_id=224 le=0.004 Accuracy=14.88: 100%|██████████| 225/225 [00:32<00:00,  6.94it/s] "
     ]
    },
    {
     "name": "stdout",
     "output_type": "stream",
     "text": [
      "\t train_loss:  0.10288917130676364  | train_acc:  tensor(0.1488, device='cuda:0')\n"
     ]
    },
    {
     "name": "stderr",
     "output_type": "stream",
     "text": [
      "\n",
      "  0%|          | 0/225 [00:00<?, ?it/s]"
     ]
    },
    {
     "name": "stdout",
     "output_type": "stream",
     "text": [
      "\n",
      "Test set: Average loss: 31.1515, Accuracy: 467.0/3589 (13.01%)\n",
      "\n",
      "* Update optimal model\n",
      "EPOCH: 5 LR: 0.004 \n"
     ]
    },
    {
     "name": "stderr",
     "output_type": "stream",
     "text": [
      "Loss=0.10026725381612778 Batch_id=224 le=0.004 Accuracy=14.65: 100%|██████████| 225/225 [00:32<00:00,  6.95it/s]"
     ]
    },
    {
     "name": "stdout",
     "output_type": "stream",
     "text": [
      "\t train_loss:  0.10322288412098193  | train_acc:  tensor(0.1465, device='cuda:0')\n"
     ]
    },
    {
     "name": "stderr",
     "output_type": "stream",
     "text": [
      "\n",
      "  0%|          | 0/225 [00:00<?, ?it/s]"
     ]
    },
    {
     "name": "stdout",
     "output_type": "stream",
     "text": [
      "\n",
      "Test set: Average loss: 2.9376, Accuracy: 875.0/3589 (24.38%)\n",
      "\n",
      "* Update optimal model\n",
      "EPOCH: 6 LR: 0.004 \n"
     ]
    },
    {
     "name": "stderr",
     "output_type": "stream",
     "text": [
      "Loss=0.10588030517101288 Batch_id=224 le=0.004 Accuracy=14.24: 100%|██████████| 225/225 [00:32<00:00,  6.95it/s]"
     ]
    },
    {
     "name": "stdout",
     "output_type": "stream",
     "text": [
      "\t train_loss:  0.10271324385177495  | train_acc:  tensor(0.1424, device='cuda:0')\n"
     ]
    },
    {
     "name": "stderr",
     "output_type": "stream",
     "text": [
      "\n",
      "  0%|          | 0/225 [00:00<?, ?it/s]"
     ]
    },
    {
     "name": "stdout",
     "output_type": "stream",
     "text": [
      "\n",
      "Test set: Average loss: 5.1769, Accuracy: 807.0/3589 (22.49%)\n",
      "\n",
      "* Update optimal model\n",
      "EPOCH: 7 LR: 0.004 \n"
     ]
    },
    {
     "name": "stderr",
     "output_type": "stream",
     "text": [
      "Loss=0.1017967015504837 Batch_id=224 le=0.004 Accuracy=14.93: 100%|██████████| 225/225 [00:32<00:00,  6.95it/s] "
     ]
    },
    {
     "name": "stdout",
     "output_type": "stream",
     "text": [
      "\t train_loss:  0.10264739744385198  | train_acc:  tensor(0.1493, device='cuda:0')\n"
     ]
    },
    {
     "name": "stderr",
     "output_type": "stream",
     "text": [
      "\n",
      "  0%|          | 0/225 [00:00<?, ?it/s]"
     ]
    },
    {
     "name": "stdout",
     "output_type": "stream",
     "text": [
      "\n",
      "Test set: Average loss: 14.8943, Accuracy: 512.0/3589 (14.27%)\n",
      "\n",
      "* Update optimal model\n",
      "EPOCH: 8 LR: 0.004 \n"
     ]
    },
    {
     "name": "stderr",
     "output_type": "stream",
     "text": [
      "Loss=0.10243064910173416 Batch_id=224 le=0.004 Accuracy=14.70: 100%|██████████| 225/225 [00:32<00:00,  6.95it/s]"
     ]
    },
    {
     "name": "stdout",
     "output_type": "stream",
     "text": [
      "\t train_loss:  0.10280244741671228  | train_acc:  tensor(0.1470, device='cuda:0')\n"
     ]
    },
    {
     "name": "stderr",
     "output_type": "stream",
     "text": [
      "\n",
      "  0%|          | 0/225 [00:00<?, ?it/s]"
     ]
    },
    {
     "name": "stdout",
     "output_type": "stream",
     "text": [
      "\n",
      "Test set: Average loss: 4.2000, Accuracy: 741.0/3589 (20.65%)\n",
      "\n",
      "* Update optimal model\n",
      "EPOCH: 9 LR: 0.004 \n"
     ]
    },
    {
     "name": "stderr",
     "output_type": "stream",
     "text": [
      "Loss=0.1005188450217247 Batch_id=224 le=0.004 Accuracy=14.55: 100%|██████████| 225/225 [00:32<00:00,  6.95it/s] "
     ]
    },
    {
     "name": "stdout",
     "output_type": "stream",
     "text": [
      "\t train_loss:  0.10300905877458476  | train_acc:  tensor(0.1455, device='cuda:0')\n"
     ]
    },
    {
     "name": "stderr",
     "output_type": "stream",
     "text": [
      "\n",
      "  0%|          | 0/225 [00:00<?, ?it/s]"
     ]
    },
    {
     "name": "stdout",
     "output_type": "stream",
     "text": [
      "\n",
      "Test set: Average loss: 2.1293, Accuracy: 405.0/3589 (11.28%)\n",
      "\n",
      "* Update optimal model\n",
      "EPOCH: 10 LR: 0.004 \n"
     ]
    },
    {
     "name": "stderr",
     "output_type": "stream",
     "text": [
      "Loss=0.10464949905872345 Batch_id=224 le=0.004 Accuracy=13.92: 100%|██████████| 225/225 [00:32<00:00,  6.96it/s]"
     ]
    },
    {
     "name": "stdout",
     "output_type": "stream",
     "text": [
      "\t train_loss:  0.10278644603841079  | train_acc:  tensor(0.1392, device='cuda:0')\n"
     ]
    },
    {
     "name": "stderr",
     "output_type": "stream",
     "text": [
      "\n",
      "  0%|          | 0/225 [00:00<?, ?it/s]"
     ]
    },
    {
     "name": "stdout",
     "output_type": "stream",
     "text": [
      "\n",
      "Test set: Average loss: 16.9010, Accuracy: 336.0/3589 (9.36%)\n",
      "\n",
      "* Update optimal model\n",
      "EPOCH: 11 LR: 0.004 \n"
     ]
    },
    {
     "name": "stderr",
     "output_type": "stream",
     "text": [
      "Loss=0.10413125902414322 Batch_id=224 le=0.004 Accuracy=15.05: 100%|██████████| 225/225 [00:32<00:00,  6.95it/s]"
     ]
    },
    {
     "name": "stdout",
     "output_type": "stream",
     "text": [
      "\t train_loss:  0.102732550589884  | train_acc:  tensor(0.1505, device='cuda:0')\n"
     ]
    },
    {
     "name": "stderr",
     "output_type": "stream",
     "text": [
      "\n",
      "  0%|          | 0/225 [00:00<?, ?it/s]"
     ]
    },
    {
     "name": "stdout",
     "output_type": "stream",
     "text": [
      "\n",
      "Test set: Average loss: 5.3303, Accuracy: 340.0/3589 (9.47%)\n",
      "\n",
      "* Update optimal model\n",
      "EPOCH: 12 LR: 0.004 \n"
     ]
    },
    {
     "name": "stderr",
     "output_type": "stream",
     "text": [
      "Loss=0.10191679000854492 Batch_id=224 le=0.004 Accuracy=14.32: 100%|██████████| 225/225 [00:32<00:00,  6.97it/s]"
     ]
    },
    {
     "name": "stdout",
     "output_type": "stream",
     "text": [
      "\t train_loss:  0.10300019748316626  | train_acc:  tensor(0.1432, device='cuda:0')\n"
     ]
    },
    {
     "name": "stderr",
     "output_type": "stream",
     "text": [
      "\n",
      "  0%|          | 0/225 [00:00<?, ?it/s]"
     ]
    },
    {
     "name": "stdout",
     "output_type": "stream",
     "text": [
      "\n",
      "Test set: Average loss: 3.6161, Accuracy: 830.0/3589 (23.13%)\n",
      "\n",
      "* Update optimal model\n",
      "EPOCH: 13 LR: 0.004 \n"
     ]
    },
    {
     "name": "stderr",
     "output_type": "stream",
     "text": [
      "Loss=0.10234130918979645 Batch_id=224 le=0.004 Accuracy=14.24: 100%|██████████| 225/225 [00:32<00:00,  6.96it/s]"
     ]
    },
    {
     "name": "stdout",
     "output_type": "stream",
     "text": [
      "\t train_loss:  0.10316391024107785  | train_acc:  tensor(0.1424, device='cuda:0')\n"
     ]
    },
    {
     "name": "stderr",
     "output_type": "stream",
     "text": [
      "\n",
      "  0%|          | 0/225 [00:00<?, ?it/s]"
     ]
    },
    {
     "name": "stdout",
     "output_type": "stream",
     "text": [
      "\n",
      "Test set: Average loss: 7.9227, Accuracy: 535.0/3589 (14.91%)\n",
      "\n",
      "* Update optimal model\n",
      "EPOCH: 14 LR: 0.004 \n"
     ]
    },
    {
     "name": "stderr",
     "output_type": "stream",
     "text": [
      "Loss=0.10466276854276657 Batch_id=224 le=0.004 Accuracy=14.28: 100%|██████████| 225/225 [00:32<00:00,  6.96it/s]"
     ]
    },
    {
     "name": "stdout",
     "output_type": "stream",
     "text": [
      "\t train_loss:  0.10307144453795321  | train_acc:  tensor(0.1428, device='cuda:0')\n"
     ]
    },
    {
     "name": "stderr",
     "output_type": "stream",
     "text": [
      "\n",
      "  0%|          | 0/225 [00:00<?, ?it/s]"
     ]
    },
    {
     "name": "stdout",
     "output_type": "stream",
     "text": [
      "\n",
      "Test set: Average loss: 7.0320, Accuracy: 513.0/3589 (14.29%)\n",
      "\n",
      "* Update optimal model\n",
      "EPOCH: 15 LR: 0.004 \n"
     ]
    },
    {
     "name": "stderr",
     "output_type": "stream",
     "text": [
      "Loss=0.09926658868789673 Batch_id=224 le=0.004 Accuracy=15.47: 100%|██████████| 225/225 [00:32<00:00,  6.95it/s]"
     ]
    },
    {
     "name": "stdout",
     "output_type": "stream",
     "text": [
      "\t train_loss:  0.1028133745917482  | train_acc:  tensor(0.1547, device='cuda:0')\n"
     ]
    },
    {
     "name": "stderr",
     "output_type": "stream",
     "text": [
      "\n",
      "  0%|          | 0/225 [00:00<?, ?it/s]"
     ]
    },
    {
     "name": "stdout",
     "output_type": "stream",
     "text": [
      "\n",
      "Test set: Average loss: 6.3505, Accuracy: 824.0/3589 (22.96%)\n",
      "\n",
      "* Update optimal model\n",
      "EPOCH: 16 LR: 0.004 \n"
     ]
    },
    {
     "name": "stderr",
     "output_type": "stream",
     "text": [
      "Loss=0.10510971397161484 Batch_id=224 le=0.004 Accuracy=14.65: 100%|██████████| 225/225 [00:32<00:00,  6.96it/s]"
     ]
    },
    {
     "name": "stdout",
     "output_type": "stream",
     "text": [
      "\t train_loss:  0.10296264385768265  | train_acc:  tensor(0.1465, device='cuda:0')\n"
     ]
    },
    {
     "name": "stderr",
     "output_type": "stream",
     "text": [
      "\n",
      "  0%|          | 0/225 [00:00<?, ?it/s]"
     ]
    },
    {
     "name": "stdout",
     "output_type": "stream",
     "text": [
      "\n",
      "Test set: Average loss: 12.0263, Accuracy: 615.0/3589 (17.14%)\n",
      "\n",
      "* Update optimal model\n",
      "EPOCH: 17 LR: 0.004 \n"
     ]
    },
    {
     "name": "stderr",
     "output_type": "stream",
     "text": [
      "Loss=0.1045287549495697 Batch_id=224 le=0.004 Accuracy=14.04: 100%|██████████| 225/225 [00:32<00:00,  6.96it/s] "
     ]
    },
    {
     "name": "stdout",
     "output_type": "stream",
     "text": [
      "\t train_loss:  0.10315152569650761  | train_acc:  tensor(0.1404, device='cuda:0')\n"
     ]
    },
    {
     "name": "stderr",
     "output_type": "stream",
     "text": [
      "\n",
      "  0%|          | 0/225 [00:00<?, ?it/s]"
     ]
    },
    {
     "name": "stdout",
     "output_type": "stream",
     "text": [
      "\n",
      "Test set: Average loss: 3.0466, Accuracy: 891.0/3589 (24.83%)\n",
      "\n",
      "* Update optimal model\n",
      "EPOCH: 18 LR: 0.004 \n"
     ]
    },
    {
     "name": "stderr",
     "output_type": "stream",
     "text": [
      "Loss=0.10186255723237991 Batch_id=224 le=0.004 Accuracy=13.80: 100%|██████████| 225/225 [00:32<00:00,  6.95it/s]"
     ]
    },
    {
     "name": "stdout",
     "output_type": "stream",
     "text": [
      "\t train_loss:  0.10308204558444889  | train_acc:  tensor(0.1380, device='cuda:0')\n"
     ]
    },
    {
     "name": "stderr",
     "output_type": "stream",
     "text": [
      "\n",
      "  0%|          | 0/225 [00:00<?, ?it/s]"
     ]
    },
    {
     "name": "stdout",
     "output_type": "stream",
     "text": [
      "\n",
      "Test set: Average loss: 8.3438, Accuracy: 335.0/3589 (9.33%)\n",
      "\n",
      "* Update optimal model\n",
      "EPOCH: 19 LR: 0.002 \n"
     ]
    },
    {
     "name": "stderr",
     "output_type": "stream",
     "text": [
      "Loss=0.10530345886945724 Batch_id=224 le=0.002 Accuracy=13.89: 100%|██████████| 225/225 [00:32<00:00,  6.95it/s]"
     ]
    },
    {
     "name": "stdout",
     "output_type": "stream",
     "text": [
      "\t train_loss:  0.10258408779836821  | train_acc:  tensor(0.1389, device='cuda:0')\n"
     ]
    },
    {
     "name": "stderr",
     "output_type": "stream",
     "text": [
      "\n",
      "  0%|          | 0/225 [00:00<?, ?it/s]"
     ]
    },
    {
     "name": "stdout",
     "output_type": "stream",
     "text": [
      "\n",
      "Test set: Average loss: 3.0899, Accuracy: 739.0/3589 (20.59%)\n",
      "\n",
      "* Update optimal model\n",
      "EPOCH: 20 LR: 0.002 \n"
     ]
    },
    {
     "name": "stderr",
     "output_type": "stream",
     "text": [
      "Loss=0.10545715689659119 Batch_id=224 le=0.002 Accuracy=14.26: 100%|██████████| 225/225 [00:32<00:00,  6.95it/s]"
     ]
    },
    {
     "name": "stdout",
     "output_type": "stream",
     "text": [
      "\t train_loss:  0.10285130907817464  | train_acc:  tensor(0.1426, device='cuda:0')\n"
     ]
    },
    {
     "name": "stderr",
     "output_type": "stream",
     "text": [
      "\n",
      "  0%|          | 0/225 [00:00<?, ?it/s]"
     ]
    },
    {
     "name": "stdout",
     "output_type": "stream",
     "text": [
      "\n",
      "Test set: Average loss: 3.7299, Accuracy: 593.0/3589 (16.52%)\n",
      "\n",
      "* Update optimal model\n",
      "EPOCH: 21 LR: 0.002 \n"
     ]
    },
    {
     "name": "stderr",
     "output_type": "stream",
     "text": [
      "Loss=0.10377068817615509 Batch_id=224 le=0.002 Accuracy=14.90: 100%|██████████| 225/225 [00:32<00:00,  6.94it/s]"
     ]
    },
    {
     "name": "stdout",
     "output_type": "stream",
     "text": [
      "\t train_loss:  0.10249571268121012  | train_acc:  tensor(0.1490, device='cuda:0')\n"
     ]
    },
    {
     "name": "stderr",
     "output_type": "stream",
     "text": [
      "\n",
      "  0%|          | 0/225 [00:00<?, ?it/s]"
     ]
    },
    {
     "name": "stdout",
     "output_type": "stream",
     "text": [
      "\n",
      "Test set: Average loss: 2.8266, Accuracy: 630.0/3589 (17.55%)\n",
      "\n",
      "* Update optimal model\n",
      "EPOCH: 22 LR: 0.002 \n"
     ]
    },
    {
     "name": "stderr",
     "output_type": "stream",
     "text": [
      "Loss=0.1064118966460228 Batch_id=224 le=0.002 Accuracy=15.24: 100%|██████████| 225/225 [00:32<00:00,  6.96it/s] "
     ]
    },
    {
     "name": "stdout",
     "output_type": "stream",
     "text": [
      "\t train_loss:  0.10268396846261027  | train_acc:  tensor(0.1524, device='cuda:0')\n"
     ]
    },
    {
     "name": "stderr",
     "output_type": "stream",
     "text": [
      "\n",
      "  0%|          | 0/225 [00:00<?, ?it/s]"
     ]
    },
    {
     "name": "stdout",
     "output_type": "stream",
     "text": [
      "\n",
      "Test set: Average loss: 2.2235, Accuracy: 752.0/3589 (20.95%)\n",
      "\n",
      "* Update optimal model\n",
      "EPOCH: 23 LR: 0.002 \n"
     ]
    },
    {
     "name": "stderr",
     "output_type": "stream",
     "text": [
      "Loss=0.10413996875286102 Batch_id=224 le=0.002 Accuracy=16.58: 100%|██████████| 225/225 [00:32<00:00,  6.95it/s]"
     ]
    },
    {
     "name": "stdout",
     "output_type": "stream",
     "text": [
      "\t train_loss:  0.10309820693911312  | train_acc:  tensor(0.1658, device='cuda:0')\n"
     ]
    },
    {
     "name": "stderr",
     "output_type": "stream",
     "text": [
      "\n",
      "  0%|          | 0/225 [00:00<?, ?it/s]"
     ]
    },
    {
     "name": "stdout",
     "output_type": "stream",
     "text": [
      "\n",
      "Test set: Average loss: 2.4736, Accuracy: 765.0/3589 (21.32%)\n",
      "\n",
      "* Update optimal model\n",
      "EPOCH: 24 LR: 0.002 \n"
     ]
    },
    {
     "name": "stderr",
     "output_type": "stream",
     "text": [
      "Loss=0.10378624498844147 Batch_id=224 le=0.002 Accuracy=16.35: 100%|██████████| 225/225 [00:32<00:00,  6.95it/s]"
     ]
    },
    {
     "name": "stdout",
     "output_type": "stream",
     "text": [
      "\t train_loss:  0.1034331663479156  | train_acc:  tensor(0.1635, device='cuda:0')\n"
     ]
    },
    {
     "name": "stderr",
     "output_type": "stream",
     "text": [
      "\n",
      "  0%|          | 0/225 [00:00<?, ?it/s]"
     ]
    },
    {
     "name": "stdout",
     "output_type": "stream",
     "text": [
      "\n",
      "Test set: Average loss: 2.3851, Accuracy: 503.0/3589 (14.02%)\n",
      "\n",
      "* Update optimal model\n",
      "EPOCH: 25 LR: 0.002 \n"
     ]
    },
    {
     "name": "stderr",
     "output_type": "stream",
     "text": [
      "Loss=0.10438913106918335 Batch_id=224 le=0.002 Accuracy=15.95: 100%|██████████| 225/225 [00:32<00:00,  6.96it/s]"
     ]
    },
    {
     "name": "stdout",
     "output_type": "stream",
     "text": [
      "\t train_loss:  0.10311700291110246  | train_acc:  tensor(0.1595, device='cuda:0')\n"
     ]
    },
    {
     "name": "stderr",
     "output_type": "stream",
     "text": [
      "\n",
      "  0%|          | 0/225 [00:00<?, ?it/s]"
     ]
    },
    {
     "name": "stdout",
     "output_type": "stream",
     "text": [
      "\n",
      "Test set: Average loss: 2.4523, Accuracy: 511.0/3589 (14.24%)\n",
      "\n",
      "* Update optimal model\n",
      "EPOCH: 26 LR: 0.002 \n"
     ]
    },
    {
     "name": "stderr",
     "output_type": "stream",
     "text": [
      "Loss=0.10553934425115585 Batch_id=224 le=0.002 Accuracy=15.31: 100%|██████████| 225/225 [00:32<00:00,  6.96it/s]"
     ]
    },
    {
     "name": "stdout",
     "output_type": "stream",
     "text": [
      "\t train_loss:  0.10331414067576832  | train_acc:  tensor(0.1531, device='cuda:0')\n"
     ]
    },
    {
     "name": "stderr",
     "output_type": "stream",
     "text": [
      "\n",
      "  0%|          | 0/225 [00:00<?, ?it/s]"
     ]
    },
    {
     "name": "stdout",
     "output_type": "stream",
     "text": [
      "\n",
      "Test set: Average loss: 3.0027, Accuracy: 639.0/3589 (17.80%)\n",
      "\n",
      "* Update optimal model\n",
      "EPOCH: 27 LR: 0.002 \n"
     ]
    },
    {
     "name": "stderr",
     "output_type": "stream",
     "text": [
      "Loss=0.10003548115491867 Batch_id=224 le=0.002 Accuracy=14.88: 100%|██████████| 225/225 [00:32<00:00,  6.95it/s]"
     ]
    },
    {
     "name": "stdout",
     "output_type": "stream",
     "text": [
      "\t train_loss:  0.10328434852347894  | train_acc:  tensor(0.1488, device='cuda:0')\n"
     ]
    },
    {
     "name": "stderr",
     "output_type": "stream",
     "text": [
      "\n",
      "  0%|          | 0/225 [00:00<?, ?it/s]"
     ]
    },
    {
     "name": "stdout",
     "output_type": "stream",
     "text": [
      "\n",
      "Test set: Average loss: 3.0941, Accuracy: 577.0/3589 (16.08%)\n",
      "\n",
      "* Update optimal model\n",
      "EPOCH: 28 LR: 0.001 \n"
     ]
    },
    {
     "name": "stderr",
     "output_type": "stream",
     "text": [
      "Loss=0.10427917540073395 Batch_id=224 le=0.001 Accuracy=16.40: 100%|██████████| 225/225 [00:32<00:00,  6.95it/s]"
     ]
    },
    {
     "name": "stdout",
     "output_type": "stream",
     "text": [
      "\t train_loss:  0.10325550708982438  | train_acc:  tensor(0.1640, device='cuda:0')\n"
     ]
    },
    {
     "name": "stderr",
     "output_type": "stream",
     "text": [
      "\n",
      "  0%|          | 0/225 [00:00<?, ?it/s]"
     ]
    },
    {
     "name": "stdout",
     "output_type": "stream",
     "text": [
      "\n",
      "Test set: Average loss: 2.2605, Accuracy: 691.0/3589 (19.25%)\n",
      "\n",
      "* Update optimal model\n",
      "EPOCH: 29 LR: 0.001 \n"
     ]
    },
    {
     "name": "stderr",
     "output_type": "stream",
     "text": [
      "Loss=0.10663777589797974 Batch_id=224 le=0.001 Accuracy=16.01: 100%|██████████| 225/225 [00:32<00:00,  6.94it/s]"
     ]
    },
    {
     "name": "stdout",
     "output_type": "stream",
     "text": [
      "\t train_loss:  0.10367682034404031  | train_acc:  tensor(0.1601, device='cuda:0')\n"
     ]
    },
    {
     "name": "stderr",
     "output_type": "stream",
     "text": [
      "\n",
      "  0%|          | 0/225 [00:00<?, ?it/s]"
     ]
    },
    {
     "name": "stdout",
     "output_type": "stream",
     "text": [
      "\n",
      "Test set: Average loss: 2.3420, Accuracy: 547.0/3589 (15.24%)\n",
      "\n",
      "* Update optimal model\n",
      "EPOCH: 30 LR: 0.001 \n"
     ]
    },
    {
     "name": "stderr",
     "output_type": "stream",
     "text": [
      "Loss=0.10769184678792953 Batch_id=224 le=0.001 Accuracy=14.32: 100%|██████████| 225/225 [00:32<00:00,  6.94it/s]"
     ]
    },
    {
     "name": "stdout",
     "output_type": "stream",
     "text": [
      "\t train_loss:  0.10401800498322238  | train_acc:  tensor(0.1432, device='cuda:0')\n"
     ]
    },
    {
     "name": "stderr",
     "output_type": "stream",
     "text": [
      "\n",
      "  0%|          | 0/225 [00:00<?, ?it/s]"
     ]
    },
    {
     "name": "stdout",
     "output_type": "stream",
     "text": [
      "\n",
      "Test set: Average loss: 2.5673, Accuracy: 526.0/3589 (14.66%)\n",
      "\n",
      "* Update optimal model\n",
      "EPOCH: 31 LR: 0.001 \n"
     ]
    },
    {
     "name": "stderr",
     "output_type": "stream",
     "text": [
      "Loss=0.10606452077627182 Batch_id=224 le=0.001 Accuracy=12.08: 100%|██████████| 225/225 [00:32<00:00,  6.96it/s]"
     ]
    },
    {
     "name": "stdout",
     "output_type": "stream",
     "text": [
      "\t train_loss:  0.10411787178594327  | train_acc:  tensor(0.1208, device='cuda:0')\n"
     ]
    },
    {
     "name": "stderr",
     "output_type": "stream",
     "text": [
      "\n",
      "  0%|          | 0/225 [00:00<?, ?it/s]"
     ]
    },
    {
     "name": "stdout",
     "output_type": "stream",
     "text": [
      "\n",
      "Test set: Average loss: 3.1674, Accuracy: 353.0/3589 (9.84%)\n",
      "\n",
      "* Update optimal model\n",
      "EPOCH: 32 LR: 0.001 \n"
     ]
    },
    {
     "name": "stderr",
     "output_type": "stream",
     "text": [
      "Loss=0.10303939878940582 Batch_id=224 le=0.001 Accuracy=10.69: 100%|██████████| 225/225 [00:32<00:00,  6.94it/s]"
     ]
    },
    {
     "name": "stdout",
     "output_type": "stream",
     "text": [
      "\t train_loss:  0.10432731872984075  | train_acc:  tensor(0.1069, device='cuda:0')\n"
     ]
    },
    {
     "name": "stderr",
     "output_type": "stream",
     "text": [
      "\n",
      "  0%|          | 0/225 [00:00<?, ?it/s]"
     ]
    },
    {
     "name": "stdout",
     "output_type": "stream",
     "text": [
      "\n",
      "Test set: Average loss: 3.8384, Accuracy: 303.0/3589 (8.44%)\n",
      "\n",
      "* Update optimal model\n",
      "EPOCH: 33 LR: 0.001 \n"
     ]
    },
    {
     "name": "stderr",
     "output_type": "stream",
     "text": [
      "Loss=0.11286552250385284 Batch_id=224 le=0.001 Accuracy=9.98: 100%|██████████| 225/225 [00:32<00:00,  6.93it/s] "
     ]
    },
    {
     "name": "stdout",
     "output_type": "stream",
     "text": [
      "\t train_loss:  0.10455705907488157  | train_acc:  tensor(0.0998, device='cuda:0')\n"
     ]
    },
    {
     "name": "stderr",
     "output_type": "stream",
     "text": [
      "\n",
      "  0%|          | 0/225 [00:00<?, ?it/s]"
     ]
    },
    {
     "name": "stdout",
     "output_type": "stream",
     "text": [
      "\n",
      "Test set: Average loss: 3.2251, Accuracy: 283.0/3589 (7.89%)\n",
      "\n",
      "* Update optimal model\n",
      "EPOCH: 34 LR: 0.001 \n"
     ]
    },
    {
     "name": "stderr",
     "output_type": "stream",
     "text": [
      "Loss=0.10577011853456497 Batch_id=224 le=0.001 Accuracy=9.77: 100%|██████████| 225/225 [00:32<00:00,  6.94it/s]"
     ]
    },
    {
     "name": "stdout",
     "output_type": "stream",
     "text": [
      "\t train_loss:  0.1044331114898655  | train_acc:  tensor(0.0977, device='cuda:0')\n"
     ]
    },
    {
     "name": "stderr",
     "output_type": "stream",
     "text": [
      "\n",
      "  0%|          | 0/225 [00:00<?, ?it/s]"
     ]
    },
    {
     "name": "stdout",
     "output_type": "stream",
     "text": [
      "\n",
      "Test set: Average loss: 3.4297, Accuracy: 501.0/3589 (13.96%)\n",
      "\n",
      "* Update optimal model\n",
      "EPOCH: 35 LR: 0.001 \n"
     ]
    },
    {
     "name": "stderr",
     "output_type": "stream",
     "text": [
      "Loss=0.09558910876512527 Batch_id=224 le=0.001 Accuracy=9.33: 100%|██████████| 225/225 [00:32<00:00,  6.95it/s]"
     ]
    },
    {
     "name": "stdout",
     "output_type": "stream",
     "text": [
      "\t train_loss:  0.10469948762458853  | train_acc:  tensor(0.0933, device='cuda:0')\n"
     ]
    },
    {
     "name": "stderr",
     "output_type": "stream",
     "text": [
      "\n",
      "  0%|          | 0/225 [00:00<?, ?it/s]"
     ]
    },
    {
     "name": "stdout",
     "output_type": "stream",
     "text": [
      "\n",
      "Test set: Average loss: 3.8255, Accuracy: 243.0/3589 (6.77%)\n",
      "\n",
      "* Update optimal model\n",
      "EPOCH: 36 LR: 0.001 \n"
     ]
    },
    {
     "name": "stderr",
     "output_type": "stream",
     "text": [
      "Loss=0.11058730632066727 Batch_id=224 le=0.001 Accuracy=9.71: 100%|██████████| 225/225 [00:32<00:00,  6.94it/s]"
     ]
    },
    {
     "name": "stdout",
     "output_type": "stream",
     "text": [
      "\t train_loss:  0.10494852291018558  | train_acc:  tensor(0.0971, device='cuda:0')\n"
     ]
    },
    {
     "name": "stderr",
     "output_type": "stream",
     "text": [
      "\n",
      "  0%|          | 0/225 [00:00<?, ?it/s]"
     ]
    },
    {
     "name": "stdout",
     "output_type": "stream",
     "text": [
      "\n",
      "Test set: Average loss: 3.7268, Accuracy: 273.0/3589 (7.61%)\n",
      "\n",
      "* Update optimal model\n",
      "EPOCH: 37 LR: 0.0005 \n"
     ]
    },
    {
     "name": "stderr",
     "output_type": "stream",
     "text": [
      "Loss=0.10542421787977219 Batch_id=224 le=0.0005 Accuracy=9.25: 100%|██████████| 225/225 [00:32<00:00,  6.94it/s]"
     ]
    },
    {
     "name": "stdout",
     "output_type": "stream",
     "text": [
      "\t train_loss:  0.10483989093966932  | train_acc:  tensor(0.0925, device='cuda:0')\n"
     ]
    },
    {
     "name": "stderr",
     "output_type": "stream",
     "text": [
      "\n",
      "  0%|          | 0/225 [00:00<?, ?it/s]"
     ]
    },
    {
     "name": "stdout",
     "output_type": "stream",
     "text": [
      "\n",
      "Test set: Average loss: 3.0423, Accuracy: 234.0/3589 (6.52%)\n",
      "\n",
      "* Update optimal model\n",
      "EPOCH: 38 LR: 0.0005 \n"
     ]
    },
    {
     "name": "stderr",
     "output_type": "stream",
     "text": [
      "Loss=0.09833942353725433 Batch_id=224 le=0.0005 Accuracy=8.65: 100%|██████████| 225/225 [00:32<00:00,  6.91it/s]"
     ]
    },
    {
     "name": "stdout",
     "output_type": "stream",
     "text": [
      "\t train_loss:  0.10499078311847998  | train_acc:  tensor(0.0865, device='cuda:0')\n"
     ]
    },
    {
     "name": "stderr",
     "output_type": "stream",
     "text": [
      "\n",
      "  0%|          | 0/225 [00:00<?, ?it/s]"
     ]
    },
    {
     "name": "stdout",
     "output_type": "stream",
     "text": [
      "\n",
      "Test set: Average loss: 2.9689, Accuracy: 232.0/3589 (6.46%)\n",
      "\n",
      "* Update optimal model\n",
      "EPOCH: 39 LR: 0.0005 \n"
     ]
    },
    {
     "name": "stderr",
     "output_type": "stream",
     "text": [
      "Loss=0.10371039062738419 Batch_id=224 le=0.0005 Accuracy=8.20: 100%|██████████| 225/225 [00:32<00:00,  6.95it/s]"
     ]
    },
    {
     "name": "stdout",
     "output_type": "stream",
     "text": [
      "\t train_loss:  0.10453542843297539  | train_acc:  tensor(0.0820, device='cuda:0')\n"
     ]
    },
    {
     "name": "stderr",
     "output_type": "stream",
     "text": [
      "\n",
      "  0%|          | 0/225 [00:00<?, ?it/s]"
     ]
    },
    {
     "name": "stdout",
     "output_type": "stream",
     "text": [
      "\n",
      "Test set: Average loss: 3.0205, Accuracy: 193.0/3589 (5.38%)\n",
      "\n",
      "* Update optimal model\n",
      "EPOCH: 40 LR: 0.0005 \n"
     ]
    },
    {
     "name": "stderr",
     "output_type": "stream",
     "text": [
      "Loss=0.10151366889476776 Batch_id=224 le=0.0005 Accuracy=8.65: 100%|██████████| 225/225 [00:32<00:00,  6.94it/s]"
     ]
    },
    {
     "name": "stdout",
     "output_type": "stream",
     "text": [
      "\t train_loss:  0.10504523706781216  | train_acc:  tensor(0.0865, device='cuda:0')\n"
     ]
    },
    {
     "name": "stderr",
     "output_type": "stream",
     "text": [
      "\n",
      "  0%|          | 0/225 [00:00<?, ?it/s]"
     ]
    },
    {
     "name": "stdout",
     "output_type": "stream",
     "text": [
      "\n",
      "Test set: Average loss: 2.7655, Accuracy: 213.0/3589 (5.93%)\n",
      "\n",
      "* Update optimal model\n",
      "EPOCH: 41 LR: 0.0005 \n"
     ]
    },
    {
     "name": "stderr",
     "output_type": "stream",
     "text": [
      "Loss=0.10823556780815125 Batch_id=224 le=0.0005 Accuracy=8.43: 100%|██████████| 225/225 [00:32<00:00,  6.95it/s]"
     ]
    },
    {
     "name": "stdout",
     "output_type": "stream",
     "text": [
      "\t train_loss:  0.10520712706527723  | train_acc:  tensor(0.0843, device='cuda:0')\n"
     ]
    },
    {
     "name": "stderr",
     "output_type": "stream",
     "text": [
      "\n",
      "  0%|          | 0/225 [00:00<?, ?it/s]"
     ]
    },
    {
     "name": "stdout",
     "output_type": "stream",
     "text": [
      "\n",
      "Test set: Average loss: 2.7220, Accuracy: 183.0/3589 (5.10%)\n",
      "\n",
      "* Update optimal model\n",
      "EPOCH: 42 LR: 0.0005 \n"
     ]
    },
    {
     "name": "stderr",
     "output_type": "stream",
     "text": [
      "Loss=0.09449998289346695 Batch_id=224 le=0.0005 Accuracy=8.36: 100%|██████████| 225/225 [00:32<00:00,  6.94it/s]"
     ]
    },
    {
     "name": "stdout",
     "output_type": "stream",
     "text": [
      "\t train_loss:  0.10515682137546264  | train_acc:  tensor(0.0836, device='cuda:0')\n"
     ]
    },
    {
     "name": "stderr",
     "output_type": "stream",
     "text": [
      "\n",
      "  0%|          | 0/225 [00:00<?, ?it/s]"
     ]
    },
    {
     "name": "stdout",
     "output_type": "stream",
     "text": [
      "\n",
      "Test set: Average loss: 2.8803, Accuracy: 195.0/3589 (5.43%)\n",
      "\n",
      "* Update optimal model\n",
      "EPOCH: 43 LR: 0.0005 \n"
     ]
    },
    {
     "name": "stderr",
     "output_type": "stream",
     "text": [
      "Loss=0.10292663425207138 Batch_id=224 le=0.0005 Accuracy=7.86: 100%|██████████| 225/225 [00:32<00:00,  6.94it/s]"
     ]
    },
    {
     "name": "stdout",
     "output_type": "stream",
     "text": [
      "\t train_loss:  0.10520490412776001  | train_acc:  tensor(0.0786, device='cuda:0')\n"
     ]
    },
    {
     "name": "stderr",
     "output_type": "stream",
     "text": [
      "\n",
      "  0%|          | 0/225 [00:00<?, ?it/s]"
     ]
    },
    {
     "name": "stdout",
     "output_type": "stream",
     "text": [
      "\n",
      "Test set: Average loss: 2.7913, Accuracy: 202.0/3589 (5.63%)\n",
      "\n",
      "* Update optimal model\n",
      "EPOCH: 44 LR: 0.0005 \n"
     ]
    },
    {
     "name": "stderr",
     "output_type": "stream",
     "text": [
      "Loss=0.10126722604036331 Batch_id=224 le=0.0005 Accuracy=7.67: 100%|██████████| 225/225 [00:32<00:00,  6.87it/s]"
     ]
    },
    {
     "name": "stdout",
     "output_type": "stream",
     "text": [
      "\t train_loss:  0.10521834248220074  | train_acc:  tensor(0.0767, device='cuda:0')\n"
     ]
    },
    {
     "name": "stderr",
     "output_type": "stream",
     "text": [
      "\n",
      "  0%|          | 0/225 [00:00<?, ?it/s]"
     ]
    },
    {
     "name": "stdout",
     "output_type": "stream",
     "text": [
      "\n",
      "Test set: Average loss: 2.7833, Accuracy: 211.0/3589 (5.88%)\n",
      "\n",
      "* Update optimal model\n",
      "EPOCH: 45 LR: 0.0005 \n"
     ]
    },
    {
     "name": "stderr",
     "output_type": "stream",
     "text": [
      "Loss=0.11047065258026123 Batch_id=224 le=0.0005 Accuracy=7.83: 100%|██████████| 225/225 [00:32<00:00,  6.94it/s]"
     ]
    },
    {
     "name": "stdout",
     "output_type": "stream",
     "text": [
      "\t train_loss:  0.10522400942536049  | train_acc:  tensor(0.0783, device='cuda:0')\n"
     ]
    },
    {
     "name": "stderr",
     "output_type": "stream",
     "text": [
      "\n",
      "  0%|          | 0/225 [00:00<?, ?it/s]"
     ]
    },
    {
     "name": "stdout",
     "output_type": "stream",
     "text": [
      "\n",
      "Test set: Average loss: 2.9556, Accuracy: 181.0/3589 (5.04%)\n",
      "\n",
      "* Update optimal model\n",
      "EPOCH: 46 LR: 0.00025 \n"
     ]
    },
    {
     "name": "stderr",
     "output_type": "stream",
     "text": [
      "Loss=0.10586902499198914 Batch_id=224 le=0.00025 Accuracy=7.40: 100%|██████████| 225/225 [00:32<00:00,  6.93it/s]"
     ]
    },
    {
     "name": "stdout",
     "output_type": "stream",
     "text": [
      "\t train_loss:  0.10524991410246728  | train_acc:  tensor(0.0740, device='cuda:0')\n"
     ]
    },
    {
     "name": "stderr",
     "output_type": "stream",
     "text": [
      "\n",
      "  0%|          | 0/225 [00:00<?, ?it/s]"
     ]
    },
    {
     "name": "stdout",
     "output_type": "stream",
     "text": [
      "\n",
      "Test set: Average loss: 3.0089, Accuracy: 179.0/3589 (4.99%)\n",
      "\n",
      "* Update optimal model\n",
      "EPOCH: 47 LR: 0.00025 \n"
     ]
    },
    {
     "name": "stderr",
     "output_type": "stream",
     "text": [
      "Loss=0.09991156309843063 Batch_id=224 le=0.00025 Accuracy=7.42: 100%|██████████| 225/225 [00:32<00:00,  6.94it/s]"
     ]
    },
    {
     "name": "stdout",
     "output_type": "stream",
     "text": [
      "\t train_loss:  0.10511844508665733  | train_acc:  tensor(0.0742, device='cuda:0')\n"
     ]
    },
    {
     "name": "stderr",
     "output_type": "stream",
     "text": [
      "\n",
      "  0%|          | 0/225 [00:00<?, ?it/s]"
     ]
    },
    {
     "name": "stdout",
     "output_type": "stream",
     "text": [
      "\n",
      "Test set: Average loss: 2.8472, Accuracy: 182.0/3589 (5.07%)\n",
      "\n",
      "* Update optimal model\n",
      "EPOCH: 48 LR: 0.00025 \n"
     ]
    },
    {
     "name": "stderr",
     "output_type": "stream",
     "text": [
      "Loss=0.1101573258638382 Batch_id=224 le=0.00025 Accuracy=7.69: 100%|██████████| 225/225 [00:32<00:00,  6.92it/s] "
     ]
    },
    {
     "name": "stdout",
     "output_type": "stream",
     "text": [
      "\t train_loss:  0.10540124322361215  | train_acc:  tensor(0.0769, device='cuda:0')\n"
     ]
    },
    {
     "name": "stderr",
     "output_type": "stream",
     "text": [
      "\n",
      "  0%|          | 0/225 [00:00<?, ?it/s]"
     ]
    },
    {
     "name": "stdout",
     "output_type": "stream",
     "text": [
      "\n",
      "Test set: Average loss: 2.8421, Accuracy: 193.0/3589 (5.38%)\n",
      "\n",
      "* Update optimal model\n",
      "EPOCH: 49 LR: 0.00025 \n"
     ]
    },
    {
     "name": "stderr",
     "output_type": "stream",
     "text": [
      "Loss=0.11410798132419586 Batch_id=224 le=0.00025 Accuracy=7.14: 100%|██████████| 225/225 [00:32<00:00,  6.93it/s]"
     ]
    },
    {
     "name": "stdout",
     "output_type": "stream",
     "text": [
      "\t train_loss:  0.10544108101949078  | train_acc:  tensor(0.0714, device='cuda:0')\n"
     ]
    },
    {
     "name": "stderr",
     "output_type": "stream",
     "text": [
      "\n"
     ]
    },
    {
     "name": "stdout",
     "output_type": "stream",
     "text": [
      "\n",
      "Test set: Average loss: 2.7746, Accuracy: 191.0/3589 (5.32%)\n",
      "\n",
      "* Update optimal model\n"
     ]
    },
    {
     "data": {
      "image/png": "[encoded data removed]",
      "text/plain": [
       "<Figure size 1440x576 with 2 Axes>"
      ]
     },
     "metadata": {
      "needs_background": "light"
     },
     "output_type": "display_data"
    }
   ],
   "source": [
    "model_path = None\n",
    "device = torch.device('cuda')\n",
    "model=VGG16_baseline(pretrained=False)\n",
    "model.to(device)\n",
    "epochs=50\n",
    "optimizer = optim.Adam(model.parameters(), lr=0.004, weight_decay=9e-4)\n",
    "# scheduler = torch.optim.lr_scheduler.OneCycleLR(optimizer, max_lr=0.02, steps_per_epoch=len(training_generator), pct_start=0.2, div_factor=10, cycle_momentum=False, epochs=epochs)\n",
    "scheduler = torch.optim.lr_scheduler.ReduceLROnPlateau(optimizer, mode='min', factor=0.5, patience=8, verbose=False)\n",
    "\n",
    "input_size=(3,48,48)\n",
    "model_path = None\n",
    "train_acc = []\n",
    "train_loss = []\n",
    "valid_acc = []\n",
    "valid_loss = []\n",
    "\n",
    "distance = distances.CosineSimilarity()\n",
    "reducer = reducers.ThresholdReducer(low = 0)\n",
    "loss_func = losses.TripletMarginLoss(margin = 0.2, distance = distance, reducer = reducer)\n",
    "mining_func = miners.TripletMarginMiner(margin = 0.2, distance = distance, type_of_triplets = \"semihard\")\n",
    "\n",
    "for epoch in range(epochs):\n",
    "    print(\"EPOCH: %s LR: %s \" % (epoch, get_lr(optimizer)))\n",
    "    train(model, training_generator, optimizer, loss_func, mining_func, scheduler)\n",
    "    tloss = test(model, validation_generator)\n",
    "    scheduler.step(tloss)\n",
    "plot(train_loss,train_acc, valid_loss, valid_acc, 'Loss & Accuracy')"
   ]
  },
  {
   "cell_type": "code",
   "execution_count": 20,
   "metadata": {},
   "outputs": [
    {
     "data": {
      "text/plain": [
       "28800"
      ]
     },
     "execution_count": 20,
     "metadata": {},
     "output_type": "execute_result"
    }
   ],
   "source": [
    "len(training_generator) * batch_size"
   ]
  },
  {
   "cell_type": "code",
   "execution_count": 10,
   "metadata": {},
   "outputs": [],
   "source": [
    "### MNIST code originally from https://github.com/pytorch/examples/blob/master/mnist/main.py ### \n",
    "def train(model, loss_func, mining_func, device, train_loader, optimizer, epoch):\n",
    "    model.train()\n",
    "    for batch_idx, (data, labels) in enumerate(train_loader):\n",
    "        data, labels = data.to(device), labels.to(device)\n",
    "        optimizer.zero_grad()\n",
    "        embeddings = model(data)\n",
    "        indices_tuple = mining_func(embeddings, labels)\n",
    "        loss = loss_func(embeddings, labels, indices_tuple)\n",
    "        loss.backward()\n",
    "        optimizer.step()\n",
    "        if batch_idx % 20 == 0:\n",
    "            print(\"Epoch {} Iteration {}: Loss = {}, Number of mined triplets = {}\".format(epoch, batch_idx, loss, mining_func.num_triplets))\n",
    "\n",
    "### convenient function from pytorch-metric-learning ###\n",
    "def get_all_embeddings(dataset, model):\n",
    "    tester = testers.BaseTester()\n",
    "    return tester.get_all_embeddings(dataset, model)\n",
    "\n",
    "### compute accuracy using AccuracyCalculator from pytorch-metric-learning ###\n",
    "def test(train_set, test_set, model, accuracy_calculator):\n",
    "    train_embeddings, train_labels = get_all_embeddings(train_set, model)\n",
    "    test_embeddings, test_labels = get_all_embeddings(test_set, model)\n",
    "    print(\"Computing accuracy\")\n",
    "    accuracies = accuracy_calculator.get_accuracy(test_embeddings, \n",
    "                                                train_embeddings,\n",
    "                                                np.squeeze(test_labels),\n",
    "                                                np.squeeze(train_labels),\n",
    "                                                False)\n",
    "    print(\"Test set accuracy (Precision@1) = {}\".format(accuracies[\"precision_at_1\"]))"
   ]
  },
  {
   "cell_type": "code",
   "execution_count": 11,
   "metadata": {
    "scrolled": true
   },
   "outputs": [
    {
     "name": "stdout",
     "output_type": "stream",
     "text": [
      "Epoch 1 Iteration 0: Loss = 0.10073044896125793, Number of mined triplets = 40281\n",
      "Epoch 1 Iteration 20: Loss = 0.10345745831727982, Number of mined triplets = 29278\n",
      "Epoch 1 Iteration 40: Loss = 0.10296853631734848, Number of mined triplets = 28032\n",
      "Epoch 1 Iteration 60: Loss = 0.10440747439861298, Number of mined triplets = 28589\n",
      "Epoch 1 Iteration 80: Loss = 0.1031470075249672, Number of mined triplets = 27813\n",
      "Epoch 1 Iteration 100: Loss = 0.10352851450443268, Number of mined triplets = 28453\n",
      "Epoch 1 Iteration 120: Loss = 0.10261863470077515, Number of mined triplets = 29101\n",
      "Epoch 1 Iteration 140: Loss = 0.10224378108978271, Number of mined triplets = 27799\n",
      "Epoch 1 Iteration 160: Loss = 0.1050860583782196, Number of mined triplets = 31528\n",
      "Epoch 1 Iteration 180: Loss = 0.10431153327226639, Number of mined triplets = 31115\n",
      "Epoch 1 Iteration 200: Loss = 0.10295065492391586, Number of mined triplets = 28950\n",
      "Epoch 1 Iteration 220: Loss = 0.10284732282161713, Number of mined triplets = 26531\n"
     ]
    },
    {
     "name": "stderr",
     "output_type": "stream",
     "text": [
      "100%|██████████| 898/898 [00:26<00:00, 33.88it/s]\n",
      "100%|██████████| 113/113 [00:04<00:00, 24.68it/s]"
     ]
    },
    {
     "name": "stdout",
     "output_type": "stream",
     "text": [
      "Computing accuracy\n",
      "Test set accuracy (Precision@1) = 0.2599609919197548\n"
     ]
    },
    {
     "name": "stderr",
     "output_type": "stream",
     "text": [
      "\n"
     ]
    },
    {
     "name": "stdout",
     "output_type": "stream",
     "text": [
      "Epoch 2 Iteration 0: Loss = 0.10411224514245987, Number of mined triplets = 30155\n",
      "Epoch 2 Iteration 20: Loss = 0.10393738001585007, Number of mined triplets = 29476\n",
      "Epoch 2 Iteration 40: Loss = 0.10315094143152237, Number of mined triplets = 27378\n",
      "Epoch 2 Iteration 60: Loss = 0.10845015943050385, Number of mined triplets = 30482\n",
      "Epoch 2 Iteration 80: Loss = 0.10306336730718613, Number of mined triplets = 29848\n",
      "Epoch 2 Iteration 100: Loss = 0.10736926645040512, Number of mined triplets = 31241\n",
      "Epoch 2 Iteration 120: Loss = 0.10658872872591019, Number of mined triplets = 28277\n",
      "Epoch 2 Iteration 140: Loss = 0.10276743769645691, Number of mined triplets = 28399\n",
      "Epoch 2 Iteration 160: Loss = 0.10480990260839462, Number of mined triplets = 28510\n",
      "Epoch 2 Iteration 180: Loss = 0.10750783979892731, Number of mined triplets = 28965\n",
      "Epoch 2 Iteration 200: Loss = 0.10344512015581131, Number of mined triplets = 28261\n",
      "Epoch 2 Iteration 220: Loss = 0.10448983311653137, Number of mined triplets = 29034\n"
     ]
    },
    {
     "name": "stderr",
     "output_type": "stream",
     "text": [
      "100%|██████████| 898/898 [00:26<00:00, 33.79it/s]\n",
      "100%|██████████| 113/113 [00:04<00:00, 24.48it/s]"
     ]
    },
    {
     "name": "stdout",
     "output_type": "stream",
     "text": [
      "Computing accuracy\n",
      "Test set accuracy (Precision@1) = 0.27667874059626635\n"
     ]
    },
    {
     "name": "stderr",
     "output_type": "stream",
     "text": [
      "\n"
     ]
    },
    {
     "name": "stdout",
     "output_type": "stream",
     "text": [
      "Epoch 3 Iteration 0: Loss = 0.10481922328472137, Number of mined triplets = 28107\n",
      "Epoch 3 Iteration 20: Loss = 0.11201946437358856, Number of mined triplets = 29479\n",
      "Epoch 3 Iteration 40: Loss = 0.1050560399889946, Number of mined triplets = 27665\n",
      "Epoch 3 Iteration 60: Loss = 0.10827352106571198, Number of mined triplets = 31337\n",
      "Epoch 3 Iteration 80: Loss = 0.10876963287591934, Number of mined triplets = 32845\n",
      "Epoch 3 Iteration 100: Loss = 0.10414702445268631, Number of mined triplets = 28595\n",
      "Epoch 3 Iteration 120: Loss = 0.10774131864309311, Number of mined triplets = 30521\n",
      "Epoch 3 Iteration 140: Loss = 0.10694890469312668, Number of mined triplets = 29499\n",
      "Epoch 3 Iteration 160: Loss = 0.10478280484676361, Number of mined triplets = 27158\n",
      "Epoch 3 Iteration 180: Loss = 0.10401248186826706, Number of mined triplets = 30013\n",
      "Epoch 3 Iteration 200: Loss = 0.10509099066257477, Number of mined triplets = 29321\n",
      "Epoch 3 Iteration 220: Loss = 0.10496843606233597, Number of mined triplets = 27649\n"
     ]
    },
    {
     "name": "stderr",
     "output_type": "stream",
     "text": [
      "100%|██████████| 898/898 [00:26<00:00, 33.73it/s]\n",
      "100%|██████████| 113/113 [00:04<00:00, 24.52it/s]"
     ]
    },
    {
     "name": "stdout",
     "output_type": "stream",
     "text": [
      "Computing accuracy\n",
      "Test set accuracy (Precision@1) = 0.31290052939537477\n"
     ]
    },
    {
     "name": "stderr",
     "output_type": "stream",
     "text": [
      "\n"
     ]
    },
    {
     "name": "stdout",
     "output_type": "stream",
     "text": [
      "Epoch 4 Iteration 0: Loss = 0.10630534589290619, Number of mined triplets = 29144\n",
      "Epoch 4 Iteration 20: Loss = 0.10608930140733719, Number of mined triplets = 27472\n",
      "Epoch 4 Iteration 40: Loss = 0.10868777334690094, Number of mined triplets = 31015\n",
      "Epoch 4 Iteration 60: Loss = 0.10550976544618607, Number of mined triplets = 26994\n",
      "Epoch 4 Iteration 80: Loss = 0.10799947381019592, Number of mined triplets = 29700\n",
      "Epoch 4 Iteration 100: Loss = 0.10389776527881622, Number of mined triplets = 28612\n",
      "Epoch 4 Iteration 120: Loss = 0.1065574511885643, Number of mined triplets = 28430\n",
      "Epoch 4 Iteration 140: Loss = 0.105307936668396, Number of mined triplets = 28476\n",
      "Epoch 4 Iteration 160: Loss = 0.10994773358106613, Number of mined triplets = 31083\n",
      "Epoch 4 Iteration 180: Loss = 0.10771879553794861, Number of mined triplets = 28366\n",
      "Epoch 4 Iteration 200: Loss = 0.10651686042547226, Number of mined triplets = 27896\n",
      "Epoch 4 Iteration 220: Loss = 0.10369844734668732, Number of mined triplets = 28786\n"
     ]
    },
    {
     "name": "stderr",
     "output_type": "stream",
     "text": [
      "100%|██████████| 898/898 [00:26<00:00, 33.50it/s]\n",
      "100%|██████████| 113/113 [00:04<00:00, 24.56it/s]"
     ]
    },
    {
     "name": "stdout",
     "output_type": "stream",
     "text": [
      "Computing accuracy\n",
      "Test set accuracy (Precision@1) = 0.30064084703259963\n"
     ]
    },
    {
     "name": "stderr",
     "output_type": "stream",
     "text": [
      "\n"
     ]
    },
    {
     "name": "stdout",
     "output_type": "stream",
     "text": [
      "Epoch 5 Iteration 0: Loss = 0.1017010360956192, Number of mined triplets = 25695\n",
      "Epoch 5 Iteration 20: Loss = 0.10333104431629181, Number of mined triplets = 28051\n",
      "Epoch 5 Iteration 40: Loss = 0.10439514368772507, Number of mined triplets = 28002\n",
      "Epoch 5 Iteration 60: Loss = 0.10808195173740387, Number of mined triplets = 30335\n",
      "Epoch 5 Iteration 80: Loss = 0.10293007642030716, Number of mined triplets = 28065\n",
      "Epoch 5 Iteration 100: Loss = 0.10349025577306747, Number of mined triplets = 27636\n",
      "Epoch 5 Iteration 120: Loss = 0.1014351025223732, Number of mined triplets = 25994\n",
      "Epoch 5 Iteration 140: Loss = 0.10285282880067825, Number of mined triplets = 27115\n",
      "Epoch 5 Iteration 160: Loss = 0.10360487550497055, Number of mined triplets = 28251\n",
      "Epoch 5 Iteration 180: Loss = 0.1028059646487236, Number of mined triplets = 26937\n",
      "Epoch 5 Iteration 200: Loss = 0.10223527252674103, Number of mined triplets = 26876\n",
      "Epoch 5 Iteration 220: Loss = 0.1085902601480484, Number of mined triplets = 30109\n"
     ]
    },
    {
     "name": "stderr",
     "output_type": "stream",
     "text": [
      "100%|██████████| 898/898 [00:26<00:00, 33.64it/s]\n",
      "100%|██████████| 113/113 [00:04<00:00, 24.23it/s]"
     ]
    },
    {
     "name": "stdout",
     "output_type": "stream",
     "text": [
      "Computing accuracy\n",
      "Test set accuracy (Precision@1) = 0.352744497074394\n"
     ]
    },
    {
     "name": "stderr",
     "output_type": "stream",
     "text": [
      "\n"
     ]
    },
    {
     "name": "stdout",
     "output_type": "stream",
     "text": [
      "Epoch 6 Iteration 0: Loss = 0.10559428483247757, Number of mined triplets = 25579\n",
      "Epoch 6 Iteration 20: Loss = 0.1032031923532486, Number of mined triplets = 28401\n",
      "Epoch 6 Iteration 40: Loss = 0.10316789150238037, Number of mined triplets = 29903\n",
      "Epoch 6 Iteration 60: Loss = 0.1025937870144844, Number of mined triplets = 26605\n",
      "Epoch 6 Iteration 80: Loss = 0.10340200364589691, Number of mined triplets = 26951\n",
      "Epoch 6 Iteration 100: Loss = 0.10346250236034393, Number of mined triplets = 28594\n",
      "Epoch 6 Iteration 120: Loss = 0.10803454369306564, Number of mined triplets = 28378\n",
      "Epoch 6 Iteration 140: Loss = 0.10208826512098312, Number of mined triplets = 24688\n",
      "Epoch 6 Iteration 160: Loss = 0.10228793323040009, Number of mined triplets = 25616\n",
      "Epoch 6 Iteration 180: Loss = 0.10286716371774673, Number of mined triplets = 25826\n",
      "Epoch 6 Iteration 200: Loss = 0.10738637298345566, Number of mined triplets = 24307\n",
      "Epoch 6 Iteration 220: Loss = 0.10150197893381119, Number of mined triplets = 25742\n"
     ]
    },
    {
     "name": "stderr",
     "output_type": "stream",
     "text": [
      "100%|██████████| 898/898 [00:26<00:00, 33.86it/s]\n",
      "100%|██████████| 113/113 [00:04<00:00, 24.36it/s]"
     ]
    },
    {
     "name": "stdout",
     "output_type": "stream",
     "text": [
      "Computing accuracy\n",
      "Test set accuracy (Precision@1) = 0.3482864307606576\n"
     ]
    },
    {
     "name": "stderr",
     "output_type": "stream",
     "text": [
      "\n"
     ]
    },
    {
     "name": "stdout",
     "output_type": "stream",
     "text": [
      "Epoch 7 Iteration 0: Loss = 0.10688958317041397, Number of mined triplets = 26130\n",
      "Epoch 7 Iteration 20: Loss = 0.10306625068187714, Number of mined triplets = 26479\n",
      "Epoch 7 Iteration 40: Loss = 0.10656025260686874, Number of mined triplets = 27287\n",
      "Epoch 7 Iteration 60: Loss = 0.10348093509674072, Number of mined triplets = 27574\n",
      "Epoch 7 Iteration 80: Loss = 0.10229725390672684, Number of mined triplets = 23956\n",
      "Epoch 7 Iteration 100: Loss = 0.1036083921790123, Number of mined triplets = 26105\n",
      "Epoch 7 Iteration 120: Loss = 0.1025208830833435, Number of mined triplets = 26893\n",
      "Epoch 7 Iteration 140: Loss = 0.10413187742233276, Number of mined triplets = 28236\n",
      "Epoch 7 Iteration 160: Loss = 0.10324626415967941, Number of mined triplets = 25746\n",
      "Epoch 7 Iteration 180: Loss = 0.10184013098478317, Number of mined triplets = 25336\n",
      "Epoch 7 Iteration 200: Loss = 0.10033819079399109, Number of mined triplets = 26079\n",
      "Epoch 7 Iteration 220: Loss = 0.102936290204525, Number of mined triplets = 25112\n"
     ]
    },
    {
     "name": "stderr",
     "output_type": "stream",
     "text": [
      "100%|██████████| 898/898 [00:26<00:00, 33.73it/s]\n",
      "100%|██████████| 113/113 [00:04<00:00, 24.42it/s]"
     ]
    },
    {
     "name": "stdout",
     "output_type": "stream",
     "text": [
      "Computing accuracy\n",
      "Test set accuracy (Precision@1) = 0.3661186960156032\n"
     ]
    },
    {
     "name": "stderr",
     "output_type": "stream",
     "text": [
      "\n"
     ]
    },
    {
     "name": "stdout",
     "output_type": "stream",
     "text": [
      "Epoch 8 Iteration 0: Loss = 0.10475250333547592, Number of mined triplets = 26493\n",
      "Epoch 8 Iteration 20: Loss = 0.10492783784866333, Number of mined triplets = 30275\n",
      "Epoch 8 Iteration 40: Loss = 0.1045386865735054, Number of mined triplets = 26315\n",
      "Epoch 8 Iteration 60: Loss = 0.10794617235660553, Number of mined triplets = 25377\n",
      "Epoch 8 Iteration 80: Loss = 0.1034066453576088, Number of mined triplets = 27593\n",
      "Epoch 8 Iteration 100: Loss = 0.09887450188398361, Number of mined triplets = 23027\n",
      "Epoch 8 Iteration 120: Loss = 0.1031036525964737, Number of mined triplets = 26410\n",
      "Epoch 8 Iteration 140: Loss = 0.10628554970026016, Number of mined triplets = 27618\n",
      "Epoch 8 Iteration 160: Loss = 0.10580827295780182, Number of mined triplets = 28424\n",
      "Epoch 8 Iteration 180: Loss = 0.10363779217004776, Number of mined triplets = 26254\n",
      "Epoch 8 Iteration 200: Loss = 0.10328304767608643, Number of mined triplets = 26069\n",
      "Epoch 8 Iteration 220: Loss = 0.10787425935268402, Number of mined triplets = 25109\n"
     ]
    },
    {
     "name": "stderr",
     "output_type": "stream",
     "text": [
      "100%|██████████| 898/898 [00:27<00:00, 32.93it/s]\n",
      "100%|██████████| 113/113 [00:04<00:00, 24.59it/s]"
     ]
    },
    {
     "name": "stdout",
     "output_type": "stream",
     "text": [
      "Computing accuracy\n",
      "Test set accuracy (Precision@1) = 0.3842295904151574\n"
     ]
    },
    {
     "name": "stderr",
     "output_type": "stream",
     "text": [
      "\n"
     ]
    },
    {
     "name": "stdout",
     "output_type": "stream",
     "text": [
      "Epoch 9 Iteration 0: Loss = 0.1034976989030838, Number of mined triplets = 23112\n",
      "Epoch 9 Iteration 20: Loss = 0.10640302300453186, Number of mined triplets = 25280\n",
      "Epoch 9 Iteration 40: Loss = 0.10233288258314133, Number of mined triplets = 23299\n",
      "Epoch 9 Iteration 60: Loss = 0.10414312779903412, Number of mined triplets = 26847\n",
      "Epoch 9 Iteration 80: Loss = 0.10142993181943893, Number of mined triplets = 24350\n",
      "Epoch 9 Iteration 100: Loss = 0.10220586508512497, Number of mined triplets = 25519\n",
      "Epoch 9 Iteration 120: Loss = 0.1026085913181305, Number of mined triplets = 25103\n",
      "Epoch 9 Iteration 140: Loss = 0.1036527082324028, Number of mined triplets = 24813\n",
      "Epoch 9 Iteration 160: Loss = 0.10818110406398773, Number of mined triplets = 27673\n",
      "Epoch 9 Iteration 180: Loss = 0.10184545069932938, Number of mined triplets = 24539\n",
      "Epoch 9 Iteration 200: Loss = 0.10297568887472153, Number of mined triplets = 26476\n",
      "Epoch 9 Iteration 220: Loss = 0.10405406355857849, Number of mined triplets = 27287\n"
     ]
    },
    {
     "name": "stderr",
     "output_type": "stream",
     "text": [
      "100%|██████████| 898/898 [00:26<00:00, 33.68it/s]\n",
      "100%|██████████| 113/113 [00:04<00:00, 24.35it/s]"
     ]
    },
    {
     "name": "stdout",
     "output_type": "stream",
     "text": [
      "Computing accuracy\n",
      "Test set accuracy (Precision@1) = 0.3900808024519365\n"
     ]
    },
    {
     "name": "stderr",
     "output_type": "stream",
     "text": [
      "\n"
     ]
    },
    {
     "name": "stdout",
     "output_type": "stream",
     "text": [
      "Epoch 10 Iteration 0: Loss = 0.10333273559808731, Number of mined triplets = 28599\n",
      "Epoch 10 Iteration 20: Loss = 0.10644292086362839, Number of mined triplets = 24516\n",
      "Epoch 10 Iteration 40: Loss = 0.10590802133083344, Number of mined triplets = 26623\n",
      "Epoch 10 Iteration 60: Loss = 0.10629993677139282, Number of mined triplets = 27160\n",
      "Epoch 10 Iteration 80: Loss = 0.10315486788749695, Number of mined triplets = 24220\n",
      "Epoch 10 Iteration 100: Loss = 0.1030767634510994, Number of mined triplets = 26531\n",
      "Epoch 10 Iteration 120: Loss = 0.10109985619783401, Number of mined triplets = 25658\n",
      "Epoch 10 Iteration 140: Loss = 0.10212759673595428, Number of mined triplets = 25971\n",
      "Epoch 10 Iteration 160: Loss = 0.10303130745887756, Number of mined triplets = 23864\n",
      "Epoch 10 Iteration 180: Loss = 0.10284964740276337, Number of mined triplets = 25676\n",
      "Epoch 10 Iteration 200: Loss = 0.10182906687259674, Number of mined triplets = 24142\n",
      "Epoch 10 Iteration 220: Loss = 0.10418803989887238, Number of mined triplets = 25701\n"
     ]
    },
    {
     "name": "stderr",
     "output_type": "stream",
     "text": [
      "100%|██████████| 898/898 [00:26<00:00, 33.69it/s]\n",
      "100%|██████████| 113/113 [00:04<00:00, 24.22it/s]"
     ]
    },
    {
     "name": "stdout",
     "output_type": "stream",
     "text": [
      "Computing accuracy\n",
      "Test set accuracy (Precision@1) = 0.3786570075229869\n"
     ]
    },
    {
     "name": "stderr",
     "output_type": "stream",
     "text": [
      "\n"
     ]
    },
    {
     "name": "stdout",
     "output_type": "stream",
     "text": [
      "Epoch 11 Iteration 0: Loss = 0.10827585309743881, Number of mined triplets = 26782\n",
      "Epoch 11 Iteration 20: Loss = 0.10344484448432922, Number of mined triplets = 26546\n",
      "Epoch 11 Iteration 40: Loss = 0.1046060100197792, Number of mined triplets = 26017\n",
      "Epoch 11 Iteration 60: Loss = 0.10133369266986847, Number of mined triplets = 31377\n",
      "Epoch 11 Iteration 80: Loss = 0.10294608026742935, Number of mined triplets = 25234\n",
      "Epoch 11 Iteration 100: Loss = 0.10111089795827866, Number of mined triplets = 23497\n",
      "Epoch 11 Iteration 120: Loss = 0.10454592853784561, Number of mined triplets = 28314\n",
      "Epoch 11 Iteration 140: Loss = 0.10464677959680557, Number of mined triplets = 26883\n",
      "Epoch 11 Iteration 160: Loss = 0.1055377945303917, Number of mined triplets = 24939\n",
      "Epoch 11 Iteration 180: Loss = 0.10962225496768951, Number of mined triplets = 26533\n",
      "Epoch 11 Iteration 200: Loss = 0.1019827276468277, Number of mined triplets = 23965\n",
      "Epoch 11 Iteration 220: Loss = 0.10462777316570282, Number of mined triplets = 27490\n"
     ]
    },
    {
     "name": "stderr",
     "output_type": "stream",
     "text": [
      "100%|██████████| 898/898 [00:26<00:00, 33.82it/s]\n",
      "100%|██████████| 113/113 [00:04<00:00, 24.62it/s]"
     ]
    },
    {
     "name": "stdout",
     "output_type": "stream",
     "text": [
      "Computing accuracy\n",
      "Test set accuracy (Precision@1) = 0.38032878239063805\n"
     ]
    },
    {
     "name": "stderr",
     "output_type": "stream",
     "text": [
      "\n"
     ]
    },
    {
     "name": "stdout",
     "output_type": "stream",
     "text": [
      "Epoch 12 Iteration 0: Loss = 0.10384072363376617, Number of mined triplets = 27472\n",
      "Epoch 12 Iteration 20: Loss = 0.10329118371009827, Number of mined triplets = 22026\n",
      "Epoch 12 Iteration 40: Loss = 0.1031746119260788, Number of mined triplets = 28001\n",
      "Epoch 12 Iteration 60: Loss = 0.10713241249322891, Number of mined triplets = 26599\n",
      "Epoch 12 Iteration 80: Loss = 0.10450214892625809, Number of mined triplets = 23621\n",
      "Epoch 12 Iteration 100: Loss = 0.10429427027702332, Number of mined triplets = 27838\n",
      "Epoch 12 Iteration 120: Loss = 0.10164427012205124, Number of mined triplets = 23704\n",
      "Epoch 12 Iteration 140: Loss = 0.10083373636007309, Number of mined triplets = 23230\n",
      "Epoch 12 Iteration 160: Loss = 0.1032588928937912, Number of mined triplets = 26764\n",
      "Epoch 12 Iteration 180: Loss = 0.10282310098409653, Number of mined triplets = 25373\n",
      "Epoch 12 Iteration 200: Loss = 0.10489025712013245, Number of mined triplets = 26787\n",
      "Epoch 12 Iteration 220: Loss = 0.10166893154382706, Number of mined triplets = 27441\n"
     ]
    },
    {
     "name": "stderr",
     "output_type": "stream",
     "text": [
      "100%|██████████| 898/898 [00:26<00:00, 33.84it/s]\n",
      "100%|██████████| 113/113 [00:04<00:00, 24.33it/s]"
     ]
    },
    {
     "name": "stdout",
     "output_type": "stream",
     "text": [
      "Computing accuracy\n",
      "Test set accuracy (Precision@1) = 0.4087489551407077\n"
     ]
    },
    {
     "name": "stderr",
     "output_type": "stream",
     "text": [
      "\n"
     ]
    },
    {
     "name": "stdout",
     "output_type": "stream",
     "text": [
      "Epoch 13 Iteration 0: Loss = 0.0988006666302681, Number of mined triplets = 23195\n",
      "Epoch 13 Iteration 20: Loss = 0.10482782125473022, Number of mined triplets = 26501\n",
      "Epoch 13 Iteration 40: Loss = 0.10570817440748215, Number of mined triplets = 26684\n",
      "Epoch 13 Iteration 60: Loss = 0.10468234866857529, Number of mined triplets = 24457\n",
      "Epoch 13 Iteration 80: Loss = 0.10344616323709488, Number of mined triplets = 24328\n",
      "Epoch 13 Iteration 100: Loss = 0.10297238081693649, Number of mined triplets = 23322\n",
      "Epoch 13 Iteration 120: Loss = 0.10130675137042999, Number of mined triplets = 23852\n",
      "Epoch 13 Iteration 140: Loss = 0.10367569327354431, Number of mined triplets = 24301\n",
      "Epoch 13 Iteration 160: Loss = 0.10545935481786728, Number of mined triplets = 24348\n",
      "Epoch 13 Iteration 180: Loss = 0.10659221559762955, Number of mined triplets = 25805\n",
      "Epoch 13 Iteration 200: Loss = 0.10517635196447372, Number of mined triplets = 25151\n",
      "Epoch 13 Iteration 220: Loss = 0.10581810027360916, Number of mined triplets = 25592\n"
     ]
    },
    {
     "name": "stderr",
     "output_type": "stream",
     "text": [
      "100%|██████████| 898/898 [00:26<00:00, 33.78it/s]\n",
      "100%|██████████| 113/113 [00:04<00:00, 24.43it/s]"
     ]
    },
    {
     "name": "stdout",
     "output_type": "stream",
     "text": [
      "Computing accuracy\n",
      "Test set accuracy (Precision@1) = 0.422123154081917\n"
     ]
    },
    {
     "name": "stderr",
     "output_type": "stream",
     "text": [
      "\n"
     ]
    },
    {
     "name": "stdout",
     "output_type": "stream",
     "text": [
      "Epoch 14 Iteration 0: Loss = 0.10116039216518402, Number of mined triplets = 23675\n",
      "Epoch 14 Iteration 20: Loss = 0.10518299788236618, Number of mined triplets = 26946\n",
      "Epoch 14 Iteration 40: Loss = 0.10410019010305405, Number of mined triplets = 26783\n",
      "Epoch 14 Iteration 60: Loss = 0.10447569936513901, Number of mined triplets = 23331\n",
      "Epoch 14 Iteration 80: Loss = 0.10216090083122253, Number of mined triplets = 25539\n",
      "Epoch 14 Iteration 100: Loss = 0.1029210090637207, Number of mined triplets = 22642\n",
      "Epoch 14 Iteration 120: Loss = 0.10402553528547287, Number of mined triplets = 25444\n",
      "Epoch 14 Iteration 140: Loss = 0.10263676196336746, Number of mined triplets = 25554\n",
      "Epoch 14 Iteration 160: Loss = 0.1043785810470581, Number of mined triplets = 24379\n",
      "Epoch 14 Iteration 180: Loss = 0.10531891137361526, Number of mined triplets = 23341\n",
      "Epoch 14 Iteration 200: Loss = 0.10206497460603714, Number of mined triplets = 26445\n",
      "Epoch 14 Iteration 220: Loss = 0.10222180932760239, Number of mined triplets = 24212\n"
     ]
    },
    {
     "name": "stderr",
     "output_type": "stream",
     "text": [
      "100%|██████████| 898/898 [00:26<00:00, 33.82it/s]\n",
      "100%|██████████| 113/113 [00:04<00:00, 24.37it/s]"
     ]
    },
    {
     "name": "stdout",
     "output_type": "stream",
     "text": [
      "Computing accuracy\n",
      "Test set accuracy (Precision@1) = 0.38200055725828924\n"
     ]
    },
    {
     "name": "stderr",
     "output_type": "stream",
     "text": [
      "\n"
     ]
    },
    {
     "name": "stdout",
     "output_type": "stream",
     "text": [
      "Epoch 15 Iteration 0: Loss = 0.10454823076725006, Number of mined triplets = 24527\n",
      "Epoch 15 Iteration 20: Loss = 0.1046580970287323, Number of mined triplets = 24717\n",
      "Epoch 15 Iteration 40: Loss = 0.10173874348402023, Number of mined triplets = 24746\n",
      "Epoch 15 Iteration 60: Loss = 0.10238799452781677, Number of mined triplets = 24315\n",
      "Epoch 15 Iteration 80: Loss = 0.10184124112129211, Number of mined triplets = 25006\n",
      "Epoch 15 Iteration 100: Loss = 0.10360558331012726, Number of mined triplets = 23963\n",
      "Epoch 15 Iteration 120: Loss = 0.10197507590055466, Number of mined triplets = 22516\n",
      "Epoch 15 Iteration 140: Loss = 0.10305210202932358, Number of mined triplets = 22346\n",
      "Epoch 15 Iteration 160: Loss = 0.10471804440021515, Number of mined triplets = 23861\n",
      "Epoch 15 Iteration 180: Loss = 0.10409597307443619, Number of mined triplets = 24184\n",
      "Epoch 15 Iteration 200: Loss = 0.10177262872457504, Number of mined triplets = 24254\n",
      "Epoch 15 Iteration 220: Loss = 0.10363008826971054, Number of mined triplets = 22306\n"
     ]
    },
    {
     "name": "stderr",
     "output_type": "stream",
     "text": [
      "100%|██████████| 898/898 [00:26<00:00, 33.76it/s]\n",
      "100%|██████████| 113/113 [00:04<00:00, 24.56it/s]"
     ]
    },
    {
     "name": "stdout",
     "output_type": "stream",
     "text": [
      "Computing accuracy\n",
      "Test set accuracy (Precision@1) = 0.42630259125104486\n"
     ]
    },
    {
     "name": "stderr",
     "output_type": "stream",
     "text": [
      "\n"
     ]
    },
    {
     "name": "stdout",
     "output_type": "stream",
     "text": [
      "Epoch 16 Iteration 0: Loss = 0.10643845051527023, Number of mined triplets = 25983\n",
      "Epoch 16 Iteration 20: Loss = 0.10388367623090744, Number of mined triplets = 24176\n",
      "Epoch 16 Iteration 40: Loss = 0.10194907337427139, Number of mined triplets = 25101\n",
      "Epoch 16 Iteration 60: Loss = 0.10059952735900879, Number of mined triplets = 22715\n",
      "Epoch 16 Iteration 80: Loss = 0.10447641462087631, Number of mined triplets = 23419\n",
      "Epoch 16 Iteration 100: Loss = 0.1047058254480362, Number of mined triplets = 22142\n",
      "Epoch 16 Iteration 120: Loss = 0.10165049880743027, Number of mined triplets = 25413\n",
      "Epoch 16 Iteration 140: Loss = 0.10264769196510315, Number of mined triplets = 23303\n",
      "Epoch 16 Iteration 160: Loss = 0.10215484350919724, Number of mined triplets = 24466\n",
      "Epoch 16 Iteration 180: Loss = 0.10557127743959427, Number of mined triplets = 27262\n",
      "Epoch 16 Iteration 200: Loss = 0.1030452623963356, Number of mined triplets = 24762\n",
      "Epoch 16 Iteration 220: Loss = 0.10448865592479706, Number of mined triplets = 25007\n"
     ]
    },
    {
     "name": "stderr",
     "output_type": "stream",
     "text": [
      "100%|██████████| 898/898 [00:26<00:00, 33.84it/s]\n",
      "100%|██████████| 113/113 [00:04<00:00, 24.55it/s]"
     ]
    },
    {
     "name": "stdout",
     "output_type": "stream",
     "text": [
      "Computing accuracy\n",
      "Test set accuracy (Precision@1) = 0.4257453329618278\n"
     ]
    },
    {
     "name": "stderr",
     "output_type": "stream",
     "text": [
      "\n"
     ]
    },
    {
     "name": "stdout",
     "output_type": "stream",
     "text": [
      "Epoch 17 Iteration 0: Loss = 0.10451602190732956, Number of mined triplets = 27793\n",
      "Epoch 17 Iteration 20: Loss = 0.10420989990234375, Number of mined triplets = 24014\n",
      "Epoch 17 Iteration 40: Loss = 0.1038336381316185, Number of mined triplets = 23429\n",
      "Epoch 17 Iteration 60: Loss = 0.10420327633619308, Number of mined triplets = 25975\n",
      "Epoch 17 Iteration 80: Loss = 0.10450654476881027, Number of mined triplets = 21351\n",
      "Epoch 17 Iteration 100: Loss = 0.1048816666007042, Number of mined triplets = 24264\n",
      "Epoch 17 Iteration 120: Loss = 0.10420231521129608, Number of mined triplets = 22882\n",
      "Epoch 17 Iteration 140: Loss = 0.1042814701795578, Number of mined triplets = 25361\n",
      "Epoch 17 Iteration 160: Loss = 0.10225324332714081, Number of mined triplets = 25559\n",
      "Epoch 17 Iteration 180: Loss = 0.10306652635335922, Number of mined triplets = 24290\n",
      "Epoch 17 Iteration 200: Loss = 0.10567079484462738, Number of mined triplets = 25455\n",
      "Epoch 17 Iteration 220: Loss = 0.10165486484766006, Number of mined triplets = 24799\n"
     ]
    },
    {
     "name": "stderr",
     "output_type": "stream",
     "text": [
      "100%|██████████| 898/898 [00:26<00:00, 33.65it/s]\n",
      "100%|██████████| 113/113 [00:04<00:00, 24.39it/s]"
     ]
    },
    {
     "name": "stdout",
     "output_type": "stream",
     "text": [
      "Computing accuracy\n",
      "Test set accuracy (Precision@1) = 0.4352187238785177\n"
     ]
    },
    {
     "name": "stderr",
     "output_type": "stream",
     "text": [
      "\n"
     ]
    },
    {
     "name": "stdout",
     "output_type": "stream",
     "text": [
      "Epoch 18 Iteration 0: Loss = 0.10567847639322281, Number of mined triplets = 23346\n",
      "Epoch 18 Iteration 20: Loss = 0.10277354717254639, Number of mined triplets = 24705\n",
      "Epoch 18 Iteration 40: Loss = 0.10249099880456924, Number of mined triplets = 25130\n",
      "Epoch 18 Iteration 60: Loss = 0.10366757214069366, Number of mined triplets = 26035\n",
      "Epoch 18 Iteration 80: Loss = 0.10172782838344574, Number of mined triplets = 25703\n",
      "Epoch 18 Iteration 100: Loss = 0.10332747548818588, Number of mined triplets = 26690\n",
      "Epoch 18 Iteration 120: Loss = 0.10163237899541855, Number of mined triplets = 26413\n",
      "Epoch 18 Iteration 140: Loss = 0.10455938428640366, Number of mined triplets = 23282\n",
      "Epoch 18 Iteration 160: Loss = 0.1050567701458931, Number of mined triplets = 22944\n",
      "Epoch 18 Iteration 180: Loss = 0.10317271202802658, Number of mined triplets = 23644\n",
      "Epoch 18 Iteration 200: Loss = 0.10268715769052505, Number of mined triplets = 24120\n",
      "Epoch 18 Iteration 220: Loss = 0.10158761590719223, Number of mined triplets = 22763\n"
     ]
    },
    {
     "name": "stderr",
     "output_type": "stream",
     "text": [
      "100%|██████████| 898/898 [00:26<00:00, 33.81it/s]\n",
      "100%|██████████| 113/113 [00:04<00:00, 24.22it/s]"
     ]
    },
    {
     "name": "stdout",
     "output_type": "stream",
     "text": [
      "Computing accuracy\n",
      "Test set accuracy (Precision@1) = 0.42630259125104486\n"
     ]
    },
    {
     "name": "stderr",
     "output_type": "stream",
     "text": [
      "\n"
     ]
    },
    {
     "name": "stdout",
     "output_type": "stream",
     "text": [
      "Epoch 19 Iteration 0: Loss = 0.10204968601465225, Number of mined triplets = 23308\n",
      "Epoch 19 Iteration 20: Loss = 0.10272665321826935, Number of mined triplets = 23394\n",
      "Epoch 19 Iteration 40: Loss = 0.10478079319000244, Number of mined triplets = 25909\n",
      "Epoch 19 Iteration 60: Loss = 0.10139282792806625, Number of mined triplets = 27034\n",
      "Epoch 19 Iteration 80: Loss = 0.10141725838184357, Number of mined triplets = 24556\n",
      "Epoch 19 Iteration 100: Loss = 0.10180848091840744, Number of mined triplets = 22893\n",
      "Epoch 19 Iteration 120: Loss = 0.10317615419626236, Number of mined triplets = 23724\n",
      "Epoch 19 Iteration 140: Loss = 0.1023939996957779, Number of mined triplets = 24753\n",
      "Epoch 19 Iteration 160: Loss = 0.10357321798801422, Number of mined triplets = 25463\n",
      "Epoch 19 Iteration 180: Loss = 0.10062377899885178, Number of mined triplets = 21643\n",
      "Epoch 19 Iteration 200: Loss = 0.10333969444036484, Number of mined triplets = 24312\n",
      "Epoch 19 Iteration 220: Loss = 0.10181234776973724, Number of mined triplets = 24993\n"
     ]
    },
    {
     "name": "stderr",
     "output_type": "stream",
     "text": [
      "100%|██████████| 898/898 [00:26<00:00, 33.64it/s]\n",
      "100%|██████████| 113/113 [00:04<00:00, 24.37it/s]"
     ]
    },
    {
     "name": "stdout",
     "output_type": "stream",
     "text": [
      "Computing accuracy\n",
      "Test set accuracy (Precision@1) = 0.4416271942045138\n"
     ]
    },
    {
     "name": "stderr",
     "output_type": "stream",
     "text": [
      "\n"
     ]
    },
    {
     "name": "stdout",
     "output_type": "stream",
     "text": [
      "Epoch 20 Iteration 0: Loss = 0.10256234556436539, Number of mined triplets = 24234\n",
      "Epoch 20 Iteration 20: Loss = 0.10082727670669556, Number of mined triplets = 24489\n",
      "Epoch 20 Iteration 40: Loss = 0.10346917062997818, Number of mined triplets = 23028\n",
      "Epoch 20 Iteration 60: Loss = 0.10334533452987671, Number of mined triplets = 23451\n",
      "Epoch 20 Iteration 80: Loss = 0.10096802562475204, Number of mined triplets = 23183\n",
      "Epoch 20 Iteration 100: Loss = 0.10212405771017075, Number of mined triplets = 24964\n",
      "Epoch 20 Iteration 120: Loss = 0.09965979307889938, Number of mined triplets = 21311\n",
      "Epoch 20 Iteration 140: Loss = 0.10184589773416519, Number of mined triplets = 25183\n",
      "Epoch 20 Iteration 160: Loss = 0.10129037499427795, Number of mined triplets = 25264\n",
      "Epoch 20 Iteration 180: Loss = 0.10099423676729202, Number of mined triplets = 25348\n",
      "Epoch 20 Iteration 200: Loss = 0.1039910614490509, Number of mined triplets = 25546\n",
      "Epoch 20 Iteration 220: Loss = 0.10214421153068542, Number of mined triplets = 25862\n"
     ]
    },
    {
     "name": "stderr",
     "output_type": "stream",
     "text": [
      "100%|██████████| 898/898 [00:26<00:00, 33.70it/s]\n",
      "100%|██████████| 113/113 [00:04<00:00, 24.61it/s]"
     ]
    },
    {
     "name": "stdout",
     "output_type": "stream",
     "text": [
      "Computing accuracy\n",
      "Test set accuracy (Precision@1) = 0.4563945388687657\n"
     ]
    },
    {
     "name": "stderr",
     "output_type": "stream",
     "text": [
      "\n"
     ]
    },
    {
     "name": "stdout",
     "output_type": "stream",
     "text": [
      "Epoch 21 Iteration 0: Loss = 0.10299616307020187, Number of mined triplets = 23708\n",
      "Epoch 21 Iteration 20: Loss = 0.10080724209547043, Number of mined triplets = 23306\n",
      "Epoch 21 Iteration 40: Loss = 0.10256919264793396, Number of mined triplets = 25690\n",
      "Epoch 21 Iteration 60: Loss = 0.10174991935491562, Number of mined triplets = 24550\n",
      "Epoch 21 Iteration 80: Loss = 0.10319709777832031, Number of mined triplets = 21064\n",
      "Epoch 21 Iteration 100: Loss = 0.10565024614334106, Number of mined triplets = 25598\n",
      "Epoch 21 Iteration 120: Loss = 0.10242985188961029, Number of mined triplets = 25989\n",
      "Epoch 21 Iteration 140: Loss = 0.10460089892148972, Number of mined triplets = 26867\n",
      "Epoch 21 Iteration 160: Loss = 0.10308638215065002, Number of mined triplets = 24437\n",
      "Epoch 21 Iteration 180: Loss = 0.10315172374248505, Number of mined triplets = 23009\n",
      "Epoch 21 Iteration 200: Loss = 0.10001393407583237, Number of mined triplets = 24038\n",
      "Epoch 21 Iteration 220: Loss = 0.10125122219324112, Number of mined triplets = 25222\n"
     ]
    },
    {
     "name": "stderr",
     "output_type": "stream",
     "text": [
      "100%|██████████| 898/898 [00:26<00:00, 33.75it/s]\n",
      "100%|██████████| 113/113 [00:04<00:00, 24.42it/s]"
     ]
    },
    {
     "name": "stdout",
     "output_type": "stream",
     "text": [
      "Computing accuracy\n",
      "Test set accuracy (Precision@1) = 0.44441348565059907\n"
     ]
    },
    {
     "name": "stderr",
     "output_type": "stream",
     "text": [
      "\n"
     ]
    },
    {
     "name": "stdout",
     "output_type": "stream",
     "text": [
      "Epoch 22 Iteration 0: Loss = 0.10327167809009552, Number of mined triplets = 24419\n",
      "Epoch 22 Iteration 20: Loss = 0.10514155775308609, Number of mined triplets = 23019\n",
      "Epoch 22 Iteration 40: Loss = 0.10216659307479858, Number of mined triplets = 24361\n",
      "Epoch 22 Iteration 60: Loss = 0.10507219284772873, Number of mined triplets = 23258\n",
      "Epoch 22 Iteration 80: Loss = 0.10259617120027542, Number of mined triplets = 26028\n",
      "Epoch 22 Iteration 100: Loss = 0.10057256370782852, Number of mined triplets = 21488\n",
      "Epoch 22 Iteration 120: Loss = 0.10297193378210068, Number of mined triplets = 22848\n",
      "Epoch 22 Iteration 140: Loss = 0.10196057707071304, Number of mined triplets = 25330\n",
      "Epoch 22 Iteration 160: Loss = 0.10009539872407913, Number of mined triplets = 25340\n",
      "Epoch 22 Iteration 180: Loss = 0.10563909262418747, Number of mined triplets = 24511\n",
      "Epoch 22 Iteration 200: Loss = 0.10470806062221527, Number of mined triplets = 24957\n",
      "Epoch 22 Iteration 220: Loss = 0.10345681756734848, Number of mined triplets = 26829\n"
     ]
    },
    {
     "name": "stderr",
     "output_type": "stream",
     "text": [
      "100%|██████████| 898/898 [00:26<00:00, 33.67it/s]\n",
      "100%|██████████| 113/113 [00:04<00:00, 24.50it/s]"
     ]
    },
    {
     "name": "stdout",
     "output_type": "stream",
     "text": [
      "Computing accuracy\n",
      "Test set accuracy (Precision@1) = 0.4480356645305099\n"
     ]
    },
    {
     "name": "stderr",
     "output_type": "stream",
     "text": [
      "\n"
     ]
    },
    {
     "name": "stdout",
     "output_type": "stream",
     "text": [
      "Epoch 23 Iteration 0: Loss = 0.1079532727599144, Number of mined triplets = 23100\n",
      "Epoch 23 Iteration 20: Loss = 0.10088373720645905, Number of mined triplets = 23213\n",
      "Epoch 23 Iteration 40: Loss = 0.10033265501260757, Number of mined triplets = 24254\n",
      "Epoch 23 Iteration 60: Loss = 0.10345514118671417, Number of mined triplets = 23763\n",
      "Epoch 23 Iteration 80: Loss = 0.1056382805109024, Number of mined triplets = 25145\n",
      "Epoch 23 Iteration 100: Loss = 0.10134544223546982, Number of mined triplets = 25320\n",
      "Epoch 23 Iteration 120: Loss = 0.10216498374938965, Number of mined triplets = 22459\n",
      "Epoch 23 Iteration 140: Loss = 0.10811381042003632, Number of mined triplets = 20587\n",
      "Epoch 23 Iteration 160: Loss = 0.10327581316232681, Number of mined triplets = 23543\n",
      "Epoch 23 Iteration 180: Loss = 0.10610354691743851, Number of mined triplets = 26440\n",
      "Epoch 23 Iteration 200: Loss = 0.10371265560388565, Number of mined triplets = 26513\n",
      "Epoch 23 Iteration 220: Loss = 0.10166331380605698, Number of mined triplets = 24813\n"
     ]
    },
    {
     "name": "stderr",
     "output_type": "stream",
     "text": [
      "100%|██████████| 898/898 [00:26<00:00, 33.81it/s]\n",
      "100%|██████████| 113/113 [00:04<00:00, 24.40it/s]"
     ]
    },
    {
     "name": "stdout",
     "output_type": "stream",
     "text": [
      "Computing accuracy\n",
      "Test set accuracy (Precision@1) = 0.44413485650599055\n"
     ]
    },
    {
     "name": "stderr",
     "output_type": "stream",
     "text": [
      "\n"
     ]
    },
    {
     "name": "stdout",
     "output_type": "stream",
     "text": [
      "Epoch 24 Iteration 0: Loss = 0.10265326499938965, Number of mined triplets = 20652\n",
      "Epoch 24 Iteration 20: Loss = 0.10607708990573883, Number of mined triplets = 23259\n",
      "Epoch 24 Iteration 40: Loss = 0.0996161475777626, Number of mined triplets = 22279\n",
      "Epoch 24 Iteration 60: Loss = 0.10171688348054886, Number of mined triplets = 21798\n",
      "Epoch 24 Iteration 80: Loss = 0.10185326635837555, Number of mined triplets = 23116\n",
      "Epoch 24 Iteration 100: Loss = 0.10087650269269943, Number of mined triplets = 23669\n",
      "Epoch 24 Iteration 120: Loss = 0.10165812820196152, Number of mined triplets = 24117\n",
      "Epoch 24 Iteration 140: Loss = 0.10536228865385056, Number of mined triplets = 24293\n",
      "Epoch 24 Iteration 160: Loss = 0.10714519023895264, Number of mined triplets = 25192\n",
      "Epoch 24 Iteration 180: Loss = 0.10592739284038544, Number of mined triplets = 21341\n",
      "Epoch 24 Iteration 200: Loss = 0.10382144153118134, Number of mined triplets = 25782\n",
      "Epoch 24 Iteration 220: Loss = 0.10125700384378433, Number of mined triplets = 24417\n"
     ]
    },
    {
     "name": "stderr",
     "output_type": "stream",
     "text": [
      "100%|██████████| 898/898 [00:26<00:00, 33.79it/s]\n",
      "100%|██████████| 113/113 [00:04<00:00, 24.20it/s]"
     ]
    },
    {
     "name": "stdout",
     "output_type": "stream",
     "text": [
      "Computing accuracy\n",
      "Test set accuracy (Precision@1) = 0.4488715519643355\n"
     ]
    },
    {
     "name": "stderr",
     "output_type": "stream",
     "text": [
      "\n"
     ]
    },
    {
     "name": "stdout",
     "output_type": "stream",
     "text": [
      "Epoch 25 Iteration 0: Loss = 0.10170575231313705, Number of mined triplets = 23625\n",
      "Epoch 25 Iteration 20: Loss = 0.10286515951156616, Number of mined triplets = 23023\n",
      "Epoch 25 Iteration 40: Loss = 0.10269089788198471, Number of mined triplets = 22709\n",
      "Epoch 25 Iteration 60: Loss = 0.10504700243473053, Number of mined triplets = 23462\n",
      "Epoch 25 Iteration 80: Loss = 0.10480593144893646, Number of mined triplets = 25548\n",
      "Epoch 25 Iteration 100: Loss = 0.10073884576559067, Number of mined triplets = 25349\n",
      "Epoch 25 Iteration 120: Loss = 0.10339749604463577, Number of mined triplets = 24155\n",
      "Epoch 25 Iteration 140: Loss = 0.10270591825246811, Number of mined triplets = 24525\n",
      "Epoch 25 Iteration 160: Loss = 0.1025150716304779, Number of mined triplets = 25695\n",
      "Epoch 25 Iteration 180: Loss = 0.10011722892522812, Number of mined triplets = 24643\n",
      "Epoch 25 Iteration 200: Loss = 0.10556542128324509, Number of mined triplets = 28506\n",
      "Epoch 25 Iteration 220: Loss = 0.10526515543460846, Number of mined triplets = 23779\n"
     ]
    },
    {
     "name": "stderr",
     "output_type": "stream",
     "text": [
      "100%|██████████| 898/898 [00:26<00:00, 33.53it/s]\n",
      "100%|██████████| 113/113 [00:04<00:00, 24.37it/s]"
     ]
    },
    {
     "name": "stdout",
     "output_type": "stream",
     "text": [
      "Computing accuracy\n",
      "Test set accuracy (Precision@1) = 0.4488715519643355\n"
     ]
    },
    {
     "name": "stderr",
     "output_type": "stream",
     "text": [
      "\n"
     ]
    },
    {
     "name": "stdout",
     "output_type": "stream",
     "text": [
      "Epoch 26 Iteration 0: Loss = 0.10303576290607452, Number of mined triplets = 21671\n",
      "Epoch 26 Iteration 20: Loss = 0.10356298834085464, Number of mined triplets = 24806\n",
      "Epoch 26 Iteration 40: Loss = 0.10267593711614609, Number of mined triplets = 23423\n",
      "Epoch 26 Iteration 60: Loss = 0.10362198203802109, Number of mined triplets = 21176\n",
      "Epoch 26 Iteration 80: Loss = 0.10152553021907806, Number of mined triplets = 25949\n",
      "Epoch 26 Iteration 100: Loss = 0.10492768883705139, Number of mined triplets = 25385\n",
      "Epoch 26 Iteration 120: Loss = 0.10354430228471756, Number of mined triplets = 25580\n",
      "Epoch 26 Iteration 140: Loss = 0.10810668766498566, Number of mined triplets = 22565\n",
      "Epoch 26 Iteration 160: Loss = 0.10382986813783646, Number of mined triplets = 21564\n",
      "Epoch 26 Iteration 180: Loss = 0.10199481248855591, Number of mined triplets = 21646\n",
      "Epoch 26 Iteration 200: Loss = 0.10098551213741302, Number of mined triplets = 22875\n",
      "Epoch 26 Iteration 220: Loss = 0.10154461860656738, Number of mined triplets = 22780\n"
     ]
    },
    {
     "name": "stderr",
     "output_type": "stream",
     "text": [
      "100%|██████████| 898/898 [00:26<00:00, 33.60it/s]\n",
      "100%|██████████| 113/113 [00:04<00:00, 24.39it/s]"
     ]
    },
    {
     "name": "stdout",
     "output_type": "stream",
     "text": [
      "Computing accuracy\n",
      "Test set accuracy (Precision@1) = 0.44998606854276957\n"
     ]
    },
    {
     "name": "stderr",
     "output_type": "stream",
     "text": [
      "\n"
     ]
    },
    {
     "name": "stdout",
     "output_type": "stream",
     "text": [
      "Epoch 27 Iteration 0: Loss = 0.10554873198270798, Number of mined triplets = 25125\n",
      "Epoch 27 Iteration 20: Loss = 0.10059687495231628, Number of mined triplets = 23175\n",
      "Epoch 27 Iteration 40: Loss = 0.10170705616474152, Number of mined triplets = 24137\n",
      "Epoch 27 Iteration 60: Loss = 0.10330956429243088, Number of mined triplets = 25985\n",
      "Epoch 27 Iteration 80: Loss = 0.1016012504696846, Number of mined triplets = 24855\n",
      "Epoch 27 Iteration 100: Loss = 0.10057990998029709, Number of mined triplets = 22861\n",
      "Epoch 27 Iteration 120: Loss = 0.1021844893693924, Number of mined triplets = 23296\n",
      "Epoch 27 Iteration 140: Loss = 0.1028451919555664, Number of mined triplets = 22579\n",
      "Epoch 27 Iteration 160: Loss = 0.10456861555576324, Number of mined triplets = 26561\n",
      "Epoch 27 Iteration 180: Loss = 0.1012130156159401, Number of mined triplets = 25349\n",
      "Epoch 27 Iteration 200: Loss = 0.10462501645088196, Number of mined triplets = 24824\n",
      "Epoch 27 Iteration 220: Loss = 0.10067825764417648, Number of mined triplets = 23641\n"
     ]
    },
    {
     "name": "stderr",
     "output_type": "stream",
     "text": [
      "100%|██████████| 898/898 [00:26<00:00, 33.57it/s]\n",
      "100%|██████████| 113/113 [00:04<00:00, 24.56it/s]"
     ]
    },
    {
     "name": "stdout",
     "output_type": "stream",
     "text": [
      "Computing accuracy\n",
      "Test set accuracy (Precision@1) = 0.459738088604068\n"
     ]
    },
    {
     "name": "stderr",
     "output_type": "stream",
     "text": [
      "\n"
     ]
    },
    {
     "name": "stdout",
     "output_type": "stream",
     "text": [
      "Epoch 28 Iteration 0: Loss = 0.10278568416833878, Number of mined triplets = 23315\n",
      "Epoch 28 Iteration 20: Loss = 0.10302755236625671, Number of mined triplets = 21151\n",
      "Epoch 28 Iteration 40: Loss = 0.1056712344288826, Number of mined triplets = 25356\n",
      "Epoch 28 Iteration 60: Loss = 0.10028563439846039, Number of mined triplets = 22780\n",
      "Epoch 28 Iteration 80: Loss = 0.10652419179677963, Number of mined triplets = 23030\n",
      "Epoch 28 Iteration 100: Loss = 0.09995018690824509, Number of mined triplets = 23892\n",
      "Epoch 28 Iteration 120: Loss = 0.10048951208591461, Number of mined triplets = 19410\n",
      "Epoch 28 Iteration 140: Loss = 0.10429880768060684, Number of mined triplets = 22074\n",
      "Epoch 28 Iteration 160: Loss = 0.10546543449163437, Number of mined triplets = 24900\n",
      "Epoch 28 Iteration 180: Loss = 0.10349129885435104, Number of mined triplets = 25455\n",
      "Epoch 28 Iteration 200: Loss = 0.10185150802135468, Number of mined triplets = 24551\n",
      "Epoch 28 Iteration 220: Loss = 0.10156775265932083, Number of mined triplets = 22608\n"
     ]
    },
    {
     "name": "stderr",
     "output_type": "stream",
     "text": [
      "100%|██████████| 898/898 [00:26<00:00, 33.83it/s]\n",
      "100%|██████████| 113/113 [00:04<00:00, 24.38it/s]"
     ]
    },
    {
     "name": "stdout",
     "output_type": "stream",
     "text": [
      "Computing accuracy\n",
      "Test set accuracy (Precision@1) = 0.454444134856506\n"
     ]
    },
    {
     "name": "stderr",
     "output_type": "stream",
     "text": [
      "\n"
     ]
    },
    {
     "name": "stdout",
     "output_type": "stream",
     "text": [
      "Epoch 29 Iteration 0: Loss = 0.10190536826848984, Number of mined triplets = 24160\n",
      "Epoch 29 Iteration 20: Loss = 0.10159880667924881, Number of mined triplets = 25928\n",
      "Epoch 29 Iteration 40: Loss = 0.10266060382127762, Number of mined triplets = 25672\n",
      "Epoch 29 Iteration 60: Loss = 0.10374762117862701, Number of mined triplets = 25132\n",
      "Epoch 29 Iteration 80: Loss = 0.10238922387361526, Number of mined triplets = 22718\n",
      "Epoch 29 Iteration 100: Loss = 0.10335768759250641, Number of mined triplets = 20906\n",
      "Epoch 29 Iteration 120: Loss = 0.108457550406456, Number of mined triplets = 20941\n",
      "Epoch 29 Iteration 140: Loss = 0.10223628580570221, Number of mined triplets = 22653\n",
      "Epoch 29 Iteration 160: Loss = 0.1029844880104065, Number of mined triplets = 24527\n",
      "Epoch 29 Iteration 180: Loss = 0.10297486186027527, Number of mined triplets = 23558\n",
      "Epoch 29 Iteration 200: Loss = 0.10335160046815872, Number of mined triplets = 25944\n",
      "Epoch 29 Iteration 220: Loss = 0.10341309010982513, Number of mined triplets = 26654\n"
     ]
    },
    {
     "name": "stderr",
     "output_type": "stream",
     "text": [
      "100%|██████████| 898/898 [00:26<00:00, 33.89it/s]\n",
      "100%|██████████| 113/113 [00:04<00:00, 24.50it/s]"
     ]
    },
    {
     "name": "stdout",
     "output_type": "stream",
     "text": [
      "Computing accuracy\n",
      "Test set accuracy (Precision@1) = 0.4591808303148509\n"
     ]
    },
    {
     "name": "stderr",
     "output_type": "stream",
     "text": [
      "\n"
     ]
    },
    {
     "name": "stdout",
     "output_type": "stream",
     "text": [
      "Epoch 30 Iteration 0: Loss = 0.10348261892795563, Number of mined triplets = 22579\n",
      "Epoch 30 Iteration 20: Loss = 0.10071960091590881, Number of mined triplets = 23923\n",
      "Epoch 30 Iteration 40: Loss = 0.10457675158977509, Number of mined triplets = 23558\n",
      "Epoch 30 Iteration 60: Loss = 0.1020362451672554, Number of mined triplets = 25659\n",
      "Epoch 30 Iteration 80: Loss = 0.10183735191822052, Number of mined triplets = 21239\n",
      "Epoch 30 Iteration 100: Loss = 0.10189223289489746, Number of mined triplets = 23704\n",
      "Epoch 30 Iteration 120: Loss = 0.10279032588005066, Number of mined triplets = 24283\n",
      "Epoch 30 Iteration 140: Loss = 0.10129339247941971, Number of mined triplets = 20881\n",
      "Epoch 30 Iteration 160: Loss = 0.10089055448770523, Number of mined triplets = 22099\n",
      "Epoch 30 Iteration 180: Loss = 0.10133583843708038, Number of mined triplets = 23030\n",
      "Epoch 30 Iteration 200: Loss = 0.10035690665245056, Number of mined triplets = 23399\n",
      "Epoch 30 Iteration 220: Loss = 0.10250109434127808, Number of mined triplets = 23134\n"
     ]
    },
    {
     "name": "stderr",
     "output_type": "stream",
     "text": [
      "100%|██████████| 898/898 [00:26<00:00, 33.87it/s]\n",
      "100%|██████████| 113/113 [00:04<00:00, 24.61it/s]"
     ]
    },
    {
     "name": "stdout",
     "output_type": "stream",
     "text": [
      "Computing accuracy\n",
      "Test set accuracy (Precision@1) = 0.4477570353859014\n"
     ]
    },
    {
     "name": "stderr",
     "output_type": "stream",
     "text": [
      "\n"
     ]
    },
    {
     "name": "stdout",
     "output_type": "stream",
     "text": [
      "Epoch 31 Iteration 0: Loss = 0.10109539330005646, Number of mined triplets = 23287\n",
      "Epoch 31 Iteration 20: Loss = 0.10217299312353134, Number of mined triplets = 22328\n",
      "Epoch 31 Iteration 40: Loss = 0.10218968242406845, Number of mined triplets = 28656\n",
      "Epoch 31 Iteration 60: Loss = 0.10560432821512222, Number of mined triplets = 22082\n",
      "Epoch 31 Iteration 80: Loss = 0.10284987092018127, Number of mined triplets = 21267\n",
      "Epoch 31 Iteration 100: Loss = 0.10102702677249908, Number of mined triplets = 20799\n",
      "Epoch 31 Iteration 120: Loss = 0.10202008485794067, Number of mined triplets = 26723\n",
      "Epoch 31 Iteration 140: Loss = 0.09906595200300217, Number of mined triplets = 23873\n",
      "Epoch 31 Iteration 160: Loss = 0.10349267721176147, Number of mined triplets = 25359\n",
      "Epoch 31 Iteration 180: Loss = 0.0997319370508194, Number of mined triplets = 20704\n",
      "Epoch 31 Iteration 200: Loss = 0.09971199184656143, Number of mined triplets = 22702\n",
      "Epoch 31 Iteration 220: Loss = 0.10396844893693924, Number of mined triplets = 22364\n"
     ]
    },
    {
     "name": "stderr",
     "output_type": "stream",
     "text": [
      "100%|██████████| 898/898 [00:26<00:00, 33.90it/s]\n",
      "100%|██████████| 113/113 [00:04<00:00, 24.33it/s]"
     ]
    },
    {
     "name": "stdout",
     "output_type": "stream",
     "text": [
      "Computing accuracy\n",
      "Test set accuracy (Precision@1) = 0.44246308163833936\n"
     ]
    },
    {
     "name": "stderr",
     "output_type": "stream",
     "text": [
      "\n"
     ]
    },
    {
     "name": "stdout",
     "output_type": "stream",
     "text": [
      "Epoch 32 Iteration 0: Loss = 0.10679621994495392, Number of mined triplets = 25085\n",
      "Epoch 32 Iteration 20: Loss = 0.10137803852558136, Number of mined triplets = 24569\n",
      "Epoch 32 Iteration 40: Loss = 0.10365162789821625, Number of mined triplets = 24675\n",
      "Epoch 32 Iteration 60: Loss = 0.10007600486278534, Number of mined triplets = 23044\n",
      "Epoch 32 Iteration 80: Loss = 0.1008649617433548, Number of mined triplets = 21577\n",
      "Epoch 32 Iteration 100: Loss = 0.1059720441699028, Number of mined triplets = 24658\n",
      "Epoch 32 Iteration 120: Loss = 0.10282941162586212, Number of mined triplets = 22854\n",
      "Epoch 32 Iteration 140: Loss = 0.10417488217353821, Number of mined triplets = 27184\n",
      "Epoch 32 Iteration 160: Loss = 0.10372661799192429, Number of mined triplets = 23508\n",
      "Epoch 32 Iteration 180: Loss = 0.10569410771131516, Number of mined triplets = 25106\n",
      "Epoch 32 Iteration 200: Loss = 0.10256674885749817, Number of mined triplets = 25784\n",
      "Epoch 32 Iteration 220: Loss = 0.10094954073429108, Number of mined triplets = 20801\n"
     ]
    },
    {
     "name": "stderr",
     "output_type": "stream",
     "text": [
      "100%|██████████| 898/898 [00:26<00:00, 33.88it/s]\n",
      "100%|██████████| 113/113 [00:04<00:00, 24.47it/s]"
     ]
    },
    {
     "name": "stdout",
     "output_type": "stream",
     "text": [
      "Computing accuracy\n",
      "Test set accuracy (Precision@1) = 0.4605739760378936\n"
     ]
    },
    {
     "name": "stderr",
     "output_type": "stream",
     "text": [
      "\n"
     ]
    },
    {
     "name": "stdout",
     "output_type": "stream",
     "text": [
      "Epoch 33 Iteration 0: Loss = 0.10282621532678604, Number of mined triplets = 20650\n",
      "Epoch 33 Iteration 20: Loss = 0.10310997068881989, Number of mined triplets = 24871\n",
      "Epoch 33 Iteration 40: Loss = 0.10675739496946335, Number of mined triplets = 27856\n",
      "Epoch 33 Iteration 60: Loss = 0.1039513349533081, Number of mined triplets = 25351\n",
      "Epoch 33 Iteration 80: Loss = 0.10213175415992737, Number of mined triplets = 25134\n",
      "Epoch 33 Iteration 100: Loss = 0.10569208860397339, Number of mined triplets = 23613\n",
      "Epoch 33 Iteration 120: Loss = 0.10380445420742035, Number of mined triplets = 24515\n",
      "Epoch 33 Iteration 140: Loss = 0.10827703028917313, Number of mined triplets = 23659\n",
      "Epoch 33 Iteration 160: Loss = 0.10138113796710968, Number of mined triplets = 24378\n",
      "Epoch 33 Iteration 180: Loss = 0.10663969814777374, Number of mined triplets = 21331\n",
      "Epoch 33 Iteration 200: Loss = 0.09973768889904022, Number of mined triplets = 19731\n",
      "Epoch 33 Iteration 220: Loss = 0.1016438752412796, Number of mined triplets = 23916\n"
     ]
    },
    {
     "name": "stderr",
     "output_type": "stream",
     "text": [
      "100%|██████████| 898/898 [00:26<00:00, 33.94it/s]\n",
      "100%|██████████| 113/113 [00:04<00:00, 24.44it/s]"
     ]
    },
    {
     "name": "stdout",
     "output_type": "stream",
     "text": [
      "Computing accuracy\n",
      "Test set accuracy (Precision@1) = 0.46308163833937027\n"
     ]
    },
    {
     "name": "stderr",
     "output_type": "stream",
     "text": [
      "\n"
     ]
    },
    {
     "name": "stdout",
     "output_type": "stream",
     "text": [
      "Epoch 34 Iteration 0: Loss = 0.10336010903120041, Number of mined triplets = 22137\n",
      "Epoch 34 Iteration 20: Loss = 0.10421343892812729, Number of mined triplets = 21117\n",
      "Epoch 34 Iteration 40: Loss = 0.101373590528965, Number of mined triplets = 23485\n",
      "Epoch 34 Iteration 60: Loss = 0.10335791110992432, Number of mined triplets = 26980\n",
      "Epoch 34 Iteration 80: Loss = 0.10383240133523941, Number of mined triplets = 24236\n",
      "Epoch 34 Iteration 100: Loss = 0.10325758904218674, Number of mined triplets = 21139\n",
      "Epoch 34 Iteration 120: Loss = 0.10375771671533585, Number of mined triplets = 22330\n",
      "Epoch 34 Iteration 140: Loss = 0.1014523059129715, Number of mined triplets = 22672\n",
      "Epoch 34 Iteration 160: Loss = 0.1053333505988121, Number of mined triplets = 20388\n",
      "Epoch 34 Iteration 180: Loss = 0.1027117595076561, Number of mined triplets = 23380\n",
      "Epoch 34 Iteration 200: Loss = 0.1021309569478035, Number of mined triplets = 25553\n",
      "Epoch 34 Iteration 220: Loss = 0.10033714771270752, Number of mined triplets = 24923\n"
     ]
    },
    {
     "name": "stderr",
     "output_type": "stream",
     "text": [
      "100%|██████████| 898/898 [00:26<00:00, 33.62it/s]\n",
      "100%|██████████| 113/113 [00:04<00:00, 24.62it/s]"
     ]
    },
    {
     "name": "stdout",
     "output_type": "stream",
     "text": [
      "Computing accuracy\n",
      "Test set accuracy (Precision@1) = 0.4536082474226804\n"
     ]
    },
    {
     "name": "stderr",
     "output_type": "stream",
     "text": [
      "\n"
     ]
    },
    {
     "name": "stdout",
     "output_type": "stream",
     "text": [
      "Epoch 35 Iteration 0: Loss = 0.102960504591465, Number of mined triplets = 23691\n",
      "Epoch 35 Iteration 20: Loss = 0.10203564912080765, Number of mined triplets = 26419\n",
      "Epoch 35 Iteration 40: Loss = 0.10150958597660065, Number of mined triplets = 22237\n",
      "Epoch 35 Iteration 60: Loss = 0.10395821183919907, Number of mined triplets = 23980\n",
      "Epoch 35 Iteration 80: Loss = 0.10047578811645508, Number of mined triplets = 20167\n",
      "Epoch 35 Iteration 100: Loss = 0.10068018734455109, Number of mined triplets = 21987\n",
      "Epoch 35 Iteration 120: Loss = 0.10067114979028702, Number of mined triplets = 23568\n",
      "Epoch 35 Iteration 140: Loss = 0.10291596502065659, Number of mined triplets = 26523\n",
      "Epoch 35 Iteration 160: Loss = 0.10401230305433273, Number of mined triplets = 20941\n",
      "Epoch 35 Iteration 180: Loss = 0.10379251837730408, Number of mined triplets = 24912\n",
      "Epoch 35 Iteration 200: Loss = 0.10370957106351852, Number of mined triplets = 23745\n",
      "Epoch 35 Iteration 220: Loss = 0.10439813882112503, Number of mined triplets = 24921\n"
     ]
    },
    {
     "name": "stderr",
     "output_type": "stream",
     "text": [
      "100%|██████████| 898/898 [00:26<00:00, 33.68it/s]\n",
      "100%|██████████| 113/113 [00:04<00:00, 24.38it/s]"
     ]
    },
    {
     "name": "stdout",
     "output_type": "stream",
     "text": [
      "Computing accuracy\n",
      "Test set accuracy (Precision@1) = 0.4463638896628587\n"
     ]
    },
    {
     "name": "stderr",
     "output_type": "stream",
     "text": [
      "\n"
     ]
    },
    {
     "name": "stdout",
     "output_type": "stream",
     "text": [
      "Epoch 36 Iteration 0: Loss = 0.10252798348665237, Number of mined triplets = 22232\n",
      "Epoch 36 Iteration 20: Loss = 0.10607761144638062, Number of mined triplets = 26537\n",
      "Epoch 36 Iteration 40: Loss = 0.10400692373514175, Number of mined triplets = 19253\n",
      "Epoch 36 Iteration 60: Loss = 0.10266738384962082, Number of mined triplets = 23161\n",
      "Epoch 36 Iteration 80: Loss = 0.10154113918542862, Number of mined triplets = 24392\n",
      "Epoch 36 Iteration 100: Loss = 0.1034746766090393, Number of mined triplets = 25918\n",
      "Epoch 36 Iteration 120: Loss = 0.10339080542325974, Number of mined triplets = 22821\n",
      "Epoch 36 Iteration 140: Loss = 0.1023259311914444, Number of mined triplets = 21932\n",
      "Epoch 36 Iteration 160: Loss = 0.10161979496479034, Number of mined triplets = 21300\n",
      "Epoch 36 Iteration 180: Loss = 0.10014703869819641, Number of mined triplets = 23730\n",
      "Epoch 36 Iteration 200: Loss = 0.10482469201087952, Number of mined triplets = 23246\n",
      "Epoch 36 Iteration 220: Loss = 0.10294497013092041, Number of mined triplets = 28332\n"
     ]
    },
    {
     "name": "stderr",
     "output_type": "stream",
     "text": [
      "100%|██████████| 898/898 [00:26<00:00, 33.65it/s]\n",
      "100%|██████████| 113/113 [00:04<00:00, 24.41it/s]"
     ]
    },
    {
     "name": "stdout",
     "output_type": "stream",
     "text": [
      "Computing accuracy\n",
      "Test set accuracy (Precision@1) = 0.4463638896628587\n"
     ]
    },
    {
     "name": "stderr",
     "output_type": "stream",
     "text": [
      "\n"
     ]
    },
    {
     "name": "stdout",
     "output_type": "stream",
     "text": [
      "Epoch 37 Iteration 0: Loss = 0.1037069782614708, Number of mined triplets = 28225\n",
      "Epoch 37 Iteration 20: Loss = 0.10067883133888245, Number of mined triplets = 22267\n",
      "Epoch 37 Iteration 40: Loss = 0.10482953488826752, Number of mined triplets = 26916\n",
      "Epoch 37 Iteration 60: Loss = 0.10374081134796143, Number of mined triplets = 26965\n",
      "Epoch 37 Iteration 80: Loss = 0.10110476613044739, Number of mined triplets = 26917\n",
      "Epoch 37 Iteration 100: Loss = 0.10317147523164749, Number of mined triplets = 25614\n",
      "Epoch 37 Iteration 120: Loss = 0.10015453398227692, Number of mined triplets = 23541\n",
      "Epoch 37 Iteration 140: Loss = 0.10013526678085327, Number of mined triplets = 19846\n",
      "Epoch 37 Iteration 160: Loss = 0.10181839764118195, Number of mined triplets = 24485\n",
      "Epoch 37 Iteration 180: Loss = 0.10262013971805573, Number of mined triplets = 23228\n",
      "Epoch 37 Iteration 200: Loss = 0.10404883325099945, Number of mined triplets = 21797\n",
      "Epoch 37 Iteration 220: Loss = 0.10266250371932983, Number of mined triplets = 22540\n"
     ]
    },
    {
     "name": "stderr",
     "output_type": "stream",
     "text": [
      "100%|██████████| 898/898 [00:26<00:00, 33.72it/s]\n",
      "100%|██████████| 113/113 [00:04<00:00, 24.48it/s]"
     ]
    },
    {
     "name": "stdout",
     "output_type": "stream",
     "text": [
      "Computing accuracy\n",
      "Test set accuracy (Precision@1) = 0.4591808303148509\n"
     ]
    },
    {
     "name": "stderr",
     "output_type": "stream",
     "text": [
      "\n"
     ]
    },
    {
     "name": "stdout",
     "output_type": "stream",
     "text": [
      "Epoch 38 Iteration 0: Loss = 0.10693145543336868, Number of mined triplets = 21687\n",
      "Epoch 38 Iteration 20: Loss = 0.10153783857822418, Number of mined triplets = 25291\n",
      "Epoch 38 Iteration 40: Loss = 0.10031578689813614, Number of mined triplets = 23714\n",
      "Epoch 38 Iteration 60: Loss = 0.1030813455581665, Number of mined triplets = 25588\n",
      "Epoch 38 Iteration 80: Loss = 0.10278891026973724, Number of mined triplets = 24600\n",
      "Epoch 38 Iteration 100: Loss = 0.10458019375801086, Number of mined triplets = 21469\n",
      "Epoch 38 Iteration 120: Loss = 0.09850023686885834, Number of mined triplets = 22202\n",
      "Epoch 38 Iteration 140: Loss = 0.10116349160671234, Number of mined triplets = 20675\n",
      "Epoch 38 Iteration 160: Loss = 0.10531141608953476, Number of mined triplets = 25075\n",
      "Epoch 38 Iteration 180: Loss = 0.10632488131523132, Number of mined triplets = 26127\n",
      "Epoch 38 Iteration 200: Loss = 0.10442707687616348, Number of mined triplets = 22480\n",
      "Epoch 38 Iteration 220: Loss = 0.1044393926858902, Number of mined triplets = 21699\n"
     ]
    },
    {
     "name": "stderr",
     "output_type": "stream",
     "text": [
      "100%|██████████| 898/898 [00:26<00:00, 33.75it/s]\n",
      "100%|██████████| 113/113 [00:04<00:00, 24.49it/s]"
     ]
    },
    {
     "name": "stdout",
     "output_type": "stream",
     "text": [
      "Computing accuracy\n",
      "Test set accuracy (Precision@1) = 0.47199777096684314\n"
     ]
    },
    {
     "name": "stderr",
     "output_type": "stream",
     "text": [
      "\n"
     ]
    },
    {
     "name": "stdout",
     "output_type": "stream",
     "text": [
      "Epoch 39 Iteration 0: Loss = 0.10310053825378418, Number of mined triplets = 27973\n",
      "Epoch 39 Iteration 20: Loss = 0.10344815254211426, Number of mined triplets = 28046\n",
      "Epoch 39 Iteration 40: Loss = 0.10643114894628525, Number of mined triplets = 22620\n",
      "Epoch 39 Iteration 60: Loss = 0.10172279179096222, Number of mined triplets = 17538\n",
      "Epoch 39 Iteration 80: Loss = 0.1009257584810257, Number of mined triplets = 24289\n",
      "Epoch 39 Iteration 100: Loss = 0.1010911762714386, Number of mined triplets = 24600\n",
      "Epoch 39 Iteration 120: Loss = 0.10333752632141113, Number of mined triplets = 23998\n",
      "Epoch 39 Iteration 140: Loss = 0.10473215579986572, Number of mined triplets = 25268\n",
      "Epoch 39 Iteration 160: Loss = 0.10513399541378021, Number of mined triplets = 22028\n",
      "Epoch 39 Iteration 180: Loss = 0.10025238990783691, Number of mined triplets = 22793\n",
      "Epoch 39 Iteration 200: Loss = 0.10098128020763397, Number of mined triplets = 22912\n",
      "Epoch 39 Iteration 220: Loss = 0.10156656056642532, Number of mined triplets = 25788\n"
     ]
    },
    {
     "name": "stderr",
     "output_type": "stream",
     "text": [
      "100%|██████████| 898/898 [00:26<00:00, 33.65it/s]\n",
      "100%|██████████| 113/113 [00:04<00:00, 24.37it/s]"
     ]
    },
    {
     "name": "stdout",
     "output_type": "stream",
     "text": [
      "Computing accuracy\n",
      "Test set accuracy (Precision@1) = 0.44970743939816105\n"
     ]
    },
    {
     "name": "stderr",
     "output_type": "stream",
     "text": [
      "\n"
     ]
    },
    {
     "name": "stdout",
     "output_type": "stream",
     "text": [
      "Epoch 40 Iteration 0: Loss = 0.10401331633329391, Number of mined triplets = 26254\n",
      "Epoch 40 Iteration 20: Loss = 0.10042751580476761, Number of mined triplets = 22778\n",
      "Epoch 40 Iteration 40: Loss = 0.10460910946130753, Number of mined triplets = 21235\n",
      "Epoch 40 Iteration 60: Loss = 0.10320892184972763, Number of mined triplets = 24340\n",
      "Epoch 40 Iteration 80: Loss = 0.10209307074546814, Number of mined triplets = 22464\n",
      "Epoch 40 Iteration 100: Loss = 0.10225605964660645, Number of mined triplets = 27093\n",
      "Epoch 40 Iteration 120: Loss = 0.10277459770441055, Number of mined triplets = 23751\n",
      "Epoch 40 Iteration 140: Loss = 0.10490211099386215, Number of mined triplets = 21572\n",
      "Epoch 40 Iteration 160: Loss = 0.101271852850914, Number of mined triplets = 22747\n",
      "Epoch 40 Iteration 180: Loss = 0.10456565767526627, Number of mined triplets = 28400\n",
      "Epoch 40 Iteration 200: Loss = 0.10292191803455353, Number of mined triplets = 23971\n",
      "Epoch 40 Iteration 220: Loss = 0.10258662700653076, Number of mined triplets = 24482\n"
     ]
    },
    {
     "name": "stderr",
     "output_type": "stream",
     "text": [
      "100%|██████████| 898/898 [00:26<00:00, 33.58it/s]\n",
      "100%|██████████| 113/113 [00:04<00:00, 24.45it/s]"
     ]
    },
    {
     "name": "stdout",
     "output_type": "stream",
     "text": [
      "Computing accuracy\n",
      "Test set accuracy (Precision@1) = 0.4547227640011145\n"
     ]
    },
    {
     "name": "stderr",
     "output_type": "stream",
     "text": [
      "\n"
     ]
    },
    {
     "name": "stdout",
     "output_type": "stream",
     "text": [
      "Epoch 41 Iteration 0: Loss = 0.10296342521905899, Number of mined triplets = 21886\n",
      "Epoch 41 Iteration 20: Loss = 0.10486739128828049, Number of mined triplets = 22609\n",
      "Epoch 41 Iteration 40: Loss = 0.10151504725217819, Number of mined triplets = 20613\n",
      "Epoch 41 Iteration 60: Loss = 0.10249821096658707, Number of mined triplets = 26031\n",
      "Epoch 41 Iteration 80: Loss = 0.1016378179192543, Number of mined triplets = 22869\n",
      "Epoch 41 Iteration 100: Loss = 0.10156528651714325, Number of mined triplets = 21218\n",
      "Epoch 41 Iteration 120: Loss = 0.10214882344007492, Number of mined triplets = 25283\n",
      "Epoch 41 Iteration 140: Loss = 0.10207711905241013, Number of mined triplets = 24996\n",
      "Epoch 41 Iteration 160: Loss = 0.10767709463834763, Number of mined triplets = 24800\n",
      "Epoch 41 Iteration 180: Loss = 0.10236630588769913, Number of mined triplets = 22709\n",
      "Epoch 41 Iteration 200: Loss = 0.10288161784410477, Number of mined triplets = 24088\n",
      "Epoch 41 Iteration 220: Loss = 0.10145877301692963, Number of mined triplets = 21819\n"
     ]
    },
    {
     "name": "stderr",
     "output_type": "stream",
     "text": [
      "100%|██████████| 898/898 [00:26<00:00, 33.77it/s]\n",
      "100%|██████████| 113/113 [00:04<00:00, 24.44it/s]"
     ]
    },
    {
     "name": "stdout",
     "output_type": "stream",
     "text": [
      "Computing accuracy\n",
      "Test set accuracy (Precision@1) = 0.46698244636388964\n"
     ]
    },
    {
     "name": "stderr",
     "output_type": "stream",
     "text": [
      "\n"
     ]
    },
    {
     "name": "stdout",
     "output_type": "stream",
     "text": [
      "Epoch 42 Iteration 0: Loss = 0.10232581943273544, Number of mined triplets = 22159\n",
      "Epoch 42 Iteration 20: Loss = 0.10311440378427505, Number of mined triplets = 27668\n",
      "Epoch 42 Iteration 40: Loss = 0.10333897173404694, Number of mined triplets = 23318\n",
      "Epoch 42 Iteration 60: Loss = 0.10013554245233536, Number of mined triplets = 21844\n",
      "Epoch 42 Iteration 80: Loss = 0.10220521688461304, Number of mined triplets = 22513\n",
      "Epoch 42 Iteration 100: Loss = 0.10238347947597504, Number of mined triplets = 20484\n",
      "Epoch 42 Iteration 120: Loss = 0.10180579125881195, Number of mined triplets = 19452\n",
      "Epoch 42 Iteration 140: Loss = 0.10225619375705719, Number of mined triplets = 24904\n",
      "Epoch 42 Iteration 160: Loss = 0.10207914561033249, Number of mined triplets = 21940\n",
      "Epoch 42 Iteration 180: Loss = 0.10121507942676544, Number of mined triplets = 25316\n",
      "Epoch 42 Iteration 200: Loss = 0.10289380699396133, Number of mined triplets = 23070\n",
      "Epoch 42 Iteration 220: Loss = 0.10184353590011597, Number of mined triplets = 26484\n"
     ]
    },
    {
     "name": "stderr",
     "output_type": "stream",
     "text": [
      "100%|██████████| 898/898 [00:26<00:00, 33.59it/s]\n",
      "100%|██████████| 113/113 [00:04<00:00, 24.63it/s]"
     ]
    },
    {
     "name": "stdout",
     "output_type": "stream",
     "text": [
      "Computing accuracy\n",
      "Test set accuracy (Precision@1) = 0.4619671217609362\n"
     ]
    },
    {
     "name": "stderr",
     "output_type": "stream",
     "text": [
      "\n"
     ]
    },
    {
     "name": "stdout",
     "output_type": "stream",
     "text": [
      "Epoch 43 Iteration 0: Loss = 0.10303225368261337, Number of mined triplets = 23170\n",
      "Epoch 43 Iteration 20: Loss = 0.10008274018764496, Number of mined triplets = 23260\n",
      "Epoch 43 Iteration 40: Loss = 0.10135591775178909, Number of mined triplets = 21192\n",
      "Epoch 43 Iteration 60: Loss = 0.10269501805305481, Number of mined triplets = 24920\n",
      "Epoch 43 Iteration 80: Loss = 0.10018226504325867, Number of mined triplets = 25329\n",
      "Epoch 43 Iteration 100: Loss = 0.10341382771730423, Number of mined triplets = 24581\n",
      "Epoch 43 Iteration 120: Loss = 0.1013568863272667, Number of mined triplets = 26281\n",
      "Epoch 43 Iteration 140: Loss = 0.10029707849025726, Number of mined triplets = 23139\n",
      "Epoch 43 Iteration 160: Loss = 0.1022174283862114, Number of mined triplets = 24299\n",
      "Epoch 43 Iteration 180: Loss = 0.10070974379777908, Number of mined triplets = 24441\n",
      "Epoch 43 Iteration 200: Loss = 0.10071726143360138, Number of mined triplets = 20178\n",
      "Epoch 43 Iteration 220: Loss = 0.10144494473934174, Number of mined triplets = 20764\n"
     ]
    },
    {
     "name": "stderr",
     "output_type": "stream",
     "text": [
      "100%|██████████| 898/898 [00:26<00:00, 33.92it/s]\n",
      "100%|██████████| 113/113 [00:04<00:00, 24.38it/s]"
     ]
    },
    {
     "name": "stdout",
     "output_type": "stream",
     "text": [
      "Computing accuracy\n",
      "Test set accuracy (Precision@1) = 0.45305098913346337\n"
     ]
    },
    {
     "name": "stderr",
     "output_type": "stream",
     "text": [
      "\n"
     ]
    },
    {
     "name": "stdout",
     "output_type": "stream",
     "text": [
      "Epoch 44 Iteration 0: Loss = 0.10524023324251175, Number of mined triplets = 20623\n",
      "Epoch 44 Iteration 20: Loss = 0.10211070626974106, Number of mined triplets = 20884\n",
      "Epoch 44 Iteration 40: Loss = 0.10599909722805023, Number of mined triplets = 23996\n",
      "Epoch 44 Iteration 60: Loss = 0.10142718255519867, Number of mined triplets = 21779\n",
      "Epoch 44 Iteration 80: Loss = 0.10184776037931442, Number of mined triplets = 25543\n",
      "Epoch 44 Iteration 100: Loss = 0.10359504073858261, Number of mined triplets = 22103\n",
      "Epoch 44 Iteration 120: Loss = 0.10064738243818283, Number of mined triplets = 20900\n",
      "Epoch 44 Iteration 140: Loss = 0.10257791727781296, Number of mined triplets = 23644\n",
      "Epoch 44 Iteration 160: Loss = 0.10239599645137787, Number of mined triplets = 24638\n",
      "Epoch 44 Iteration 180: Loss = 0.10113430768251419, Number of mined triplets = 25600\n",
      "Epoch 44 Iteration 200: Loss = 0.1007322147488594, Number of mined triplets = 26060\n",
      "Epoch 44 Iteration 220: Loss = 0.10125178843736649, Number of mined triplets = 24484\n"
     ]
    },
    {
     "name": "stderr",
     "output_type": "stream",
     "text": [
      "100%|██████████| 898/898 [00:26<00:00, 33.74it/s]\n",
      "100%|██████████| 113/113 [00:04<00:00, 24.57it/s]"
     ]
    },
    {
     "name": "stdout",
     "output_type": "stream",
     "text": [
      "Computing accuracy\n",
      "Test set accuracy (Precision@1) = 0.4667038172192811\n"
     ]
    },
    {
     "name": "stderr",
     "output_type": "stream",
     "text": [
      "\n"
     ]
    },
    {
     "name": "stdout",
     "output_type": "stream",
     "text": [
      "Epoch 45 Iteration 0: Loss = 0.1053863987326622, Number of mined triplets = 24233\n",
      "Epoch 45 Iteration 20: Loss = 0.10181791335344315, Number of mined triplets = 24178\n",
      "Epoch 45 Iteration 40: Loss = 0.10454234480857849, Number of mined triplets = 25651\n",
      "Epoch 45 Iteration 60: Loss = 0.1044715940952301, Number of mined triplets = 20142\n",
      "Epoch 45 Iteration 80: Loss = 0.10049714148044586, Number of mined triplets = 21053\n",
      "Epoch 45 Iteration 100: Loss = 0.10346969217061996, Number of mined triplets = 21575\n",
      "Epoch 45 Iteration 120: Loss = 0.10246343165636063, Number of mined triplets = 24715\n",
      "Epoch 45 Iteration 140: Loss = 0.10140091925859451, Number of mined triplets = 22745\n",
      "Epoch 45 Iteration 160: Loss = 0.10164599865674973, Number of mined triplets = 21220\n",
      "Epoch 45 Iteration 180: Loss = 0.10165076702833176, Number of mined triplets = 22738\n",
      "Epoch 45 Iteration 200: Loss = 0.10405382513999939, Number of mined triplets = 23785\n",
      "Epoch 45 Iteration 220: Loss = 0.1017155647277832, Number of mined triplets = 22434\n"
     ]
    },
    {
     "name": "stderr",
     "output_type": "stream",
     "text": [
      "100%|██████████| 898/898 [00:26<00:00, 33.64it/s]\n",
      "100%|██████████| 113/113 [00:04<00:00, 24.51it/s]"
     ]
    },
    {
     "name": "stdout",
     "output_type": "stream",
     "text": [
      "Computing accuracy\n",
      "Test set accuracy (Precision@1) = 0.46363889662858737\n"
     ]
    },
    {
     "name": "stderr",
     "output_type": "stream",
     "text": [
      "\n"
     ]
    },
    {
     "name": "stdout",
     "output_type": "stream",
     "text": [
      "Epoch 46 Iteration 0: Loss = 0.10245220363140106, Number of mined triplets = 24876\n",
      "Epoch 46 Iteration 20: Loss = 0.10166111588478088, Number of mined triplets = 18904\n",
      "Epoch 46 Iteration 40: Loss = 0.10489434003829956, Number of mined triplets = 22744\n",
      "Epoch 46 Iteration 60: Loss = 0.10386854410171509, Number of mined triplets = 25020\n",
      "Epoch 46 Iteration 80: Loss = 0.10535852611064911, Number of mined triplets = 20331\n",
      "Epoch 46 Iteration 100: Loss = 0.10282288491725922, Number of mined triplets = 25934\n",
      "Epoch 46 Iteration 120: Loss = 0.10191608220338821, Number of mined triplets = 23903\n",
      "Epoch 46 Iteration 140: Loss = 0.10390831530094147, Number of mined triplets = 23438\n",
      "Epoch 46 Iteration 160: Loss = 0.10397224873304367, Number of mined triplets = 23664\n",
      "Epoch 46 Iteration 180: Loss = 0.10267579555511475, Number of mined triplets = 20493\n",
      "Epoch 46 Iteration 200: Loss = 0.10317639261484146, Number of mined triplets = 24229\n",
      "Epoch 46 Iteration 220: Loss = 0.101092629134655, Number of mined triplets = 25465\n"
     ]
    },
    {
     "name": "stderr",
     "output_type": "stream",
     "text": [
      "100%|██████████| 898/898 [00:26<00:00, 33.78it/s]\n",
      "100%|██████████| 113/113 [00:04<00:00, 24.55it/s]"
     ]
    },
    {
     "name": "stdout",
     "output_type": "stream",
     "text": [
      "Computing accuracy\n",
      "Test set accuracy (Precision@1) = 0.4625243800501532\n"
     ]
    },
    {
     "name": "stderr",
     "output_type": "stream",
     "text": [
      "\n"
     ]
    },
    {
     "name": "stdout",
     "output_type": "stream",
     "text": [
      "Epoch 47 Iteration 0: Loss = 0.10165739804506302, Number of mined triplets = 22207\n",
      "Epoch 47 Iteration 20: Loss = 0.10062994807958603, Number of mined triplets = 22268\n",
      "Epoch 47 Iteration 40: Loss = 0.09985363483428955, Number of mined triplets = 21545\n",
      "Epoch 47 Iteration 60: Loss = 0.10147152841091156, Number of mined triplets = 24668\n",
      "Epoch 47 Iteration 80: Loss = 0.10297656059265137, Number of mined triplets = 27663\n",
      "Epoch 47 Iteration 100: Loss = 0.10211160778999329, Number of mined triplets = 23120\n",
      "Epoch 47 Iteration 120: Loss = 0.10220698267221451, Number of mined triplets = 28619\n",
      "Epoch 47 Iteration 140: Loss = 0.10423626750707626, Number of mined triplets = 23274\n",
      "Epoch 47 Iteration 160: Loss = 0.0997282862663269, Number of mined triplets = 23522\n",
      "Epoch 47 Iteration 180: Loss = 0.10016684234142303, Number of mined triplets = 24786\n",
      "Epoch 47 Iteration 200: Loss = 0.10129162669181824, Number of mined triplets = 21036\n",
      "Epoch 47 Iteration 220: Loss = 0.10492412000894547, Number of mined triplets = 26033\n"
     ]
    },
    {
     "name": "stderr",
     "output_type": "stream",
     "text": [
      "100%|██████████| 898/898 [00:26<00:00, 33.52it/s]\n",
      "100%|██████████| 113/113 [00:04<00:00, 24.54it/s]"
     ]
    },
    {
     "name": "stdout",
     "output_type": "stream",
     "text": [
      "Computing accuracy\n",
      "Test set accuracy (Precision@1) = 0.4555586514349401\n"
     ]
    },
    {
     "name": "stderr",
     "output_type": "stream",
     "text": [
      "\n"
     ]
    },
    {
     "name": "stdout",
     "output_type": "stream",
     "text": [
      "Epoch 48 Iteration 0: Loss = 0.10226282477378845, Number of mined triplets = 23838\n",
      "Epoch 48 Iteration 20: Loss = 0.10149645060300827, Number of mined triplets = 23145\n",
      "Epoch 48 Iteration 40: Loss = 0.10175909847021103, Number of mined triplets = 21083\n",
      "Epoch 48 Iteration 60: Loss = 0.10328031331300735, Number of mined triplets = 23658\n",
      "Epoch 48 Iteration 80: Loss = 0.10106997936964035, Number of mined triplets = 20273\n",
      "Epoch 48 Iteration 100: Loss = 0.10195084661245346, Number of mined triplets = 22736\n",
      "Epoch 48 Iteration 120: Loss = 0.10323227941989899, Number of mined triplets = 24623\n",
      "Epoch 48 Iteration 140: Loss = 0.10459878295660019, Number of mined triplets = 24870\n",
      "Epoch 48 Iteration 160: Loss = 0.10372975468635559, Number of mined triplets = 21645\n",
      "Epoch 48 Iteration 180: Loss = 0.10161526501178741, Number of mined triplets = 25606\n",
      "Epoch 48 Iteration 200: Loss = 0.10204226523637772, Number of mined triplets = 21329\n",
      "Epoch 48 Iteration 220: Loss = 0.0991569384932518, Number of mined triplets = 20036\n"
     ]
    },
    {
     "name": "stderr",
     "output_type": "stream",
     "text": [
      "100%|██████████| 898/898 [00:26<00:00, 34.00it/s]\n",
      "100%|██████████| 113/113 [00:04<00:00, 24.47it/s]"
     ]
    },
    {
     "name": "stdout",
     "output_type": "stream",
     "text": [
      "Computing accuracy\n",
      "Test set accuracy (Precision@1) = 0.46363889662858737\n"
     ]
    },
    {
     "name": "stderr",
     "output_type": "stream",
     "text": [
      "\n"
     ]
    },
    {
     "name": "stdout",
     "output_type": "stream",
     "text": [
      "Epoch 49 Iteration 0: Loss = 0.10108639299869537, Number of mined triplets = 20424\n",
      "Epoch 49 Iteration 20: Loss = 0.09860755503177643, Number of mined triplets = 23839\n",
      "Epoch 49 Iteration 40: Loss = 0.10262740403413773, Number of mined triplets = 25493\n",
      "Epoch 49 Iteration 60: Loss = 0.1016884297132492, Number of mined triplets = 25252\n",
      "Epoch 49 Iteration 80: Loss = 0.10207364708185196, Number of mined triplets = 21056\n",
      "Epoch 49 Iteration 100: Loss = 0.1029784083366394, Number of mined triplets = 22153\n",
      "Epoch 49 Iteration 120: Loss = 0.10097711533308029, Number of mined triplets = 18359\n",
      "Epoch 49 Iteration 140: Loss = 0.10422269254922867, Number of mined triplets = 24509\n",
      "Epoch 49 Iteration 160: Loss = 0.10455761104822159, Number of mined triplets = 22236\n",
      "Epoch 49 Iteration 180: Loss = 0.10344436764717102, Number of mined triplets = 24164\n",
      "Epoch 49 Iteration 200: Loss = 0.10223990678787231, Number of mined triplets = 21364\n",
      "Epoch 49 Iteration 220: Loss = 0.10321621596813202, Number of mined triplets = 22654\n"
     ]
    },
    {
     "name": "stderr",
     "output_type": "stream",
     "text": [
      "100%|██████████| 898/898 [00:26<00:00, 33.83it/s]\n",
      "100%|██████████| 113/113 [00:04<00:00, 24.41it/s]"
     ]
    },
    {
     "name": "stdout",
     "output_type": "stream",
     "text": [
      "Computing accuracy\n",
      "Test set accuracy (Precision@1) = 0.4639175257731959\n"
     ]
    },
    {
     "name": "stderr",
     "output_type": "stream",
     "text": [
      "\n"
     ]
    },
    {
     "name": "stdout",
     "output_type": "stream",
     "text": [
      "Epoch 50 Iteration 0: Loss = 0.10158582776784897, Number of mined triplets = 18619\n",
      "Epoch 50 Iteration 20: Loss = 0.10094736516475677, Number of mined triplets = 19744\n",
      "Epoch 50 Iteration 40: Loss = 0.10527267307043076, Number of mined triplets = 23985\n",
      "Epoch 50 Iteration 60: Loss = 0.10262245684862137, Number of mined triplets = 21506\n",
      "Epoch 50 Iteration 80: Loss = 0.10312243551015854, Number of mined triplets = 23451\n",
      "Epoch 50 Iteration 100: Loss = 0.10117662698030472, Number of mined triplets = 24427\n",
      "Epoch 50 Iteration 120: Loss = 0.10149820894002914, Number of mined triplets = 24672\n",
      "Epoch 50 Iteration 140: Loss = 0.1039804220199585, Number of mined triplets = 21176\n",
      "Epoch 50 Iteration 160: Loss = 0.10224270820617676, Number of mined triplets = 25133\n",
      "Epoch 50 Iteration 180: Loss = 0.10102379322052002, Number of mined triplets = 27318\n",
      "Epoch 50 Iteration 200: Loss = 0.1052849069237709, Number of mined triplets = 23024\n",
      "Epoch 50 Iteration 220: Loss = 0.10286134481430054, Number of mined triplets = 23904\n"
     ]
    },
    {
     "name": "stderr",
     "output_type": "stream",
     "text": [
      "100%|██████████| 898/898 [00:26<00:00, 33.89it/s]\n",
      "100%|██████████| 113/113 [00:04<00:00, 24.31it/s]"
     ]
    },
    {
     "name": "stdout",
     "output_type": "stream",
     "text": [
      "Computing accuracy\n",
      "Test set accuracy (Precision@1) = 0.4430203399275564\n"
     ]
    },
    {
     "name": "stderr",
     "output_type": "stream",
     "text": [
      "\n"
     ]
    }
   ],
   "source": [
    "num_epochs = 50\n",
    "\n",
    "model_path = None\n",
    "device = torch.device('cuda')\n",
    "model=SVGG(device=device)\n",
    "model.to(device)\n",
    "optimizer = optim.Adam(model.parameters(), lr=0.004, weight_decay=9e-4)\n",
    "scheduler = torch.optim.lr_scheduler.OneCycleLR(optimizer, max_lr=0.02, steps_per_epoch=len(training_generator), pct_start=0.2, div_factor=10, cycle_momentum=False, epochs=num_epochs)\n",
    "\n",
    "\n",
    "### pytorch-metric-learning stuff ###\n",
    "distance = distances.CosineSimilarity()\n",
    "reducer = reducers.ThresholdReducer(low = 0)\n",
    "loss_func = losses.TripletMarginLoss(margin = 0.2, distance = distance, reducer = reducer)\n",
    "mining_func = miners.TripletMarginMiner(margin = 0.2, distance = distance, type_of_triplets = \"semihard\")\n",
    "accuracy_calculator = AccuracyCalculator(include = (\"precision_at_1\",), k = 1)\n",
    "### pytorch-metric-learning stuff ###\n",
    "\n",
    "\n",
    "for epoch in range(1, num_epochs+1):\n",
    "    train(model, loss_func, mining_func, device, training_generator, optimizer, epoch)\n",
    "    test(training_set, val_set, model, accuracy_calculator)"
   ]
  },
  {
   "cell_type": "code",
   "execution_count": 21,
   "metadata": {},
   "outputs": [
    {
     "data": {
      "text/plain": [
       "225"
      ]
     },
     "execution_count": 21,
     "metadata": {},
     "output_type": "execute_result"
    }
   ],
   "source": [
    "len(training_generator)"
   ]
  },
  {
   "cell_type": "code",
   "execution_count": null,
   "metadata": {},
   "outputs": [],
   "source": []
  }
 ],
 "metadata": {
  "kernelspec": {
   "display_name": "Python 3",
   "language": "python",
   "name": "python3"
  },
  "language_info": {
   "codemirror_mode": {
    "name": "ipython",
    "version": 3
   },
   "file_extension": ".py",
   "mimetype": "text/x-python",
   "name": "python",
   "nbconvert_exporter": "python",
   "pygments_lexer": "ipython3",
   "version": "3.6.9"
  }
 },
 "nbformat": 4,
 "nbformat_minor": 4
}
